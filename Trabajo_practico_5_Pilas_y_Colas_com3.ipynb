{
  "nbformat": 4,
  "nbformat_minor": 0,
  "metadata": {
    "colab": {
      "provenance": [],
      "include_colab_link": true
    },
    "kernelspec": {
      "name": "python3",
      "display_name": "Python 3"
    }
  },
  "cells": [
    {
      "cell_type": "markdown",
      "metadata": {
        "id": "view-in-github",
        "colab_type": "text"
      },
      "source": [
        "<a href=\"https://colab.research.google.com/github/RaTon84/Estructura-de-datos/blob/master/Trabajo_practico_5_Pilas_y_Colas_com3.ipynb\" target=\"_parent\"><img src=\"https://colab.research.google.com/assets/colab-badge.svg\" alt=\"Open In Colab\"/></a>"
      ]
    },
    {
      "cell_type": "markdown",
      "metadata": {
        "id": "42630xxYD0gZ"
      },
      "source": [
        "# ![alt text](https://upload.wikimedia.org/wikipedia/commons/thumb/c/c3/Python-logo-notext.svg/50px-Python-logo-notext.svg.png) **Trabajo Práctico 6: Pilas y colas dinámicas** ![alt text](https://upload.wikimedia.org/wikipedia/commons/thumb/c/c3/Python-logo-notext.svg/50px-Python-logo-notext.svg.png)\n",
        "\n",
        "En este trabajo práctico, vamos a trabajar con las estructuras de datos **Pila** y **Cola** dinámicas en Python. Recuerden crear una copia de este archivo en su ***Google Drive*** para tener permisos de edición.\n",
        "\n",
        "###**florencia.dias@unahur.edu.ar** ###"
      ]
    },
    {
      "cell_type": "code",
      "source": [
        "l1 = [] #list()\n",
        "print(l1)\n",
        "l1.append(3); l1.append(4); l1.append(7);l1.append(5);l1.append(2)\n",
        "print(l1)\n",
        "\n",
        "l1.insert(0,10) # posicion y dato a insertar\n",
        "print(l1)\n",
        "\n",
        "l1.pop() #elimina el ultimo\n",
        "print(l1)\n",
        "\n",
        "l1.pop(2) #con argumento, por posicion\n",
        "print(l1)"
      ],
      "metadata": {
        "colab": {
          "base_uri": "https://localhost:8080/"
        },
        "id": "gTTkVlFcWbbj",
        "outputId": "81e2b732-6f3a-4ee0-b7b1-2c8cbe33cce7"
      },
      "execution_count": 2,
      "outputs": [
        {
          "output_type": "stream",
          "name": "stdout",
          "text": [
            "[]\n",
            "[3, 4, 7, 5, 2]\n",
            "[10, 3, 4, 7, 5, 2]\n",
            "[10, 3, 4, 7, 5]\n",
            "[10, 3, 7, 5]\n"
          ]
        }
      ]
    },
    {
      "cell_type": "code",
      "source": [
        "print(l1[0]) #primer elemento\n",
        "print(l1[len(l1)-1]) #ultimo"
      ],
      "metadata": {
        "id": "11DMa1tdYbe7",
        "colab": {
          "base_uri": "https://localhost:8080/"
        },
        "outputId": "53439ffd-bc28-41ad-c0d1-08a1c06b2f84"
      },
      "execution_count": 3,
      "outputs": [
        {
          "output_type": "stream",
          "name": "stdout",
          "text": [
            "10\n",
            "5\n"
          ]
        }
      ]
    },
    {
      "cell_type": "code",
      "source": [
        "for elemento in l1:\n",
        "\tprint(elemento)\n",
        "\n",
        "for pos in range(len(l1)):\n",
        "\tprint(l1[pos])"
      ],
      "metadata": {
        "id": "7M1gfSm3ZDZT",
        "colab": {
          "base_uri": "https://localhost:8080/"
        },
        "outputId": "3d6f3ec5-eb06-4cfa-bf5a-579ce340bea0"
      },
      "execution_count": 4,
      "outputs": [
        {
          "output_type": "stream",
          "name": "stdout",
          "text": [
            "10\n",
            "3\n",
            "7\n",
            "5\n",
            "10\n",
            "3\n",
            "7\n",
            "5\n"
          ]
        }
      ]
    },
    {
      "cell_type": "markdown",
      "metadata": {
        "id": "p_zfOaNy70h-"
      },
      "source": [
        "## **Parte 1: Pilas dinámicas**"
      ]
    },
    {
      "cell_type": "markdown",
      "metadata": {
        "id": "xjXgmD3mskbR"
      },
      "source": [
        "### **Ejercicio 1**\n",
        "\n",
        "Implementar el TDA Pila (Stack), con las siguientes operaciones:\n",
        "- Crear (__init__())\n",
        "- Vaciar\n",
        "- Apilar elemento (push)\n",
        "- Desapilar elemento (pop)\n",
        "- Obtener primer elemento (top)\n",
        "- Obtener tamaño de pila\n",
        "- Clonar\n",
        "- Esta vacía.\n",
        "- __repr__(). Para poder imprimir una Pila por consola"
      ]
    },
    {
      "cell_type": "code",
      "metadata": {
        "id": "vM50Hpx6yUDe"
      },
      "source": [
        "import copy as cp # paquete para no tener problemas con las estructuras que tienen multiples niveles\n",
        "\n",
        "class Pila:\n",
        "  def __init__(self):\n",
        "    self.pila = []\n",
        "\n",
        "  def apilar(self, dato:int)->None:\n",
        "    self.pila.append(dato)\n",
        "\n",
        "  def tamanio(self)->int:\n",
        "    return len(self.pila)\n",
        "\n",
        "  def estaVacia(self)->bool:\n",
        "    return self.tamanio() == 0\n",
        "\n",
        "  def tope(self)->int:\n",
        "    datoCima = None\n",
        "    if not self.estaVacia():\n",
        "      datoCima = self.pila[len(self.pila)-1] # leo ultimo elemento\n",
        "    return datoCima\n",
        "\n",
        "  def desapilar(self)->int:\n",
        "    dato = None\n",
        "    if not self.estaVacia():\n",
        "      dato = self.pila.pop()\n",
        "    return dato\n",
        "\n",
        "  def vaciar(self)->None:\n",
        "    self.pila = []\n",
        "\n",
        "  def clonar(self): # retorna una pila que contengan los mismos elementos pero en otra posicion de memoria\n",
        "    return cp.deepcopy(self)\n",
        "\n",
        "  def __repr__(self)->str:\n",
        "    return str(self.pila)\n",
        "\n"
      ],
      "execution_count": 5,
      "outputs": []
    },
    {
      "cell_type": "code",
      "source": [
        "pila1 = Pila()\n",
        "print(pila1)\n",
        "pila1.apilar(3);pila1.apilar(2);pila1.apilar(7);pila1.apilar(4)\n",
        "#print(pila1)\n",
        "#print(pila1.tope())\n",
        "#print(pila1)\n",
        "#print(pila1.desapilar())\n",
        "#print(pila1)\n",
        "#pila2 = pila1.clonar()\n",
        "#print(\"pila2\",pila2)\n"
      ],
      "metadata": {
        "colab": {
          "base_uri": "https://localhost:8080/"
        },
        "id": "t_NkxEV0-OCl",
        "outputId": "09c77d48-83aa-4bdd-b1aa-2f964a81da52"
      },
      "execution_count": 6,
      "outputs": [
        {
          "output_type": "stream",
          "name": "stdout",
          "text": [
            "[]\n"
          ]
        }
      ]
    },
    {
      "cell_type": "code",
      "source": [
        "print(pila1)\n",
        "while not pila1.estaVacia(): #iteramos una pila\n",
        "  print(pila1.desapilar())\n",
        "print(pila1)"
      ],
      "metadata": {
        "id": "s_jdruLC_Vkl",
        "colab": {
          "base_uri": "https://localhost:8080/"
        },
        "outputId": "c00472b2-c0e0-4f11-d96e-f444052b43df"
      },
      "execution_count": 7,
      "outputs": [
        {
          "output_type": "stream",
          "name": "stdout",
          "text": [
            "[3, 2, 7, 4]\n",
            "4\n",
            "7\n",
            "2\n",
            "3\n",
            "[]\n"
          ]
        }
      ]
    },
    {
      "cell_type": "markdown",
      "metadata": {
        "id": "I26IE7cG1BeA"
      },
      "source": [
        "### A partir del **Ejercicio 2** vamos a trabajar fuera del TDA Pila usando la interface que creamos en el **Ejercicio 1**. Es decir, se pueden usar solo las operaciones de la interface, no se puede acceder a los componentes internos del TDA. Si necesitan estructuras auxiliares, pueden usar otra pila, arreglos o listas."
      ]
    },
    {
      "cell_type": "markdown",
      "metadata": {
        "id": "Q0D1vzJZzqID"
      },
      "source": [
        "### **Ejercicio 2**\n",
        "\n",
        "Escribir un programa que declare una pila de enteros y le apile 4 elementos. Luego debe mostrar la pila y su tamaño, desapilar 2 elementos y volver a imprimirla junto con el nuevo tamaño."
      ]
    },
    {
      "cell_type": "code",
      "metadata": {
        "id": "Y4eHEO31zpnu",
        "colab": {
          "base_uri": "https://localhost:8080/"
        },
        "outputId": "477f5740-0815-46c9-f14e-012dcf32d866"
      },
      "source": [
        "pila2 = Pila()\n",
        "print(pila2)\n",
        "pila2.apilar(1);pila2.apilar(6);pila2.apilar(3);pila2.apilar(4)\n",
        "print(pila2)\n",
        "print(pila2.tamanio())\n",
        "pila2.desapilar()\n",
        "pila2.desapilar()\n",
        "print(pila2)\n",
        "print(pila2.tamanio())"
      ],
      "execution_count": 8,
      "outputs": [
        {
          "output_type": "stream",
          "name": "stdout",
          "text": [
            "[]\n",
            "[1, 6, 3, 4]\n",
            "4\n",
            "[1, 6]\n",
            "2\n"
          ]
        }
      ]
    },
    {
      "cell_type": "markdown",
      "metadata": {
        "id": "rds3Jsp10bJr"
      },
      "source": [
        "### **Ejercicio 3**\n",
        "\n",
        "Escribir una función que invierta el orden de una pila. No debe devolver una nueva pila invertida, sino invertir la pila que ingresa por parámetro."
      ]
    },
    {
      "cell_type": "code",
      "source": [
        "def invertirPila(pila:Pila)->Pila:\n",
        "  aux = Pila()\n",
        "  i=pila.tamanio()\n",
        "  while not pila.estaVacia():\n",
        "    aux.apilar(pila.tope())\n",
        "    pila.desapilar()\n",
        "    i = i-1\n",
        "  pila = aux\n",
        "  return pila\n",
        "\n",
        "pila3 = Pila()\n",
        "pila3.apilar(1);pila3.apilar(6);pila3.apilar(3);pila3.apilar(4)\n",
        "invertirPila(pila3)\n"
      ],
      "metadata": {
        "id": "QgPNSdZ1YIiH",
        "colab": {
          "base_uri": "https://localhost:8080/"
        },
        "outputId": "0d21080b-8af1-48df-c3a5-b6c167ad81e8"
      },
      "execution_count": 9,
      "outputs": [
        {
          "output_type": "execute_result",
          "data": {
            "text/plain": [
              "[4, 3, 6, 1]"
            ]
          },
          "metadata": {},
          "execution_count": 9
        }
      ]
    },
    {
      "cell_type": "markdown",
      "metadata": {
        "id": "-YN0LThH0dO6"
      },
      "source": [
        "### **Ejercicio 4**\n",
        "\n",
        "Escribir una función que toma el último elemento de una pila(la base) y lo ponga en la cima (de la misma pila), respetando el orden del resto de los elementos. Utilizar una pila auxiliar."
      ]
    },
    {
      "cell_type": "code",
      "metadata": {
        "id": "KO9cVn4T0EFQ",
        "colab": {
          "base_uri": "https://localhost:8080/"
        },
        "outputId": "fff27f9f-bef0-44b5-a277-c1f16acc5576"
      },
      "source": [
        "def baseACima(pila:Pila)->Pila:          #[8,6,3,4]\n",
        "  len = pila.tamanio()          # 4\n",
        "  auxInvertida = invertirPila(pila.clonar())\n",
        "  #desapilar\n",
        "  while pila.tamanio() != 1:\n",
        "    pila.desapilar()\n",
        "  base = pila.tope()            #tomo el valor base\n",
        "  pila.vaciar()                 #vacio la pila\n",
        "  # agrego desde la posicion2\n",
        "  i = 0\n",
        "  while i != len:\n",
        "    if i == len-1: #posisicon donde insertar\n",
        "      pila.apilar(base)\n",
        "    else:\n",
        "      pila.apilar(auxInvertida.tope()+1)\n",
        "      auxInvertida.desapilar()\n",
        "    i = i+1\n",
        "  return pila\n",
        "\n",
        "pila3 = Pila()\n",
        "pila3.apilar(1);pila3.apilar(2);pila3.apilar(3);pila3.apilar(4)\n",
        "print(pila3)\n",
        "baseACima(pila3)\n",
        "#2341"
      ],
      "execution_count": 10,
      "outputs": [
        {
          "output_type": "stream",
          "name": "stdout",
          "text": [
            "[1, 2, 3, 4]\n"
          ]
        },
        {
          "output_type": "execute_result",
          "data": {
            "text/plain": [
              "[2, 3, 4, 1]"
            ]
          },
          "metadata": {},
          "execution_count": 10
        }
      ]
    },
    {
      "cell_type": "markdown",
      "metadata": {
        "id": "_Q_DCTjI3AGK"
      },
      "source": [
        "### **Ejercicio 5**\n",
        "\n",
        "Escribir una función que coloque en el fondo de una pila un nuevo elemento."
      ]
    },
    {
      "cell_type": "code",
      "metadata": {
        "id": "S1y89t3q3BkZ",
        "colab": {
          "base_uri": "https://localhost:8080/"
        },
        "outputId": "029f1647-b888-40ca-8175-f9465155e9cc"
      },
      "source": [
        "def ponerEnElFondo(pila:Pila, elemento)->Pila:\n",
        "  len = pila.tamanio()\n",
        "  auxInvertida = invertirPila(pila.clonar())\n",
        "  while pila.tamanio() != 1:\n",
        "    pila.desapilar()\n",
        "  base = pila.tope()\n",
        "  pila.vaciar()\n",
        "  i = 0\n",
        "  while i != len+1:\n",
        "    if i == 0:        #posisicon donde insertar\n",
        "      pila.apilar(elemento)\n",
        "    else:\n",
        "      pila.apilar(auxInvertida.tope())\n",
        "      auxInvertida.desapilar()\n",
        "    i = i+1\n",
        "  return pila\n",
        "\n",
        "pila3 = Pila()\n",
        "pila3.apilar(1);pila3.apilar(2);pila3.apilar(3);pila3.apilar(4)\n",
        "print(pila3)\n",
        "ponerEnElFondo(pila3, 9)"
      ],
      "execution_count": 11,
      "outputs": [
        {
          "output_type": "stream",
          "name": "stdout",
          "text": [
            "[1, 2, 3, 4]\n"
          ]
        },
        {
          "output_type": "execute_result",
          "data": {
            "text/plain": [
              "[9, 1, 2, 3, 4]"
            ]
          },
          "metadata": {},
          "execution_count": 11
        }
      ]
    },
    {
      "cell_type": "markdown",
      "metadata": {
        "id": "xfP229oY3ODC"
      },
      "source": [
        "### **Ejercicio 6**\n",
        "\n",
        "Escribir una función que elimine de una pila todas las ocurrencias de un elemento dado. Usar una pila auxiliar."
      ]
    },
    {
      "cell_type": "code",
      "metadata": {
        "id": "BMNroH_l3Ojz",
        "outputId": "e0e45356-725c-4603-e62c-68051a53d83a",
        "colab": {
          "base_uri": "https://localhost:8080/",
          "height": 375
        }
      },
      "source": [
        "def eliminarA(elemento, pila:Pila):\n",
        "  len = pila.tamanio()\n",
        "  pilaAux = pila.clonar()\n",
        "  invertirPila(pilaAux)\n",
        "  pila.vaciar()\n",
        "  while len != 0:\n",
        "    if pilaAux.tope() != elemento:\n",
        "      pila.apilar(pilaAux.tope())\n",
        "      pilaAux.desapilar()\n",
        "    else:\n",
        "      pilaAux.desapilar()\n",
        "\n",
        "pila3 = Pila()\n",
        "pila3.apilar(1);pila3.apilar(6);pila3.apilar(3);pila3.apilar(1)\n",
        "print(pila3)\n",
        "eliminarA(1, pila3)\n",
        "print(pila3)"
      ],
      "execution_count": 15,
      "outputs": [
        {
          "output_type": "stream",
          "name": "stdout",
          "text": [
            "[1, 6, 3, 1]\n"
          ]
        },
        {
          "output_type": "error",
          "ename": "KeyboardInterrupt",
          "evalue": "",
          "traceback": [
            "\u001b[0;31m---------------------------------------------------------------------------\u001b[0m",
            "\u001b[0;31mKeyboardInterrupt\u001b[0m                         Traceback (most recent call last)",
            "\u001b[0;32m<ipython-input-15-b938e8200079>\u001b[0m in \u001b[0;36m<cell line: 16>\u001b[0;34m()\u001b[0m\n\u001b[1;32m     14\u001b[0m \u001b[0mpila3\u001b[0m\u001b[0;34m.\u001b[0m\u001b[0mapilar\u001b[0m\u001b[0;34m(\u001b[0m\u001b[0;36m1\u001b[0m\u001b[0;34m)\u001b[0m\u001b[0;34m;\u001b[0m\u001b[0mpila3\u001b[0m\u001b[0;34m.\u001b[0m\u001b[0mapilar\u001b[0m\u001b[0;34m(\u001b[0m\u001b[0;36m6\u001b[0m\u001b[0;34m)\u001b[0m\u001b[0;34m;\u001b[0m\u001b[0mpila3\u001b[0m\u001b[0;34m.\u001b[0m\u001b[0mapilar\u001b[0m\u001b[0;34m(\u001b[0m\u001b[0;36m3\u001b[0m\u001b[0;34m)\u001b[0m\u001b[0;34m;\u001b[0m\u001b[0mpila3\u001b[0m\u001b[0;34m.\u001b[0m\u001b[0mapilar\u001b[0m\u001b[0;34m(\u001b[0m\u001b[0;36m1\u001b[0m\u001b[0;34m)\u001b[0m\u001b[0;34m\u001b[0m\u001b[0;34m\u001b[0m\u001b[0m\n\u001b[1;32m     15\u001b[0m \u001b[0mprint\u001b[0m\u001b[0;34m(\u001b[0m\u001b[0mpila3\u001b[0m\u001b[0;34m)\u001b[0m\u001b[0;34m\u001b[0m\u001b[0;34m\u001b[0m\u001b[0m\n\u001b[0;32m---> 16\u001b[0;31m \u001b[0meliminarA\u001b[0m\u001b[0;34m(\u001b[0m\u001b[0;36m1\u001b[0m\u001b[0;34m,\u001b[0m \u001b[0mpila3\u001b[0m\u001b[0;34m)\u001b[0m\u001b[0;34m\u001b[0m\u001b[0;34m\u001b[0m\u001b[0m\n\u001b[0m\u001b[1;32m     17\u001b[0m \u001b[0mprint\u001b[0m\u001b[0;34m(\u001b[0m\u001b[0mpila3\u001b[0m\u001b[0;34m)\u001b[0m\u001b[0;34m\u001b[0m\u001b[0;34m\u001b[0m\u001b[0m\n",
            "\u001b[0;32m<ipython-input-15-b938e8200079>\u001b[0m in \u001b[0;36meliminarA\u001b[0;34m(elemento, pila)\u001b[0m\n\u001b[1;32m      6\u001b[0m   \u001b[0;32mwhile\u001b[0m \u001b[0mlen\u001b[0m \u001b[0;34m!=\u001b[0m \u001b[0;36m0\u001b[0m\u001b[0;34m:\u001b[0m\u001b[0;34m\u001b[0m\u001b[0;34m\u001b[0m\u001b[0m\n\u001b[1;32m      7\u001b[0m     \u001b[0;32mif\u001b[0m \u001b[0mpilaAux\u001b[0m\u001b[0;34m.\u001b[0m\u001b[0mtope\u001b[0m\u001b[0;34m(\u001b[0m\u001b[0;34m)\u001b[0m \u001b[0;34m!=\u001b[0m \u001b[0melemento\u001b[0m\u001b[0;34m:\u001b[0m\u001b[0;34m\u001b[0m\u001b[0;34m\u001b[0m\u001b[0m\n\u001b[0;32m----> 8\u001b[0;31m       \u001b[0mpila\u001b[0m\u001b[0;34m.\u001b[0m\u001b[0mapilar\u001b[0m\u001b[0;34m(\u001b[0m\u001b[0mpilaAux\u001b[0m\u001b[0;34m.\u001b[0m\u001b[0mtope\u001b[0m\u001b[0;34m(\u001b[0m\u001b[0;34m)\u001b[0m\u001b[0;34m)\u001b[0m\u001b[0;34m\u001b[0m\u001b[0;34m\u001b[0m\u001b[0m\n\u001b[0m\u001b[1;32m      9\u001b[0m       \u001b[0mpilaAux\u001b[0m\u001b[0;34m.\u001b[0m\u001b[0mdesapilar\u001b[0m\u001b[0;34m(\u001b[0m\u001b[0;34m)\u001b[0m\u001b[0;34m\u001b[0m\u001b[0;34m\u001b[0m\u001b[0m\n\u001b[1;32m     10\u001b[0m     \u001b[0;32melse\u001b[0m\u001b[0;34m:\u001b[0m\u001b[0;34m\u001b[0m\u001b[0;34m\u001b[0m\u001b[0m\n",
            "\u001b[0;32m<ipython-input-5-2b0cb317c2da>\u001b[0m in \u001b[0;36mtope\u001b[0;34m(self)\u001b[0m\n\u001b[1;32m     14\u001b[0m     \u001b[0;32mreturn\u001b[0m \u001b[0mself\u001b[0m\u001b[0;34m.\u001b[0m\u001b[0mtamanio\u001b[0m\u001b[0;34m(\u001b[0m\u001b[0;34m)\u001b[0m \u001b[0;34m==\u001b[0m \u001b[0;36m0\u001b[0m\u001b[0;34m\u001b[0m\u001b[0;34m\u001b[0m\u001b[0m\n\u001b[1;32m     15\u001b[0m \u001b[0;34m\u001b[0m\u001b[0m\n\u001b[0;32m---> 16\u001b[0;31m   \u001b[0;32mdef\u001b[0m \u001b[0mtope\u001b[0m\u001b[0;34m(\u001b[0m\u001b[0mself\u001b[0m\u001b[0;34m)\u001b[0m\u001b[0;34m->\u001b[0m\u001b[0mint\u001b[0m\u001b[0;34m:\u001b[0m\u001b[0;34m\u001b[0m\u001b[0;34m\u001b[0m\u001b[0m\n\u001b[0m\u001b[1;32m     17\u001b[0m     \u001b[0mdatoCima\u001b[0m \u001b[0;34m=\u001b[0m \u001b[0;32mNone\u001b[0m\u001b[0;34m\u001b[0m\u001b[0;34m\u001b[0m\u001b[0m\n\u001b[1;32m     18\u001b[0m     \u001b[0;32mif\u001b[0m \u001b[0;32mnot\u001b[0m \u001b[0mself\u001b[0m\u001b[0;34m.\u001b[0m\u001b[0mestaVacia\u001b[0m\u001b[0;34m(\u001b[0m\u001b[0;34m)\u001b[0m\u001b[0;34m:\u001b[0m\u001b[0;34m\u001b[0m\u001b[0;34m\u001b[0m\u001b[0m\n",
            "\u001b[0;31mKeyboardInterrupt\u001b[0m: "
          ]
        }
      ]
    },
    {
      "cell_type": "markdown",
      "metadata": {
        "id": "nxgYjoxl3gmz"
      },
      "source": [
        "### **Ejercicio 7**\n",
        "\n",
        "Escribir un función que duplique el contenido de una pila.\n",
        "\n",
        "Por ejemplo, si la pila de entrada es:\n",
        "\n",
        "Pila = 8, 5, 6, 9\n",
        "\n",
        "Luego de la función la salida debe ser:\n",
        "\n",
        "pilaSalida = 8, 5, 6, 9, 8, 5, 6, 9"
      ]
    },
    {
      "cell_type": "code",
      "metadata": {
        "id": "Ojjaj3Z23g7j"
      },
      "source": [],
      "execution_count": null,
      "outputs": []
    },
    {
      "cell_type": "markdown",
      "metadata": {
        "id": "OLopy2zK38Am"
      },
      "source": [
        "### **Ejercicio 8**\n",
        "\n",
        "Escribir una función que realiza el cálculo de la suma de dos números enteros de muchos dígitos (los dos números tienen la misma cantidad de dígitos). La función recibe dos pilas por parámetro, las que almacenan los dígitos de los números a sumar (esta pilas no deben estar modificadas al terminar la función). La función debe retornar una nueva pila con el resultado.\n",
        "\n",
        "Por ejemplo para sumar: 85699625 + 75426652\n",
        "\n",
        "Las pilas de entrada a la función son:\n",
        "\n",
        "Pila1 = 8, 5, 6, 9, 9, 6, 2, 5\n",
        "\n",
        "Pila2 = 7, 5, 4, 2, 6, 6, 5, 2\n",
        "\n",
        "La salida:\n",
        "\n",
        "pilaSalida = 1, 6, 1, 1, 2, 6, 2, 7, 7"
      ]
    },
    {
      "cell_type": "code",
      "metadata": {
        "id": "a-DTh4IX5gji"
      },
      "source": [
        "# hacer la suma sumando tantos ceros como poosicion\n",
        "# contar los digitos de la suma\n",
        "# crear la pila"
      ],
      "execution_count": null,
      "outputs": []
    },
    {
      "cell_type": "markdown",
      "metadata": {
        "id": "rc3aFx7i5g13"
      },
      "source": [
        "### **Ejercicio 9**\n",
        "\n",
        "Escribir la función “reemplazar”, que recibe como parámetro una pila de enteros y dos números enteros: “viejo” y “nuevo”. La función debe modificar la pila ingresada por parámetro, reemplazando cada ocurrencia del número “viejo” por el “nuevo”.\n"
      ]
    },
    {
      "cell_type": "code",
      "metadata": {
        "id": "k3RCSCM555Ql"
      },
      "source": [],
      "execution_count": null,
      "outputs": []
    },
    {
      "cell_type": "markdown",
      "metadata": {
        "id": "qBL1crPl55oY"
      },
      "source": [
        "### **Ejercicio 10**\n",
        "\n",
        "Escribir una función que recibe una pila de enteros y retorna dos pilas, una con solo los números pares y otra con solo los impares, provenientes de la pila de entrada. Al finalizar la función, la pila de entrada no debe estar modificada."
      ]
    },
    {
      "cell_type": "code",
      "metadata": {
        "id": "ZoMkxS8z56Ar"
      },
      "source": [],
      "execution_count": null,
      "outputs": []
    },
    {
      "cell_type": "markdown",
      "metadata": {
        "id": "R-BNJESL8Ato"
      },
      "source": [
        "## **Parte 2: Colas dinámicas**"
      ]
    },
    {
      "cell_type": "markdown",
      "metadata": {
        "id": "_2Diy6h_8Jae"
      },
      "source": [
        "### **Ejercicio 11**\n",
        "\n",
        "Implementar el TDA Cola (Queue), con las siguientes operaciones:\n",
        "- Crear (__init__())\n",
        "- Vaciar\n",
        "- Encolar elemento (enqueue)\n",
        "- Desancolar elemento (dequeue)\n",
        "- Obtener primer elemento (top)\n",
        "- Obtener tamaño de cola\n",
        "- Clonar\n",
        "- Esta vacía.\n",
        "- __repr__(). Para poder imprimir una Cola por consola"
      ]
    },
    {
      "cell_type": "code",
      "metadata": {
        "id": "LtcHcMLtE6Ty"
      },
      "source": [
        "class Cola:\n",
        "  def __init__(self):\n",
        "    self.cola = []\n",
        "\n",
        "  def tamanio(self)->int:\n",
        "    return len(self.cola)\n",
        "\n",
        "  def estaVacia(self)->bool:\n",
        "    return self.tamanio() == 0\n",
        "\n",
        "  def encolar(self, dato:int)->None:\n",
        "    self.cola.append(dato) #Encolando por el final\n",
        "    #self.cola.insert(0,dato) #Encolando por el inicio\n",
        "\n",
        "  def tope(self)->int:\n",
        "    datoCima = None\n",
        "    if not self.estaVacia():\n",
        "      datoCima = self.cola[0]  #Desencolo por el inicio\n",
        "      #datoCima = self.cola[len(self.cola)-1] #Desencolo por el final\n",
        "    return datoCima\n",
        "\n",
        "  def desencolar(self)->int:\n",
        "    dato = None\n",
        "    if not self.estaVacia():\n",
        "      dato = self.cola.pop(0)  #Desencolando por el inicio\n",
        "      #dato = self.cola.pop() #Desencolando por el final\n",
        "    return dato\n",
        "\n",
        "  def vaciar(self)->None:\n",
        "    self.cola = []\n",
        "\n",
        "  def clonar(self):\n",
        "    return cp.deepcopy(self)\n",
        "\n",
        "  def __repr__(self)->str:\n",
        "    return \"<-\"+str(self.cola)+\"<-\""
      ],
      "execution_count": null,
      "outputs": []
    },
    {
      "cell_type": "code",
      "source": [
        "cola1 = Cola()\n",
        "print(cola1)\n",
        "cola1.encolar(3);cola1.encolar(2);cola1.encolar(7);cola1.encolar(4);\n",
        "print(cola1)\n",
        "#print(cola1.desencolar())\n",
        "#print(cola1)\n",
        "#cola2 = cola1.clonar()\n",
        "#print(\"cola2\",cola2)"
      ],
      "metadata": {
        "colab": {
          "base_uri": "https://localhost:8080/"
        },
        "id": "oxPnBsKgBhWJ",
        "outputId": "b5b7b14f-d330-48a8-8f01-891878404b21"
      },
      "execution_count": null,
      "outputs": [
        {
          "output_type": "stream",
          "name": "stdout",
          "text": [
            "<-[]<-\n",
            "<-[3, 2, 7, 4]<-\n"
          ]
        }
      ]
    },
    {
      "cell_type": "code",
      "source": [
        "print(cola1)\n",
        "while not cola1.estaVacia(): #iteramos una cola\n",
        "\tprint(cola1.desencolar())\n",
        "print(cola1)"
      ],
      "metadata": {
        "colab": {
          "base_uri": "https://localhost:8080/"
        },
        "id": "-tUy0uxOj9rf",
        "outputId": "09e4ca87-90fa-4e11-c3d3-c1a498f78657"
      },
      "execution_count": null,
      "outputs": [
        {
          "output_type": "stream",
          "name": "stdout",
          "text": [
            "<-[3, 2, 7, 4]<-\n",
            "3\n",
            "2\n",
            "7\n",
            "4\n",
            "<-[]<-\n"
          ]
        }
      ]
    },
    {
      "cell_type": "markdown",
      "metadata": {
        "id": "wao1sk3f9VIE"
      },
      "source": [
        "### A partir del **Ejercicio 12** vamos a trabajar fuera del TDA Cola usando la interface que creamos en el **Ejercicio 11**. Es decir, se pueden usar solo las operaciones de la interface, no se puede acceder a los componentes internos del TDA. Si necesitan estructuras auxiliares, pueden usar otra cola, pilas, arreglos o listas."
      ]
    },
    {
      "cell_type": "markdown",
      "metadata": {
        "id": "0ngItJaS9LQL"
      },
      "source": [
        "### **Ejercicio 12**\n",
        "\n",
        "Escribir una función que invierta el orden de una cola. No debe devolver una nueva cola invertida, sino invertir la cola que ingresa por parámetro."
      ]
    },
    {
      "cell_type": "code",
      "metadata": {
        "id": "TgI0Klap9Lxt"
      },
      "source": [
        "#colaOriginal = <-[2,3,1,5]<-\n",
        "#cola = <-[5,1,3,2]<-\n",
        "#pilaAux = []<->"
      ],
      "execution_count": null,
      "outputs": []
    },
    {
      "cell_type": "markdown",
      "metadata": {
        "id": "c7GRn_aB9j7N"
      },
      "source": [
        "### **Ejercicio 13**\n",
        "\n",
        "Escribir una función que extraiga el primer elemento de una cola y lo ponga en el final, respetando el orden del resto de los elementos.\n",
        "\n"
      ]
    },
    {
      "cell_type": "code",
      "metadata": {
        "id": "tydfGbXxiaTG"
      },
      "source": [
        "#Cola original = <-[2, 3, 1, 5]<-\n",
        "#Cola original = <-[3, 1, 5, 2]<-"
      ],
      "execution_count": null,
      "outputs": []
    },
    {
      "cell_type": "markdown",
      "metadata": {
        "id": "1ymkgIGrzLXy"
      },
      "source": [
        "### **Ejercicio 14**\n",
        "\n",
        "Escribir una función que coloque en el principio de una cola un nuevo elemento."
      ]
    },
    {
      "cell_type": "code",
      "metadata": {
        "id": "d4GH3FgpzMjp"
      },
      "source": [],
      "execution_count": null,
      "outputs": []
    },
    {
      "cell_type": "markdown",
      "metadata": {
        "id": "02nV6J1RzOZI"
      },
      "source": [
        "### **Ejercicio 15**\n",
        "\n",
        "Escribir una función que elimine de una cola todas las ocurrencias de un elemento dado.\n"
      ]
    },
    {
      "cell_type": "code",
      "metadata": {
        "id": "Tyhn88MRzPIc"
      },
      "source": [],
      "execution_count": null,
      "outputs": []
    },
    {
      "cell_type": "markdown",
      "metadata": {
        "id": "SDTxGmiaiapF"
      },
      "source": [
        "### **Ejercicio 16**\n",
        "\n",
        "Escribir una función que recibe una cola de enteros y genera dos colas: una con los números primos y otra con los números no primos, de la cola de entrada. Al terminar la función, la cola de entrada no debe estar modificada."
      ]
    },
    {
      "cell_type": "code",
      "metadata": {
        "id": "I7E3oBINiePN"
      },
      "source": [],
      "execution_count": null,
      "outputs": []
    },
    {
      "cell_type": "markdown",
      "metadata": {
        "id": "JXBJhthXiexG"
      },
      "source": [
        "### **Ejercicio 17**\n",
        "\n",
        "Implementar la función \"mezcla\" de dos colas, que recibe como parámetros dos colas ordenadas de menor a mayor y devuelve una nueva cola con la unión de ambas colas de entrada con sus elementos ordenados de la misma manera.\n"
      ]
    },
    {
      "cell_type": "code",
      "metadata": {
        "id": "Z2bswiGMigDd"
      },
      "source": [],
      "execution_count": null,
      "outputs": []
    },
    {
      "cell_type": "markdown",
      "metadata": {
        "id": "uTlvxV4x-zxg"
      },
      "source": [
        "### **Ejercicio 18**\n",
        "\n",
        "Implementar la función que recibe como parámetro una cola y elimina todos los números pares."
      ]
    },
    {
      "cell_type": "code",
      "metadata": {
        "id": "l8wU_LPh-0NK"
      },
      "source": [],
      "execution_count": null,
      "outputs": []
    }
  ]
}