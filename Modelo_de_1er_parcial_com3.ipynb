{
  "nbformat": 4,
  "nbformat_minor": 0,
  "metadata": {
    "colab": {
      "provenance": [],
      "include_colab_link": true
    },
    "kernelspec": {
      "name": "python3",
      "display_name": "Python 3"
    }
  },
  "cells": [
    {
      "cell_type": "markdown",
      "metadata": {
        "id": "view-in-github",
        "colab_type": "text"
      },
      "source": [
        "<a href=\"https://colab.research.google.com/github/RaTon84/Estructura-de-datos/blob/master/Modelo_de_1er_parcial_com3.ipynb\" target=\"_parent\"><img src=\"https://colab.research.google.com/assets/colab-badge.svg\" alt=\"Open In Colab\"/></a>"
      ]
    },
    {
      "cell_type": "markdown",
      "metadata": {
        "id": "42630xxYD0gZ"
      },
      "source": [
        "# ![alt text](https://upload.wikimedia.org/wikipedia/commons/thumb/c/c3/Python-logo-notext.svg/50px-Python-logo-notext.svg.png) **Modelo de primer parcial** ![alt text](https://upload.wikimedia.org/wikipedia/commons/thumb/c/c3/Python-logo-notext.svg/50px-Python-logo-notext.svg.png)\n",
        "\n",
        "Traten de resolverlos en papel.\n",
        "\n",
        "###**florencia.dias@unahur.edu.ar** ###"
      ]
    },
    {
      "cell_type": "markdown",
      "metadata": {
        "id": "p_zfOaNy70h-"
      },
      "source": [
        "## **Modelo 1**"
      ]
    },
    {
      "cell_type": "markdown",
      "metadata": {
        "id": "xjXgmD3mskbR"
      },
      "source": [
        "### **Ejercicio 1**\n",
        "  \n",
        "Escribir las funciones que considere necesarias para implementar un algoritmo recursivo que cuente la cantidad de números pares y otro algoritmo recursivo para contar la cantidad de números mayores que 10 en un arreglo de números enteros. Por último implementar la función  masParesQue10(arreglo), que devuelve True cuando “arreglo” tiene más números pares que números mayores que 10. Esta última función no hace falta que sea recursiva. Las soluciones que NO sean recursivas no serán tomadas en cuenta.\n",
        "\n",
        "Por ejemplo:\n",
        "\n",
        "Si arr1 = [5, 10, 9, 8, 13, 21] => masParesQue10(arr1) devuelve False, porque arr1 tiene 2 números mayores que 10 y 2 números pares.\n",
        "\n",
        "Si arr2 = [5, 10, 24, 9, 8, 6, 21] => masParesQue10(arr2) devuelve True, porque arr2 tiene 4 números pares y solamente 2 números mayores que 10.\n",
        "\n",
        "Ayuda: Se puede asumir que ya se tiene la función esPar(n) que devuelve verdadero cuando n es par.\n"
      ]
    },
    {
      "cell_type": "code",
      "metadata": {
        "id": "vM50Hpx6yUDe",
        "colab": {
          "base_uri": "https://localhost:8080/",
          "height": 773
        },
        "outputId": "771acd9a-807a-43be-c023-2355ec4172c3"
      },
      "source": [
        "import numpy as np\n",
        "\n",
        "arr1 = np.array([5, 10, 9, 8, 13, 21])\n",
        "arr2 = np.array([5, 10, 24, 9, 8, 6, 21])\n",
        "print(arr1)\n",
        "# print(arr2)\n",
        "\n",
        "###########          CONTADOR RECURSIVO    #####################\n",
        "def cantNumerosPares(vector:np.array)->int:\n",
        "  cantidad = None\n",
        "  pos = len(vector)\n",
        "  if len(vector) == 0:\n",
        "    return 0\n",
        "  else:\n",
        "    if vector[0] % 2 == 0:\n",
        "      return 1 + cantNumerosPares(vector[1:])\n",
        "    else:\n",
        "      cantNumerosPares(vector[1:])\n",
        "  return cantidad\n",
        "\n",
        "print(cantNumerosPares(arr1))\n",
        "########################################################\n",
        "\n",
        "def cantNumerosMayores10(vector:np.array)->int:\n",
        "  cantidad = 0\n",
        "  pos = len(vector)\n",
        "  if pos != 0:                     # 8 7 6 5 4 3 2 1\n",
        "    if vector[pos-1] > 10:\n",
        "      # print(vector[pos-1])\n",
        "      cantidad = cantidad + 1\n",
        "      cantNumerosMayores10(vector[:pos-1])\n",
        "    else:\n",
        "      cantNumerosMayores10(vector[:pos-1])\n",
        "  return cantidad\n",
        "\n",
        "# print(cantNumerosMayores10(arr1))\n",
        "########################################################\n",
        "\n",
        "def masParesQue10(arreglo:np.array)->bool:\n",
        "  return cantNumerosPares(arr1) > cantNumerosMayores10(arr1)\n",
        "\n",
        "\n",
        "\n",
        "# masParesQue10(arr1)"
      ],
      "execution_count": 73,
      "outputs": [
        {
          "output_type": "stream",
          "name": "stdout",
          "text": [
            "[ 5 10  9  8 13 21]\n"
          ]
        },
        {
          "output_type": "error",
          "ename": "TypeError",
          "evalue": "unsupported operand type(s) for +: 'int' and 'NoneType'",
          "traceback": [
            "\u001b[0;31m---------------------------------------------------------------------------\u001b[0m",
            "\u001b[0;31mTypeError\u001b[0m                                 Traceback (most recent call last)",
            "\u001b[0;32m<ipython-input-73-be0bfeafcbb7>\u001b[0m in \u001b[0;36m<cell line: 21>\u001b[0;34m()\u001b[0m\n\u001b[1;32m     19\u001b[0m   \u001b[0;32mreturn\u001b[0m \u001b[0mcantidad\u001b[0m\u001b[0;34m\u001b[0m\u001b[0;34m\u001b[0m\u001b[0m\n\u001b[1;32m     20\u001b[0m \u001b[0;34m\u001b[0m\u001b[0m\n\u001b[0;32m---> 21\u001b[0;31m \u001b[0mprint\u001b[0m\u001b[0;34m(\u001b[0m\u001b[0mcantNumerosPares\u001b[0m\u001b[0;34m(\u001b[0m\u001b[0marr1\u001b[0m\u001b[0;34m)\u001b[0m\u001b[0;34m)\u001b[0m\u001b[0;34m\u001b[0m\u001b[0;34m\u001b[0m\u001b[0m\n\u001b[0m\u001b[1;32m     22\u001b[0m \u001b[0;31m########################################################\u001b[0m\u001b[0;34m\u001b[0m\u001b[0;34m\u001b[0m\u001b[0m\n\u001b[1;32m     23\u001b[0m \u001b[0;34m\u001b[0m\u001b[0m\n",
            "\u001b[0;32m<ipython-input-73-be0bfeafcbb7>\u001b[0m in \u001b[0;36mcantNumerosPares\u001b[0;34m(vector)\u001b[0m\n\u001b[1;32m     16\u001b[0m       \u001b[0;32mreturn\u001b[0m \u001b[0;36m1\u001b[0m \u001b[0;34m+\u001b[0m \u001b[0mcantNumerosPares\u001b[0m\u001b[0;34m(\u001b[0m\u001b[0mvector\u001b[0m\u001b[0;34m[\u001b[0m\u001b[0;36m1\u001b[0m\u001b[0;34m:\u001b[0m\u001b[0;34m]\u001b[0m\u001b[0;34m)\u001b[0m\u001b[0;34m\u001b[0m\u001b[0;34m\u001b[0m\u001b[0m\n\u001b[1;32m     17\u001b[0m     \u001b[0;32melse\u001b[0m\u001b[0;34m:\u001b[0m\u001b[0;34m\u001b[0m\u001b[0;34m\u001b[0m\u001b[0m\n\u001b[0;32m---> 18\u001b[0;31m       \u001b[0mcantNumerosPares\u001b[0m\u001b[0;34m(\u001b[0m\u001b[0mvector\u001b[0m\u001b[0;34m[\u001b[0m\u001b[0;36m1\u001b[0m\u001b[0;34m:\u001b[0m\u001b[0;34m]\u001b[0m\u001b[0;34m)\u001b[0m\u001b[0;34m\u001b[0m\u001b[0;34m\u001b[0m\u001b[0m\n\u001b[0m\u001b[1;32m     19\u001b[0m   \u001b[0;32mreturn\u001b[0m \u001b[0mcantidad\u001b[0m\u001b[0;34m\u001b[0m\u001b[0;34m\u001b[0m\u001b[0m\n\u001b[1;32m     20\u001b[0m \u001b[0;34m\u001b[0m\u001b[0m\n",
            "\u001b[0;32m<ipython-input-73-be0bfeafcbb7>\u001b[0m in \u001b[0;36mcantNumerosPares\u001b[0;34m(vector)\u001b[0m\n\u001b[1;32m     14\u001b[0m   \u001b[0;32melse\u001b[0m\u001b[0;34m:\u001b[0m\u001b[0;34m\u001b[0m\u001b[0;34m\u001b[0m\u001b[0m\n\u001b[1;32m     15\u001b[0m     \u001b[0;32mif\u001b[0m \u001b[0mvector\u001b[0m\u001b[0;34m[\u001b[0m\u001b[0;36m0\u001b[0m\u001b[0;34m]\u001b[0m \u001b[0;34m%\u001b[0m \u001b[0;36m2\u001b[0m \u001b[0;34m==\u001b[0m \u001b[0;36m0\u001b[0m\u001b[0;34m:\u001b[0m\u001b[0;34m\u001b[0m\u001b[0;34m\u001b[0m\u001b[0m\n\u001b[0;32m---> 16\u001b[0;31m       \u001b[0;32mreturn\u001b[0m \u001b[0;36m1\u001b[0m \u001b[0;34m+\u001b[0m \u001b[0mcantNumerosPares\u001b[0m\u001b[0;34m(\u001b[0m\u001b[0mvector\u001b[0m\u001b[0;34m[\u001b[0m\u001b[0;36m1\u001b[0m\u001b[0;34m:\u001b[0m\u001b[0;34m]\u001b[0m\u001b[0;34m)\u001b[0m\u001b[0;34m\u001b[0m\u001b[0;34m\u001b[0m\u001b[0m\n\u001b[0m\u001b[1;32m     17\u001b[0m     \u001b[0;32melse\u001b[0m\u001b[0;34m:\u001b[0m\u001b[0;34m\u001b[0m\u001b[0;34m\u001b[0m\u001b[0m\n\u001b[1;32m     18\u001b[0m       \u001b[0mcantNumerosPares\u001b[0m\u001b[0;34m(\u001b[0m\u001b[0mvector\u001b[0m\u001b[0;34m[\u001b[0m\u001b[0;36m1\u001b[0m\u001b[0;34m:\u001b[0m\u001b[0;34m]\u001b[0m\u001b[0;34m)\u001b[0m\u001b[0;34m\u001b[0m\u001b[0;34m\u001b[0m\u001b[0m\n",
            "\u001b[0;32m<ipython-input-73-be0bfeafcbb7>\u001b[0m in \u001b[0;36mcantNumerosPares\u001b[0;34m(vector)\u001b[0m\n\u001b[1;32m     16\u001b[0m       \u001b[0;32mreturn\u001b[0m \u001b[0;36m1\u001b[0m \u001b[0;34m+\u001b[0m \u001b[0mcantNumerosPares\u001b[0m\u001b[0;34m(\u001b[0m\u001b[0mvector\u001b[0m\u001b[0;34m[\u001b[0m\u001b[0;36m1\u001b[0m\u001b[0;34m:\u001b[0m\u001b[0;34m]\u001b[0m\u001b[0;34m)\u001b[0m\u001b[0;34m\u001b[0m\u001b[0;34m\u001b[0m\u001b[0m\n\u001b[1;32m     17\u001b[0m     \u001b[0;32melse\u001b[0m\u001b[0;34m:\u001b[0m\u001b[0;34m\u001b[0m\u001b[0;34m\u001b[0m\u001b[0m\n\u001b[0;32m---> 18\u001b[0;31m       \u001b[0mcantNumerosPares\u001b[0m\u001b[0;34m(\u001b[0m\u001b[0mvector\u001b[0m\u001b[0;34m[\u001b[0m\u001b[0;36m1\u001b[0m\u001b[0;34m:\u001b[0m\u001b[0;34m]\u001b[0m\u001b[0;34m)\u001b[0m\u001b[0;34m\u001b[0m\u001b[0;34m\u001b[0m\u001b[0m\n\u001b[0m\u001b[1;32m     19\u001b[0m   \u001b[0;32mreturn\u001b[0m \u001b[0mcantidad\u001b[0m\u001b[0;34m\u001b[0m\u001b[0;34m\u001b[0m\u001b[0m\n\u001b[1;32m     20\u001b[0m \u001b[0;34m\u001b[0m\u001b[0m\n",
            "\u001b[0;32m<ipython-input-73-be0bfeafcbb7>\u001b[0m in \u001b[0;36mcantNumerosPares\u001b[0;34m(vector)\u001b[0m\n\u001b[1;32m     14\u001b[0m   \u001b[0;32melse\u001b[0m\u001b[0;34m:\u001b[0m\u001b[0;34m\u001b[0m\u001b[0;34m\u001b[0m\u001b[0m\n\u001b[1;32m     15\u001b[0m     \u001b[0;32mif\u001b[0m \u001b[0mvector\u001b[0m\u001b[0;34m[\u001b[0m\u001b[0;36m0\u001b[0m\u001b[0;34m]\u001b[0m \u001b[0;34m%\u001b[0m \u001b[0;36m2\u001b[0m \u001b[0;34m==\u001b[0m \u001b[0;36m0\u001b[0m\u001b[0;34m:\u001b[0m\u001b[0;34m\u001b[0m\u001b[0;34m\u001b[0m\u001b[0m\n\u001b[0;32m---> 16\u001b[0;31m       \u001b[0;32mreturn\u001b[0m \u001b[0;36m1\u001b[0m \u001b[0;34m+\u001b[0m \u001b[0mcantNumerosPares\u001b[0m\u001b[0;34m(\u001b[0m\u001b[0mvector\u001b[0m\u001b[0;34m[\u001b[0m\u001b[0;36m1\u001b[0m\u001b[0;34m:\u001b[0m\u001b[0;34m]\u001b[0m\u001b[0;34m)\u001b[0m\u001b[0;34m\u001b[0m\u001b[0;34m\u001b[0m\u001b[0m\n\u001b[0m\u001b[1;32m     17\u001b[0m     \u001b[0;32melse\u001b[0m\u001b[0;34m:\u001b[0m\u001b[0;34m\u001b[0m\u001b[0;34m\u001b[0m\u001b[0m\n\u001b[1;32m     18\u001b[0m       \u001b[0mcantNumerosPares\u001b[0m\u001b[0;34m(\u001b[0m\u001b[0mvector\u001b[0m\u001b[0;34m[\u001b[0m\u001b[0;36m1\u001b[0m\u001b[0;34m:\u001b[0m\u001b[0;34m]\u001b[0m\u001b[0;34m)\u001b[0m\u001b[0;34m\u001b[0m\u001b[0;34m\u001b[0m\u001b[0m\n",
            "\u001b[0;31mTypeError\u001b[0m: unsupported operand type(s) for +: 'int' and 'NoneType'"
          ]
        }
      ]
    },
    {
      "cell_type": "markdown",
      "metadata": {
        "id": "rds3Jsp10bJr"
      },
      "source": [
        "### **Ejercicio 2**\n",
        "\n",
        "En UNAHUR se está desarrollando un software para administrar el estacionamiento. En todo momento pueden entrar o salir autos. No puede haber dos autos en el mismo lugar y de cada auto solo nos interesa conocer la patente y la hora de ingreso, que a fines prácticos consideraremos dos números.\n",
        "\n",
        "Al inicio del día se puede asumir que el estacionamiento comienza vacío y con una cantidad fija de lugares que informa el bedel al abrir el lugar. Vamos a suponer que el estacionamiento tiene igual cantidad de espacios verticales que horizontales cada día. Por ejemplo 20x20 lugares. Lo que se necesita hacer es asignar un auto a algún lugar vacío cada vez que ingresa y desasignarlo cuando egresa.\n",
        "\n",
        "Implementar el TDA EstacionamientoUnaHur que contenga al menos las siguientes operaciones:\n",
        "\n",
        "-  **__init__(cantLugares):** Recibe la cantidad total de lugares en el estacionamiento y crea una variable de tipo EstacionamientoUnaHur.\n",
        "\n",
        "- **estacionar(patente, horaIngreso)**: Estaciona el auto en algún lugar disponible. La función debe retornar la ubicación (posición vertical y posición horizontal) utilizada. Si no hay más lugar debe lanzar una excepción. Se puede asumir que no se estacionan dos autos iguales ni estacionan dos autos al mismo tiempo.\n",
        "\n",
        "- **salir(patente):** Libera el espacio si el auto se encuentra en el estacionamiento y retorna la hora de ingreso. Si el auto no se encuentra en el estacionamiento no debe hacer nada.\n",
        "\n",
        "- **estaVacio():** Retorna True si no hay ningún auto estacionado y False en caso contrario.\n",
        "\n",
        "- **cantidadAutosHora(hora):** Devuelve la cantidad de autos que ingresaron antes de la hora recibida por parámetro y que aún están en el estacionamiento.\n",
        "\n",
        "- **__repr__():** que muestra los lugares del estacionamiento."
      ]
    },
    {
      "cell_type": "code",
      "source": [
        "import numpy as np\n",
        "\n",
        "class EstacionamientoUnaHur:\n",
        "  def __init__(self, cantidad:int):\n",
        "    self.__lugares = np.zeros((cantidad, cantidad), Auto)\n",
        "    self.__filas, self.__cols = self.__lugares.shape\n",
        "\n",
        "  def estacionar(self, patente:int, horaIngreso:int):\n",
        "    auto = Auto(patente,horaIngreso)\n",
        "    for fila in range(self.__filas):\n",
        "      for col in range(self.__cols):\n",
        "        if self.__lugares[fila,col] == 0:\n",
        "          self.__lugares[fila,col] = auto\n",
        "          return \"Fila: \" + str(fila) + \", columna: \" +str(col)\n",
        "    raise Exception(\"no hay mas lugar disponible\")\n",
        "\n",
        "  def salir(self, patente:int):\n",
        "    for fila in range(self.__filas):\n",
        "      for col in range(self.__cols):\n",
        "        if self.__lugares[fila,col].getPatente() == patente:\n",
        "          horaIngreso = str(self.__lugares[fila,col])\n",
        "          self.__lugares[fila,col] = 0\n",
        "          return horaIngreso\n",
        "\n",
        "  def estaVacio(self)->bool:\n",
        "    for fila in range(self.__filas):\n",
        "      for col in range(self.__cols):\n",
        "        if self.__lugares[fila,col] != 0:\n",
        "          return False\n",
        "    return True\n",
        "\n",
        "  def cantidadAutosHora(self, hora:int):\n",
        "    cantidad = 0\n",
        "    for fila in range(self.__filas):\n",
        "      for col in range(self.__cols):\n",
        "        if self.__lugares[fila,col] != 0:\n",
        "          if self.__lugares[fila,col].getHoraIngreso() > hora:\n",
        "            cantidad = cantidad + 1\n",
        "    return cantidad\n",
        "\n",
        "  def __repr__(self):\n",
        "    filas, cols = self.__lugares.shape\n",
        "    return str(filas*cols)\n",
        "\n",
        "########################################################\n",
        "class Auto:\n",
        "  def __init__(self, patente:int, horaIngreso:int):\n",
        "    self.__patente = patente\n",
        "    self.__horaIngreso = horaIngreso\n",
        "\n",
        "  def getPatente(self)->int:\n",
        "    return int(self.__patente)\n",
        "\n",
        "  def getHoraIngreso(self)->int:\n",
        "    return int(self.__horaIngreso)\n",
        "\n",
        "  def __repr__(self):\n",
        "    return str(self.__horaIngreso)\n",
        "\n",
        "estacionamiento = EstacionamientoUnaHur(20)\n",
        "print(estacionamiento)\n",
        "print(estacionamiento.estacionar(333,444))\n",
        "print(estacionamiento.estacionar(555,666))\n",
        "print(estacionamiento.estacionar(777,999))\n",
        "estacionamiento.salir(555)\n",
        "estacionamiento.salir(333)\n",
        "print(\"estaVacio: \" + str(estacionamiento.estaVacio()))\n",
        "print(\"cantidad de autos de mas d hs: \" + str(estacionamiento.cantidadAutosHora(1)))"
      ],
      "metadata": {
        "id": "QgPNSdZ1YIiH",
        "colab": {
          "base_uri": "https://localhost:8080/"
        },
        "outputId": "e7facfdc-064e-46f8-8373-8f8d9aa9c41d"
      },
      "execution_count": 53,
      "outputs": [
        {
          "output_type": "stream",
          "name": "stdout",
          "text": [
            "400\n",
            "Fila: 0, columna: 0\n",
            "Fila: 0, columna: 1\n",
            "Fila: 0, columna: 2\n",
            "estaVacio: False\n",
            "cantidad de autos de mas d hs: 1\n"
          ]
        }
      ]
    },
    {
      "cell_type": "markdown",
      "metadata": {
        "id": "R-BNJESL8Ato"
      },
      "source": [
        "## **Modelo 2**"
      ]
    },
    {
      "cell_type": "markdown",
      "metadata": {
        "id": "_2Diy6h_8Jae"
      },
      "source": [
        "### **Ejercicio 1**\n",
        "\n",
        "Escribir la función recursiva **estaIncluido(arreglo1, arreglo2)**, que retorna verdadero si el arreglo1 está incluido al inicio o al final del arreglo2. Tener en cuenta que un arreglo vacío siempre está incluido en otro (vacío o no) y que un arreglo vacío solo puede incluir a otro vacío. Soluciones que no sean recursivas NO serán tenidas en cuenta.\n",
        "\n",
        "Por ejemplo, si:\n",
        "\n",
        "arr1 = [2, 5, 1], arr2 = [1, 9, 3, 4, 2, 5, 1] , arr3 = [2, 5, 1, 6 ,1, 8, 5] , arr4 = [4, 3, 2, 5, 1, 8, 2]\n",
        "\n",
        "estaIncluido(arr1, arr2) => True\n",
        "\n",
        "estaIncluido(arr1, arr3) => True\n",
        "\n",
        "estaIncluido(arr1, arr4) => False\n",
        "\n",
        "Ayuda: Pueden utilizar dos funciones auxiliares, al menos una tiene que ser recursiva.\n"
      ]
    },
    {
      "cell_type": "code",
      "metadata": {
        "id": "LtcHcMLtE6Ty"
      },
      "source": [],
      "execution_count": null,
      "outputs": []
    },
    {
      "cell_type": "markdown",
      "metadata": {
        "id": "0ngItJaS9LQL"
      },
      "source": [
        "### **Ejercicio 2**\n",
        "\n",
        "El Correo Argentino nos pidió ayuda para organizar los paquetes de cada sucursal. Todos los días llegan paquetes con diferente peso que son apilados para luego ser distribuidos. Para que no se aplasten, siempre se pone el más pesado debajo y así, queda ordenado de manera que el paquete más liviano siempre esté en el tope. Pero atención, cuando llega un paquete nuevo, este debe ser intercalado de manera de respetar el orden del peso.\n",
        "\n",
        "Modelar el TDA ElCorreoNoSeCierra con las siguientes operaciones:\n",
        "\n",
        "- **agregarPaquete(contenido, peso):** Que recibe un contenido (String) y el peso de ese contenido, arma un paquete y lo apila de manera que el resto de los paquetes no se aplasten. Se puede asumir que en las pilas auxiliares los paquetes no se aplastan.\n",
        "\n",
        "- **pilaPaquetes() → Pila:** Que devuelve una copia de la pila de paquetes sin destruir los paquetes internos.\n",
        "\n",
        "- **juntarCorreos(otroCorreo):** Que recibe otra instancia del TDA, y “apila en self” los “paquetes de self” combinados con los del otroCorreo, de manera que no se aplasten. otroCorreo debe quedar intacto luego de la operación. Se recomienda usar pilaPaquetes(). Aprovechar que “otroCorreo” ya viene ordenado.\n",
        "\n",
        "**Notas:**\n",
        "\n",
        "- Se recomienda primero generar el TDA Paquete, conteniendo el nombre y el peso.\n",
        "- Se pueden agregar todas las funciones auxiliares y/o operaciones de los TDAs que consideren necesarias además de las pedidas.\n",
        "- NO se puede usar el TDA Lista en la solución.\n",
        "\n",
        "Las soluciones correctas deben funcionar en términos del siguiente ejemplo:\n",
        "\n",
        "correo1 = ElCorreoNoSeCierra(); correo2 = ElCorreoNoSeCierra();\n",
        "\n",
        "correo1.agregarPaquete(“a”, 10); correo1.agregarPaquete(“b”, 1); correo1.agregarPaquete(“c”, 5);\n",
        "correo2.agregarPaquete(“d”, 2); correo2.agregarPaquete(“e”, 10); correo2.agregarPaquete(“f”, 6);\n",
        "\n",
        "\n",
        "*correo1 debería tener [Paquete(“a”,10) , Paquete(“c”, 5) , Paquete(“b”, 1)]*\n",
        "\n",
        "*correo2 debería tener [Paquete(“e”,10) , Paquete(“f”, 6) , Paquete(“d”, 2)]*\n",
        "\n",
        "correo1.juntarCorreos(correo2)\n",
        "\n",
        "*correo1 podría tener [Paquete(“a”,10), Paquete(“e”,10) , Paquete(“f”, 6),Paquete(“c”, 5), Paquete(“d”, 2), Paquete(“b”, 1)]*\n",
        "\n",
        "puede haber paquetes “repetidos” y no importa el orden para paquetes de igual peso.\n",
        "\n",
        "o bien [Paquete(“e”,10), Paquete(“a”,10), Paquete(“f”, 6), Paquete(“c”, 5), Paquete(“d”, 2), Paquete(“b”, 1)]\n"
      ]
    },
    {
      "cell_type": "code",
      "metadata": {
        "id": "TgI0Klap9Lxt"
      },
      "source": [],
      "execution_count": null,
      "outputs": []
    }
  ]
}