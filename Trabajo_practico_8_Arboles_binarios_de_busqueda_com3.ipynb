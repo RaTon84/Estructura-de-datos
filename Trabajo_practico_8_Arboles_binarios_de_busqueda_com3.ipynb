{
  "nbformat": 4,
  "nbformat_minor": 0,
  "metadata": {
    "colab": {
      "provenance": [],
      "include_colab_link": true
    },
    "kernelspec": {
      "name": "python3",
      "display_name": "Python 3"
    }
  },
  "cells": [
    {
      "cell_type": "markdown",
      "metadata": {
        "id": "view-in-github",
        "colab_type": "text"
      },
      "source": [
        "<a href=\"https://colab.research.google.com/github/RaTon84/Estructura-de-datos/blob/master/Trabajo_practico_8_Arboles_binarios_de_busqueda_com3.ipynb\" target=\"_parent\"><img src=\"https://colab.research.google.com/assets/colab-badge.svg\" alt=\"Open In Colab\"/></a>"
      ]
    },
    {
      "cell_type": "markdown",
      "metadata": {
        "id": "42630xxYD0gZ"
      },
      "source": [
        "# ![alt text](https://upload.wikimedia.org/wikipedia/commons/thumb/c/c3/Python-logo-notext.svg/50px-Python-logo-notext.svg.png) **Trabajo Práctico 8: Árboles binarios de búsqueda** ![alt text](https://upload.wikimedia.org/wikipedia/commons/thumb/c/c3/Python-logo-notext.svg/50px-Python-logo-notext.svg.png)\n",
        "\n",
        "En este trabajo práctico, vamos a trabajar con las estructuras de datos **Árbol binario de búsqueda** en Python. Para esta guía, los datos que guardaremos en los nodos son números enteros. Recuerden crear una copia de este archivo en su ***Google Drive*** para tener permisos de edición.\n",
        "\n",
        "### **florencia.dias@unahur.edu.ar** ###"
      ]
    },
    {
      "cell_type": "markdown",
      "metadata": {
        "id": "xjXgmD3mskbR"
      },
      "source": [
        "### **Ejercicio 1**\n",
        "\n",
        "Implementar el TDA Árbol binario de búsqueda, con las siguientes operaciones:\n",
        "\n",
        "En el Tipo NodoArbol:\n",
        "- **\\_\\_init__():** Constructor.\n",
        "- **Tiene hijo izquierdo**.\n",
        "- **Tiene hijo derecho**.\n",
        "- **Obtener grado**.\n",
        "- **Es hoja**.\n",
        "- **Predecesor de un nodo**: Retorna el nodo predecesor.\n",
        "- **Sucesor de un nodo**: Retorna el nodo sucesor.\n",
        "- **Altura de un nodo**: Retorna el largo de la trayectoria hasta la hoja mas lejana\n",
        "\n",
        "En el Tipo ABB:\n",
        "- **\\_\\_init__():** Constructor.\n",
        "- **Vaciar**.\n",
        "- **Esta vacio**.\n",
        "- **Mostrar elementos en PreOrden**.\n",
        "- **Mostrar elementos en InOrden:** Prueben que pasa si en lugar de ir primero al subarbol izquierdo y luego al subarbol derecho, van primero al derecho y luego al izquierdo.\n",
        "- **Mostrar elementos en PostOrden**.\n",
        "- **Insertar elemento:** Inserta nuevo nodo en el lugar que corresponde en el árbol con el elemento que recibe como parámetro.\n",
        "- **Buscar elemento:** Recibe un elemento y retorna *True* si el elemento esta en el árbol y *False* en caso contrario.\n",
        "- **Eliminar elemento:** Recibe un elemento y elimina el nodo que lo contiene.\n",
        "- **Clonar**.\n",
        "- **Obtener peso del arbol**.\n",
        "- **Obtener máximo del arbol**.\n",
        "- **Obtener mínimo del arbol**.\n",
        "- **Obtener profundidad del árbol:** Altura de la raíz. Deben hacer una operación que calcule la altura de un nodo (del tipo NodoArbol).\n",
        "- **Obtener profundidad de un elemento (Nivel):** Recibe un elemento y retorna su profundidad si el elemento esta en el árbol y *None* en caso contrario.\n",
        "\n",
        "\n"
      ]
    },
    {
      "cell_type": "code",
      "metadata": {
        "id": "vM50Hpx6yUDe"
      },
      "source": [
        "from graphviz import Digraph\n",
        "import copy as cp\n",
        "\n",
        "class ABB:\n",
        "  def __init__(self):\n",
        "    self.__raiz = None\n",
        "\n",
        "  def estaVacio(self)->bool:\n",
        "    return self.__raiz == None\n",
        "\n",
        "  def vaciar(self)->None:\n",
        "    self.__raiz = None\n",
        "\n",
        "  def clonar(self):\n",
        "    return cp.deepcopy(self)\n",
        "\n",
        "  def treePlot(self, fileName='arbol')->None:\n",
        "    if not self.estaVacio():\n",
        "      treeDot = Digraph()\n",
        "      treeDot.node(str(self.__raiz.dato), str(self.__raiz.dato))\n",
        "      self.__raiz.treePlot(treeDot)\n",
        "      treeDot.render(fileName, view=True)\n",
        "\n",
        "  ##################################################################\n",
        "  ##################################################################\n",
        "  class __NodoArbol:\n",
        "    def __init__(self, dato):\n",
        "      self.dato = dato\n",
        "      self.izquierdo = None\n",
        "      self.derecho = None\n",
        "\n",
        "    def tieneIzquierdo(self)->bool:\n",
        "      return self.izquierdo != None\n",
        "\n",
        "    def tieneDerecho(self)->bool:\n",
        "      return self.derecho != None\n",
        "\n",
        "    def grado(self)->int:\n",
        "      cantHijos = 0\n",
        "      if self.tieneIzquierdo(): cantHijos += 1\n",
        "      if self.tieneDerecho(): cantHijos += 1\n",
        "      return cantHijos\n",
        "\n",
        "    def esHoja(self)->bool:\n",
        "      return self.grado() == 0\n",
        "\n",
        "    def treePlot(self, dot:Digraph)->None:\n",
        "      if self.tieneIzquierdo():\n",
        "        dot.node(str(self.izquierdo.dato), str(self.izquierdo.dato))\n",
        "        dot.edge(str(self.dato), str(self.izquierdo.dato))\n",
        "        self.izquierdo.treePlot(dot)\n",
        "      else:\n",
        "        dot.node(\"-\"+str(self.dato)+\"l\", \"-\")\n",
        "        dot.edge(str(self.dato), \"-\"+str(self.dato)+\"l\")\n",
        "      if self.tieneDerecho():\n",
        "        dot.node(str(self.derecho.dato), str(self.derecho.dato))\n",
        "        dot.edge(str(self.dato), str(self.derecho.dato))\n",
        "        self.derecho.treePlot(dot)\n",
        "      else:\n",
        "        dot.node(\"-\"+str(self.dato)+\"r\", \"-\")\n",
        "        dot.edge(str(self.dato), \"-\"+str(self.dato)+\"r\")"
      ],
      "execution_count": null,
      "outputs": []
    },
    {
      "cell_type": "code",
      "source": [
        "class ABB(ABB):\n",
        "  def insertar(self, dato:int)->None:\n",
        "    nodoNuevo = ABB.__NodoArbol(dato)\n",
        "    if self.estaVacio():\n",
        "      self.__raiz = nodoNuevo\n",
        "    else:\n",
        "      self.__raiz.insertarNodo(nodoNuevo)\n",
        "\n",
        "  class __NodoArbol(ABB.__NodoArbol):\n",
        "    def insertarNodo(self, nodoNuevo)->None:\n",
        "      if nodoNuevo.dato < self.dato:\n",
        "        #El nuevo nodo va a la izquierda de self\n",
        "        if not self.tieneIzquierdo():\n",
        "          self.izquierdo = nodoNuevo\n",
        "        else:\n",
        "          self.izquierdo.insertarNodo(nodoNuevo)\n",
        "      elif nodoNuevo.dato > self.dato:\n",
        "        #El nuevo nodo va a la derecha de self\n",
        "        if not self.tieneDerecho():\n",
        "          self.derecho = nodoNuevo\n",
        "        else:\n",
        "          self.derecho.insertarNodo(nodoNuevo)\n",
        "      else:\n",
        "        raise Exception(\"No se admiten datos repetidos\")\n",
        "\n",
        "arbol1 = ABB()\n",
        "arbol1.insertar(50)\n",
        "arbol1.insertar(40);arbol1.insertar(30);arbol1.insertar(45)\n",
        "arbol1.insertar(60);arbol1.insertar(70);arbol1.insertar(55)\n",
        "\n",
        "arbol1.treePlot(\"nuevo\")"
      ],
      "metadata": {
        "id": "H4c7oWAdGVKi"
      },
      "execution_count": null,
      "outputs": []
    },
    {
      "cell_type": "code",
      "source": [
        "class ABB(ABB):\n",
        "  def mostrarPreOrden(self)->None:\n",
        "    if not self.estaVacio():\n",
        "      self.__raiz.mostrarPreOrdenNodo()\n",
        "\n",
        "  class __NodoArbol(ABB.__NodoArbol):\n",
        "    def mostrarPreOrdenNodo(self)->None:\n",
        "      print(self.dato)\n",
        "      if self.tieneIzquierdo():\n",
        "        self.izquierdo.mostrarPreOrdenNodo()\n",
        "      if self.tieneDerecho():\n",
        "        self.derecho.mostrarPreOrdenNodo()\n",
        "\n",
        "arbol1 = ABB()\n",
        "arbol1.insertar(50)\n",
        "arbol1.insertar(40);arbol1.insertar(30);arbol1.insertar(45)\n",
        "arbol1.insertar(60);arbol1.insertar(70);arbol1.insertar(55)\n",
        "\n",
        "arbol1.mostrarPreOrden()"
      ],
      "metadata": {
        "colab": {
          "base_uri": "https://localhost:8080/"
        },
        "id": "m5k-9X_EMh-e",
        "outputId": "e512de5a-3a4e-4e7c-f6f5-e447968fd8a2"
      },
      "execution_count": null,
      "outputs": [
        {
          "output_type": "stream",
          "name": "stdout",
          "text": [
            "50\n",
            "40\n",
            "30\n",
            "45\n",
            "60\n",
            "55\n",
            "70\n"
          ]
        }
      ]
    },
    {
      "cell_type": "code",
      "source": [
        "class ABB(ABB):\n",
        "  def mostrarPostOrden(self)->None:\n",
        "    if not self.estaVacio():\n",
        "      self.__raiz.mostrarPostOrdenNodo()\n",
        "\n",
        "  class __NodoArbol(ABB.__NodoArbol):\n",
        "    def mostrarPostOrdenNodo(self)->None:\n",
        "      if self.tieneIzquierdo():\n",
        "        self.izquierdo.mostrarPostOrdenNodo()\n",
        "      if self.tieneDerecho():\n",
        "        self.derecho.mostrarPostOrdenNodo()\n",
        "      print(self.dato)\n",
        "\n",
        "arbol1 = ABB()\n",
        "arbol1.insertar(50)\n",
        "arbol1.insertar(40);arbol1.insertar(30);arbol1.insertar(45)\n",
        "arbol1.insertar(60);arbol1.insertar(70);arbol1.insertar(55)\n",
        "\n",
        "arbol1.mostrarPostOrden()"
      ],
      "metadata": {
        "colab": {
          "base_uri": "https://localhost:8080/"
        },
        "id": "I4-BKhATOv9U",
        "outputId": "cd978676-8b3e-42cd-ce08-85681fd6a263"
      },
      "execution_count": null,
      "outputs": [
        {
          "output_type": "stream",
          "name": "stdout",
          "text": [
            "30\n",
            "45\n",
            "40\n",
            "55\n",
            "70\n",
            "60\n",
            "50\n"
          ]
        }
      ]
    },
    {
      "cell_type": "code",
      "source": [
        "class ABB(ABB):\n",
        "  def mostrarInOrden(self)->None:\n",
        "    if not self.estaVacio():\n",
        "      self.__raiz.mostrarInOrdenNodo()\n",
        "\n",
        "  class __NodoArbol(ABB.__NodoArbol):\n",
        "    def mostrarInOrdenNodo(self)->None:\n",
        "      if self.tieneDerecho():\n",
        "        self.derecho.mostrarInOrdenNodo()\n",
        "      print(self.dato)\n",
        "      if self.tieneIzquierdo():\n",
        "        self.izquierdo.mostrarInOrdenNodo()\n",
        "\n",
        "arbol1 = ABB()\n",
        "arbol1.insertar(50)\n",
        "arbol1.insertar(40);arbol1.insertar(30);arbol1.insertar(45)\n",
        "arbol1.insertar(60);arbol1.insertar(70);arbol1.insertar(55)\n",
        "\n",
        "arbol1.mostrarInOrden()"
      ],
      "metadata": {
        "colab": {
          "base_uri": "https://localhost:8080/"
        },
        "id": "Q6m4W-HmPfz-",
        "outputId": "bf07b87b-4a46-4e3c-e738-aa429bd07f69"
      },
      "execution_count": null,
      "outputs": [
        {
          "output_type": "stream",
          "name": "stdout",
          "text": [
            "70\n",
            "60\n",
            "55\n",
            "50\n",
            "45\n",
            "40\n",
            "30\n"
          ]
        }
      ]
    },
    {
      "cell_type": "code",
      "source": [
        "class ABB(ABB):\n",
        "  def peso(self)->int:\n",
        "    cantNodos = 0\n",
        "    if not self.estaVacio():\n",
        "      cantNodos = self.__raiz.pesoNodo()\n",
        "    return cantNodos\n",
        "\n",
        "  class __NodoArbol(ABB.__NodoArbol):\n",
        "    def pesoNodo(self)->int:\n",
        "      cantNodos = 1\n",
        "      if self.tieneIzquierdo():\n",
        "        cantNodos += self.izquierdo.pesoNodo() #Peso del subarbol izquierdo\n",
        "      if self.tieneDerecho():\n",
        "        cantNodos += self.derecho.pesoNodo() #Peso del subarbol derecho\n",
        "      return cantNodos\n",
        "\n",
        "arbol1 = ABB()\n",
        "arbol1.insertar(50)\n",
        "arbol1.insertar(40);arbol1.insertar(30);arbol1.insertar(45)\n",
        "arbol1.insertar(60);arbol1.insertar(70);arbol1.insertar(55)\n",
        "\n",
        "arbol1.peso()"
      ],
      "metadata": {
        "colab": {
          "base_uri": "https://localhost:8080/"
        },
        "id": "3Vsr6Qb2Qkmh",
        "outputId": "cf375056-c63e-4f05-8b6c-bfc595b3443e"
      },
      "execution_count": null,
      "outputs": [
        {
          "output_type": "execute_result",
          "data": {
            "text/plain": [
              "7"
            ]
          },
          "metadata": {},
          "execution_count": 6
        }
      ]
    },
    {
      "cell_type": "code",
      "source": [
        "class ABB(ABB):\n",
        "  def buscar(self, datoBusc)->bool:\n",
        "    encontrado = False\n",
        "    if not self.estaVacio():\n",
        "      encontrado = self.__raiz.buscarNodo(datoBusc) != None\n",
        "    return encontrado\n",
        "\n",
        "  class __NodoArbol(ABB.__NodoArbol):\n",
        "    def buscarNodo(self, datoBusc):\n",
        "      #Si el datoBusc esta en el arbol retorna el nodo que lo contiene\n",
        "      #Si el datoBusc NO estan en el arbol retorna None\n",
        "      nodoDatoBusc = None\n",
        "      if self.dato == datoBusc:\n",
        "        nodoDatoBusc = self\n",
        "      else:\n",
        "        if datoBusc < self.dato:\n",
        "          if self.tieneIzquierdo():\n",
        "            nodoDatoBusc = self.izquierdo.buscarNodo(datoBusc)\n",
        "        else: #datoBusc > self.dato\n",
        "          if self.tieneDerecho():\n",
        "            nodoDatoBusc = self.derecho.buscarNodo(datoBusc)\n",
        "      return nodoDatoBusc\n",
        "\n",
        "\n",
        "arbol1 = ABB()\n",
        "arbol1.insertar(50)\n",
        "arbol1.insertar(40);arbol1.insertar(30);arbol1.insertar(45)\n",
        "arbol1.insertar(60);arbol1.insertar(70);arbol1.insertar(55)\n",
        "\n",
        "arbol1.buscar(41)\n"
      ],
      "metadata": {
        "colab": {
          "base_uri": "https://localhost:8080/"
        },
        "id": "T8M0AoSCWU8P",
        "outputId": "1be9f1f6-3ec8-4d91-a086-f7733beb9736"
      },
      "execution_count": null,
      "outputs": [
        {
          "output_type": "execute_result",
          "data": {
            "text/plain": [
              "False"
            ]
          },
          "metadata": {},
          "execution_count": 7
        }
      ]
    },
    {
      "cell_type": "code",
      "source": [
        "class ABB(ABB):\n",
        "  def profundidad(self)->int:\n",
        "    profTotal = 0\n",
        "    if not self.estaVacio():\n",
        "      profTotal = self.__raiz.alturaNodo()\n",
        "    return profTotal\n",
        "\n",
        "  class __NodoArbol(ABB.__NodoArbol):\n",
        "    def alturaNodo(self)->int:\n",
        "      alturaIzq = 0\n",
        "      alturaDer = 0\n",
        "      alturaSelf = 0\n",
        "      if not self.esHoja():\n",
        "        if self.tieneIzquierdo():\n",
        "          alturaIzq = self.izquierdo.alturaNodo()\n",
        "        if self.tieneDerecho():\n",
        "          alturaDer = self.derecho.alturaNodo()\n",
        "        alturaSelf = 1 + max(alturaIzq, alturaDer)\n",
        "      return alturaSelf\n",
        "\n",
        "arbol1 = ABB()\n",
        "arbol1.insertar(50)\n",
        "arbol1.insertar(40);arbol1.insertar(30);arbol1.insertar(45)\n",
        "arbol1.insertar(60);arbol1.insertar(70);arbol1.insertar(55)\n",
        "arbol1.insertar(47)\n",
        "\n",
        "arbol1.treePlot()\n",
        "arbol1.profundidad()"
      ],
      "metadata": {
        "colab": {
          "base_uri": "https://localhost:8080/"
        },
        "id": "67CKsICWlCID",
        "outputId": "b737fd69-be9b-4952-ee71-2cfef9ecaa9c"
      },
      "execution_count": null,
      "outputs": [
        {
          "output_type": "execute_result",
          "data": {
            "text/plain": [
              "3"
            ]
          },
          "metadata": {},
          "execution_count": 8
        }
      ]
    },
    {
      "cell_type": "code",
      "source": [
        "class ABB(ABB):\n",
        "  def nivelDato(self, datoBusc)->int:\n",
        "    nivelDatoBusc = None\n",
        "    if not self.estaVacio():\n",
        "      nivelDatoBusc = self.__raiz.nivelDatoNodo(datoBusc)\n",
        "    return nivelDatoBusc\n",
        "\n",
        "  class __NodoArbol(ABB.__NodoArbol):\n",
        "    def nivelDatoNodo(self, datoBusc, nivelActual = 0)->int:\n",
        "      nivelDatoBusc = None\n",
        "      if self.dato == datoBusc:\n",
        "        nivelDatoBusc = nivelActual\n",
        "      elif self.dato > datoBusc:\n",
        "        if self.tieneIzquierdo():\n",
        "          nivelDatoBusc = self.izquierdo.nivelDatoNodo(datoBusc, nivelActual+1)\n",
        "      else: #datoBusc > self.dato\n",
        "        if self.tieneDerecho():\n",
        "          nivelDatoBusc = self.derecho.nivelDatoNodo(datoBusc, nivelActual+1)\n",
        "      return nivelDatoBusc\n",
        "\n",
        "arbol1 = ABB()\n",
        "arbol1.insertar(50)\n",
        "arbol1.insertar(40);arbol1.insertar(30);arbol1.insertar(45)\n",
        "arbol1.insertar(60);arbol1.insertar(70);arbol1.insertar(55)\n",
        "arbol1.insertar(47)\n",
        "\n",
        "print(arbol1.nivelDato(47))"
      ],
      "metadata": {
        "colab": {
          "base_uri": "https://localhost:8080/"
        },
        "id": "8HJd8LQspV3h",
        "outputId": "88e4759a-fb37-4907-e099-65067619a3df"
      },
      "execution_count": null,
      "outputs": [
        {
          "output_type": "stream",
          "name": "stdout",
          "text": [
            "3\n"
          ]
        }
      ]
    },
    {
      "cell_type": "code",
      "source": [
        "class ABB(ABB):\n",
        "  def maximo(self)->int: #Retorna el valor del maximo o None si self esta vacio\n",
        "    datoMaximo = None\n",
        "    if not self.estaVacio():\n",
        "      datoMaximo = self.__raiz.maximoNodo().dato\n",
        "    return datoMaximo\n",
        "  def minimo(self)->int: #Retorna el valor del minimo o None si self esta vacio\n",
        "    datoMinimo = None\n",
        "    if not self.estaVacio():\n",
        "      datoMinimo = self.__raiz.minimoNodo().dato\n",
        "    return datoMinimo\n",
        "\n",
        "  class __NodoArbol(ABB.__NodoArbol):\n",
        "    def maximoNodo(self):#->ABB.__NodoArbol que contiene el valor maximo del\n",
        "                                            #subarbol del cual self es la raiz\n",
        "      nodoMaximo = self\n",
        "      if self.tieneDerecho():\n",
        "        nodoMaximo = self.derecho.maximoNodo()\n",
        "      return nodoMaximo\n",
        "\n",
        "    def minimoNodo(self):#->ABB.__NodoArbol que contiene el valor minimo del\n",
        "                                            #subarbol del cual self es la raiz\n",
        "      nodoMinimo = self\n",
        "      if self.tieneIzquierdo():\n",
        "        nodoMinimo = self.izquierdo.minimoNodo()\n",
        "      return nodoMinimo\n",
        "\n",
        "    def predecesor(self):#->ABB.__NodoArbol que contiene el valor maximo del subarbol izquierdo\n",
        "      nodoPredecesor = None\n",
        "      if self.tieneIzquierdo():\n",
        "        nodoPredecesor = self.izquierdo.maximoNodo()\n",
        "      return nodoPredecesor\n",
        "\n",
        "    def sucesor(self):#->ABB.__NodoArbol que contiene el valor minimo del subarbol derecho\n",
        "      nodoSucesor = None\n",
        "      if self.tieneDerecho():\n",
        "        nodoSucesor = self.derecho.minimoNodo()\n",
        "      return nodoSucesor\n"
      ],
      "metadata": {
        "id": "JByQ1ETlHe6C"
      },
      "execution_count": null,
      "outputs": []
    },
    {
      "cell_type": "code",
      "source": [
        "arbol1 = ABB()\n",
        "for n in [63,28,87,16,54,79,96,8,18,50,58,80,6,11,27,29,20,38]:\n",
        "  arbol1.insertar(n)\n",
        "arbol1.treePlot()"
      ],
      "metadata": {
        "id": "14idEnPRMk7G"
      },
      "execution_count": null,
      "outputs": []
    },
    {
      "cell_type": "code",
      "source": [
        "print(arbol1.maximo())"
      ],
      "metadata": {
        "colab": {
          "base_uri": "https://localhost:8080/"
        },
        "id": "krmPKQsDNCHg",
        "outputId": "7ef77b80-db2f-4531-e0cc-fd543e86ff82"
      },
      "execution_count": null,
      "outputs": [
        {
          "output_type": "stream",
          "name": "stdout",
          "text": [
            "96\n"
          ]
        }
      ]
    },
    {
      "cell_type": "code",
      "source": [
        "class ABB(ABB):\n",
        "  def eliminar(self, datoDel:int)->None:\n",
        "    if not self.estaVacio():\n",
        "      if self.__raiz.dato == datoDel:\n",
        "        nodoReemplazo = self.__raiz.predecesor()\n",
        "        if nodoReemplazo==None: nodoReemplazo = self.__raiz.sucesor()\n",
        "        if nodoReemplazo != None:\n",
        "          self.__raiz.eliminarNodo(nodoReemplazo.dato)\n",
        "          nodoReemplazo.izquierdo = self.__raiz.izquierdo\n",
        "          nodoReemplazo.derecho = self.__raiz.derecho\n",
        "        self.__raiz = nodoReemplazo\n",
        "      else:\n",
        "        self.__raiz.eliminarNodo(datoDel)\n",
        "\n",
        "  class __NodoArbol(ABB.__NodoArbol):\n",
        "    def buscarProgenitor(self, datoBusc:int):#->tuple[ABB.__NodoArbol, ABB.__NodoArbol, str]\n",
        "                                                #[progenitor, hije, \"izq\"/\"der\"]\n",
        "      nodoProgenitor = nodoHije = lado = None\n",
        "      if datoBusc < self.dato:\n",
        "        if self.tieneIzquierdo():\n",
        "          if self.izquierdo.dato == datoBusc:\n",
        "            nodoProgenitor = self\n",
        "            nodoHije = self.izquierdo\n",
        "            lado = \"izq\"\n",
        "          else:\n",
        "            nodoProgenitor, nodoHije, lado = self.izquierdo.buscarProgenitor(datoBusc)\n",
        "      elif datoBusc > self.dato:\n",
        "        if self.tieneDerecho():\n",
        "          if self.derecho.dato == datoBusc:\n",
        "            nodoProgenitor = self\n",
        "            nodoHije = self.derecho\n",
        "            lado = \"der\"\n",
        "          else:\n",
        "            nodoProgenitor, nodoHije, lado = self.derecho.buscarProgenitor(datoBusc)\n",
        "      return nodoProgenitor, nodoHije, lado\n",
        "\n",
        "    def eliminarNodo(self, datoDel:int)->None:\n",
        "      nodoReemplazo = None\n",
        "      nodoProgenitor, nodoAEliminar, lado = self.buscarProgenitor(datoDel)\n",
        "      if nodoProgenitor != None:\n",
        "        nodoReemplazo = nodoAEliminar.predecesor()\n",
        "        if nodoReemplazo == None: nodoReemplazo = nodoAEliminar.sucesor()\n",
        "        if nodoReemplazo != None:\n",
        "          self.eliminarNodo(nodoReemplazo.dato)\n",
        "          nodoReemplazo.izquierdo = nodoAEliminar.izquierdo\n",
        "          nodoReemplazo.derecho = nodoAEliminar.derecho\n",
        "        if lado == \"izq\":\n",
        "          nodoProgenitor.izquierdo = nodoReemplazo\n",
        "        elif lado == \"der\":\n",
        "          nodoProgenitor.derecho = nodoReemplazo"
      ],
      "metadata": {
        "id": "faDfXh27QMA1"
      },
      "execution_count": null,
      "outputs": []
    },
    {
      "cell_type": "code",
      "source": [
        "arbol1 = ABB()\n",
        "for n in [63,28,87,16,54,79,96,8,18,50,58,80,6,11,27,29,56,20,38]:\n",
        "  arbol1.insertar(n)\n",
        "arbol1.treePlot('antes')\n",
        "arbol1.eliminar(87)\n",
        "arbol1.treePlot('despues')"
      ],
      "metadata": {
        "id": "ufqc2vogbncM"
      },
      "execution_count": null,
      "outputs": []
    },
    {
      "cell_type": "markdown",
      "metadata": {
        "id": "ZCanLcfoJ9_q"
      },
      "source": [
        "### **Ejercicio 2**\n",
        "\n",
        "Escribir una operación del TDA ABB que calcule la cantidad de hojas de un árbol."
      ]
    },
    {
      "cell_type": "code",
      "metadata": {
        "id": "b7fX-u09J-Wo",
        "collapsed": true
      },
      "source": [],
      "execution_count": null,
      "outputs": []
    },
    {
      "cell_type": "markdown",
      "metadata": {
        "id": "2pUdWEUPKNB6"
      },
      "source": [
        "### **Ejercicio 3**\n",
        "\n",
        "Escribir una operación del TDA ABB que muestre los elementos que estan en el nivel N de un ABB, el nivel se recibe por parámetro."
      ]
    },
    {
      "cell_type": "code",
      "metadata": {
        "id": "_LXCfbskKOlv"
      },
      "source": [],
      "execution_count": null,
      "outputs": []
    },
    {
      "cell_type": "markdown",
      "metadata": {
        "id": "u7elWMBPLrV8"
      },
      "source": [
        "### **Ejercicio 4**\n",
        "\n",
        "Se define por frontera de un árbol, la secuencia formada por los elementos almacenados en las hojas de un árbol, tomados de izquierda a derecha. Escribir una operación del TDA ABB, que imprima por pantalla la frontera del árbol."
      ]
    },
    {
      "cell_type": "code",
      "metadata": {
        "id": "FqtG8OIELyP_"
      },
      "source": [],
      "execution_count": null,
      "outputs": []
    },
    {
      "cell_type": "markdown",
      "metadata": {
        "id": "lAqDC6LPL4dS"
      },
      "source": [
        "### **Ejercicio 5**\n",
        "\n",
        "Escribir una operación del TDA ABB que retorne una lista ordenada (de menor a mayor) con todos los números pares que forman parte del árbol."
      ]
    },
    {
      "cell_type": "code",
      "metadata": {
        "id": "zGHv2S_4NQsS"
      },
      "source": [],
      "execution_count": null,
      "outputs": []
    },
    {
      "cell_type": "markdown",
      "metadata": {
        "id": "MH98-7dgNRNe"
      },
      "source": [
        "### **Ejercicio 6**\n",
        "\n",
        "Escribir una operación del TDA ABB, que rote el árbol completo, es decir, los elementos del subárbol izquierdo deben ser mayores a la raíz y los del subárbol derecho menores (para todos los nodos del arbol). No se debe retornar un nuevo arbol, sino modificar el arbol desde el que se llama a la operación."
      ]
    },
    {
      "cell_type": "code",
      "metadata": {
        "id": "xyn9fGwXNRlW"
      },
      "source": [
        "#Intercambio los subarboles hijos (moviendo las referencias izquierdo y derecho)\n",
        "#Rotar el subarbol derecho\n",
        "#Rotar el subarbol izquierdo\n"
      ],
      "execution_count": null,
      "outputs": []
    },
    {
      "cell_type": "markdown",
      "source": [
        "### **Ejercicio 7**\n",
        "\n",
        "Escribir una operación del TDA ABB llamada **cantidadNodosEnNivel** que retorna la cantidad de nodos del arbol en un nivel determinado"
      ],
      "metadata": {
        "id": "DA9MfYHSrPEM"
      }
    },
    {
      "cell_type": "code",
      "source": [],
      "metadata": {
        "id": "JAJAgEIYrjsa"
      },
      "execution_count": null,
      "outputs": []
    }
  ]
}