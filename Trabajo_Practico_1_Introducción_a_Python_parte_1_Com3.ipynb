{
  "cells": [
    {
      "cell_type": "markdown",
      "metadata": {
        "id": "view-in-github",
        "colab_type": "text"
      },
      "source": [
        "<a href=\"https://colab.research.google.com/github/RaTon84/Estructura-de-datos/blob/master/Copia_de_Trabajo_Practico_1_Introducci%C3%B3n_a_Python_parte_1_Com3.ipynb\" target=\"_parent\"><img src=\"https://colab.research.google.com/assets/colab-badge.svg\" alt=\"Open In Colab\"/></a>"
      ]
    },
    {
      "cell_type": "markdown",
      "metadata": {
        "id": "42630xxYD0gZ"
      },
      "source": [
        "# ![alt text](https://upload.wikimedia.org/wikipedia/commons/thumb/c/c3/Python-logo-notext.svg/50px-Python-logo-notext.svg.png) **Trabajo Práctico 1: Introducción a Python Parte 1** ![alt text](https://upload.wikimedia.org/wikipedia/commons/thumb/c/c3/Python-logo-notext.svg/50px-Python-logo-notext.svg.png)\n",
        "\n",
        "En estos ejercicios vamos a trabajar cosas que nos permitan empezar a programar esquinausando Python.\n",
        "\n",
        "La idea es que ustedes vayan resolviendo los ejercicios sin la necesidad de instalarse nada en sus computadoras.\n",
        "Antes que nada, creen una copia de este archivo en su ***Google Drive*** para tener permisos de edición, luego pueden compartirlo con quien quieran, tengan cuidado con los permisos al momento de compartir!!!!!!!. Si quieren, nos pueden compartir su documento para que ayudemos con las dudas.\n",
        "\n",
        "### **florencia.dias@unahur.edu.ar** ###\n",
        "\n",
        "En los bloques de código como el que les aparece aca abajo, se puede programar en Python, al pararse dentro del bloque, aparecerá un ícono de \"*play*\" en la esquina superior izquierda, \"*clickeando*\" en este ícono, se ejecuta el código escrito y se muestra la salida debajo, probemos:"
      ]
    },
    {
      "cell_type": "code",
      "execution_count": null,
      "metadata": {
        "colab": {
          "base_uri": "https://localhost:8080/"
        },
        "id": "IH0qfE_oTzyR",
        "outputId": "96f8eb39-4ff9-4f16-b545-53c46f7b98d0"
      },
      "outputs": [
        {
          "output_type": "stream",
          "name": "stdout",
          "text": [
            "<class 'bool'>\n",
            "True\n",
            "<class 'int'>\n",
            "5\n"
          ]
        }
      ],
      "source": [
        "varNumerica = True\n",
        "print(type(varNumerica))\n",
        "print(varNumerica)\n",
        "\n",
        "varNumerica = 5\n",
        "print(type(varNumerica))\n",
        "print(varNumerica)\n",
        "print(\"hola\")\n"
      ]
    },
    {
      "cell_type": "markdown",
      "metadata": {
        "id": "YiSL7GMcLOO9"
      },
      "source": [
        "Una cosa a tener en cuenta es que todos los bloques de código estan conectados  entre sí, es por eso que si vemos en el bloque de código de abajo, podemos usar la variable \"varNumerica\" declarada en el bloque anterior, veamos un ejemplo:"
      ]
    },
    {
      "cell_type": "code",
      "execution_count": null,
      "metadata": {
        "id": "XTQPIJfZAH8h",
        "colab": {
          "base_uri": "https://localhost:8080/"
        },
        "outputId": "b030dc96-fc22-4d2c-d88c-6942279f657b"
      },
      "outputs": [
        {
          "output_type": "stream",
          "name": "stdout",
          "text": [
            "5\n"
          ]
        }
      ],
      "source": [
        "print(varNumerica)"
      ]
    },
    {
      "cell_type": "markdown",
      "metadata": {
        "id": "SWxNqIroNiiS"
      },
      "source": [
        "Ahora si, luego de las aclaraciones del caso y sabiendo como escribir y ejecutar código en los bloques de este archivo, empezamos con la guía."
      ]
    },
    {
      "cell_type": "markdown",
      "metadata": {
        "id": "JspwDwHavN5s"
      },
      "source": [
        "#**Primera parte: Declaración de variables y operaciones básicas**"
      ]
    },
    {
      "cell_type": "markdown",
      "metadata": {
        "id": "nbWbQ1jTO3AP"
      },
      "source": [
        "### **Ejercicio 1**\n",
        "\n",
        "Primer programa en Python. Escribir un programa que imprima por pantalla \"Hola mundo\"."
      ]
    },
    {
      "cell_type": "code",
      "execution_count": null,
      "metadata": {
        "id": "joL3PhcCL-6Z",
        "colab": {
          "base_uri": "https://localhost:8080/"
        },
        "outputId": "32a4c1ae-edf5-443e-aa5e-e503e2e06722"
      },
      "outputs": [
        {
          "output_type": "stream",
          "name": "stdout",
          "text": [
            "Hola Mundo\n"
          ]
        }
      ],
      "source": [
        "print(\"Hola Mundo\")"
      ]
    },
    {
      "cell_type": "markdown",
      "metadata": {
        "id": "dNJ7NrxMMTXf"
      },
      "source": [
        "### **Ejercicio 2**\n",
        "\n",
        "Escribir un programa que cargue en una variable la cadena de caracteres “Hola mundo” y luego la imprima por pantalla."
      ]
    },
    {
      "cell_type": "code",
      "execution_count": null,
      "metadata": {
        "id": "Y4N45RZKMb3J",
        "colab": {
          "base_uri": "https://localhost:8080/"
        },
        "outputId": "1cce68b1-cafe-4c01-fba6-6abba4100dd3"
      },
      "outputs": [
        {
          "output_type": "stream",
          "name": "stdout",
          "text": [
            "Hola mundo\n"
          ]
        }
      ],
      "source": [
        "var1 = \"Hola mundo\"\n",
        "print(var1)"
      ]
    },
    {
      "cell_type": "markdown",
      "metadata": {
        "id": "G3Dwrq7lNVdx"
      },
      "source": [
        "### **Ejercicio 3**\n",
        "\n",
        "Escribir un programa que cree dos variables enteras, le asigne números arbitrarios (cualquiera) y muestre por pantalla: la suma, la resta, la multiplicación, la división entera y el resto de la división entera."
      ]
    },
    {
      "cell_type": "code",
      "execution_count": null,
      "metadata": {
        "id": "tXIUdY6VN48C",
        "colab": {
          "base_uri": "https://localhost:8080/"
        },
        "outputId": "386fb789-08c0-4d39-e011-d45fb0920376"
      },
      "outputs": [
        {
          "output_type": "stream",
          "name": "stdout",
          "text": [
            "10\n",
            "6\n",
            "16\n",
            "4.0\n",
            "0\n"
          ]
        }
      ],
      "source": [
        "num1 = 8\n",
        "num2 = 2\n",
        "print(num1+num2)\n",
        "print(num1-num2)\n",
        "print(num1*num2)\n",
        "print(num1/num2)\n",
        "print(num1%num2)"
      ]
    },
    {
      "cell_type": "markdown",
      "metadata": {
        "id": "55LHODvxOHbW"
      },
      "source": [
        "### **Ejercicio 4**\n",
        "\n",
        "Implementar algoritmos que permitan:\n",
        "\n",
        "\n",
        "*   Calcular el perímetro y el área de un rectángulo, dada su base y su altura\n",
        "*   Calcular el perímetro y el área de un círculo dado su radio.\n",
        "\n",
        "Declarar las variables necesarias y asignarle números arbitrarios"
      ]
    },
    {
      "cell_type": "code",
      "execution_count": null,
      "metadata": {
        "id": "SvRdQvtQOGgo",
        "colab": {
          "base_uri": "https://localhost:8080/"
        },
        "outputId": "eecdb98c-242f-4af7-e502-0aee1077fbf7"
      },
      "outputs": [
        {
          "output_type": "stream",
          "name": "stdout",
          "text": [
            "El perimetro es = 26\n",
            "El area es = 40\n",
            "El perimetro es = 62.800000000000004\n",
            "El area es = 314.0\n"
          ]
        }
      ],
      "source": [
        "#P(R) = 2*b + 2*h\n",
        "#A(R) = b*h\n",
        "#P(C) = 2*3.14*r\n",
        "#A(C) = 3.14*r*r\n",
        "#Operador potencia: 5**2\n",
        "\n",
        "base = 5\n",
        "altura = 8\n",
        "print(\"El perimetro es =\",2*base+2*altura)\n",
        "print(\"El area es =\", base*altura)\n",
        "radio = 10\n",
        "pi = 3.14\n",
        "print(\"El perimetro es =\",2*pi*radio)\n",
        "print(\"El area es =\",pi*radio**2)\n"
      ]
    },
    {
      "cell_type": "markdown",
      "metadata": {
        "id": "j34Vr_TaN5v7"
      },
      "source": [
        "### **Ejercicio 5**\n",
        "\n",
        "Escribir un programa que pida una temperatura en grados Celsius al usuario, realice la transformación de grados Celsius a Fahrenheit e imprima el resultado por pantalla."
      ]
    },
    {
      "cell_type": "code",
      "execution_count": null,
      "metadata": {
        "id": "2NMYcPsFPVoY",
        "colab": {
          "base_uri": "https://localhost:8080/"
        },
        "outputId": "2eabbb36-6cd3-4f11-be66-df874141b06f"
      },
      "outputs": [
        {
          "output_type": "stream",
          "name": "stdout",
          "text": [
            "Ingrese los grados celsius33\n",
            "En Fahrenheit es = 91.4\n"
          ]
        }
      ],
      "source": [
        "#T(C) = 1.8*C + 32\n",
        "celsius = float(input(\"Ingrese los grados celsius \"))\n",
        "print(\"En Fahrenheit es =\",1.8*celsius+32)"
      ]
    },
    {
      "cell_type": "markdown",
      "metadata": {
        "id": "V4TXH8iygA5S"
      },
      "source": [
        "### **Ejercicio 6**\n",
        "\n",
        "Escribir un programa que pregunte por el número de horas trabajadas y el costo por hora. Después debe mostrar por pantalla el sueldo que corresponde."
      ]
    },
    {
      "cell_type": "code",
      "execution_count": null,
      "metadata": {
        "id": "q5h196hQgBUy",
        "colab": {
          "base_uri": "https://localhost:8080/"
        },
        "outputId": "57fdbbf6-6796-4f03-ee2a-9a67062a7d0a"
      },
      "outputs": [
        {
          "output_type": "stream",
          "name": "stdout",
          "text": [
            "Ingrese horas trabajadas10\n",
            "Ingrese el costo por hora10\n",
            "El sueldo es = 100\n"
          ]
        }
      ],
      "source": [
        "horasTrabajadas = int(input(\"Ingrese horas trabajadas \"))\n",
        "costoPorHora = int(input(\"Ingrese el costo por hora \"))\n",
        "print(\"El sueldo es =\",horasTrabajadas * costoPorHora)"
      ]
    },
    {
      "cell_type": "markdown",
      "metadata": {
        "id": "hiC2Y35TgWN1"
      },
      "source": [
        "### **Ejercicio 7**\n",
        "\n",
        "Escribir un programa que pida un peso (en kg) y una estatura (en metros), calcule el índice de masa corporal y lo almacene en una variable. Luego debe muestrar por pantalla la frase: \"El índice de masa corporal es: \\<imc>\". Donde \\<imc> es el índice de masa corporal calculado."
      ]
    },
    {
      "cell_type": "code",
      "execution_count": null,
      "metadata": {
        "id": "q2Krl_PWgV3v",
        "colab": {
          "base_uri": "https://localhost:8080/"
        },
        "outputId": "d04099b9-c70e-40da-ceda-f7b983c1a556"
      },
      "outputs": [
        {
          "output_type": "stream",
          "name": "stdout",
          "text": [
            "ingrese el peso en kg ej:(88.4) 88\n",
            "Ingrese la estatura en mt ej:(1.75) 1.8\n",
            "El índice de masa corporal es:  27.160493827160494\n"
          ]
        }
      ],
      "source": [
        "#IMC(P,H) = P / (H*H)\n",
        "peso = float(input(\"ingrese el peso en kg ej:(88.4) \"))\n",
        "estatura = float(input(\"Ingrese la estatura en mt ej:(1.75) \"))\n",
        "print(\"El índice de masa corporal es: \",peso/(estatura*estatura))"
      ]
    },
    {
      "cell_type": "markdown",
      "metadata": {
        "id": "qeZrEYeuhP0Z"
      },
      "source": [
        "### **Ejercicio 8**\n",
        "\n",
        "Escribir un programa que pregunte una cantidad a invertir, el interés anual y el número de años, y muestre por pantalla el capital obtenido en la inversión."
      ]
    },
    {
      "cell_type": "code",
      "execution_count": null,
      "metadata": {
        "id": "xB0aHFqRhQRb",
        "colab": {
          "base_uri": "https://localhost:8080/"
        },
        "outputId": "04c2a0b0-3228-4703-fdf8-745c23e6b946"
      },
      "outputs": [
        {
          "output_type": "stream",
          "name": "stdout",
          "text": [
            "Ingrese la cantidad a invertir 10\n",
            "ingrese el interes anual 2\n",
            "Ingres el numero de años 2\n",
            "El capital obtenido en la inversion es: 20.4\n"
          ]
        }
      ],
      "source": [
        "#(1+IA/100)* C *Años\n",
        "cantidadAInvertir = float(input(\"Ingrese la cantidad a invertir \"))\n",
        "interesAnual = float(input(\"ingrese el interes anual \"))\n",
        "años = float(input(\"Ingrese el numero de años \"))\n",
        "print(\"El capital obtenido en la inversion es:\",(1+interesAnual/100)*cantidadAInvertir*años)"
      ]
    },
    {
      "cell_type": "markdown",
      "metadata": {
        "id": "_K12p-SIor7W"
      },
      "source": [
        "### **Ejercicio 9**\n",
        "\n",
        "Escribir un programa que pregunte un nombre completo en la consola y después muestre por pantalla ese nombre tres veces, una con todas las letras minúsculas, otra con todas las letras mayúsculas y otra solo con la primera letra del nombre y de los apellidos en mayúscula. Se puede introducir un nombre combinando mayúsculas y minúsculas como se quiera."
      ]
    },
    {
      "cell_type": "code",
      "execution_count": null,
      "metadata": {
        "id": "Ey98WZ5ZosRl",
        "colab": {
          "base_uri": "https://localhost:8080/"
        },
        "outputId": "f53073ef-a763-4bfc-f3bc-f6335514b4e3"
      },
      "outputs": [
        {
          "output_type": "stream",
          "name": "stdout",
          "text": [
            "Escriba un nombre completo wddw wwdw\n",
            "wddw wwdw WDDW WWDW Wddw Wwdw\n"
          ]
        }
      ],
      "source": [
        "#upper\n",
        "#lower\n",
        "#capitalize\n",
        "#title\n",
        "nombre = input(\"Escriba un nombre completo \")\n",
        "print(nombre.lower(),nombre.upper(),nombre.capitalize().title())"
      ]
    },
    {
      "cell_type": "markdown",
      "metadata": {
        "id": "68VGBXIJmixr"
      },
      "source": [
        "### **Ejercicio 10**\n",
        "\n",
        "Escribir un programa que pregunte un nombre en la consola y después muestre por pantalla: \"El \\<NOMBRE> tiene \\<N> letras\", donde \\<NOMBRE> es el nombre ingresado todo en mayúsculas y \\<N> es el número de letras que tienen el nombre."
      ]
    },
    {
      "cell_type": "code",
      "execution_count": null,
      "metadata": {
        "id": "6kSdf8xkmjI3",
        "colab": {
          "base_uri": "https://localhost:8080/"
        },
        "outputId": "a3219a59-842b-4af7-9da8-285ac48bc632"
      },
      "outputs": [
        {
          "output_type": "stream",
          "name": "stdout",
          "text": [
            "Ingrese un nombre: HERNAN\n",
            "6\n"
          ]
        }
      ],
      "source": [
        "nombre = input(\"Ingrese un nombre: \").upper()\n",
        "print(len(nombre))"
      ]
    },
    {
      "cell_type": "markdown",
      "metadata": {
        "id": "tg91sLnqsz3G"
      },
      "source": [
        "### **Ejercicio 11**\n",
        "\n",
        "Escribir un programa que pida una palabra, reemplace todas las letras \"a\" por \"z\" y muestre el resultado por pantalla."
      ]
    },
    {
      "cell_type": "code",
      "execution_count": null,
      "metadata": {
        "id": "hPpWslcQs0Oa",
        "colab": {
          "base_uri": "https://localhost:8080/"
        },
        "outputId": "636be1c6-6075-4ee5-d8c8-66ab87a736ea"
      },
      "outputs": [
        {
          "output_type": "stream",
          "name": "stdout",
          "text": [
            "Ingrese una palabra: AcdcacscsaaA\n",
            "zcdczcscszzz\n"
          ]
        }
      ],
      "source": [
        "#lower\n",
        "#upper\n",
        "#title\n",
        "#capitalize\n",
        "#startswith\n",
        "#replace\n",
        "#len(string)\n",
        "\n",
        "#nombre.replace()\n",
        "palabra = input(\"Ingrese una palabra: \")\n",
        "print(palabra.replace(\"a\",\"z\").replace(\"A\",\"Z\"))"
      ]
    },
    {
      "cell_type": "markdown",
      "metadata": {
        "id": "1qwz086stewZ"
      },
      "source": [
        "### **Ejercicio 12**\n",
        "\n",
        "Escribir un programa que pida dos palabras y muestre por pantalla la concatenacion de ambas.  "
      ]
    },
    {
      "cell_type": "code",
      "execution_count": null,
      "metadata": {
        "id": "blEaekW5Pfo7",
        "colab": {
          "base_uri": "https://localhost:8080/"
        },
        "outputId": "d1cb3536-c33a-4479-db96-ce286e3b5667"
      },
      "outputs": [
        {
          "output_type": "stream",
          "name": "stdout",
          "text": [
            "Ingrese una palabra: qdq\n",
            "Ingrese otra palabra: efe\n",
            "qdqefe\n"
          ]
        }
      ],
      "source": [
        "palabra1 = input(\"Ingrese una palabra: \")\n",
        "palabra2 = input(\"Ingrese otra palabra: \")\n",
        "print(palabra1+palabra2)"
      ]
    },
    {
      "cell_type": "markdown",
      "metadata": {
        "id": "yuLrj7QTtnIl"
      },
      "source": [
        "### **Ejercicio 13**\n",
        "\n",
        "Escribir un programa que pida una palabra y un número N y muestre por pantalla la palabra ingresada repetida N veces."
      ]
    },
    {
      "cell_type": "code",
      "execution_count": null,
      "metadata": {
        "id": "faif7mZYteUh",
        "colab": {
          "base_uri": "https://localhost:8080/"
        },
        "outputId": "df8091c0-2728-4b4d-c3ac-4da080d55fb4"
      },
      "outputs": [
        {
          "output_type": "stream",
          "name": "stdout",
          "text": [
            "Ingrese una palabra: dwqdqw\n",
            "Ingrese un numero: 3\n",
            "dwqdqw\n",
            "dwqdqw\n",
            "dwqdqw\n"
          ]
        }
      ],
      "source": [
        "palabra = input(\"Ingrese una palabra: \")\n",
        "numero = int(input(\"Ingrese un numero: \"))\n",
        "for i in range(numero):\n",
        "  print(palabra)\n"
      ]
    },
    {
      "cell_type": "markdown",
      "metadata": {
        "id": "L9d6sOSpuxCT"
      },
      "source": [
        "#**Segunda parte: Estructuras de control**"
      ]
    },
    {
      "cell_type": "code",
      "execution_count": null,
      "metadata": {
        "id": "_hdb9uKIOfdF"
      },
      "outputs": [],
      "source": []
    },
    {
      "cell_type": "markdown",
      "metadata": {
        "id": "xp3VZsqMv7d3"
      },
      "source": [
        "### **Ejercicio 14**\n",
        "\n",
        "Escribir un programa que pregunte una edad y muestre por pantalla si es mayor de edad o no."
      ]
    },
    {
      "cell_type": "code",
      "execution_count": null,
      "metadata": {
        "id": "F3lyWaa-v7yv",
        "colab": {
          "base_uri": "https://localhost:8080/"
        },
        "outputId": "d81188af-d1e9-4e4e-b26c-246f044d4c49"
      },
      "outputs": [
        {
          "output_type": "stream",
          "name": "stdout",
          "text": [
            "Ingrese edad: 10\n",
            "Es menor de edad\n"
          ]
        }
      ],
      "source": [
        "edad = int(input(\"Ingrese edad: \"))\n",
        "if edad >= 18:\n",
        "  print(\"Es mayor de edad\")\n",
        "else: print(\"Es menor de edad\")"
      ]
    },
    {
      "cell_type": "markdown",
      "metadata": {
        "id": "QNlHtEHdwKBp"
      },
      "source": [
        "### **Ejercicio 15**\n",
        "\n",
        "Escribir un programa que almacene la cadena de caracteres \"contraseña\" en una variable y luego pregunte por la contraseña e imprima por pantalla si la contraseña introducida en la consola coincide con la guardada en la variable sin tener en cuenta mayúsculas y minúsculas."
      ]
    },
    {
      "cell_type": "code",
      "execution_count": null,
      "metadata": {
        "id": "6-AbFKCjwKeq",
        "colab": {
          "base_uri": "https://localhost:8080/"
        },
        "outputId": "301bfbd1-69ea-44b5-e31f-46af08d43de9"
      },
      "outputs": [
        {
          "output_type": "stream",
          "name": "stdout",
          "text": [
            "Ingrese la contraseña: dwd\n",
            "Ingreso incorrecto\n"
          ]
        }
      ],
      "source": [
        "contraseña = \"unahur123\"\n",
        "ingreso = input(\"Ingrese la contraseña: \")\n",
        "if contraseña==ingreso.lower():\n",
        "  print(\"Ingreso correcto\")\n",
        "else: print(\"Ingreso incorrecto\")"
      ]
    },
    {
      "cell_type": "markdown",
      "metadata": {
        "id": "ZJ0_6OxYPWZJ"
      },
      "source": [
        "### **Ejercicio 15**\n",
        "\n",
        "Escribir un programa pida dos números enteros e informe por pantalla cual es menor de los dos, si son iguales, indicarlo por separado.\n"
      ]
    },
    {
      "cell_type": "code",
      "execution_count": null,
      "metadata": {
        "id": "SII_f1Zftfj5",
        "colab": {
          "base_uri": "https://localhost:8080/"
        },
        "outputId": "45daab95-9300-4b42-9f0f-d680cbbc8181"
      },
      "outputs": [
        {
          "output_type": "stream",
          "name": "stdout",
          "text": [
            "Ingrese un numero: 3\n",
            "Ingrese otro numero: 3\n",
            "Los numeros son iguales\n"
          ]
        }
      ],
      "source": [
        "numero1 = int(input(\"Ingrese un numero: \"))\n",
        "numero2 = int(input(\"Ingrese otro numero: \"))\n",
        "if numero1<numero2:\n",
        "  print(\"El numero\",numero1,\"es el menor\")\n",
        "elif numero1>numero2:\n",
        "  print(\"El numero\",numero2,\"es el menor\")\n",
        "else:\n",
        "  print(\"Los numeros son iguales\")"
      ]
    },
    {
      "cell_type": "markdown",
      "metadata": {
        "id": "AnZ1kpoQPn3Y"
      },
      "source": [
        "### **Ejercicio 16**\n",
        "\n",
        "Escribir un programa que pida un número entero e indique si dicho número es par o impar."
      ]
    },
    {
      "cell_type": "code",
      "execution_count": null,
      "metadata": {
        "id": "8TFzQHzKPt-v",
        "colab": {
          "base_uri": "https://localhost:8080/"
        },
        "outputId": "3c5372a7-7d98-4590-9608-daa2ea6b6201"
      },
      "outputs": [
        {
          "output_type": "stream",
          "name": "stdout",
          "text": [
            "Ingrese un numero: 3\n",
            "El numero es Impar\n"
          ]
        }
      ],
      "source": [
        "numero = int(input(\"Ingrese un numero: \"))\n",
        "if  numero % 2 == 0:\n",
        "  print(\"el numero es PAR\")\n",
        "else:\n",
        "  print(\"El numero es Impar\")"
      ]
    },
    {
      "cell_type": "markdown",
      "metadata": {
        "id": "Z1-LrF6Swkx_"
      },
      "source": [
        "###**Ejercicio 17**\n",
        "\n",
        "Para pagar un determinado impuesto se debe ser mayor de 18 años y tener unos ingresos iguales o superiores a $100000 mensuales. Escribir un programa que pregunte la edad y los ingresos mensuales y muestre por pantalla si se debe pagar o no."
      ]
    },
    {
      "cell_type": "code",
      "execution_count": null,
      "metadata": {
        "id": "FBMDycRlwlIY",
        "colab": {
          "base_uri": "https://localhost:8080/"
        },
        "outputId": "56910f0a-571c-43f9-8e6a-e863cad06147"
      },
      "outputs": [
        {
          "output_type": "stream",
          "name": "stdout",
          "text": [
            "Ingrese edad: 3\n",
            "Ingrese sus ingresos mensuales: 2\n",
            "Usted NO debe pagar impuestos\n"
          ]
        }
      ],
      "source": [
        "edad = int(input(\"Ingrese edad: \"))\n",
        "ingresos = int(input(\"Ingrese sus ingresos mensuales: \"))\n",
        "if ingresos>=100000 and edad>=18:\n",
        "  print(\"Usted debe pagar impuestos\")\n",
        "else:\n",
        "  print(\"Usted NO debe pagar impuestos\")"
      ]
    },
    {
      "cell_type": "markdown",
      "metadata": {
        "id": "HIjqXTzoPuYU"
      },
      "source": [
        "### **Ejercicio 18**\n",
        "\n",
        "Escribir un programa que pida un número entero del 1 al 7 y muestre por pantalla el día de la semana correspondiente. Controlar que el número se encuentre en el rango correcto, si no es así, informar un error. Por ejemplo, si el número es 2 el día es martes."
      ]
    },
    {
      "cell_type": "code",
      "execution_count": null,
      "metadata": {
        "id": "6SztTz4yPz2k",
        "colab": {
          "base_uri": "https://localhost:8080/"
        },
        "outputId": "d2c2e91d-d858-4f68-dd56-3390f292916c"
      },
      "outputs": [
        {
          "output_type": "stream",
          "name": "stdout",
          "text": [
            "Ingrese un numero del 1 al 7: 33\n",
            "No es un dia de la semana\n"
          ]
        }
      ],
      "source": [
        "#switch = {\n",
        "#    1: print(\"1\"),\n",
        "#    2: print(\"2\"),\n",
        "#    3: print(\"3\")\n",
        "#}\n",
        "numero = int(input(\"Ingrese un numero del 1 al 7: \"))\n",
        "if numero==1:\n",
        "  print(\"Lunes\")\n",
        "elif numero==2:\n",
        "  print(\"Martes\")\n",
        "elif numero==3:\n",
        "  print(\"Miercoles\")\n",
        "elif numero==4:\n",
        "  print(\"Jueves\")\n",
        "elif numero==5:\n",
        "  print(\"Viernes\")\n",
        "elif numero==6:\n",
        "  print(\"Sabado\")\n",
        "elif numero==7:\n",
        "  print(\"Domingo\")\n",
        "else:\n",
        "  print(\"No es un dia de la semana\")"
      ]
    },
    {
      "cell_type": "markdown",
      "metadata": {
        "id": "KY6T0NWfP0Pq"
      },
      "source": [
        "### **Ejercicio 19**\n",
        "\n",
        "Las y los alumnas y alumnos de un curso se han dividido en dos grupos A y B de acuerdo al género y el nombre. El grupo A esta formado por las personas de genero femenino con una inicial de nombre anterior a la M y las personas de genero masculino con un inicial de nombre posterior a la N y el grupo B por el resto. Escribir un programa que pregunte la inicial y el género, y muestre por pantalla el grupo que corresponde."
      ]
    },
    {
      "cell_type": "code",
      "execution_count": null,
      "metadata": {
        "id": "tXqowWynQzPJ",
        "colab": {
          "base_uri": "https://localhost:8080/"
        },
        "outputId": "e3c0566b-463e-4dc9-d15f-50b972f19aee"
      },
      "outputs": [
        {
          "output_type": "stream",
          "name": "stdout",
          "text": [
            "Ingrese su inicial: r\n",
            "Ingrese su genero: femenino\n",
            "El grupo que pertenece es el B\n"
          ]
        }
      ],
      "source": [
        "inicial = (input(\"Ingrese su inicial: \"))\n",
        "genero = (input(\"Ingrese su genero: \"))\n",
        "if (inicial.lower()<\"m\" and genero.lower()==\"femenino\") or (inicial.lower()>\"n\" and genero.lower()==\"masculino\"):\n",
        "  print(\"El grupo que pertenece es el A\")\n",
        "else:\n",
        "  print(\"El grupo que pertenece es el B\")"
      ]
    },
    {
      "cell_type": "markdown",
      "metadata": {
        "id": "YgtCaggoQzwr"
      },
      "source": [
        "### **Ejercicio 20**\n",
        "\n",
        "Escribir un programa para una empresa que tiene salas de juegos para todas las edades y quiere calcular de forma automática el precio que debe cobrar a sus clientes por entrar. El programa debe preguntar la edad del cliente y mostrar el precio de la entrada. Si el cliente es menor de 4 años puede entrar gratis, si tiene entre 4 y 18 años debe pagar \\$5 y si es mayor de 18 años, \\$10."
      ]
    },
    {
      "cell_type": "code",
      "execution_count": null,
      "metadata": {
        "id": "C2k49JqwREeG",
        "colab": {
          "base_uri": "https://localhost:8080/"
        },
        "outputId": "04738d89-46e5-4476-acad-1421f9eeedef"
      },
      "outputs": [
        {
          "output_type": "stream",
          "name": "stdout",
          "text": [
            "Ingrese edad: 22\n",
            "Debe pagar $10\n"
          ]
        }
      ],
      "source": [
        "edad = int(input(\"Ingrese edad: \"))\n",
        "if edad<4:\n",
        "  print(\"Entra gratis\")\n",
        "elif edad>=4 and edad<=18:\n",
        "  print(\"Debe pagar $5\")\n",
        "elif edad>18:\n",
        "  print(\"Debe pagar $10\")"
      ]
    },
    {
      "cell_type": "markdown",
      "metadata": {
        "id": "6h-hloqtswqX"
      },
      "source": [
        "### **Estructuras de control repetitivas**"
      ]
    },
    {
      "cell_type": "code",
      "execution_count": null,
      "metadata": {
        "id": "D7R1eqLtyTb1"
      },
      "outputs": [],
      "source": [
        "#range(inicio, fin, paso)\n",
        "#range(0,N,1) = range(N)\n",
        "#range(2,9,2) -> 2,4,6,8\n",
        "for var2 in range(5): #0,1,2,3,4\n",
        "  print(var2)\n",
        "  print(\"hola\")\n",
        "  print(\"chau\")\n",
        "#afuera del for"
      ]
    },
    {
      "cell_type": "code",
      "source": [
        "varCondicion = 0\n",
        "while varCondicion < 5:\n",
        "  print(\"hola\")\n",
        "  #varCondicion = varCondicion + 1\n",
        "  varCondicion += 1"
      ],
      "metadata": {
        "id": "xbL3yXdsHouz"
      },
      "execution_count": null,
      "outputs": []
    },
    {
      "cell_type": "markdown",
      "metadata": {
        "id": "i_R4RvnqRE0e"
      },
      "source": [
        "### **Ejercicio 21**\n",
        "\n",
        "Mostrar por pantalla todos los números enteros entre 1 y 100, hacerlo usando un bucle while y tambien con un bucle for."
      ]
    },
    {
      "cell_type": "code",
      "execution_count": null,
      "metadata": {
        "id": "8xtW7IzBaE8x",
        "colab": {
          "base_uri": "https://localhost:8080/"
        },
        "outputId": "aa599005-2464-4dba-9e09-7b75d5e750e5"
      },
      "outputs": [
        {
          "output_type": "stream",
          "name": "stdout",
          "text": [
            "1\n",
            "2\n",
            "3\n",
            "4\n",
            "5\n",
            "6\n",
            "7\n",
            "8\n",
            "9\n",
            "10\n",
            "11\n",
            "12\n",
            "13\n",
            "14\n",
            "15\n",
            "16\n",
            "17\n",
            "18\n",
            "19\n",
            "20\n",
            "21\n",
            "22\n",
            "23\n",
            "24\n",
            "25\n",
            "26\n",
            "27\n",
            "28\n",
            "29\n",
            "30\n",
            "31\n",
            "32\n",
            "33\n",
            "34\n",
            "35\n",
            "36\n",
            "37\n",
            "38\n",
            "39\n",
            "40\n",
            "41\n",
            "42\n",
            "43\n",
            "44\n",
            "45\n",
            "46\n",
            "47\n",
            "48\n",
            "49\n",
            "50\n",
            "51\n",
            "52\n",
            "53\n",
            "54\n",
            "55\n",
            "56\n",
            "57\n",
            "58\n",
            "59\n",
            "60\n",
            "61\n",
            "62\n",
            "63\n",
            "64\n",
            "65\n",
            "66\n",
            "67\n",
            "68\n",
            "69\n",
            "70\n",
            "71\n",
            "72\n",
            "73\n",
            "74\n",
            "75\n",
            "76\n",
            "77\n",
            "78\n",
            "79\n",
            "80\n",
            "81\n",
            "82\n",
            "83\n",
            "84\n",
            "85\n",
            "86\n",
            "87\n",
            "88\n",
            "89\n",
            "90\n",
            "91\n",
            "92\n",
            "93\n",
            "94\n",
            "95\n",
            "96\n",
            "97\n",
            "98\n",
            "99\n",
            "100\n",
            "1\n",
            "2\n",
            "3\n",
            "4\n",
            "5\n",
            "6\n",
            "7\n",
            "8\n",
            "9\n",
            "10\n",
            "11\n",
            "12\n",
            "13\n",
            "14\n",
            "15\n",
            "16\n",
            "17\n",
            "18\n",
            "19\n",
            "20\n",
            "21\n",
            "22\n",
            "23\n",
            "24\n",
            "25\n",
            "26\n",
            "27\n",
            "28\n",
            "29\n",
            "30\n",
            "31\n",
            "32\n",
            "33\n",
            "34\n",
            "35\n",
            "36\n",
            "37\n",
            "38\n",
            "39\n",
            "40\n",
            "41\n",
            "42\n",
            "43\n",
            "44\n",
            "45\n",
            "46\n",
            "47\n",
            "48\n",
            "49\n",
            "50\n",
            "51\n",
            "52\n",
            "53\n",
            "54\n",
            "55\n",
            "56\n",
            "57\n",
            "58\n",
            "59\n",
            "60\n",
            "61\n",
            "62\n",
            "63\n",
            "64\n",
            "65\n",
            "66\n",
            "67\n",
            "68\n",
            "69\n",
            "70\n",
            "71\n",
            "72\n",
            "73\n",
            "74\n",
            "75\n",
            "76\n",
            "77\n",
            "78\n",
            "79\n",
            "80\n",
            "81\n",
            "82\n",
            "83\n",
            "84\n",
            "85\n",
            "86\n",
            "87\n",
            "88\n",
            "89\n",
            "90\n",
            "91\n",
            "92\n",
            "93\n",
            "94\n",
            "95\n",
            "96\n",
            "97\n",
            "98\n",
            "99\n",
            "100\n"
          ]
        }
      ],
      "source": [
        "index = 1\n",
        "while index <=100:\n",
        "  print(index)\n",
        "  index+=1\n",
        "\n",
        "print(\"con ciclo for\")\n",
        "for i in range(0,100,1):\n",
        "  print(i+1)"
      ]
    },
    {
      "cell_type": "markdown",
      "metadata": {
        "id": "dsdrdUzNRVlx"
      },
      "source": [
        "### **Ejercicio 22**\n",
        "\n",
        "Escribir un programa que pida dos números enteros e imprima todos los números enteros entre ellos."
      ]
    },
    {
      "cell_type": "code",
      "execution_count": null,
      "metadata": {
        "id": "eiPpA7TmRjG_",
        "colab": {
          "base_uri": "https://localhost:8080/"
        },
        "outputId": "34c321d9-b3c1-4ff0-8453-d7c4cbcafc6b"
      },
      "outputs": [
        {
          "output_type": "stream",
          "name": "stdout",
          "text": [
            "Ingrese un numero: 2\n",
            "Ingrese otro numero: 10\n",
            "3\n",
            "4\n",
            "5\n",
            "6\n",
            "7\n",
            "8\n",
            "9\n"
          ]
        }
      ],
      "source": [
        "numero1 = int(input(\"Ingrese un numero: \"))\n",
        "numero2 = int(input(\"Ingrese otro numero: \"))\n",
        "for i in range(numero1+1,numero2,1):\n",
        "  print(i)\n"
      ]
    },
    {
      "cell_type": "markdown",
      "metadata": {
        "id": "yuxsSussRjfn"
      },
      "source": [
        "### **Ejercicio 23**\n",
        "\n",
        "Escribir un programa que pregunte un nombre en la consola y un número entero e imprima por pantalla en líneas distintas el nombre tantas veces como el número introducido."
      ]
    },
    {
      "cell_type": "code",
      "execution_count": null,
      "metadata": {
        "id": "DGb1-6f_RsWP",
        "colab": {
          "base_uri": "https://localhost:8080/"
        },
        "outputId": "9d1c429f-0d01-43ce-fc28-d7ffac0d4d05"
      },
      "outputs": [
        {
          "output_type": "stream",
          "name": "stdout",
          "text": [
            "Ingrese un nombre: fef\n",
            "Ingrese un numero: 2\n",
            "fef\n",
            "fef\n"
          ]
        }
      ],
      "source": [
        "nombre = input(\"Ingrese un nombre: \")\n",
        "numero = int(input(\"Ingrese un numero: \"))\n",
        "for i in range(0,numero,1):\n",
        "  print(nombre)\n"
      ]
    },
    {
      "cell_type": "markdown",
      "metadata": {
        "id": "dnlPkC9XyCLe"
      },
      "source": [
        "###**Ejercicio 24**\n",
        "\n",
        "Escribir un programa que pida un número entero positivo y muestre por pantalla todos los números impares desde 1 hasta ese número."
      ]
    },
    {
      "cell_type": "code",
      "execution_count": null,
      "metadata": {
        "id": "fcDtiO_LyCiJ",
        "colab": {
          "base_uri": "https://localhost:8080/"
        },
        "outputId": "8db1a5bc-2903-4e33-d0a1-ab1f01af9ee9"
      },
      "outputs": [
        {
          "output_type": "stream",
          "name": "stdout",
          "text": [
            "Ingrese un numero: 9\n",
            "1\n",
            "3\n",
            "5\n",
            "7\n",
            "9\n"
          ]
        }
      ],
      "source": [
        "numero = int(input(\"Ingrese un numero: \"))\n",
        "for i in range(1,numero+1,2):\n",
        "  print(i)"
      ]
    },
    {
      "cell_type": "markdown",
      "metadata": {
        "id": "tsVLTkW8Rs-O"
      },
      "source": [
        "### **Ejercicio 25**\n",
        "\n",
        "Escribir un programa que pida un número entero y muestre por pantalla un triángulo rectángulo como el de más abajo, de altura igual al número introducido.\n",
        "\n",
        "Por ejemplo, si el usuario ingresa el numero 4:\n",
        "\n",
        "\\*\n",
        "\n",
        "\\* *\n",
        "\n",
        "\\* * *\n",
        "\n",
        "\\* * * *"
      ]
    },
    {
      "cell_type": "code",
      "execution_count": null,
      "metadata": {
        "id": "7ANmm0ROR9Tg",
        "colab": {
          "base_uri": "https://localhost:8080/"
        },
        "outputId": "3e79755b-558d-4d67-fa16-ee06735ed38b"
      },
      "outputs": [
        {
          "output_type": "stream",
          "name": "stdout",
          "text": [
            "Ingrese un numero: 3\n",
            "*\n",
            "* *\n",
            "* * *\n"
          ]
        }
      ],
      "source": [
        "}\n",
        "dibujo = \"*\"\n",
        "for i in range(1,numero+1,1):\n",
        "  print(dibujo)\n",
        "  dibujo = dibujo+\" *\"\n"
      ]
    },
    {
      "cell_type": "markdown",
      "metadata": {
        "id": "ZZJCDA32R91Y"
      },
      "source": [
        "### **Ejercicio 26**\n",
        "\n",
        "Escribir un programa que imprima por pantalla todas las fichas del domino, una por línea, sin repetir.\n",
        "\n",
        "0 | 0 - 0 | 1 - 0 | 2 - 0 | 3 - 0 | 4 - 0 | 5 - 0 | 6\n",
        "\n",
        "1 | 1 - 1 | 2 - 1 | 3 - 1 | 4 - 1 | 5 - 1 | 6\n",
        "\n",
        "2 | 2 - 2 | 3 - 2 | 4 - 2 | 5 - 2 | 6\n",
        "\n",
        "3 | 3 - 3 | 4 - 3 | 5 - 3 | 6\n",
        "\n",
        "4 | 4 - 4 | 5 - 4 | 6\n",
        "\n",
        "5 | 5 - 5 | 6\n",
        "\n",
        "6 | 6"
      ]
    },
    {
      "cell_type": "code",
      "execution_count": null,
      "metadata": {
        "id": "LTzYmPPWSFvO",
        "colab": {
          "base_uri": "https://localhost:8080/"
        },
        "outputId": "4bcbff3b-1d7d-4585-b015-c20f853b8c77"
      },
      "outputs": [
        {
          "output_type": "stream",
          "name": "stdout",
          "text": [
            "\n",
            "0|0 - 0|1 - 0|2 - 0|3 - 0|4 - 0|5 - 0|6\n",
            "\n",
            "1|1 - 1|2 - 1|3 - 1|4 - 1|5 - 1|6\n",
            "\n",
            "2|2 - 2|3 - 2|4 - 2|5 - 2|6\n",
            "\n",
            "3|3 - 3|4 - 3|5 - 3|6\n",
            "\n",
            "4|4 - 4|5 - 4|6\n",
            "\n",
            "5|5 - 5|6\n",
            "\n",
            "6|6\n"
          ]
        }
      ],
      "source": [
        "#range(inicio, fin, paso)\n",
        "#range(0,N,1) = range(N)\n",
        "i=0\n",
        "j=0\n",
        "for i in range(7):\n",
        "  print(\"\")\n",
        "  for j in range(i,7,1):\n",
        "    if j==6:\n",
        "      print(str(i)+\"|\"+str(j))\n",
        "    else:\n",
        "      print(str(i)+\"|\"+str(j),end= \" - \")"
      ]
    },
    {
      "cell_type": "markdown",
      "metadata": {
        "id": "Hh19diZlyXek"
      },
      "source": [
        "###**Ejercicio 27**\n",
        "\n",
        "Escribir un programa que pida un número entero y muestre por pantalla un triángulo rectángulo como el de más abajo.\n",
        "\n",
        "Si el usuario ingresa el numero 5:\n",
        "\n",
        "1             \n",
        "\n",
        "3 1           \n",
        "\n",
        "5 3 1         \n",
        "\n",
        "7 5 3 1       \n",
        "\n",
        "9 7 5 3 1  "
      ]
    },
    {
      "cell_type": "code",
      "execution_count": null,
      "metadata": {
        "id": "f74HFoKKyX0F",
        "colab": {
          "base_uri": "https://localhost:8080/"
        },
        "outputId": "e9f45054-5fbd-4173-af2b-da957ba8ea6b"
      },
      "outputs": [
        {
          "output_type": "stream",
          "name": "stdout",
          "text": [
            "Ingrese un numero: 5\n",
            "1 \n",
            "3 1 \n",
            "5 3 1 \n",
            "7 5 3 1 \n",
            "9 7 5 3 1 \n"
          ]
        }
      ],
      "source": [
        "numero = int(input(\"Ingrese un numero: \"))\n",
        "i=1\n",
        "aux=\"\"\n",
        "for i in range(i,numero*2,2):\n",
        "  aux = str(i)+\" \"+aux\n",
        "  print(aux)"
      ]
    },
    {
      "cell_type": "markdown",
      "metadata": {
        "id": "59Jbl5dbSGF2"
      },
      "source": [
        "\n",
        "### **Ejercicio 28**\n",
        "\n",
        "Escribir un programa que pida un número natural **N** e imprima por pantalla la suma de los números naturales de 1 hasta **N**.\n",
        "\n",
        "Por ejemplo para **N = 5**, la salida debe ser:\n",
        "\n",
        "1 + 2 + 3 + 4 + 5 = 15\n",
        "\n",
        "Solo debe imprimir el resultado final (por ejemplo 15)"
      ]
    },
    {
      "cell_type": "code",
      "execution_count": null,
      "metadata": {
        "id": "jIt2AeopSiVL",
        "colab": {
          "base_uri": "https://localhost:8080/"
        },
        "outputId": "28c0e540-d6c8-4384-ff2d-1dfcb6779119"
      },
      "outputs": [
        {
          "output_type": "stream",
          "name": "stdout",
          "text": [
            "Ingrese un numero: 5\n",
            "15\n"
          ]
        }
      ],
      "source": [
        "numero = int(input(\"Ingrese un numero: \"))\n",
        "suma=0\n",
        "for i in range(numero+1):\n",
        "  suma+=i\n",
        "print(suma)"
      ]
    },
    {
      "cell_type": "markdown",
      "metadata": {
        "id": "8uQf2g92Sivq"
      },
      "source": [
        "### **Ejercicio 29**\n",
        "\n",
        "Construir un programa que lea un número natural **N** y calcule la suma de los primeros **N** números pares.\n",
        "-  Si N = 2 -> Resultado = 2 + 4\n",
        "-  Si N = 3 -> Resultado = 2 + 4 + 6\n",
        "-  Si N = 4 -> Resultado = 2 + 4 + 6 + 8\n",
        "-  ......\n",
        "-  Para cualquier N -> Resultado = 2 + 4 + 6 +....+ 2*N"
      ]
    },
    {
      "cell_type": "code",
      "execution_count": null,
      "metadata": {
        "id": "9ADJ8tgxSn2Q",
        "colab": {
          "base_uri": "https://localhost:8080/"
        },
        "outputId": "8c110a89-ab9a-441c-f428-8e86e5018598"
      },
      "outputs": [
        {
          "output_type": "stream",
          "name": "stdout",
          "text": [
            "Ingrese un numero: 4\n",
            "20\n"
          ]
        }
      ],
      "source": [
        "numero = int(input(\"Ingrese un numero: \"))\n",
        "suma=0\n",
        "for i in range(numero*2+1):\n",
        "  if i%2==0:\n",
        "    suma+=i\n",
        "print(suma)"
      ]
    },
    {
      "cell_type": "markdown",
      "metadata": {
        "id": "ZEi--gNXSoOZ"
      },
      "source": [
        "### **Ejercicio 30**\n",
        "\n",
        "Escribir un programa que pida dos números enteros e informa por pantalla todos los números pares entre ellos."
      ]
    },
    {
      "cell_type": "code",
      "execution_count": null,
      "metadata": {
        "id": "4_bYnYGESvV0",
        "colab": {
          "base_uri": "https://localhost:8080/"
        },
        "outputId": "35e76f33-3933-4687-efa7-1193b111467b"
      },
      "outputs": [
        {
          "output_type": "stream",
          "name": "stdout",
          "text": [
            "Ingrese un numero: 2\n",
            "Ingrese otro numero: 9\n",
            "2\n",
            "4\n",
            "6\n",
            "8\n"
          ]
        }
      ],
      "source": [
        "numero1 = int(input(\"Ingrese un numero: \"))\n",
        "numero2 = int(input(\"Ingrese otro numero: \"))\n",
        "for i in range(numero1,numero2+1,1):\n",
        "  if i%2==0:\n",
        "    print(i)"
      ]
    },
    {
      "cell_type": "markdown",
      "metadata": {
        "id": "tJwW9zpHSvwA"
      },
      "source": [
        "### **Ejercicio 31**\n",
        "\n",
        "Escribir un programa que pida un número entero y muestre por pantalla la cantidad de cifras de dicho número. Se debe resolver con divisiones sucesivas por 10 usando un bucle while."
      ]
    },
    {
      "cell_type": "code",
      "execution_count": null,
      "metadata": {
        "id": "RjduT381S13q",
        "colab": {
          "base_uri": "https://localhost:8080/"
        },
        "outputId": "a49f9ba3-ba33-4888-ed55-6e840896bfe8"
      },
      "outputs": [
        {
          "output_type": "stream",
          "name": "stdout",
          "text": [
            "Ingrese un numero: 222\n",
            "3\n"
          ]
        }
      ],
      "source": [
        "numero = int(input(\"Ingrese un numero: \"))\n",
        "i=1\n",
        "while numero>10:\n",
        "  numero = numero/10\n",
        "  i+=1\n",
        "print(i)"
      ]
    },
    {
      "cell_type": "markdown",
      "metadata": {
        "id": "zo91uPVAS2Tk"
      },
      "source": [
        "### **Ejercicio 32**\n",
        "\n",
        "Escribir un programa que pida un número entero e informe si dicho numero es primo o compuesto."
      ]
    },
    {
      "cell_type": "code",
      "execution_count": null,
      "metadata": {
        "id": "Ouev8laiS9vw",
        "colab": {
          "base_uri": "https://localhost:8080/"
        },
        "outputId": "5d98d191-71b1-4f0e-8317-b2790d6c1e0f"
      },
      "outputs": [
        {
          "output_type": "stream",
          "name": "stdout",
          "text": [
            "Ingrese un numero: 75\n",
            "Es compuesto\n"
          ]
        }
      ],
      "source": [
        "numero = int(input(\"Ingrese un numero: \"))\n",
        "divisores = 0\n",
        "\n",
        "for i in range(numero+1):\n",
        "  if numero%(i+1)==0:\n",
        "    divisores+=1\n",
        "  j+=1\n",
        "\n",
        "if divisores<=2:\n",
        "  print(\"Es primo\")\n",
        "else:\n",
        "  print(\"Es compuesto\")"
      ]
    }
  ],
  "metadata": {
    "colab": {
      "provenance": [],
      "include_colab_link": true
    },
    "kernelspec": {
      "display_name": "Python 3",
      "name": "python3"
    }
  },
  "nbformat": 4,
  "nbformat_minor": 0
}