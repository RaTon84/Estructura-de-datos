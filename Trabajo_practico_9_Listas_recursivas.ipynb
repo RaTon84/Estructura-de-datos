{
  "nbformat": 4,
  "nbformat_minor": 0,
  "metadata": {
    "colab": {
      "provenance": [],
      "include_colab_link": true
    },
    "kernelspec": {
      "name": "python3",
      "display_name": "Python 3"
    }
  },
  "cells": [
    {
      "cell_type": "markdown",
      "metadata": {
        "id": "view-in-github",
        "colab_type": "text"
      },
      "source": [
        "<a href=\"https://colab.research.google.com/github/RaTon84/Estructura-de-datos/blob/master/Trabajo_practico_9_Listas_recursivas.ipynb\" target=\"_parent\"><img src=\"https://colab.research.google.com/assets/colab-badge.svg\" alt=\"Open In Colab\"/></a>"
      ]
    },
    {
      "cell_type": "code",
      "metadata": {
        "id": "w5VuA0vG0g9m"
      },
      "source": [
        "class Lista:\n",
        "\n",
        "  ##################################################################\n",
        "  ##################################################################\n",
        "  ## TDA privado NodoLista\n",
        "  class __NodoLista:\n",
        "    def __init__(self, dato):\n",
        "      self.dato = dato\n",
        "      self.siguiente = None\n",
        "\n",
        "    def tieneSiguiente(self):\n",
        "      return self.siguiente != None\n",
        "\n",
        "    def siguiente():\n",
        "      return self.siguiente\n",
        "\n",
        "    def __repr__(self):\n",
        "      outStr = \" -> \" + str(self.dato)\n",
        "      if self.tieneSiguiente():\n",
        "        outStr += str(self.siguiente)\n",
        "      return outStr\n",
        "\n",
        "  ##################################################################\n",
        "  ##################################################################\n",
        "\n",
        "  #####TDA LISTA ENLAZADA RECURSIVA\n",
        "\n",
        "  ###Estructura de TDA Lista\n",
        "  def __init__(self):\n",
        "    self.primero = None\n",
        "\n",
        "  def estaVacia(self):\n",
        "    return self.primero == None\n",
        "\n",
        "  def __repr__(self):\n",
        "    \"primero -> 1 -> 2 -> 3 -|\"\n",
        "    outStr = \"primero\"\n",
        "    if not self.estaVacia():\n",
        "      outStr += str(self.primero)\n",
        "    outStr += \" -|\"\n",
        "    return outStr"
      ],
      "execution_count": 1,
      "outputs": []
    },
    {
      "cell_type": "code",
      "metadata": {
        "id": "5O3I7v1WFUfQ",
        "colab": {
          "base_uri": "https://localhost:8080/"
        },
        "outputId": "92d17c17-e580-4869-f80f-1fa8b8a2bf0e"
      },
      "source": [
        "\n",
        "# implementar el metodo iesimo recursivo. que recibe una posicion\n",
        "# y devuelve el valor del nodo que esta en esa posicion\n",
        "\n",
        "# sugerencia, hacer la funcion en la clase lista que llame a la\n",
        "# funcion recursiva en la clase nodo\n",
        "\n",
        "\n",
        "class Lista(Lista):\n",
        "  class __NodoLista(Lista.__NodoLista):\n",
        "    def appendN(self, nodoNuevo):\n",
        "      if self.tieneSiguiente():\n",
        "        self.siguiente.appendN(nodoNuevo)\n",
        "      else:\n",
        "        self.siguiente = nodoNuevo\n",
        "\n",
        "    def longitudRN(self):\n",
        "      if self.siguiente == None:\n",
        "        return 1\n",
        "      else:\n",
        "        return 1 + (self.siguiente.longitudRN())\n",
        "        #  1+ (siguiente.longitudRN)\n",
        "        #  1+ ( 1+ (siguiente.longitudRN))\n",
        "        #  1+ ( 1+ (1 <-- caso base))\n",
        "\n",
        "    def iesimo(self, pos):\n",
        "      if (pos == 0):\n",
        "        return self.dato\n",
        "      else:\n",
        "        return self.siguiente.iesimo(pos-1)\n",
        "\n",
        "  def append(self, dato):\n",
        "    nodoNuevo = Lista.__NodoLista(dato)\n",
        "    if self.estaVacia():\n",
        "      self.primero = nodoNuevo\n",
        "    else:\n",
        "      self.primero.appendN(nodoNuevo)\n",
        "\n",
        "  def longitud(self):\n",
        "    cont = 0\n",
        "    aux = self.primero\n",
        "    while (aux != None):\n",
        "      cont +=1\n",
        "      aux = aux.siguiente\n",
        "    return cont\n",
        "\n",
        "  def longitudR(self):\n",
        "    if self.estaVacia():\n",
        "      return 0\n",
        "    else:\n",
        "      return self.primero.longitudRN()\n",
        "\n",
        "  def invertir(self):\n",
        "    ret = Lista()\n",
        "    for i in reversed(range(self.longitud())):\n",
        "      ret.append(self.iesimo(i))\n",
        "    return ret\n",
        "\n",
        "  def iesimo(self, pos):\n",
        "    if (pos == 0):\n",
        "      return self.primero.dato\n",
        "    else:\n",
        "      return self.primero.iesimo(pos)\n",
        "\n",
        "l = Lista()\n",
        "\n",
        "l.append(2);l.append(3);l.append(1);l.append(8);\n",
        "print(l)\n",
        "print(l.iesimo(2)) #\n",
        "print(l.invertir())\n",
        "\n",
        "#0 1 2\n",
        "#1,2,3 -> 3,2,1\n",
        "def invertir(self):\n",
        "  ret = Lista()\n",
        "  for i in reversed(range(self.tamaño())):\n",
        "    ret.append( self.iesimo(i)  )\n",
        "\n",
        "\n",
        "\n",
        "\n"
      ],
      "execution_count": 2,
      "outputs": [
        {
          "output_type": "stream",
          "name": "stdout",
          "text": [
            "primero -> 2 -> 3 -> 1 -> 8 -|\n",
            "1\n",
            "primero -> 8 -> 1 -> 3 -> 2 -|\n"
          ]
        }
      ]
    },
    {
      "cell_type": "code",
      "metadata": {
        "id": "Obr2iiCMLc8w",
        "colab": {
          "base_uri": "https://localhost:8080/"
        },
        "outputId": "170b3403-ae8a-4957-9abd-cd4b99e64239"
      },
      "source": [
        "class Lista(Lista):\n",
        "\n",
        "  class __NodoLista(Lista.__NodoLista):\n",
        "    def recPre(self):\n",
        "      print(self.dato)\n",
        "      if self.tieneSiguiente():\n",
        "        self.siguiente.recPre()\n",
        "\n",
        "  def recPre(self):\n",
        "    if not self.estaVacia():\n",
        "      self.primero.recPre()\n",
        "\n",
        "l = Lista()\n",
        "l.append(2);l.append(3);l.append(1);l.append(8);\n",
        "print(l)\n",
        "l.recPre()"
      ],
      "execution_count": 3,
      "outputs": [
        {
          "output_type": "stream",
          "name": "stdout",
          "text": [
            "primero -> 2 -> 3 -> 1 -> 8 -|\n",
            "2\n",
            "3\n",
            "1\n",
            "8\n"
          ]
        }
      ]
    },
    {
      "cell_type": "code",
      "metadata": {
        "id": "2YFeAi7mma31",
        "colab": {
          "base_uri": "https://localhost:8080/"
        },
        "outputId": "e71d6c40-9f76-428d-af05-c6ccd3c2c0cb"
      },
      "source": [
        "class Lista(Lista):\n",
        "\n",
        "  class __NodoLista(Lista.__NodoLista):\n",
        "    def recPost(self):\n",
        "      if self.tieneSiguiente():\n",
        "        print(\"apilo \" + str(self.dato))\n",
        "        self.siguiente.recPost()\n",
        "      print(self.dato)\n",
        "\n",
        "  def recPost(self):\n",
        "    if not self.estaVacia():\n",
        "      self.primero.recPost()\n",
        "\n",
        "l = Lista()\n",
        "l.append(2);l.append(3);l.append(1);l.append(8);l.append(-18);\n",
        "print(l)\n",
        "l.recPost()"
      ],
      "execution_count": 4,
      "outputs": [
        {
          "output_type": "stream",
          "name": "stdout",
          "text": [
            "primero -> 2 -> 3 -> 1 -> 8 -> -18 -|\n",
            "apilo 2\n",
            "apilo 3\n",
            "apilo 1\n",
            "apilo 8\n",
            "-18\n",
            "8\n",
            "1\n",
            "3\n",
            "2\n"
          ]
        }
      ]
    },
    {
      "cell_type": "code",
      "metadata": {
        "id": "vgWQ1XWsFcUH",
        "colab": {
          "base_uri": "https://localhost:8080/"
        },
        "outputId": "376c81ad-399a-4ded-954f-6afe61a794c9"
      },
      "source": [
        "class Lista(Lista):\n",
        "\n",
        "  class __NodoLista(Lista.__NodoLista):\n",
        "    def len(self): #  Nodo.len\n",
        "      cant = 0\n",
        "      if not self.tieneSiguiente():\n",
        "        cant = 1\n",
        "      else:\n",
        "        cant = 1 + self.siguiente.len()\n",
        "      return cant\n",
        "\n",
        "  def len(self): # Lista.len\n",
        "    cant = 0\n",
        "    if not self.estaVacia():\n",
        "      cant = self.primero.len()\n",
        "    return cant\n",
        "\n",
        "l = Lista()\n",
        "l.append(2);l.append(3);l.append(1);l.append(8);\n",
        "print(l)\n",
        "l.len()"
      ],
      "execution_count": 5,
      "outputs": [
        {
          "output_type": "stream",
          "name": "stdout",
          "text": [
            "primero -> 2 -> 3 -> 1 -> 8 -|\n"
          ]
        },
        {
          "output_type": "execute_result",
          "data": {
            "text/plain": [
              "4"
            ]
          },
          "metadata": {},
          "execution_count": 5
        }
      ]
    },
    {
      "cell_type": "code",
      "metadata": {
        "id": "oKgMMMCAFePS",
        "colab": {
          "base_uri": "https://localhost:8080/"
        },
        "outputId": "9194f2e1-a8f6-424e-e242-dcd6577f28b4"
      },
      "source": [
        "class Lista(Lista):\n",
        "\n",
        "  class __NodoLista(Lista.__NodoLista):\n",
        "    def getDato(self, getPos, actPos = 0):\n",
        "      dato = None\n",
        "      if actPos == getPos:\n",
        "        dato = self.dato\n",
        "      else:\n",
        "        dato = self.siguiente.getDato(getPos, actPos+1)\n",
        "      return dato\n",
        "\n",
        "  def __getitem__(self, pos):\n",
        "    if 0 <= pos < self.len():\n",
        "      return self.primero.getDato(pos)\n",
        "    else:\n",
        "      raise Exception(\"Posicion invalida\")\n",
        "\n",
        "l = Lista()\n",
        "l.append(2);l.append(3);l.append(1);l.append(8);\n",
        "print(l)\n",
        "print(str(l[2]) +\";\"+ str(l[3]))"
      ],
      "execution_count": 6,
      "outputs": [
        {
          "output_type": "stream",
          "name": "stdout",
          "text": [
            "primero -> 2 -> 3 -> 1 -> 8 -|\n",
            "1;8\n"
          ]
        }
      ]
    },
    {
      "cell_type": "code",
      "metadata": {
        "id": "vEtA2OSZFed0",
        "colab": {
          "base_uri": "https://localhost:8080/"
        },
        "outputId": "8ac3935a-f323-48c9-fef5-6ffe251f53e9"
      },
      "source": [
        "class Lista(Lista):\n",
        "\n",
        "  class __NodoLista(Lista.__NodoLista):\n",
        "    def delete(self, delPos, actPos = 0):\n",
        "      if actPos == delPos-1:\n",
        "        self.siguiente = self.siguiente.siguiente\n",
        "      else:\n",
        "        self.siguiente.delete(delPos, actPos+1)\n",
        "\n",
        "\n",
        "\n",
        "  def delete(self, pos):\n",
        "    if 0 <= pos < self.len():\n",
        "      if pos == 0:\n",
        "        self.primero = self.primero.siguiente\n",
        "      else:\n",
        "        self.primero.delete(pos)\n",
        "    else:\n",
        "      raise Exception(\"Posicion invalida\")\n",
        "\n",
        "\n",
        "\n",
        "l = Lista()\n",
        "l.append(2);l.append(2);l.append(3);l.append(2);l.append(8);l.append(2);l.append(8);l.append(2);\n",
        "print(l)\n",
        "# l.delOcurr(2)\n",
        "print(l)\n",
        "\n"
      ],
      "execution_count": 7,
      "outputs": [
        {
          "output_type": "stream",
          "name": "stdout",
          "text": [
            "primero -> 2 -> 2 -> 3 -> 2 -> 8 -> 2 -> 8 -> 2 -|\n",
            "primero -> 2 -> 2 -> 3 -> 2 -> 8 -> 2 -> 8 -> 2 -|\n"
          ]
        }
      ]
    },
    {
      "cell_type": "markdown",
      "source": [
        "### **Ejercicio 3**\n",
        "\n",
        "Escribir la operación del TDA Lista **buscaElemento()** que busque un elemento que recibe por parámetro. La operación debe retornar una lista con las ubicaciones del elemento en la lista de entrada.\n",
        "\n",
        "Por ejemplo:\n",
        "\n",
        "**lista1** = [ 2 , 2 , 1 , 4 , 2 , 8 , 9 , 2 , 10]\n",
        "\n",
        "**posiciones = lista1.buscaElemento(2)**\n",
        "\n",
        "Entonces, **posiciones** = [ 0 , 1 , 4 , 7 ]"
      ],
      "metadata": {
        "id": "Bljl4S-MvWiW"
      }
    },
    {
      "cell_type": "code",
      "source": [
        "class Lista(Lista):\n",
        "\n",
        "  def buscaElemento(self, dato):\n",
        "    posiciones = Lista()\n",
        "    if not self.estaVacia():\n",
        "      self.primero.buscaElementoNodo(dato,posiciones)\n",
        "    # print(\"Salida: \" + str(posiciones)+ \"\\n\") #######################\n",
        "    return posiciones\n",
        "\n",
        "  class __NodoLista(Lista.__NodoLista):\n",
        "    def buscaElementoNodo(self, dato, posiciones, pos=0):\n",
        "      if self.tieneSiguiente():\n",
        "        if self.dato == dato:\n",
        "          # print(pos)    #######################\n",
        "          posiciones.append(pos)\n",
        "        self.siguiente.buscaElementoNodo(dato, posiciones, pos+1)\n",
        "\n",
        "lista1 = Lista()\n",
        "lista1.append(2);lista1.append(2);lista1.append(1);lista1.append(4),lista1.append(2);lista1.append(8);lista1.append(9);lista1.append(2);lista1.append(10)\n",
        "print(lista1)\n",
        "lista1.buscaElemento(2)"
      ],
      "metadata": {
        "colab": {
          "base_uri": "https://localhost:8080/"
        },
        "id": "5bZj83mNvehl",
        "outputId": "a3d03543-111d-4f50-d102-055b65c9b461"
      },
      "execution_count": 8,
      "outputs": [
        {
          "output_type": "stream",
          "name": "stdout",
          "text": [
            "primero -> 2 -> 2 -> 1 -> 4 -> 2 -> 8 -> 9 -> 2 -> 10 -|\n"
          ]
        },
        {
          "output_type": "execute_result",
          "data": {
            "text/plain": [
              "primero -> 0 -> 1 -> 4 -> 7 -|"
            ]
          },
          "metadata": {},
          "execution_count": 8
        }
      ]
    },
    {
      "cell_type": "markdown",
      "source": [
        "### **Ejercicio 4**\n",
        "\n",
        "Escribir una operación del TDA Lista que elimine todas las ocurrencias de un elemento que recibe por parámetro y devuelva la cantidad de veces que se elimino el elemento. Se deben eliminar todos los nodos que contengan al elemento.\n",
        "\n",
        "Por ejemplo:\n",
        "\n",
        "**lista1** = [ 2 , 2 , 1 , 4 , 2 , 2 , 8 , 9 , 2 , 10]\n",
        "\n",
        "**cant = lista1.eliminarOcurrencias(2)**\n",
        "\n",
        "Entonces, **cant** = 5  y **lista1** = [ 1 , 4 , 8 , 9 , 10 ]\n"
      ],
      "metadata": {
        "id": "4pJLfDSDtor0"
      }
    },
    {
      "cell_type": "code",
      "source": [
        "# lista1 = [ 1 , 4 , 1 , 9 , 10 ]\n",
        "\n",
        "# cont = 1  y se llama con  [ 4 , 1 , 9 , 10 ]\n",
        "# cont = 2  y se llama con  [ 4 , 9 , 10 ]\n",
        "# cont = 2       0 + 2\n",
        "\n",
        "class Lista(Lista):\n",
        "  def eliminarOcurrencias(self,dato):\n",
        "    if not self.estaVacia():\n",
        "      self.primero.eliminarOcurrencias(dato)\n",
        "\n",
        "  class __NodoLista(Lista.__NodoLista):\n",
        "    def eliminarOcurrencias(self,dato):\n",
        "      if self.tieneSiguiente():\n",
        "        self.siguiente.eliminarOcurrencias(dato)\n",
        "        if self.siguiente.dato == dato:\n",
        "          self.siguiente = self.siguiente.siguiente\n",
        "\n",
        "          # print(self.dato,pos)\n",
        "          # self.delete(pos)\n",
        "\n",
        "      #crear lista con posisciones\n",
        "\n",
        "lista1 = Lista()\n",
        "lista1.append(2);lista1.append(2);lista1.append(1);lista1.append(4),lista1.append(2);lista1.append(8);lista1.append(9);lista1.append(2);lista1.append(10)\n",
        "print(lista1)\n",
        "lista1.eliminarOcurrencias(2)\n",
        "print(lista1)"
      ],
      "metadata": {
        "id": "4xzMiyOctx1R",
        "outputId": "75c75054-f819-4b19-9c46-207b47101c6d",
        "colab": {
          "base_uri": "https://localhost:8080/"
        }
      },
      "execution_count": 15,
      "outputs": [
        {
          "output_type": "stream",
          "name": "stdout",
          "text": [
            "primero -> 2 -> 2 -> 1 -> 4 -> 2 -> 8 -> 9 -> 2 -> 10 -|\n",
            "primero -> 2 -> 1 -> 4 -> 8 -> 9 -> 10 -|\n"
          ]
        }
      ]
    },
    {
      "cell_type": "markdown",
      "source": [
        "### **Ejercicio 6**\n",
        "\n",
        "Escribir una operación del TDA Lista que reemplace todas las ocurrencias de un numero por otro. Ambos números los recibe por parámetro.\n",
        "\n",
        "Por ejemplo:\n",
        "\n",
        "\n",
        "**lista1** = [ 2 , 1 , 4 , 8 , 9 , 2 , 5 , 12 , 10]\n",
        "\n",
        "**lista1.reemplazar(2,3)** #Reemplaza todos los 2 por 3\n",
        "\n",
        "Entonces, **lista1** = [ 3 , 1 , 4 , 8 , 9 , 3 , 5 , 12 , 10 ]"
      ],
      "metadata": {
        "id": "KbHxiepF3vD1"
      }
    },
    {
      "cell_type": "code",
      "source": [
        "class Lista(Lista):\n",
        "  def reemplazar(self, e1, e2):\n",
        "    if not self.estaVacia():\n",
        "      self.primero.reemplazar(e1, e2)\n",
        "    print(self)\n",
        "\n",
        "  class __NodoLista(Lista.__NodoLista):\n",
        "    def reemplazar(self, e1, e2):\n",
        "      if self.tieneSiguiente():\n",
        "        if self.dato == e1:\n",
        "          print(self.dato)\n",
        "          self.dato = e2\n",
        "        self.siguiente.reemplazar(e1, e2)\n",
        "\n",
        "lista2 = Lista()\n",
        "lista2.append(2);lista2.append(1);lista2.append(4);lista2.append(8);lista2.append(9);lista2.append(2);lista2.append(5);lista2.append(12);lista2.append(10)\n",
        "lista2.reemplazar(2,3)\n",
        "print(lista2)"
      ],
      "metadata": {
        "id": "9crqR_oJ3wgc",
        "colab": {
          "base_uri": "https://localhost:8080/"
        },
        "outputId": "5ce45719-6e02-4037-96d4-b2944547b897"
      },
      "execution_count": 22,
      "outputs": [
        {
          "output_type": "stream",
          "name": "stdout",
          "text": [
            "2\n",
            "2\n",
            "primero -> 3 -> 1 -> 4 -> 8 -> 9 -> 3 -> 5 -> 12 -> 10 -|\n",
            "primero -> 3 -> 1 -> 4 -> 8 -> 9 -> 3 -> 5 -> 12 -> 10 -|\n"
          ]
        }
      ]
    },
    {
      "cell_type": "markdown",
      "source": [
        "### **Ejercicio 8**\n",
        "\n",
        "Los recorridos de listas normalmente pasan por todos los nodos, empezando por el primero, luego al siguiente, etc, como en la siguiente figura:\n",
        "\n",
        "\n",
        "![texto alternativo](https://i.ibb.co/DD1SXP9/recorrido-lista.png)\n",
        "\n",
        "\n",
        "Escribir una operación del TDA Lista que recorra la lista salteandose de a un nodo y mostrando por pantalla los elementos de los nodos visitados. El recorrido debe ser asi:\n",
        "\n",
        "![texto alternativo](https://i.ibb.co/q7xjDkZ/recorrido-salteado-lista.png)\n",
        "\n",
        "Por ejemplo:\n",
        "\n",
        "**lista1** = [ 2 , 1 , 4 , 8 , 9 , 12 , 5 , 8 ]\n",
        "\n",
        "**lista1.recorridoSalteado()**\n",
        "\n",
        "2\n",
        "\n",
        "4\n",
        "\n",
        "9\n",
        "\n",
        "5\n",
        "\n",
        "\n",
        "**Nota: No es correcto hacer un recorrido secuencial e ir contando las posiciones, lo correcto es solo visitar los nodos que nos interesan**"
      ],
      "metadata": {
        "id": "0GbJmbh9tyew"
      }
    },
    {
      "cell_type": "code",
      "source": [
        "class Lista(Lista):\n",
        "  def recorridoSalteado(self):\n",
        "    if not self.estaVacia():\n",
        "      self.primero.recorridoSalteado()\n",
        "\n",
        "  class __NodoLista(Lista.__NodoLista):\n",
        "    def recorridoSalteado(self):\n",
        "      print(self.dato)\n",
        "      if self.tieneSiguiente() and self.siguiente.tieneSiguiente():\n",
        "        self.siguiente.siguiente.recorridoSalteado()\n",
        "\n",
        "\n",
        "lista1 = Lista()\n",
        "lista1.append(2);lista1.append(1);lista1.append(4);lista1.append(8),lista1.append(9);lista1.append(12);lista1.append(5);lista1.append(8)\n",
        "print(lista1)\n",
        "lista1.recorridoSalteado()\n",
        "print(lista1)"
      ],
      "metadata": {
        "id": "18YXNigmt5nm",
        "outputId": "b29fbf84-0d7a-4aae-e965-fd5361b7fe13",
        "colab": {
          "base_uri": "https://localhost:8080/"
        }
      },
      "execution_count": 23,
      "outputs": [
        {
          "output_type": "stream",
          "name": "stdout",
          "text": [
            "primero -> 2 -> 1 -> 4 -> 8 -> 9 -> 12 -> 5 -> 8 -|\n",
            "2\n",
            "4\n",
            "9\n",
            "5\n",
            "primero -> 2 -> 1 -> 4 -> 8 -> 9 -> 12 -> 5 -> 8 -|\n"
          ]
        }
      ]
    },
    {
      "cell_type": "markdown",
      "source": [
        "### **Ejercicio 9**\n",
        "\n",
        "Vamos con otro tipo de recorrido de listas, escribir una operación del TDA Lista que recorra la lista de la siguiente manera (mientras va imprimiendo los elementos del nodo visitado):\n",
        "- Si el elemento del nodo visitado es par, seguimos por el siguiente\n",
        "- Si el elemento del nodo visitado es impar, nos salteamos el siguiente y seguimos con el otro\n",
        "\n",
        "El recorrido debe ser asi:\n",
        "\n",
        "![texto alternativo](https://i.ibb.co/DkBKs5M/recorrido-salteadopar-lista.png)\n",
        "\n",
        "Por ejemplo:\n",
        "\n",
        "**lista1** = [ 2 , 5 , 1 , 9 , 8 , 10 , 7 ]\n",
        "\n",
        "**lista1.recorridoParImpar()**\n",
        "\n",
        "2\n",
        "\n",
        "5\n",
        "\n",
        "9\n",
        "\n",
        "10\n",
        "\n",
        "7"
      ],
      "metadata": {
        "id": "KeItdgtq3yUm"
      }
    },
    {
      "cell_type": "code",
      "source": [
        "class Lista(Lista):\n",
        "  def recorridoParImpar(self):\n",
        "    if not self.estaVacia():\n",
        "      self.primero.recorridoParImpar()\n",
        "\n",
        "  class __NodoLista(Lista.__NodoLista):\n",
        "    def recorridoParImpar(self):\n",
        "      print(self.dato)\n",
        "      if self.tieneSiguiente():\n",
        "        if self.dato % 2 == 0:\n",
        "          self.siguiente.recorridoParImpar()\n",
        "        else:\n",
        "          if self.siguiente.tieneSiguiente():\n",
        "            self.siguiente.siguiente.recorridoParImpar()\n",
        "          else:\n",
        "            self.siguiente.recorridoParImpar()\n",
        "\n",
        "\n",
        "lista1 = Lista()\n",
        "lista1.append(2);lista1.append(5);lista1.append(1);lista1.append(9),lista1.append(8);lista1.append(10);lista1.append(7);lista1.append(1)\n",
        "print(lista1)\n",
        "lista1.recorridoParImpar()\n",
        "print(lista1)"
      ],
      "metadata": {
        "id": "7GZlz6yb36iB",
        "colab": {
          "base_uri": "https://localhost:8080/"
        },
        "outputId": "39c72994-7b5d-4230-e0ba-e9b8dc8c0605"
      },
      "execution_count": 36,
      "outputs": [
        {
          "output_type": "stream",
          "name": "stdout",
          "text": [
            "primero -> 2 -> 5 -> 1 -> 9 -> 8 -> 10 -> 7 -> 1 -|\n",
            "2\n",
            "5\n",
            "9\n",
            "10\n",
            "7\n",
            "1\n",
            "primero -> 2 -> 5 -> 1 -> 9 -> 8 -> 10 -> 7 -> 1 -|\n"
          ]
        }
      ]
    },
    {
      "cell_type": "markdown",
      "source": [
        "### **Ejercicio 10**\n",
        "\n",
        "Escribir una operación del TDA Lista que recibe dos números por parámetro. La operación recorre la lista, si el elemento del nodo es menor que el primer parámetro se deja igual, si es mayor o igual, se reemplaza por el mismo número multiplicado por el otro parámetro.\n",
        "\n",
        "Por ejemplo:\n",
        "\n",
        "**lista1** = [ 2 , 1 , 4 , 8 , 9 , 12 , 0 , 10 , 1 , 4 ]\n",
        "\n",
        "**lista1.reemplazaMayores(6,3)** #Multiplica por 3 los mayores o iguales a 6, el resto queda igual\n",
        "\n",
        "Entonces, **lista1** = [ 2 , 1 , 4 , 24 , 27 , 36 , 0 , 30 , 1 , 4 ]"
      ],
      "metadata": {
        "id": "JvK7GQvzfjTb"
      }
    },
    {
      "cell_type": "code",
      "source": [
        "class Lista(Lista):\n",
        "  def reemplazaMayores(self, e1, e2):\n",
        "    if not self.estaVacia():\n",
        "      self.primero.reemplazaMayores(e1, e2)\n",
        "    print(self)\n",
        "\n",
        "  class __NodoLista(Lista.__NodoLista):\n",
        "    def reemplazaMayores(self, e1, e2):\n",
        "      if self.tieneSiguiente():\n",
        "        if self.dato >= e1:\n",
        "          # print(self.dato)\n",
        "          self.dato *= e2\n",
        "        self.siguiente.reemplazaMayores(e1, e2)\n",
        "\n",
        "lista2 = Lista()\n",
        "lista2.append(2);lista2.append(1);lista2.append(4);lista2.append(8),lista2.append(9);lista2.append(12);lista2.append(0);lista2.append(10);lista2.append(1);lista2.append(4)\n",
        "lista2.reemplazaMayores(6,3)\n",
        "print(lista2)"
      ],
      "metadata": {
        "colab": {
          "base_uri": "https://localhost:8080/"
        },
        "id": "shuLMwJGfmRV",
        "outputId": "cd8d3dd7-2922-4319-d1a1-e462f91c9488"
      },
      "execution_count": 41,
      "outputs": [
        {
          "output_type": "stream",
          "name": "stdout",
          "text": [
            "primero -> 2 -> 1 -> 4 -> 24 -> 27 -> 36 -> 0 -> 30 -> 1 -> 4 -|\n",
            "primero -> 2 -> 1 -> 4 -> 24 -> 27 -> 36 -> 0 -> 30 -> 1 -> 4 -|\n"
          ]
        }
      ]
    },
    {
      "cell_type": "markdown",
      "source": [
        "### **Ejercicio 11**\n",
        "\n",
        "Escribir una operación del TDA Lista que recibe dos números por parámetro: una posición y un número nuevo. Recorre la lista hasta la posición y reemplaza el número de la lista por el nuevo.\n",
        "\n",
        "Por ejemplo:\n",
        "\n",
        "**lista1** = [ 2 , 1 , 4 , 8 , 9 , 12 , 0 , 10 , 1 , 4 ]\n",
        "\n",
        "**lista1.reemplazar(2,20)** #Reemplaza el número en la posición 2 por 20\n",
        "\n",
        "Entonces, **lista1** = [ 2 , 1 , 20 , 8 , 9 , 12 , 0 , 10 , 1 , 4 ]"
      ],
      "metadata": {
        "id": "NANx5otLhX2L"
      }
    },
    {
      "cell_type": "code",
      "source": [
        "class Lista(Lista):\n",
        "  def reemplazar(self,posicion,numero):\n",
        "    if not self.estaVacia():\n",
        "      self.primero.reemplazarNodo(posicion,numero)\n",
        "\n",
        "  class __NodoLista(Lista.__NodoLista):\n",
        "      def reemplazarNodo(self,posicion,numero, pos=0):\n",
        "        if self.tieneSiguiente():# and self.siguiente.tieneSiguiente():\n",
        "          if posicion-1 == pos:\n",
        "            # print(self.dato)\n",
        "            self.siguiente = self.siguiente.siguiente\n",
        "            self.reemplazarNodo(posicion, numero, pos+1)\n",
        "          else:\n",
        "            self.siguiente.reemplazarNodo(posicion, numero, pos+1)\n",
        "\n",
        "lista2 = Lista()\n",
        "lista2.append(2);lista2.append(1);lista2.append(4);lista2.append(8),lista2.append(9);lista2.append(12);lista2.append(0);lista2.append(10);lista2.append(1);lista2.append(4)\n",
        "print(lista2)\n",
        "lista2.reemplazar(3,20)\n",
        "print(lista2)\n",
        "\n",
        "# agrega al machete\n",
        "# ver en la posiscion 0 !!!!!!!!!!"
      ],
      "metadata": {
        "colab": {
          "base_uri": "https://localhost:8080/"
        },
        "id": "6y5m-dW7hdKQ",
        "outputId": "7f2dc9df-2530-419e-9b11-3f7e0bed85a5"
      },
      "execution_count": 83,
      "outputs": [
        {
          "output_type": "stream",
          "name": "stdout",
          "text": [
            "primero -> 2 -> 1 -> 4 -> 8 -> 9 -> 12 -> 0 -> 10 -> 1 -> 4 -|\n",
            "primero -> 2 -> 1 -> 4 -> 9 -> 12 -> 0 -> 10 -> 1 -> 4 -|\n"
          ]
        }
      ]
    },
    {
      "cell_type": "markdown",
      "source": [
        "### **Ejercicio 12**\n",
        "\n",
        "Escribir la operación **insertarOrdenado()** del TDA Lista, que se llama desde una lista ordenada e inserta un número que recibe por parámetro en el lugar correcto (manteniendo el orden).\n",
        "\n",
        "Por ejemplo:\n",
        "\n",
        "**lista1** = [ 2 , 5 , 9 , 12 , 25 , 32 ]\n",
        "\n",
        "**lista1.insertarOrdenado(10)**\n",
        "\n",
        "Entonces, **lista1** = [ 2 , 5 , 9 , 10 , 12 , 25 , 32 ]"
      ],
      "metadata": {
        "id": "VtrWCftTjvtD"
      }
    },
    {
      "cell_type": "code",
      "source": [],
      "metadata": {
        "id": "9_8_tTYijyZE"
      },
      "execution_count": null,
      "outputs": []
    }
  ]
}