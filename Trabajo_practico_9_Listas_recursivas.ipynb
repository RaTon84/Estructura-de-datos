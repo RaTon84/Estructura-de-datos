{
  "nbformat": 4,
  "nbformat_minor": 0,
  "metadata": {
    "colab": {
      "provenance": [],
      "include_colab_link": true
    },
    "kernelspec": {
      "name": "python3",
      "display_name": "Python 3"
    }
  },
  "cells": [
    {
      "cell_type": "markdown",
      "metadata": {
        "id": "view-in-github",
        "colab_type": "text"
      },
      "source": [
        "<a href=\"https://colab.research.google.com/github/RaTon84/Estructura-de-datos/blob/master/Trabajo_practico_9_Listas_recursivas.ipynb\" target=\"_parent\"><img src=\"https://colab.research.google.com/assets/colab-badge.svg\" alt=\"Open In Colab\"/></a>"
      ]
    },
    {
      "cell_type": "code",
      "metadata": {
        "id": "w5VuA0vG0g9m"
      },
      "source": [
        "class Lista:\n",
        "\n",
        "  ##################################################################\n",
        "  ##################################################################\n",
        "  ## TDA privado NodoLista\n",
        "  class __NodoLista:\n",
        "    def __init__(self, dato):\n",
        "      self.dato = dato\n",
        "      self.siguiente = None\n",
        "\n",
        "    def tieneSiguiente(self):\n",
        "      return self.siguiente != None\n",
        "\n",
        "    def siguiente():\n",
        "      return self.siguiente\n",
        "\n",
        "    def __repr__(self):\n",
        "      outStr = \" -> \" + str(self.dato)\n",
        "      if self.tieneSiguiente():\n",
        "        outStr += str(self.siguiente)\n",
        "      return outStr\n",
        "\n",
        "  ##################################################################\n",
        "  ##################################################################\n",
        "\n",
        "  #####TDA LISTA ENLAZADA RECURSIVA\n",
        "\n",
        "  ###Estructura de TDA Lista\n",
        "  def __init__(self):\n",
        "    self.primero = None\n",
        "\n",
        "  def estaVacia(self):\n",
        "    return self.primero == None\n",
        "\n",
        "  def __repr__(self):\n",
        "    \"primero -> 1 -> 2 -> 3 -|\"\n",
        "    outStr = \"primero\"\n",
        "    if not self.estaVacia():\n",
        "      outStr += str(self.primero)\n",
        "    outStr += \" -|\"\n",
        "    return outStr"
      ],
      "execution_count": 1,
      "outputs": []
    },
    {
      "cell_type": "code",
      "metadata": {
        "id": "5O3I7v1WFUfQ",
        "colab": {
          "base_uri": "https://localhost:8080/"
        },
        "outputId": "79b45305-eabf-4aa9-91c6-da1cbf1fcd43"
      },
      "source": [
        "\n",
        "# implementar el metodo iesimo recursivo. que recibe una posicion\n",
        "# y devuelve el valor del nodo que esta en esa posicion\n",
        "\n",
        "# sugerencia, hacer la funcion en la clase lista que llame a la\n",
        "# funcion recursiva en la clase nodo\n",
        "\n",
        "\n",
        "class Lista(Lista):\n",
        "  class __NodoLista(Lista.__NodoLista):\n",
        "    def appendN(self, nodoNuevo):\n",
        "      if self.tieneSiguiente():\n",
        "        self.siguiente.appendN(nodoNuevo)\n",
        "      else:\n",
        "        self.siguiente = nodoNuevo\n",
        "\n",
        "    def longitudRN(self):\n",
        "      if self.siguiente == None:\n",
        "        return 1\n",
        "      else:\n",
        "        return 1 + (self.siguiente.longitudRN())\n",
        "        #  1+ (siguiente.longitudRN)\n",
        "        #  1+ ( 1+ (siguiente.longitudRN))\n",
        "        #  1+ ( 1+ (1 <-- caso base))\n",
        "\n",
        "    def iesimo(self, pos):\n",
        "      if (pos == 0):\n",
        "        return self.dato\n",
        "      else:\n",
        "        return self.siguiente.iesimo(pos-1)\n",
        "\n",
        "  def append(self, dato):\n",
        "    nodoNuevo = Lista.__NodoLista(dato)\n",
        "    if self.estaVacia():\n",
        "      self.primero = nodoNuevo\n",
        "    else:\n",
        "      self.primero.appendN(nodoNuevo)\n",
        "\n",
        "  def longitud(self):\n",
        "    cont = 0\n",
        "    aux = self.primero\n",
        "    while (aux != None):\n",
        "      cont +=1\n",
        "      aux = aux.siguiente\n",
        "    return cont\n",
        "\n",
        "  def longitudR(self):\n",
        "    if self.estaVacia():\n",
        "      return 0\n",
        "    else:\n",
        "      return self.primero.longitudRN()\n",
        "\n",
        "  def invertir(self):\n",
        "    ret = Lista()\n",
        "    for i in reversed(range(self.longitud())):\n",
        "      ret.append(self.iesimo(i))\n",
        "    return ret\n",
        "\n",
        "  def iesimo(self, pos):\n",
        "    if (pos == 0):\n",
        "      return self.primero.dato\n",
        "    else:\n",
        "      return self.primero.iesimo(pos)\n",
        "\n",
        "l = Lista()\n",
        "\n",
        "l.append(2);l.append(3);l.append(1);l.append(8);\n",
        "print(l)\n",
        "print(l.iesimo(2)) #\n",
        "print(l.invertir())\n",
        "\n",
        "#0 1 2\n",
        "#1,2,3 -> 3,2,1\n",
        "def invertir(self):\n",
        "  ret = Lista()\n",
        "  for i in reversed(range(self.tamaño())):\n",
        "    ret.append( self.iesimo(i)  )\n",
        "\n",
        "\n",
        "\n",
        "\n"
      ],
      "execution_count": 3,
      "outputs": [
        {
          "output_type": "stream",
          "name": "stdout",
          "text": [
            "primero -> 2 -> 3 -> 1 -> 8 -|\n",
            "1\n",
            "primero -> 8 -> 1 -> 3 -> 2 -|\n"
          ]
        }
      ]
    },
    {
      "cell_type": "code",
      "metadata": {
        "id": "Obr2iiCMLc8w",
        "colab": {
          "base_uri": "https://localhost:8080/"
        },
        "outputId": "ebc433bf-ae29-49db-9199-ec1da45140a9"
      },
      "source": [
        "class Lista(Lista):\n",
        "\n",
        "  class __NodoLista(Lista.__NodoLista):\n",
        "    def recPre(self):\n",
        "      print(self.dato)\n",
        "      if self.tieneSiguiente():\n",
        "        self.siguiente.recPre()\n",
        "\n",
        "  def recPre(self):\n",
        "    if not self.estaVacia():\n",
        "      self.primero.recPre()\n",
        "\n",
        "l = Lista()\n",
        "l.append(2);l.append(3);l.append(1);l.append(8);\n",
        "print(l)\n",
        "l.recPre()"
      ],
      "execution_count": 4,
      "outputs": [
        {
          "output_type": "stream",
          "name": "stdout",
          "text": [
            "primero -> 2 -> 3 -> 1 -> 8 -|\n",
            "2\n",
            "3\n",
            "1\n",
            "8\n"
          ]
        }
      ]
    },
    {
      "cell_type": "code",
      "metadata": {
        "id": "2YFeAi7mma31",
        "colab": {
          "base_uri": "https://localhost:8080/"
        },
        "outputId": "3099e7d7-b43d-484c-8d16-88b6fbbfff6a"
      },
      "source": [
        "class Lista(Lista):\n",
        "\n",
        "  class __NodoLista(Lista.__NodoLista):\n",
        "    def recPost(self):\n",
        "      if self.tieneSiguiente():\n",
        "        print(\"apilo \" + str(self.dato))\n",
        "        self.siguiente.recPost()\n",
        "      print(self.dato)\n",
        "\n",
        "  def recPost(self):\n",
        "    if not self.estaVacia():\n",
        "      self.primero.recPost()\n",
        "\n",
        "l = Lista()\n",
        "l.append(2);l.append(3);l.append(1);l.append(8);l.append(-18);\n",
        "print(l)\n",
        "l.recPost()"
      ],
      "execution_count": 5,
      "outputs": [
        {
          "output_type": "stream",
          "name": "stdout",
          "text": [
            "primero -> 2 -> 3 -> 1 -> 8 -> -18 -|\n",
            "apilo 2\n",
            "apilo 3\n",
            "apilo 1\n",
            "apilo 8\n",
            "-18\n",
            "8\n",
            "1\n",
            "3\n",
            "2\n"
          ]
        }
      ]
    },
    {
      "cell_type": "code",
      "metadata": {
        "id": "vgWQ1XWsFcUH",
        "colab": {
          "base_uri": "https://localhost:8080/"
        },
        "outputId": "92c46192-d8b4-4c28-ffe3-b8964d5bb3f9"
      },
      "source": [
        "class Lista(Lista):\n",
        "\n",
        "  class __NodoLista(Lista.__NodoLista):\n",
        "    def len(self): #  Nodo.len\n",
        "      cant = 0\n",
        "      if not self.tieneSiguiente():\n",
        "        cant = 1\n",
        "      else:\n",
        "        cant = 1 + self.siguiente.len()\n",
        "      return cant\n",
        "\n",
        "  def len(self): # Lista.len\n",
        "    cant = 0\n",
        "    if not self.estaVacia():\n",
        "      cant = self.primero.len()\n",
        "    return cant\n",
        "\n",
        "l = Lista()\n",
        "l.append(2);l.append(3);l.append(1);l.append(8);\n",
        "print(l)\n",
        "l.len()"
      ],
      "execution_count": 6,
      "outputs": [
        {
          "output_type": "stream",
          "name": "stdout",
          "text": [
            "primero -> 2 -> 3 -> 1 -> 8 -|\n"
          ]
        },
        {
          "output_type": "execute_result",
          "data": {
            "text/plain": [
              "4"
            ]
          },
          "metadata": {},
          "execution_count": 6
        }
      ]
    },
    {
      "cell_type": "code",
      "metadata": {
        "id": "oKgMMMCAFePS",
        "colab": {
          "base_uri": "https://localhost:8080/"
        },
        "outputId": "b718e06a-03b3-4c11-a027-6dc6d39d6471"
      },
      "source": [
        "class Lista(Lista):\n",
        "\n",
        "  class __NodoLista(Lista.__NodoLista):\n",
        "    def getDato(self, getPos, actPos = 0):\n",
        "      dato = None\n",
        "      if actPos == getPos:\n",
        "        dato = self.dato\n",
        "      else:\n",
        "        dato = self.siguiente.getDato(getPos, actPos+1)\n",
        "      return dato\n",
        "\n",
        "  def __getitem__(self, pos):\n",
        "    if 0 <= pos < self.len():\n",
        "      return self.primero.getDato(pos)\n",
        "    else:\n",
        "      raise Exception(\"Posicion invalida\")\n",
        "\n",
        "l = Lista()\n",
        "l.append(2);l.append(3);l.append(1);l.append(8);\n",
        "print(l)\n",
        "print(str(l[2]) +\";\"+ str(l[3]))"
      ],
      "execution_count": 7,
      "outputs": [
        {
          "output_type": "stream",
          "name": "stdout",
          "text": [
            "primero -> 2 -> 3 -> 1 -> 8 -|\n",
            "1;8\n"
          ]
        }
      ]
    },
    {
      "cell_type": "code",
      "metadata": {
        "id": "vEtA2OSZFed0",
        "colab": {
          "base_uri": "https://localhost:8080/"
        },
        "outputId": "8af27550-c8ee-4c1b-faf6-eec8d29ca560"
      },
      "source": [
        "class Lista(Lista):\n",
        "\n",
        "  class __NodoLista(Lista.__NodoLista):\n",
        "    def delete(self, delPos, actPos = 0):\n",
        "      if actPos == delPos-1:\n",
        "        self.siguiente = self.siguiente.siguiente\n",
        "      else:\n",
        "        self.siguiente.delete(delPos, actPos+1)\n",
        "\n",
        "\n",
        "\n",
        "  def delete(self, pos):\n",
        "    if 0 <= pos < self.len():\n",
        "      if pos == 0:\n",
        "        self.primero = self.primero.siguiente\n",
        "      else:\n",
        "        self.primero.delete(pos)\n",
        "    else:\n",
        "      raise Exception(\"Posicion invalida\")\n",
        "\n",
        "\n",
        "\n",
        "l = Lista()\n",
        "l.append(2);l.append(2);l.append(3);l.append(2);l.append(8);l.append(2);l.append(8);l.append(2);\n",
        "print(l)\n",
        "# l.delOcurr(2)\n",
        "print(l)\n",
        "\n"
      ],
      "execution_count": 8,
      "outputs": [
        {
          "output_type": "stream",
          "name": "stdout",
          "text": [
            "primero -> 2 -> 2 -> 3 -> 2 -> 8 -> 2 -> 8 -> 2 -|\n",
            "primero -> 2 -> 2 -> 3 -> 2 -> 8 -> 2 -> 8 -> 2 -|\n"
          ]
        }
      ]
    },
    {
      "cell_type": "markdown",
      "source": [
        "### **Ejercicio 4**\n",
        "\n",
        "Escribir una operación del TDA Lista que elimine todas las ocurrencias de un elemento que recibe por parámetro y devuelva la cantidad de veces que se elimino el elemento. Se deben eliminar todos los nodos que contengan al elemento.\n",
        "\n",
        "Por ejemplo:\n",
        "\n",
        "**lista1** = [ 2 , 2 , 1 , 4 , 2 , 2 , 8 , 9 , 2 , 10]\n",
        "\n",
        "**cant = lista1.eliminarOcurrencias(2)**\n",
        "\n",
        "Entonces, **cant** = 5  y **lista1** = [ 1 , 4 , 8 , 9 , 10 ]\n"
      ],
      "metadata": {
        "id": "4pJLfDSDtor0"
      }
    },
    {
      "cell_type": "code",
      "source": [
        "# lista1 = [ 1 , 4 , 1 , 9 , 10 ]\n",
        "\n",
        "# cont = 1  y se llama con  [ 4 , 1 , 9 , 10 ]\n",
        "# cont = 2  y se llama con  [ 4 , 9 , 10 ]\n",
        "# cont = 2       0 + 2\n",
        "\n",
        "class Lista(Lista):\n",
        "\n",
        "  class __NodoLista(Lista.__NodoLista):\n",
        "    def eliminarOcurrencias(self,dato,pos=0):\n",
        "      nodo = None\n",
        "      if self.tieneSiguiente():\n",
        "        self.siguiente.eliminarOcurrencias(dato,pos + 1)\n",
        "        if self.dato == dato:\n",
        "          print(self.dato,pos)\n",
        "          self.delete(pos)\n",
        "\n",
        "      #crear lista con posisciones\n",
        "\n",
        "\n",
        "  def eliminarOcurrencias(self,dato):\n",
        "    if not self.estaVacia():\n",
        "      self.primero.eliminarOcurrencias(dato)\n",
        "\n",
        "lista1 = Lista()\n",
        "lista1.append(2);lista1.append(2);lista1.append(1);lista1.append(4),lista1.append(2);lista1.append(8);lista1.append(9);lista1.append(2);lista1.append(10)\n",
        "print(lista1)\n",
        "lista1.eliminarOcurrencias(2)\n",
        "print(lista1)"
      ],
      "metadata": {
        "id": "4xzMiyOctx1R",
        "outputId": "b882aff2-8c8f-4e00-ebf5-9e3195a2b68a",
        "colab": {
          "base_uri": "https://localhost:8080/",
          "height": 393
        }
      },
      "execution_count": 26,
      "outputs": [
        {
          "output_type": "stream",
          "name": "stdout",
          "text": [
            "primero -> 2 -> 2 -> 1 -> 4 -> 2 -> 8 -> 9 -> 2 -> 10 -|\n",
            "2 7\n"
          ]
        },
        {
          "output_type": "error",
          "ename": "AttributeError",
          "evalue": "'NoneType' object has no attribute 'delete'",
          "traceback": [
            "\u001b[0;31m---------------------------------------------------------------------------\u001b[0m",
            "\u001b[0;31mAttributeError\u001b[0m                            Traceback (most recent call last)",
            "\u001b[0;32m<ipython-input-26-e39c72b8f5d8>\u001b[0m in \u001b[0;36m<cell line: 26>\u001b[0;34m()\u001b[0m\n\u001b[1;32m     24\u001b[0m \u001b[0mlista1\u001b[0m\u001b[0;34m.\u001b[0m\u001b[0mappend\u001b[0m\u001b[0;34m(\u001b[0m\u001b[0;36m2\u001b[0m\u001b[0;34m)\u001b[0m\u001b[0;34m;\u001b[0m\u001b[0mlista1\u001b[0m\u001b[0;34m.\u001b[0m\u001b[0mappend\u001b[0m\u001b[0;34m(\u001b[0m\u001b[0;36m2\u001b[0m\u001b[0;34m)\u001b[0m\u001b[0;34m;\u001b[0m\u001b[0mlista1\u001b[0m\u001b[0;34m.\u001b[0m\u001b[0mappend\u001b[0m\u001b[0;34m(\u001b[0m\u001b[0;36m1\u001b[0m\u001b[0;34m)\u001b[0m\u001b[0;34m;\u001b[0m\u001b[0mlista1\u001b[0m\u001b[0;34m.\u001b[0m\u001b[0mappend\u001b[0m\u001b[0;34m(\u001b[0m\u001b[0;36m4\u001b[0m\u001b[0;34m)\u001b[0m\u001b[0;34m,\u001b[0m\u001b[0mlista1\u001b[0m\u001b[0;34m.\u001b[0m\u001b[0mappend\u001b[0m\u001b[0;34m(\u001b[0m\u001b[0;36m2\u001b[0m\u001b[0;34m)\u001b[0m\u001b[0;34m;\u001b[0m\u001b[0mlista1\u001b[0m\u001b[0;34m.\u001b[0m\u001b[0mappend\u001b[0m\u001b[0;34m(\u001b[0m\u001b[0;36m8\u001b[0m\u001b[0;34m)\u001b[0m\u001b[0;34m;\u001b[0m\u001b[0mlista1\u001b[0m\u001b[0;34m.\u001b[0m\u001b[0mappend\u001b[0m\u001b[0;34m(\u001b[0m\u001b[0;36m9\u001b[0m\u001b[0;34m)\u001b[0m\u001b[0;34m;\u001b[0m\u001b[0mlista1\u001b[0m\u001b[0;34m.\u001b[0m\u001b[0mappend\u001b[0m\u001b[0;34m(\u001b[0m\u001b[0;36m2\u001b[0m\u001b[0;34m)\u001b[0m\u001b[0;34m;\u001b[0m\u001b[0mlista1\u001b[0m\u001b[0;34m.\u001b[0m\u001b[0mappend\u001b[0m\u001b[0;34m(\u001b[0m\u001b[0;36m10\u001b[0m\u001b[0;34m)\u001b[0m\u001b[0;34m\u001b[0m\u001b[0;34m\u001b[0m\u001b[0m\n\u001b[1;32m     25\u001b[0m \u001b[0mprint\u001b[0m\u001b[0;34m(\u001b[0m\u001b[0mlista1\u001b[0m\u001b[0;34m)\u001b[0m\u001b[0;34m\u001b[0m\u001b[0;34m\u001b[0m\u001b[0m\n\u001b[0;32m---> 26\u001b[0;31m \u001b[0mlista1\u001b[0m\u001b[0;34m.\u001b[0m\u001b[0meliminarOcurrencias\u001b[0m\u001b[0;34m(\u001b[0m\u001b[0;36m2\u001b[0m\u001b[0;34m)\u001b[0m\u001b[0;34m\u001b[0m\u001b[0;34m\u001b[0m\u001b[0m\n\u001b[0m\u001b[1;32m     27\u001b[0m \u001b[0mprint\u001b[0m\u001b[0;34m(\u001b[0m\u001b[0mlista1\u001b[0m\u001b[0;34m)\u001b[0m\u001b[0;34m\u001b[0m\u001b[0;34m\u001b[0m\u001b[0m\n",
            "\u001b[0;32m<ipython-input-26-e39c72b8f5d8>\u001b[0m in \u001b[0;36meliminarOcurrencias\u001b[0;34m(self, dato)\u001b[0m\n\u001b[1;32m     19\u001b[0m   \u001b[0;32mdef\u001b[0m \u001b[0meliminarOcurrencias\u001b[0m\u001b[0;34m(\u001b[0m\u001b[0mself\u001b[0m\u001b[0;34m,\u001b[0m\u001b[0mdato\u001b[0m\u001b[0;34m)\u001b[0m\u001b[0;34m:\u001b[0m\u001b[0;34m\u001b[0m\u001b[0;34m\u001b[0m\u001b[0m\n\u001b[1;32m     20\u001b[0m     \u001b[0;32mif\u001b[0m \u001b[0;32mnot\u001b[0m \u001b[0mself\u001b[0m\u001b[0;34m.\u001b[0m\u001b[0mestaVacia\u001b[0m\u001b[0;34m(\u001b[0m\u001b[0;34m)\u001b[0m\u001b[0;34m:\u001b[0m\u001b[0;34m\u001b[0m\u001b[0;34m\u001b[0m\u001b[0m\n\u001b[0;32m---> 21\u001b[0;31m       \u001b[0mself\u001b[0m\u001b[0;34m.\u001b[0m\u001b[0mprimero\u001b[0m\u001b[0;34m.\u001b[0m\u001b[0meliminarOcurrencias\u001b[0m\u001b[0;34m(\u001b[0m\u001b[0mdato\u001b[0m\u001b[0;34m)\u001b[0m\u001b[0;34m\u001b[0m\u001b[0;34m\u001b[0m\u001b[0m\n\u001b[0m\u001b[1;32m     22\u001b[0m \u001b[0;34m\u001b[0m\u001b[0m\n\u001b[1;32m     23\u001b[0m \u001b[0mlista1\u001b[0m \u001b[0;34m=\u001b[0m \u001b[0mLista\u001b[0m\u001b[0;34m(\u001b[0m\u001b[0;34m)\u001b[0m\u001b[0;34m\u001b[0m\u001b[0;34m\u001b[0m\u001b[0m\n",
            "\u001b[0;32m<ipython-input-26-e39c72b8f5d8>\u001b[0m in \u001b[0;36meliminarOcurrencias\u001b[0;34m(self, dato, pos)\u001b[0m\n\u001b[1;32m     11\u001b[0m       \u001b[0mnodo\u001b[0m \u001b[0;34m=\u001b[0m \u001b[0;32mNone\u001b[0m\u001b[0;34m\u001b[0m\u001b[0;34m\u001b[0m\u001b[0m\n\u001b[1;32m     12\u001b[0m       \u001b[0;32mif\u001b[0m \u001b[0mself\u001b[0m\u001b[0;34m.\u001b[0m\u001b[0mtieneSiguiente\u001b[0m\u001b[0;34m(\u001b[0m\u001b[0;34m)\u001b[0m\u001b[0;34m:\u001b[0m\u001b[0;34m\u001b[0m\u001b[0;34m\u001b[0m\u001b[0m\n\u001b[0;32m---> 13\u001b[0;31m         \u001b[0mself\u001b[0m\u001b[0;34m.\u001b[0m\u001b[0msiguiente\u001b[0m\u001b[0;34m.\u001b[0m\u001b[0meliminarOcurrencias\u001b[0m\u001b[0;34m(\u001b[0m\u001b[0mdato\u001b[0m\u001b[0;34m,\u001b[0m\u001b[0mpos\u001b[0m \u001b[0;34m+\u001b[0m \u001b[0;36m1\u001b[0m\u001b[0;34m)\u001b[0m\u001b[0;34m\u001b[0m\u001b[0;34m\u001b[0m\u001b[0m\n\u001b[0m\u001b[1;32m     14\u001b[0m         \u001b[0;32mif\u001b[0m \u001b[0mself\u001b[0m\u001b[0;34m.\u001b[0m\u001b[0mdato\u001b[0m \u001b[0;34m==\u001b[0m \u001b[0mdato\u001b[0m\u001b[0;34m:\u001b[0m\u001b[0;34m\u001b[0m\u001b[0;34m\u001b[0m\u001b[0m\n\u001b[1;32m     15\u001b[0m           \u001b[0mprint\u001b[0m\u001b[0;34m(\u001b[0m\u001b[0mself\u001b[0m\u001b[0;34m.\u001b[0m\u001b[0mdato\u001b[0m\u001b[0;34m,\u001b[0m\u001b[0mpos\u001b[0m\u001b[0;34m)\u001b[0m\u001b[0;34m\u001b[0m\u001b[0;34m\u001b[0m\u001b[0m\n",
            "\u001b[0;32m<ipython-input-26-e39c72b8f5d8>\u001b[0m in \u001b[0;36meliminarOcurrencias\u001b[0;34m(self, dato, pos)\u001b[0m\n\u001b[1;32m     11\u001b[0m       \u001b[0mnodo\u001b[0m \u001b[0;34m=\u001b[0m \u001b[0;32mNone\u001b[0m\u001b[0;34m\u001b[0m\u001b[0;34m\u001b[0m\u001b[0m\n\u001b[1;32m     12\u001b[0m       \u001b[0;32mif\u001b[0m \u001b[0mself\u001b[0m\u001b[0;34m.\u001b[0m\u001b[0mtieneSiguiente\u001b[0m\u001b[0;34m(\u001b[0m\u001b[0;34m)\u001b[0m\u001b[0;34m:\u001b[0m\u001b[0;34m\u001b[0m\u001b[0;34m\u001b[0m\u001b[0m\n\u001b[0;32m---> 13\u001b[0;31m         \u001b[0mself\u001b[0m\u001b[0;34m.\u001b[0m\u001b[0msiguiente\u001b[0m\u001b[0;34m.\u001b[0m\u001b[0meliminarOcurrencias\u001b[0m\u001b[0;34m(\u001b[0m\u001b[0mdato\u001b[0m\u001b[0;34m,\u001b[0m\u001b[0mpos\u001b[0m \u001b[0;34m+\u001b[0m \u001b[0;36m1\u001b[0m\u001b[0;34m)\u001b[0m\u001b[0;34m\u001b[0m\u001b[0;34m\u001b[0m\u001b[0m\n\u001b[0m\u001b[1;32m     14\u001b[0m         \u001b[0;32mif\u001b[0m \u001b[0mself\u001b[0m\u001b[0;34m.\u001b[0m\u001b[0mdato\u001b[0m \u001b[0;34m==\u001b[0m \u001b[0mdato\u001b[0m\u001b[0;34m:\u001b[0m\u001b[0;34m\u001b[0m\u001b[0;34m\u001b[0m\u001b[0m\n\u001b[1;32m     15\u001b[0m           \u001b[0mprint\u001b[0m\u001b[0;34m(\u001b[0m\u001b[0mself\u001b[0m\u001b[0;34m.\u001b[0m\u001b[0mdato\u001b[0m\u001b[0;34m,\u001b[0m\u001b[0mpos\u001b[0m\u001b[0;34m)\u001b[0m\u001b[0;34m\u001b[0m\u001b[0;34m\u001b[0m\u001b[0m\n",
            "\u001b[0;32m<ipython-input-26-e39c72b8f5d8>\u001b[0m in \u001b[0;36meliminarOcurrencias\u001b[0;34m(self, dato, pos)\u001b[0m\n\u001b[1;32m     11\u001b[0m       \u001b[0mnodo\u001b[0m \u001b[0;34m=\u001b[0m \u001b[0;32mNone\u001b[0m\u001b[0;34m\u001b[0m\u001b[0;34m\u001b[0m\u001b[0m\n\u001b[1;32m     12\u001b[0m       \u001b[0;32mif\u001b[0m \u001b[0mself\u001b[0m\u001b[0;34m.\u001b[0m\u001b[0mtieneSiguiente\u001b[0m\u001b[0;34m(\u001b[0m\u001b[0;34m)\u001b[0m\u001b[0;34m:\u001b[0m\u001b[0;34m\u001b[0m\u001b[0;34m\u001b[0m\u001b[0m\n\u001b[0;32m---> 13\u001b[0;31m         \u001b[0mself\u001b[0m\u001b[0;34m.\u001b[0m\u001b[0msiguiente\u001b[0m\u001b[0;34m.\u001b[0m\u001b[0meliminarOcurrencias\u001b[0m\u001b[0;34m(\u001b[0m\u001b[0mdato\u001b[0m\u001b[0;34m,\u001b[0m\u001b[0mpos\u001b[0m \u001b[0;34m+\u001b[0m \u001b[0;36m1\u001b[0m\u001b[0;34m)\u001b[0m\u001b[0;34m\u001b[0m\u001b[0;34m\u001b[0m\u001b[0m\n\u001b[0m\u001b[1;32m     14\u001b[0m         \u001b[0;32mif\u001b[0m \u001b[0mself\u001b[0m\u001b[0;34m.\u001b[0m\u001b[0mdato\u001b[0m \u001b[0;34m==\u001b[0m \u001b[0mdato\u001b[0m\u001b[0;34m:\u001b[0m\u001b[0;34m\u001b[0m\u001b[0;34m\u001b[0m\u001b[0m\n\u001b[1;32m     15\u001b[0m           \u001b[0mprint\u001b[0m\u001b[0;34m(\u001b[0m\u001b[0mself\u001b[0m\u001b[0;34m.\u001b[0m\u001b[0mdato\u001b[0m\u001b[0;34m,\u001b[0m\u001b[0mpos\u001b[0m\u001b[0;34m)\u001b[0m\u001b[0;34m\u001b[0m\u001b[0;34m\u001b[0m\u001b[0m\n",
            "\u001b[0;32m<ipython-input-26-e39c72b8f5d8>\u001b[0m in \u001b[0;36meliminarOcurrencias\u001b[0;34m(self, dato, pos)\u001b[0m\n\u001b[1;32m     11\u001b[0m       \u001b[0mnodo\u001b[0m \u001b[0;34m=\u001b[0m \u001b[0;32mNone\u001b[0m\u001b[0;34m\u001b[0m\u001b[0;34m\u001b[0m\u001b[0m\n\u001b[1;32m     12\u001b[0m       \u001b[0;32mif\u001b[0m \u001b[0mself\u001b[0m\u001b[0;34m.\u001b[0m\u001b[0mtieneSiguiente\u001b[0m\u001b[0;34m(\u001b[0m\u001b[0;34m)\u001b[0m\u001b[0;34m:\u001b[0m\u001b[0;34m\u001b[0m\u001b[0;34m\u001b[0m\u001b[0m\n\u001b[0;32m---> 13\u001b[0;31m         \u001b[0mself\u001b[0m\u001b[0;34m.\u001b[0m\u001b[0msiguiente\u001b[0m\u001b[0;34m.\u001b[0m\u001b[0meliminarOcurrencias\u001b[0m\u001b[0;34m(\u001b[0m\u001b[0mdato\u001b[0m\u001b[0;34m,\u001b[0m\u001b[0mpos\u001b[0m \u001b[0;34m+\u001b[0m \u001b[0;36m1\u001b[0m\u001b[0;34m)\u001b[0m\u001b[0;34m\u001b[0m\u001b[0;34m\u001b[0m\u001b[0m\n\u001b[0m\u001b[1;32m     14\u001b[0m         \u001b[0;32mif\u001b[0m \u001b[0mself\u001b[0m\u001b[0;34m.\u001b[0m\u001b[0mdato\u001b[0m \u001b[0;34m==\u001b[0m \u001b[0mdato\u001b[0m\u001b[0;34m:\u001b[0m\u001b[0;34m\u001b[0m\u001b[0;34m\u001b[0m\u001b[0m\n\u001b[1;32m     15\u001b[0m           \u001b[0mprint\u001b[0m\u001b[0;34m(\u001b[0m\u001b[0mself\u001b[0m\u001b[0;34m.\u001b[0m\u001b[0mdato\u001b[0m\u001b[0;34m,\u001b[0m\u001b[0mpos\u001b[0m\u001b[0;34m)\u001b[0m\u001b[0;34m\u001b[0m\u001b[0;34m\u001b[0m\u001b[0m\n",
            "\u001b[0;32m<ipython-input-26-e39c72b8f5d8>\u001b[0m in \u001b[0;36meliminarOcurrencias\u001b[0;34m(self, dato, pos)\u001b[0m\n\u001b[1;32m     11\u001b[0m       \u001b[0mnodo\u001b[0m \u001b[0;34m=\u001b[0m \u001b[0;32mNone\u001b[0m\u001b[0;34m\u001b[0m\u001b[0;34m\u001b[0m\u001b[0m\n\u001b[1;32m     12\u001b[0m       \u001b[0;32mif\u001b[0m \u001b[0mself\u001b[0m\u001b[0;34m.\u001b[0m\u001b[0mtieneSiguiente\u001b[0m\u001b[0;34m(\u001b[0m\u001b[0;34m)\u001b[0m\u001b[0;34m:\u001b[0m\u001b[0;34m\u001b[0m\u001b[0;34m\u001b[0m\u001b[0m\n\u001b[0;32m---> 13\u001b[0;31m         \u001b[0mself\u001b[0m\u001b[0;34m.\u001b[0m\u001b[0msiguiente\u001b[0m\u001b[0;34m.\u001b[0m\u001b[0meliminarOcurrencias\u001b[0m\u001b[0;34m(\u001b[0m\u001b[0mdato\u001b[0m\u001b[0;34m,\u001b[0m\u001b[0mpos\u001b[0m \u001b[0;34m+\u001b[0m \u001b[0;36m1\u001b[0m\u001b[0;34m)\u001b[0m\u001b[0;34m\u001b[0m\u001b[0;34m\u001b[0m\u001b[0m\n\u001b[0m\u001b[1;32m     14\u001b[0m         \u001b[0;32mif\u001b[0m \u001b[0mself\u001b[0m\u001b[0;34m.\u001b[0m\u001b[0mdato\u001b[0m \u001b[0;34m==\u001b[0m \u001b[0mdato\u001b[0m\u001b[0;34m:\u001b[0m\u001b[0;34m\u001b[0m\u001b[0;34m\u001b[0m\u001b[0m\n\u001b[1;32m     15\u001b[0m           \u001b[0mprint\u001b[0m\u001b[0;34m(\u001b[0m\u001b[0mself\u001b[0m\u001b[0;34m.\u001b[0m\u001b[0mdato\u001b[0m\u001b[0;34m,\u001b[0m\u001b[0mpos\u001b[0m\u001b[0;34m)\u001b[0m\u001b[0;34m\u001b[0m\u001b[0;34m\u001b[0m\u001b[0m\n",
            "\u001b[0;32m<ipython-input-26-e39c72b8f5d8>\u001b[0m in \u001b[0;36meliminarOcurrencias\u001b[0;34m(self, dato, pos)\u001b[0m\n\u001b[1;32m     11\u001b[0m       \u001b[0mnodo\u001b[0m \u001b[0;34m=\u001b[0m \u001b[0;32mNone\u001b[0m\u001b[0;34m\u001b[0m\u001b[0;34m\u001b[0m\u001b[0m\n\u001b[1;32m     12\u001b[0m       \u001b[0;32mif\u001b[0m \u001b[0mself\u001b[0m\u001b[0;34m.\u001b[0m\u001b[0mtieneSiguiente\u001b[0m\u001b[0;34m(\u001b[0m\u001b[0;34m)\u001b[0m\u001b[0;34m:\u001b[0m\u001b[0;34m\u001b[0m\u001b[0;34m\u001b[0m\u001b[0m\n\u001b[0;32m---> 13\u001b[0;31m         \u001b[0mself\u001b[0m\u001b[0;34m.\u001b[0m\u001b[0msiguiente\u001b[0m\u001b[0;34m.\u001b[0m\u001b[0meliminarOcurrencias\u001b[0m\u001b[0;34m(\u001b[0m\u001b[0mdato\u001b[0m\u001b[0;34m,\u001b[0m\u001b[0mpos\u001b[0m \u001b[0;34m+\u001b[0m \u001b[0;36m1\u001b[0m\u001b[0;34m)\u001b[0m\u001b[0;34m\u001b[0m\u001b[0;34m\u001b[0m\u001b[0m\n\u001b[0m\u001b[1;32m     14\u001b[0m         \u001b[0;32mif\u001b[0m \u001b[0mself\u001b[0m\u001b[0;34m.\u001b[0m\u001b[0mdato\u001b[0m \u001b[0;34m==\u001b[0m \u001b[0mdato\u001b[0m\u001b[0;34m:\u001b[0m\u001b[0;34m\u001b[0m\u001b[0;34m\u001b[0m\u001b[0m\n\u001b[1;32m     15\u001b[0m           \u001b[0mprint\u001b[0m\u001b[0;34m(\u001b[0m\u001b[0mself\u001b[0m\u001b[0;34m.\u001b[0m\u001b[0mdato\u001b[0m\u001b[0;34m,\u001b[0m\u001b[0mpos\u001b[0m\u001b[0;34m)\u001b[0m\u001b[0;34m\u001b[0m\u001b[0;34m\u001b[0m\u001b[0m\n",
            "\u001b[0;32m<ipython-input-26-e39c72b8f5d8>\u001b[0m in \u001b[0;36meliminarOcurrencias\u001b[0;34m(self, dato, pos)\u001b[0m\n\u001b[1;32m     11\u001b[0m       \u001b[0mnodo\u001b[0m \u001b[0;34m=\u001b[0m \u001b[0;32mNone\u001b[0m\u001b[0;34m\u001b[0m\u001b[0;34m\u001b[0m\u001b[0m\n\u001b[1;32m     12\u001b[0m       \u001b[0;32mif\u001b[0m \u001b[0mself\u001b[0m\u001b[0;34m.\u001b[0m\u001b[0mtieneSiguiente\u001b[0m\u001b[0;34m(\u001b[0m\u001b[0;34m)\u001b[0m\u001b[0;34m:\u001b[0m\u001b[0;34m\u001b[0m\u001b[0;34m\u001b[0m\u001b[0m\n\u001b[0;32m---> 13\u001b[0;31m         \u001b[0mself\u001b[0m\u001b[0;34m.\u001b[0m\u001b[0msiguiente\u001b[0m\u001b[0;34m.\u001b[0m\u001b[0meliminarOcurrencias\u001b[0m\u001b[0;34m(\u001b[0m\u001b[0mdato\u001b[0m\u001b[0;34m,\u001b[0m\u001b[0mpos\u001b[0m \u001b[0;34m+\u001b[0m \u001b[0;36m1\u001b[0m\u001b[0;34m)\u001b[0m\u001b[0;34m\u001b[0m\u001b[0;34m\u001b[0m\u001b[0m\n\u001b[0m\u001b[1;32m     14\u001b[0m         \u001b[0;32mif\u001b[0m \u001b[0mself\u001b[0m\u001b[0;34m.\u001b[0m\u001b[0mdato\u001b[0m \u001b[0;34m==\u001b[0m \u001b[0mdato\u001b[0m\u001b[0;34m:\u001b[0m\u001b[0;34m\u001b[0m\u001b[0;34m\u001b[0m\u001b[0m\n\u001b[1;32m     15\u001b[0m           \u001b[0mprint\u001b[0m\u001b[0;34m(\u001b[0m\u001b[0mself\u001b[0m\u001b[0;34m.\u001b[0m\u001b[0mdato\u001b[0m\u001b[0;34m,\u001b[0m\u001b[0mpos\u001b[0m\u001b[0;34m)\u001b[0m\u001b[0;34m\u001b[0m\u001b[0;34m\u001b[0m\u001b[0m\n",
            "\u001b[0;32m<ipython-input-26-e39c72b8f5d8>\u001b[0m in \u001b[0;36meliminarOcurrencias\u001b[0;34m(self, dato, pos)\u001b[0m\n\u001b[1;32m     14\u001b[0m         \u001b[0;32mif\u001b[0m \u001b[0mself\u001b[0m\u001b[0;34m.\u001b[0m\u001b[0mdato\u001b[0m \u001b[0;34m==\u001b[0m \u001b[0mdato\u001b[0m\u001b[0;34m:\u001b[0m\u001b[0;34m\u001b[0m\u001b[0;34m\u001b[0m\u001b[0m\n\u001b[1;32m     15\u001b[0m           \u001b[0mprint\u001b[0m\u001b[0;34m(\u001b[0m\u001b[0mself\u001b[0m\u001b[0;34m.\u001b[0m\u001b[0mdato\u001b[0m\u001b[0;34m,\u001b[0m\u001b[0mpos\u001b[0m\u001b[0;34m)\u001b[0m\u001b[0;34m\u001b[0m\u001b[0;34m\u001b[0m\u001b[0m\n\u001b[0;32m---> 16\u001b[0;31m           \u001b[0mself\u001b[0m\u001b[0;34m.\u001b[0m\u001b[0mdelete\u001b[0m\u001b[0;34m(\u001b[0m\u001b[0mpos\u001b[0m\u001b[0;34m)\u001b[0m\u001b[0;34m\u001b[0m\u001b[0;34m\u001b[0m\u001b[0m\n\u001b[0m\u001b[1;32m     17\u001b[0m \u001b[0;34m\u001b[0m\u001b[0m\n\u001b[1;32m     18\u001b[0m \u001b[0;34m\u001b[0m\u001b[0m\n",
            "\u001b[0;32m<ipython-input-8-31eb95ad3d5c>\u001b[0m in \u001b[0;36mdelete\u001b[0;34m(self, delPos, actPos)\u001b[0m\n\u001b[1;32m      6\u001b[0m         \u001b[0mself\u001b[0m\u001b[0;34m.\u001b[0m\u001b[0msiguiente\u001b[0m \u001b[0;34m=\u001b[0m \u001b[0mself\u001b[0m\u001b[0;34m.\u001b[0m\u001b[0msiguiente\u001b[0m\u001b[0;34m.\u001b[0m\u001b[0msiguiente\u001b[0m\u001b[0;34m\u001b[0m\u001b[0;34m\u001b[0m\u001b[0m\n\u001b[1;32m      7\u001b[0m       \u001b[0;32melse\u001b[0m\u001b[0;34m:\u001b[0m\u001b[0;34m\u001b[0m\u001b[0;34m\u001b[0m\u001b[0m\n\u001b[0;32m----> 8\u001b[0;31m         \u001b[0mself\u001b[0m\u001b[0;34m.\u001b[0m\u001b[0msiguiente\u001b[0m\u001b[0;34m.\u001b[0m\u001b[0mdelete\u001b[0m\u001b[0;34m(\u001b[0m\u001b[0mdelPos\u001b[0m\u001b[0;34m,\u001b[0m \u001b[0mactPos\u001b[0m\u001b[0;34m+\u001b[0m\u001b[0;36m1\u001b[0m\u001b[0;34m)\u001b[0m\u001b[0;34m\u001b[0m\u001b[0;34m\u001b[0m\u001b[0m\n\u001b[0m\u001b[1;32m      9\u001b[0m \u001b[0;34m\u001b[0m\u001b[0m\n\u001b[1;32m     10\u001b[0m \u001b[0;34m\u001b[0m\u001b[0m\n",
            "\u001b[0;32m<ipython-input-8-31eb95ad3d5c>\u001b[0m in \u001b[0;36mdelete\u001b[0;34m(self, delPos, actPos)\u001b[0m\n\u001b[1;32m      6\u001b[0m         \u001b[0mself\u001b[0m\u001b[0;34m.\u001b[0m\u001b[0msiguiente\u001b[0m \u001b[0;34m=\u001b[0m \u001b[0mself\u001b[0m\u001b[0;34m.\u001b[0m\u001b[0msiguiente\u001b[0m\u001b[0;34m.\u001b[0m\u001b[0msiguiente\u001b[0m\u001b[0;34m\u001b[0m\u001b[0;34m\u001b[0m\u001b[0m\n\u001b[1;32m      7\u001b[0m       \u001b[0;32melse\u001b[0m\u001b[0;34m:\u001b[0m\u001b[0;34m\u001b[0m\u001b[0;34m\u001b[0m\u001b[0m\n\u001b[0;32m----> 8\u001b[0;31m         \u001b[0mself\u001b[0m\u001b[0;34m.\u001b[0m\u001b[0msiguiente\u001b[0m\u001b[0;34m.\u001b[0m\u001b[0mdelete\u001b[0m\u001b[0;34m(\u001b[0m\u001b[0mdelPos\u001b[0m\u001b[0;34m,\u001b[0m \u001b[0mactPos\u001b[0m\u001b[0;34m+\u001b[0m\u001b[0;36m1\u001b[0m\u001b[0;34m)\u001b[0m\u001b[0;34m\u001b[0m\u001b[0;34m\u001b[0m\u001b[0m\n\u001b[0m\u001b[1;32m      9\u001b[0m \u001b[0;34m\u001b[0m\u001b[0m\n\u001b[1;32m     10\u001b[0m \u001b[0;34m\u001b[0m\u001b[0m\n",
            "\u001b[0;31mAttributeError\u001b[0m: 'NoneType' object has no attribute 'delete'"
          ]
        }
      ]
    },
    {
      "cell_type": "markdown",
      "source": [
        "### **Ejercicio 8**\n",
        "\n",
        "Los recorridos de listas normalmente pasan por todos los nodos, empezando por el primero, luego al siguiente, etc, como en la siguiente figura:\n",
        "\n",
        "\n",
        "![texto alternativo](https://i.ibb.co/DD1SXP9/recorrido-lista.png)\n",
        "\n",
        "\n",
        "Escribir una operación del TDA Lista que recorra la lista salteandose de a un nodo y mostrando por pantalla los elementos de los nodos visitados. El recorrido debe ser asi:\n",
        "\n",
        "![texto alternativo](https://i.ibb.co/q7xjDkZ/recorrido-salteado-lista.png)\n",
        "\n",
        "Por ejemplo:\n",
        "\n",
        "**lista1** = [ 2 , 1 , 4 , 8 , 9 , 12 , 5 , 8 ]\n",
        "\n",
        "**lista1.recorridoSalteado()**\n",
        "\n",
        "2\n",
        "\n",
        "4\n",
        "\n",
        "9\n",
        "\n",
        "5\n",
        "\n",
        "\n",
        "**Nota: No es correcto hacer un recorrido secuencial e ir contando las posiciones, lo correcto es solo visitar los nodos que nos interesan**"
      ],
      "metadata": {
        "id": "0GbJmbh9tyew"
      }
    },
    {
      "cell_type": "code",
      "source": [
        "class Lista(Lista):\n",
        "\n",
        "  class __NodoLista(Lista.__NodoLista):\n",
        "    def recorridoSalteado(self):\n",
        "      nodo = None\n",
        "      if self.tieneSiguiente():\n",
        "        self.siguiente.eliminarOcurrencias()\n",
        "        if self.dato == dato:\n",
        "          # print(self.dato,pos)\n",
        "          # self.delete(pos)\n",
        "\n",
        "\n",
        "  def recorridoSalteado(self):\n",
        "    if not self.estaVacia():\n",
        "      self.primero.recorridoSalteado()\n",
        "\n",
        "lista1 = Lista()\n",
        "lista1.append(2);lista1.append(2);lista1.append(1);lista1.append(4),lista1.append(2);lista1.append(8);lista1.append(9);lista1.append(2);lista1.append(10)\n",
        "print(lista1)\n",
        "lista1.recorridoSalteado()\n",
        "print(lista1)"
      ],
      "metadata": {
        "id": "18YXNigmt5nm",
        "outputId": "509b43ba-034e-4717-8846-3601830a0c37",
        "colab": {
          "base_uri": "https://localhost:8080/",
          "height": 351
        }
      },
      "execution_count": 28,
      "outputs": [
        {
          "output_type": "stream",
          "name": "stdout",
          "text": [
            "primero -> 2 -> 2 -> 1 -> 4 -> 2 -> 8 -> 9 -> 2 -> 10 -|\n"
          ]
        },
        {
          "output_type": "error",
          "ename": "NameError",
          "evalue": "name 'dato' is not defined",
          "traceback": [
            "\u001b[0;31m---------------------------------------------------------------------------\u001b[0m",
            "\u001b[0;31mNameError\u001b[0m                                 Traceback (most recent call last)",
            "\u001b[0;32m<ipython-input-28-3af54f063a1b>\u001b[0m in \u001b[0;36m<cell line: 20>\u001b[0;34m()\u001b[0m\n\u001b[1;32m     18\u001b[0m \u001b[0mlista1\u001b[0m\u001b[0;34m.\u001b[0m\u001b[0mappend\u001b[0m\u001b[0;34m(\u001b[0m\u001b[0;36m2\u001b[0m\u001b[0;34m)\u001b[0m\u001b[0;34m;\u001b[0m\u001b[0mlista1\u001b[0m\u001b[0;34m.\u001b[0m\u001b[0mappend\u001b[0m\u001b[0;34m(\u001b[0m\u001b[0;36m2\u001b[0m\u001b[0;34m)\u001b[0m\u001b[0;34m;\u001b[0m\u001b[0mlista1\u001b[0m\u001b[0;34m.\u001b[0m\u001b[0mappend\u001b[0m\u001b[0;34m(\u001b[0m\u001b[0;36m1\u001b[0m\u001b[0;34m)\u001b[0m\u001b[0;34m;\u001b[0m\u001b[0mlista1\u001b[0m\u001b[0;34m.\u001b[0m\u001b[0mappend\u001b[0m\u001b[0;34m(\u001b[0m\u001b[0;36m4\u001b[0m\u001b[0;34m)\u001b[0m\u001b[0;34m,\u001b[0m\u001b[0mlista1\u001b[0m\u001b[0;34m.\u001b[0m\u001b[0mappend\u001b[0m\u001b[0;34m(\u001b[0m\u001b[0;36m2\u001b[0m\u001b[0;34m)\u001b[0m\u001b[0;34m;\u001b[0m\u001b[0mlista1\u001b[0m\u001b[0;34m.\u001b[0m\u001b[0mappend\u001b[0m\u001b[0;34m(\u001b[0m\u001b[0;36m8\u001b[0m\u001b[0;34m)\u001b[0m\u001b[0;34m;\u001b[0m\u001b[0mlista1\u001b[0m\u001b[0;34m.\u001b[0m\u001b[0mappend\u001b[0m\u001b[0;34m(\u001b[0m\u001b[0;36m9\u001b[0m\u001b[0;34m)\u001b[0m\u001b[0;34m;\u001b[0m\u001b[0mlista1\u001b[0m\u001b[0;34m.\u001b[0m\u001b[0mappend\u001b[0m\u001b[0;34m(\u001b[0m\u001b[0;36m2\u001b[0m\u001b[0;34m)\u001b[0m\u001b[0;34m;\u001b[0m\u001b[0mlista1\u001b[0m\u001b[0;34m.\u001b[0m\u001b[0mappend\u001b[0m\u001b[0;34m(\u001b[0m\u001b[0;36m10\u001b[0m\u001b[0;34m)\u001b[0m\u001b[0;34m\u001b[0m\u001b[0;34m\u001b[0m\u001b[0m\n\u001b[1;32m     19\u001b[0m \u001b[0mprint\u001b[0m\u001b[0;34m(\u001b[0m\u001b[0mlista1\u001b[0m\u001b[0;34m)\u001b[0m\u001b[0;34m\u001b[0m\u001b[0;34m\u001b[0m\u001b[0m\n\u001b[0;32m---> 20\u001b[0;31m \u001b[0mlista1\u001b[0m\u001b[0;34m.\u001b[0m\u001b[0mrecorridoSalteado\u001b[0m\u001b[0;34m(\u001b[0m\u001b[0;34m)\u001b[0m\u001b[0;34m\u001b[0m\u001b[0;34m\u001b[0m\u001b[0m\n\u001b[0m\u001b[1;32m     21\u001b[0m \u001b[0mprint\u001b[0m\u001b[0;34m(\u001b[0m\u001b[0mlista1\u001b[0m\u001b[0;34m)\u001b[0m\u001b[0;34m\u001b[0m\u001b[0;34m\u001b[0m\u001b[0m\n",
            "\u001b[0;32m<ipython-input-28-3af54f063a1b>\u001b[0m in \u001b[0;36mrecorridoSalteado\u001b[0;34m(self)\u001b[0m\n\u001b[1;32m     13\u001b[0m   \u001b[0;32mdef\u001b[0m \u001b[0mrecorridoSalteado\u001b[0m\u001b[0;34m(\u001b[0m\u001b[0mself\u001b[0m\u001b[0;34m)\u001b[0m\u001b[0;34m:\u001b[0m\u001b[0;34m\u001b[0m\u001b[0;34m\u001b[0m\u001b[0m\n\u001b[1;32m     14\u001b[0m     \u001b[0;32mif\u001b[0m \u001b[0;32mnot\u001b[0m \u001b[0mself\u001b[0m\u001b[0;34m.\u001b[0m\u001b[0mestaVacia\u001b[0m\u001b[0;34m(\u001b[0m\u001b[0;34m)\u001b[0m\u001b[0;34m:\u001b[0m\u001b[0;34m\u001b[0m\u001b[0;34m\u001b[0m\u001b[0m\n\u001b[0;32m---> 15\u001b[0;31m       \u001b[0mself\u001b[0m\u001b[0;34m.\u001b[0m\u001b[0mprimero\u001b[0m\u001b[0;34m.\u001b[0m\u001b[0meliminarOcurrencias\u001b[0m\u001b[0;34m(\u001b[0m\u001b[0mdato\u001b[0m\u001b[0;34m)\u001b[0m\u001b[0;34m\u001b[0m\u001b[0;34m\u001b[0m\u001b[0m\n\u001b[0m\u001b[1;32m     16\u001b[0m \u001b[0;34m\u001b[0m\u001b[0m\n\u001b[1;32m     17\u001b[0m \u001b[0mlista1\u001b[0m \u001b[0;34m=\u001b[0m \u001b[0mLista\u001b[0m\u001b[0;34m(\u001b[0m\u001b[0;34m)\u001b[0m\u001b[0;34m\u001b[0m\u001b[0;34m\u001b[0m\u001b[0m\n",
            "\u001b[0;31mNameError\u001b[0m: name 'dato' is not defined"
          ]
        }
      ]
    }
  ]
}