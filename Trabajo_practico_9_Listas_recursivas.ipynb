{
  "nbformat": 4,
  "nbformat_minor": 0,
  "metadata": {
    "colab": {
      "provenance": [],
      "include_colab_link": true
    },
    "kernelspec": {
      "name": "python3",
      "display_name": "Python 3"
    }
  },
  "cells": [
    {
      "cell_type": "markdown",
      "metadata": {
        "id": "view-in-github",
        "colab_type": "text"
      },
      "source": [
        "<a href=\"https://colab.research.google.com/github/RaTon84/Estructura-de-datos/blob/master/Trabajo_practico_9_Listas_recursivas.ipynb\" target=\"_parent\"><img src=\"https://colab.research.google.com/assets/colab-badge.svg\" alt=\"Open In Colab\"/></a>"
      ]
    },
    {
      "cell_type": "code",
      "metadata": {
        "id": "w5VuA0vG0g9m"
      },
      "source": [
        "class Lista:\n",
        "\n",
        "  ##################################################################\n",
        "  ##################################################################\n",
        "  ## TDA privado NodoLista\n",
        "  class __NodoLista:\n",
        "    def __init__(self, dato):\n",
        "      self.dato = dato\n",
        "      self.siguiente = None\n",
        "\n",
        "    def tieneSiguiente(self):\n",
        "      return self.siguiente != None\n",
        "\n",
        "    def siguiente():\n",
        "      return self.siguiente\n",
        "\n",
        "    def __repr__(self):\n",
        "      outStr = \" -> \" + str(self.dato)\n",
        "      if self.tieneSiguiente():\n",
        "        outStr += str(self.siguiente)\n",
        "      return outStr\n",
        "\n",
        "  ##################################################################\n",
        "  ##################################################################\n",
        "\n",
        "  #####TDA LISTA ENLAZADA RECURSIVA\n",
        "\n",
        "  ###Estructura de TDA Lista\n",
        "  def __init__(self):\n",
        "    self.primero = None\n",
        "\n",
        "  def estaVacia(self):\n",
        "    return self.primero == None\n",
        "\n",
        "  def __repr__(self):\n",
        "    \"primero -> 1 -> 2 -> 3 -|\"\n",
        "    outStr = \"primero\"\n",
        "    if not self.estaVacia():\n",
        "      outStr += str(self.primero)\n",
        "    outStr += \" -|\"\n",
        "    return outStr"
      ],
      "execution_count": 2,
      "outputs": []
    },
    {
      "cell_type": "code",
      "metadata": {
        "id": "5O3I7v1WFUfQ",
        "colab": {
          "base_uri": "https://localhost:8080/"
        },
        "outputId": "b657bf2c-6390-4041-cc7f-30b7797304b3"
      },
      "source": [
        "\n",
        "# implementar el metodo iesimo recursivo. que recibe una posicion\n",
        "# y devuelve el valor del nodo que esta en esa posicion\n",
        "\n",
        "# sugerencia, hacer la funcion en la clase lista que llame a la\n",
        "# funcion recursiva en la clase nodo\n",
        "\n",
        "\n",
        "class Lista(Lista):\n",
        "  class __NodoLista(Lista.__NodoLista):\n",
        "    def appendN(self, nodoNuevo):\n",
        "      if self.tieneSiguiente():\n",
        "        self.siguiente.appendN(nodoNuevo)\n",
        "      else:\n",
        "        self.siguiente = nodoNuevo\n",
        "\n",
        "    def longitudRN(self):\n",
        "      if self.siguiente == None:\n",
        "        return 1\n",
        "      else:\n",
        "        return 1 + (self.siguiente.longitudRN())\n",
        "        #  1+ (siguiente.longitudRN)\n",
        "        #  1+ ( 1+ (siguiente.longitudRN))\n",
        "        #  1+ ( 1+ (1 <-- caso base))\n",
        "\n",
        "    def iesimo(self, pos):\n",
        "      if (pos == 0):\n",
        "        return self.dato\n",
        "      else:\n",
        "        return self.siguiente.iesimo(pos-1)\n",
        "\n",
        "  def append(self, dato):\n",
        "    nodoNuevo = Lista.__NodoLista(dato)\n",
        "    if self.estaVacia():\n",
        "      self.primero = nodoNuevo\n",
        "    else:\n",
        "      self.primero.appendN(nodoNuevo)\n",
        "\n",
        "  def longitud(self):\n",
        "    cont = 0\n",
        "    aux = self.primero\n",
        "    while (aux != None):\n",
        "      cont +=1\n",
        "      aux = aux.siguiente\n",
        "    return cont\n",
        "\n",
        "  def longitudR(self):\n",
        "    if self.estaVacia():\n",
        "      return 0\n",
        "    else:\n",
        "      return self.primero.longitudRN()\n",
        "\n",
        "  def invertir(self):\n",
        "    ret = Lista()\n",
        "    for i in reversed(range(self.longitud())):\n",
        "      ret.append(self.iesimo(i))\n",
        "    return ret\n",
        "\n",
        "  def iesimo(self, pos):\n",
        "    if (pos == 0):\n",
        "      return self.primero.dato\n",
        "    else:\n",
        "      return self.primero.iesimo(pos)\n",
        "\n",
        "l = Lista()\n",
        "\n",
        "l.append(2);l.append(3);l.append(1);l.append(8);\n",
        "print(l)\n",
        "print(l.iesimo(2)) #\n",
        "print(l.invertir())\n",
        "\n",
        "#0 1 2\n",
        "#1,2,3 -> 3,2,1\n",
        "def invertir(self):\n",
        "  ret = Lista()\n",
        "  for i in reversed(range(self.tamaño())):\n",
        "    ret.append( self.iesimo(i)  )\n",
        "\n",
        "\n",
        "\n",
        "\n"
      ],
      "execution_count": 3,
      "outputs": [
        {
          "output_type": "stream",
          "name": "stdout",
          "text": [
            "primero -> 2 -> 3 -> 1 -> 8 -|\n",
            "1\n",
            "primero -> 8 -> 1 -> 3 -> 2 -|\n"
          ]
        }
      ]
    },
    {
      "cell_type": "code",
      "metadata": {
        "id": "Obr2iiCMLc8w",
        "colab": {
          "base_uri": "https://localhost:8080/"
        },
        "outputId": "1d7a024a-5aa8-4723-c885-9902210e4c4f"
      },
      "source": [
        "class Lista(Lista):\n",
        "\n",
        "  class __NodoLista(Lista.__NodoLista):\n",
        "    def recPre(self):\n",
        "      print(self.dato)\n",
        "      if self.tieneSiguiente():\n",
        "        self.siguiente.recPre()\n",
        "\n",
        "  def recPre(self):\n",
        "    if not self.estaVacia():\n",
        "      self.primero.recPre()\n",
        "\n",
        "l = Lista()\n",
        "l.append(2);l.append(3);l.append(1);l.append(8);\n",
        "print(l)\n",
        "l.recPre()"
      ],
      "execution_count": 4,
      "outputs": [
        {
          "output_type": "stream",
          "name": "stdout",
          "text": [
            "primero -> 2 -> 3 -> 1 -> 8 -|\n",
            "2\n",
            "3\n",
            "1\n",
            "8\n"
          ]
        }
      ]
    },
    {
      "cell_type": "code",
      "metadata": {
        "id": "2YFeAi7mma31",
        "colab": {
          "base_uri": "https://localhost:8080/"
        },
        "outputId": "ca4054f7-acdc-4465-fad8-148247711e33"
      },
      "source": [
        "class Lista(Lista):\n",
        "\n",
        "  class __NodoLista(Lista.__NodoLista):\n",
        "    def recPost(self):\n",
        "      if self.tieneSiguiente():\n",
        "        print(\"apilo \" + str(self.dato))\n",
        "        self.siguiente.recPost()\n",
        "      print(self.dato)\n",
        "\n",
        "  def recPost(self):\n",
        "    if not self.estaVacia():\n",
        "      self.primero.recPost()\n",
        "\n",
        "l = Lista()\n",
        "l.append(2);l.append(3);l.append(1);l.append(8);l.append(-18);\n",
        "print(l)\n",
        "l.recPost()"
      ],
      "execution_count": 8,
      "outputs": [
        {
          "output_type": "stream",
          "name": "stdout",
          "text": [
            "primero -> 2 -> 3 -> 1 -> 8 -> -18 -|\n",
            "apilo 2\n",
            "apilo 3\n",
            "apilo 1\n",
            "apilo 8\n",
            "-18\n",
            "8\n",
            "1\n",
            "3\n",
            "2\n"
          ]
        }
      ]
    },
    {
      "cell_type": "code",
      "metadata": {
        "id": "vgWQ1XWsFcUH",
        "colab": {
          "base_uri": "https://localhost:8080/"
        },
        "outputId": "0da5a96a-2def-4d36-e70d-a67ae7767df8"
      },
      "source": [
        "class Lista(Lista):\n",
        "\n",
        "  class __NodoLista(Lista.__NodoLista):\n",
        "    def len(self): #  Nodo.len\n",
        "      cant = 0\n",
        "      if not self.tieneSiguiente():\n",
        "        cant = 1\n",
        "      else:\n",
        "        cant = 1 + self.siguiente.len()\n",
        "      return cant\n",
        "\n",
        "  def len(self): # Lista.len\n",
        "    cant = 0\n",
        "    if not self.estaVacia():\n",
        "      cant = self.primero.len()\n",
        "    return cant\n",
        "\n",
        "l = Lista()\n",
        "l.append(2);l.append(3);l.append(1);l.append(8);\n",
        "print(l)\n",
        "l.len()"
      ],
      "execution_count": 9,
      "outputs": [
        {
          "output_type": "stream",
          "name": "stdout",
          "text": [
            "primero -> 2 -> 3 -> 1 -> 8 -|\n"
          ]
        },
        {
          "output_type": "execute_result",
          "data": {
            "text/plain": [
              "4"
            ]
          },
          "metadata": {},
          "execution_count": 9
        }
      ]
    },
    {
      "cell_type": "code",
      "metadata": {
        "id": "oKgMMMCAFePS",
        "colab": {
          "base_uri": "https://localhost:8080/"
        },
        "outputId": "2bb24545-c48a-4751-e361-af4156fcd5c7"
      },
      "source": [
        "class Lista(Lista):\n",
        "\n",
        "  class __NodoLista(Lista.__NodoLista):\n",
        "    def getDato(self, getPos, actPos = 0):\n",
        "      dato = None\n",
        "      if actPos == getPos:\n",
        "        dato = self.dato\n",
        "      else:\n",
        "        dato = self.siguiente.getDato(getPos, actPos+1)\n",
        "      return dato\n",
        "\n",
        "  def __getitem__(self, pos):\n",
        "    if 0 <= pos < self.len():\n",
        "      return self.primero.getDato(pos)\n",
        "    else:\n",
        "      raise Exception(\"Posicion invalida\")\n",
        "\n",
        "l = Lista()\n",
        "l.append(2);l.append(3);l.append(1);l.append(8);\n",
        "print(l)\n",
        "print(str(l[2]) +\";\"+ str(l[3]))"
      ],
      "execution_count": 10,
      "outputs": [
        {
          "output_type": "stream",
          "name": "stdout",
          "text": [
            "primero -> 2 -> 3 -> 1 -> 8 -|\n",
            "1;8\n"
          ]
        }
      ]
    },
    {
      "cell_type": "code",
      "metadata": {
        "id": "vEtA2OSZFed0",
        "colab": {
          "base_uri": "https://localhost:8080/"
        },
        "outputId": "4b47a81e-e33c-47b4-94d3-bcf1dc29c304"
      },
      "source": [
        "class Lista(Lista):\n",
        "\n",
        "  class __NodoLista(Lista.__NodoLista):\n",
        "    def delete(self, delPos, actPos = 0):\n",
        "      if actPos == delPos-1:\n",
        "        self.siguiente = self.siguiente.siguiente\n",
        "      else:\n",
        "        self.siguiente.delete(delPos, actPos+1)\n",
        "\n",
        "\n",
        "\n",
        "  def delete(self, pos):\n",
        "    if 0 <= pos < self.len():\n",
        "      if pos == 0:\n",
        "        self.primero = self.primero.siguiente\n",
        "      else:\n",
        "        self.primero.delete(pos)\n",
        "    else:\n",
        "      raise Exception(\"Posicion invalida\")\n",
        "\n",
        "\n",
        "\n",
        "l = Lista()\n",
        "l.append(2);l.append(2);l.append(3);l.append(2);l.append(8);l.append(2);l.append(8);l.append(2);\n",
        "print(l)\n",
        "# l.delOcurr(2)\n",
        "print(l)\n",
        "\n"
      ],
      "execution_count": 11,
      "outputs": [
        {
          "output_type": "stream",
          "name": "stdout",
          "text": [
            "primero -> 2 -> 2 -> 3 -> 2 -> 8 -> 2 -> 8 -> 2 -|\n",
            "primero -> 2 -> 2 -> 3 -> 2 -> 8 -> 2 -> 8 -> 2 -|\n"
          ]
        }
      ]
    },
    {
      "cell_type": "markdown",
      "source": [
        "### **Ejercicio 3**\n",
        "\n",
        "Escribir la operación del TDA Lista **buscaElemento()** que busque un elemento que recibe por parámetro. La operación debe retornar una lista con las ubicaciones del elemento en la lista de entrada.\n",
        "\n",
        "Por ejemplo:\n",
        "\n",
        "**lista1** = [ 2 , 2 , 1 , 4 , 2 , 8 , 9 , 2 , 10]\n",
        "\n",
        "**posiciones = lista1.buscaElemento(2)**\n",
        "\n",
        "Entonces, **posiciones** = [ 0 , 1 , 4 , 7 ]"
      ],
      "metadata": {
        "id": "Bljl4S-MvWiW"
      }
    },
    {
      "cell_type": "code",
      "source": [
        "class Lista(Lista):\n",
        "\n",
        "  def buscaElemento(self, dato):\n",
        "    posiciones = Lista()\n",
        "    if not self.estaVacia():\n",
        "      self.primero.buscaElementoNodo(dato,posiciones)\n",
        "    # print(\"Salida: \" + str(posiciones)+ \"\\n\") #######################\n",
        "    return posiciones\n",
        "\n",
        "  class __NodoLista(Lista.__NodoLista):\n",
        "    def buscaElementoNodo(self, dato, posiciones, pos=0):\n",
        "      if self.tieneSiguiente():\n",
        "        if self.dato == dato:\n",
        "          # print(pos)    #######################\n",
        "          posiciones.append(pos)\n",
        "        self.siguiente.buscaElementoNodo(dato, posiciones, pos+1)\n",
        "\n",
        "lista1 = Lista()\n",
        "lista1.append(2);lista1.append(2);lista1.append(1);lista1.append(4),lista1.append(2);lista1.append(8);lista1.append(9);lista1.append(2);lista1.append(10)\n",
        "print(lista1)\n",
        "lista1.buscaElemento(2)"
      ],
      "metadata": {
        "colab": {
          "base_uri": "https://localhost:8080/"
        },
        "id": "5bZj83mNvehl",
        "outputId": "bff381c5-f24d-4045-9ffb-432393b9408c"
      },
      "execution_count": 18,
      "outputs": [
        {
          "output_type": "stream",
          "name": "stdout",
          "text": [
            "primero -> 2 -> 2 -> 1 -> 4 -> 2 -> 8 -> 9 -> 2 -> 10 -|\n"
          ]
        },
        {
          "output_type": "execute_result",
          "data": {
            "text/plain": [
              "primero -> 0 -> 1 -> 4 -> 7 -|"
            ]
          },
          "metadata": {},
          "execution_count": 18
        }
      ]
    },
    {
      "cell_type": "markdown",
      "source": [
        "### **Ejercicio 4**\n",
        "\n",
        "Escribir una operación del TDA Lista que elimine todas las ocurrencias de un elemento que recibe por parámetro y devuelva la cantidad de veces que se elimino el elemento. Se deben eliminar todos los nodos que contengan al elemento.\n",
        "\n",
        "Por ejemplo:\n",
        "\n",
        "**lista1** = [ 2 , 2 , 1 , 4 , 2 , 2 , 8 , 9 , 2 , 10]\n",
        "\n",
        "**cant = lista1.eliminarOcurrencias(2)**\n",
        "\n",
        "Entonces, **cant** = 5  y **lista1** = [ 1 , 4 , 8 , 9 , 10 ]\n"
      ],
      "metadata": {
        "id": "4pJLfDSDtor0"
      }
    },
    {
      "cell_type": "code",
      "source": [
        "# lista1 = [ 1 , 4 , 1 , 9 , 10 ]\n",
        "\n",
        "# cont = 1  y se llama con  [ 4 , 1 , 9 , 10 ]\n",
        "# cont = 2  y se llama con  [ 4 , 9 , 10 ]\n",
        "# cont = 2       0 + 2\n",
        "\n",
        "class Lista(Lista):\n",
        "  def eliminarOcurrencias(self,dato):\n",
        "    if not self.estaVacia():\n",
        "      self.primero.eliminarOcurrencias(dato)\n",
        "\n",
        "  class __NodoLista(Lista.__NodoLista):\n",
        "    def eliminarOcurrencias(self,dato):\n",
        "      if self.primero == dato:\n",
        "        self.primero\n",
        "      if self.tieneSiguiente():\n",
        "        self.siguiente.eliminarOcurrencias(dato)\n",
        "        if self.siguiente.dato == dato:\n",
        "          self.siguiente = self.siguiente.siguiente\n",
        "          # print(self.dato,pos)\n",
        "          # self.delete(pos)\n",
        "\n",
        "      #crear lista con posisciones\n",
        "\n",
        "lista1 = Lista()\n",
        "lista1.append(2);lista1.append(2);lista1.append(1);lista1.append(4),lista1.append(2);lista1.append(8);lista1.append(9);lista1.append(2);lista1.append(10)\n",
        "print(lista1)\n",
        "lista1.eliminarOcurrencias(2)\n",
        "print(lista1)"
      ],
      "metadata": {
        "id": "4xzMiyOctx1R",
        "outputId": "172b8b0f-5905-4b05-eaea-e97015f8c316",
        "colab": {
          "base_uri": "https://localhost:8080/"
        }
      },
      "execution_count": 7,
      "outputs": [
        {
          "output_type": "stream",
          "name": "stdout",
          "text": [
            "primero -> 2 -> 2 -> 1 -> 4 -> 2 -> 8 -> 9 -> 2 -> 10 -|\n",
            "primero -> 2 -> 1 -> 4 -> 8 -> 9 -> 10 -|\n"
          ]
        }
      ]
    },
    {
      "cell_type": "markdown",
      "source": [
        "### **Ejercicio 6**\n",
        "\n",
        "Escribir una operación del TDA Lista que reemplace todas las ocurrencias de un numero por otro. Ambos números los recibe por parámetro.\n",
        "\n",
        "Por ejemplo:\n",
        "\n",
        "\n",
        "**lista1** = [ 2 , 1 , 4 , 8 , 9 , 2 , 5 , 12 , 10]\n",
        "\n",
        "**lista1.reemplazar(2,3)** #Reemplaza todos los 2 por 3\n",
        "\n",
        "Entonces, **lista1** = [ 3 , 1 , 4 , 8 , 9 , 3 , 5 , 12 , 10 ]"
      ],
      "metadata": {
        "id": "KbHxiepF3vD1"
      }
    },
    {
      "cell_type": "code",
      "source": [],
      "metadata": {
        "id": "9crqR_oJ3wgc"
      },
      "execution_count": null,
      "outputs": []
    },
    {
      "cell_type": "markdown",
      "source": [
        "### **Ejercicio 8**\n",
        "\n",
        "Los recorridos de listas normalmente pasan por todos los nodos, empezando por el primero, luego al siguiente, etc, como en la siguiente figura:\n",
        "\n",
        "\n",
        "![texto alternativo](https://i.ibb.co/DD1SXP9/recorrido-lista.png)\n",
        "\n",
        "\n",
        "Escribir una operación del TDA Lista que recorra la lista salteandose de a un nodo y mostrando por pantalla los elementos de los nodos visitados. El recorrido debe ser asi:\n",
        "\n",
        "![texto alternativo](https://i.ibb.co/q7xjDkZ/recorrido-salteado-lista.png)\n",
        "\n",
        "Por ejemplo:\n",
        "\n",
        "**lista1** = [ 2 , 1 , 4 , 8 , 9 , 12 , 5 , 8 ]\n",
        "\n",
        "**lista1.recorridoSalteado()**\n",
        "\n",
        "2\n",
        "\n",
        "4\n",
        "\n",
        "9\n",
        "\n",
        "5\n",
        "\n",
        "\n",
        "**Nota: No es correcto hacer un recorrido secuencial e ir contando las posiciones, lo correcto es solo visitar los nodos que nos interesan**"
      ],
      "metadata": {
        "id": "0GbJmbh9tyew"
      }
    },
    {
      "cell_type": "code",
      "source": [
        "class Lista(Lista):\n",
        "\n",
        "  class __NodoLista(Lista.__NodoLista):\n",
        "    def recorridoSalteado(self):\n",
        "      print(self.dato)\n",
        "      if self.tieneSiguiente() and self.siguiente.tieneSiguiente():\n",
        "        self.siguiente.siguiente.recorridoSalteado()\n",
        "\n",
        "  def recorridoSalteado(self):\n",
        "    if not self.estaVacia():\n",
        "      self.primero.recorridoSalteado()\n",
        "\n",
        "lista1 = Lista()\n",
        "lista1.append(2);lista1.append(1);lista1.append(4);lista1.append(8),lista1.append(9);lista1.append(12);lista1.append(5);lista1.append(8)\n",
        "print(lista1)\n",
        "lista1.recorridoSalteado()\n",
        "print(lista1)"
      ],
      "metadata": {
        "id": "18YXNigmt5nm",
        "outputId": "00313a65-ddd3-4c8c-a583-9919a0b42da1",
        "colab": {
          "base_uri": "https://localhost:8080/"
        }
      },
      "execution_count": null,
      "outputs": [
        {
          "output_type": "stream",
          "name": "stdout",
          "text": [
            "primero -> 2 -> 1 -> 4 -> 8 -> 9 -> 12 -> 5 -> 8 -|\n",
            "2\n",
            "4\n",
            "9\n",
            "5\n",
            "primero -> 2 -> 1 -> 4 -> 8 -> 9 -> 12 -> 5 -> 8 -|\n"
          ]
        }
      ]
    },
    {
      "cell_type": "markdown",
      "source": [
        "### **Ejercicio 9**\n",
        "\n",
        "Vamos con otro tipo de recorrido de listas, escribir una operación del TDA Lista que recorra la lista de la siguiente manera (mientras va imprimiendo los elementos del nodo visitado):\n",
        "- Si el elemento del nodo visitado es par, seguimos por el siguiente\n",
        "- Si el elemento del nodo visitado es impar, nos salteamos el siguiente y seguimos con el otro\n",
        "\n",
        "El recorrido debe ser asi:\n",
        "\n",
        "![texto alternativo](https://i.ibb.co/DkBKs5M/recorrido-salteadopar-lista.png)\n",
        "\n",
        "Por ejemplo:\n",
        "\n",
        "**lista1** = [ 2 , 5 , 1 , 9 , 8 , 10 , 7 ]\n",
        "\n",
        "**lista1.recorridoParImpar()**\n",
        "\n",
        "2\n",
        "\n",
        "5\n",
        "\n",
        "9\n",
        "\n",
        "10\n",
        "\n",
        "7"
      ],
      "metadata": {
        "id": "KeItdgtq3yUm"
      }
    },
    {
      "cell_type": "code",
      "source": [],
      "metadata": {
        "id": "7GZlz6yb36iB"
      },
      "execution_count": null,
      "outputs": []
    }
  ]
}