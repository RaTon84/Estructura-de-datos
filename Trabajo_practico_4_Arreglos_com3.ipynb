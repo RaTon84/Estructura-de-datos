{
  "cells": [
    {
      "cell_type": "markdown",
      "metadata": {
        "id": "view-in-github",
        "colab_type": "text"
      },
      "source": [
        "<a href=\"https://colab.research.google.com/github/RaTon84/Estructura-de-datos/blob/master/Trabajo_practico_4_Arreglos_com3.ipynb\" target=\"_parent\"><img src=\"https://colab.research.google.com/assets/colab-badge.svg\" alt=\"Open In Colab\"/></a>"
      ]
    },
    {
      "cell_type": "markdown",
      "metadata": {
        "id": "42630xxYD0gZ"
      },
      "source": [
        "# ![alt text](https://upload.wikimedia.org/wikipedia/commons/thumb/c/c3/Python-logo-notext.svg/50px-Python-logo-notext.svg.png) **Trabajo Práctico 4: Arreglos uni y multidimensionales** ![alt text](https://upload.wikimedia.org/wikipedia/commons/thumb/c/c3/Python-logo-notext.svg/50px-Python-logo-notext.svg.png)\n",
        "\n",
        "En este trabajo práctico, vamos a trabajar con arreglos uni y multidimensionales en Python. Recuerden crear una copia de este archivo en su ***Google Drive*** para tener permisos de edición.\n",
        "\n",
        "###**florencia.dias@unahur.edu.ar**\n",
        "\n"
      ]
    },
    {
      "cell_type": "markdown",
      "source": [
        "## **Declaracion de vectores y matrices**"
      ],
      "metadata": {
        "id": "qofK30OIX86e"
      }
    },
    {
      "cell_type": "code",
      "source": [
        "import numpy as np # np hace refencia a numpy\n",
        "\n",
        "vector = np.zeros(10, int) # declaramos un vector de 10 enteros\n",
        "\n",
        "print(\"Vector\")\n",
        "print(vector) # lo imprimimos\n",
        "\n",
        "matriz = np.zeros((3,4), int) # declaramos una matriz con 3 filas y 4 columnas, cargadas con 0\n",
        "\n",
        "print(\"\\nMatriz\")\n",
        "print(matriz)"
      ],
      "metadata": {
        "id": "y7VRPWwXKmnE",
        "colab": {
          "base_uri": "https://localhost:8080/"
        },
        "outputId": "a03b1261-7da3-4cb1-9b97-5867d9a8db90"
      },
      "execution_count": null,
      "outputs": [
        {
          "output_type": "stream",
          "name": "stdout",
          "text": [
            "Vector\n",
            "[0 0 0 0 0 0 0 0 0 0]\n",
            "\n",
            "Matriz\n",
            "[[0 0 0 0]\n",
            " [0 0 0 0]\n",
            " [0 0 0 0]]\n"
          ]
        }
      ]
    },
    {
      "cell_type": "markdown",
      "source": [
        "## **Acceso con indices / posiciones**"
      ],
      "metadata": {
        "id": "AYJsM_GolA69"
      }
    },
    {
      "cell_type": "code",
      "source": [
        "import numpy as np\n",
        "\n",
        "########### Unidimencionales ###########\n",
        "print(\"########### Unidimencionales ###########\")\n",
        "\n",
        "vector = np.zeros(10, int) # declaramos un vector de 10 enteros\n",
        "\n",
        "print(\"Vector de ceros\")\n",
        "print(vector) # lo imprimimos\n",
        "\n",
        "vector[0] = 20 # en la posicion 0 le cargamos un 20\n",
        "vector[5] = 10 # en la posicion 5 le cargamos un 10\n",
        "#vector[10] = 58 # la posicion 10 no existe, porque llega hasta 9, deberia de dar un error\n",
        "\n",
        "print(\"Vector con modificaciones\")\n",
        "print(vector)\n",
        "#print(vector[2:6]) # accedemos al elemento utilizando rangos, de 2 hasta 5\n",
        "\n",
        "########### Bidimencionales ###########\n",
        "print(\"########### Bidimencionales ###########\")\n",
        "\n",
        "matriz = np.zeros((3,4), int) # declaramos una matriz\n",
        "\n",
        "print(\"Matriz de ceros \")\n",
        "print(matriz) # imprimimos matriz de ceros\n",
        "\n",
        "matriz[0][0] = 20 # en la posicion fila 0 columna 0 cargamos 20\n",
        "matriz[0][2] = 10 # en la posicion fila 0 columna 2 cargamos 10\n",
        "matriz[1][3] = 50 # en la posicion fila 1 columna 3 cargamos 50\n",
        "\n",
        "print(\"Matriz con modificaciones\")\n",
        "print(matriz) # imprimimos matriz modificada\n",
        "print(\"Primer fila (matriz[0])\")\n",
        "print(matriz[0])\n",
        "print(\"Segunda fila (matriz[1])\")\n",
        "print(matriz[1])\n",
        "print(\"Elemento fila 1 columna 3\")\n",
        "print(matriz[1][3])"
      ],
      "metadata": {
        "id": "u62X8W3Avvkr",
        "colab": {
          "base_uri": "https://localhost:8080/"
        },
        "outputId": "3fe491da-410e-4a35-bb4f-a41cec078cf3"
      },
      "execution_count": null,
      "outputs": [
        {
          "output_type": "stream",
          "name": "stdout",
          "text": [
            "########### Unidimencionales ###########\n",
            "Vector de ceros\n",
            "[0 0 0 0 0 0 0 0 0 0]\n",
            "Vector con modificaciones\n",
            "[20  0  0  0  0 10  0  0  0  0]\n",
            "########### Bidimencionales ###########\n",
            "Matriz de ceros \n",
            "[[0 0 0 0]\n",
            " [0 0 0 0]\n",
            " [0 0 0 0]]\n",
            "Matriz con modificaciones\n",
            "[[20  0 10  0]\n",
            " [ 0  0  0 50]\n",
            " [ 0  0  0  0]]\n",
            "Primer fila (matriz[0])\n",
            "[20  0 10  0]\n",
            "Segunda fila (matriz[1])\n",
            "[ 0  0  0 50]\n",
            "Elemento fila 1 columna 3\n",
            "50\n"
          ]
        }
      ]
    },
    {
      "cell_type": "markdown",
      "source": [
        "## **Medicion de dimenciones**"
      ],
      "metadata": {
        "id": "DDHSVPXoqo2M"
      }
    },
    {
      "cell_type": "code",
      "source": [
        "import numpy as np\n",
        "\n",
        "########### Unidimencionales ###########\n",
        "print(\"########### Unidimencionales ###########\")\n",
        "\n",
        "vector = np.zeros(10, int)\n",
        "\n",
        "print(\"Vector de ceros\")\n",
        "print(vector)\n",
        "print(\"Longitud de vector (cantidad de elementos)\")\n",
        "print(len(vector))\n",
        "print(\"Dimension del vector\")\n",
        "print(vector.shape)\n",
        "\n",
        "\n",
        "########### Bidimencionales ###########\n",
        "print(\"########### Bidimencionales ###########\")\n",
        "\n",
        "matriz = np.zeros((3,4), int)\n",
        "\n",
        "print(\"Matriz de ceros \")\n",
        "print(matriz)\n",
        "\n",
        "print(\"Cantidad de filas\")\n",
        "print(len(matriz))\n",
        "print(\"Cantidad de columnas\")\n",
        "print(len(matriz[0]))\n",
        "print(\"Dimension de matriz\")\n",
        "print(matriz.shape)\n",
        "(filas,columnas) = matriz.shape # nos guardamos la cant de filas y columnas en dos variables enteras\n",
        "print(filas)\n",
        "print(columnas)"
      ],
      "metadata": {
        "colab": {
          "base_uri": "https://localhost:8080/"
        },
        "id": "a6PUj-1Xqt6F",
        "outputId": "e95e3d23-dd63-49bc-917d-941c642e6332"
      },
      "execution_count": null,
      "outputs": [
        {
          "output_type": "stream",
          "name": "stdout",
          "text": [
            "########### Unidimencionales ###########\n",
            "Vector de ceros\n",
            "[0 0 0 0 0 0 0 0 0 0]\n",
            "Longitud de vector (cantidad de elementos)\n",
            "10\n",
            "Dimension del vector\n",
            "(10,)\n",
            "########### Bidimencionales ###########\n",
            "Matriz de ceros \n",
            "[[0 0 0 0]\n",
            " [0 0 0 0]\n",
            " [0 0 0 0]]\n",
            "Cantidad de filas\n",
            "3\n",
            "Cantidad de columnas\n",
            "4\n",
            "Dimension de matriz\n",
            "(3, 4)\n",
            "3\n",
            "4\n"
          ]
        }
      ]
    },
    {
      "cell_type": "markdown",
      "source": [
        "## **Recorridos de vectores**"
      ],
      "metadata": {
        "id": "n8uHAw5FtrZ4"
      }
    },
    {
      "cell_type": "code",
      "source": [
        "import numpy as np\n",
        "\n",
        "vector = np.array([3,5,1,8,14]) # declaramos vector de enteros\n",
        "\n",
        "print(vector)\n",
        "print(\"Recorrido sobre elementos directamente (sentido directo)\")\n",
        "for elemento in vector:\n",
        "  print(elemento)\n",
        "\n",
        "print(\"\\n\", vector)\n",
        "print(\"Recorrido sobre elementos directamente (sentido inverso)\")\n",
        "for elemento in reversed(vector):\n",
        "  print(elemento)\n",
        "\n",
        "print(\"\\n\", vector)\n",
        "print(\"Recorrido usando indices / posiciones (sentido directo)\")\n",
        "for posicion in range(len(vector)): #len de vector es 5, el rango de 0 hasta 4\n",
        "  print(\"Posicion: \", posicion) # imprime el valor de posicion (0,1,2,3,4)\n",
        "  print(vector[posicion]) # imprimi el elemento del vector en esa posicion\n",
        "\n",
        "print(\"\\n\", vector)\n",
        "print(\"Recorrido usando indices / posiciones (sentido inverso)\")\n",
        "for posicion in reversed(range(len(vector))):\n",
        "  print(\"Posicion: \", posicion)\n",
        "  print(vector[posicion])"
      ],
      "metadata": {
        "colab": {
          "base_uri": "https://localhost:8080/"
        },
        "id": "EsYQwLChtw9l",
        "outputId": "2070bc5b-0b32-423b-984f-e2bc699efa5b"
      },
      "execution_count": null,
      "outputs": [
        {
          "output_type": "stream",
          "name": "stdout",
          "text": [
            "[ 3  5  1  8 14]\n",
            "Recorrido sobre elementos directamente (sentido directo)\n",
            "3\n",
            "5\n",
            "1\n",
            "8\n",
            "14\n",
            "\n",
            " [ 3  5  1  8 14]\n",
            "Recorrido sobre elementos directamente (sentido inverso)\n",
            "14\n",
            "8\n",
            "1\n",
            "5\n",
            "3\n",
            "\n",
            " [ 3  5  1  8 14]\n",
            "Recorrido usando indices / posiciones (sentido directo)\n",
            "Posicion:  0\n",
            "3\n",
            "Posicion:  1\n",
            "5\n",
            "Posicion:  2\n",
            "1\n",
            "Posicion:  3\n",
            "8\n",
            "Posicion:  4\n",
            "14\n",
            "\n",
            " [ 3  5  1  8 14]\n",
            "Recorrido usando indices / posiciones (sentido inverso)\n",
            "Posicion:  4\n",
            "14\n",
            "Posicion:  3\n",
            "8\n",
            "Posicion:  2\n",
            "1\n",
            "Posicion:  1\n",
            "5\n",
            "Posicion:  0\n",
            "3\n"
          ]
        }
      ]
    },
    {
      "cell_type": "markdown",
      "source": [
        "## **Recorridos de matrices**"
      ],
      "metadata": {
        "id": "ZFWbtVO4xDi2"
      }
    },
    {
      "cell_type": "code",
      "source": [
        "import numpy as np\n",
        "\n",
        "matriz = np.array([[3,5,1],[2,8,14],[12,3,9],[23,4,0]]) # generamos matriz de 4 filas y 3 columnas\n",
        "\n",
        "print(matriz)\n",
        "print(\"\\nRecorrido sobre elementos directamente (sentido directo)\")\n",
        "for fila in matriz: # en la primera iteracion entra a la primer fila\n",
        "  for elemento in fila:\n",
        "    print(elemento)\n",
        "\n",
        "print(\"\\n\", matriz)\n",
        "print(\"Recorrido sobre elementos directamente (sentido inverso)\")\n",
        "for fila in reversed(matriz): # en la primera iteracion entra a la ultima fila\n",
        "  for elemento in reversed(fila):\n",
        "    print(elemento)\n",
        "\n",
        "print(\"\\n\", matriz)\n",
        "print(\"Recorrido usando indices / posiciones (sentido directo)\")\n",
        "for posicionFila in range(len(matriz)): #len de matriz es la cantidad de filas, y el  rango es 0,1,2 y 3\n",
        "  for posicionColumna in range(len(matriz[posicionFila])): # para cada fila hacemos un rango por columnas, 0,1 y 2\n",
        "    print(\"Posicion:\", posicionFila,\",\", posicionColumna)\n",
        "    print(matriz[posicionFila][posicionColumna])\n",
        "\n",
        "print(\"\\n\", matriz)\n",
        "print(\"Recorrido usando indices / posiciones (sentido inverso)\")\n",
        "for posicionFila in reversed(range(len(matriz))): #\n",
        "  for posicionColumna in reversed(range(len(matriz[posicionFila]))):\n",
        "    print(\"Posicion:\", posicionFila,\",\", posicionColumna)\n",
        "    print(matriz[posicionFila][posicionColumna])"
      ],
      "metadata": {
        "colab": {
          "base_uri": "https://localhost:8080/"
        },
        "id": "n2qOz1fLxG0F",
        "outputId": "66b2932e-d788-43c9-95f8-2e59e8aa0109"
      },
      "execution_count": null,
      "outputs": [
        {
          "output_type": "stream",
          "name": "stdout",
          "text": [
            "[[ 3  5  1]\n",
            " [ 2  8 14]\n",
            " [12  3  9]\n",
            " [23  4  0]]\n",
            "\n",
            "Recorrido sobre elementos directamente (sentido directo)\n",
            "3\n",
            "5\n",
            "1\n",
            "2\n",
            "8\n",
            "14\n",
            "12\n",
            "3\n",
            "9\n",
            "23\n",
            "4\n",
            "0\n",
            "\n",
            " [[ 3  5  1]\n",
            " [ 2  8 14]\n",
            " [12  3  9]\n",
            " [23  4  0]]\n",
            "Recorrido sobre elementos directamente (sentido inverso)\n",
            "0\n",
            "4\n",
            "23\n",
            "9\n",
            "3\n",
            "12\n",
            "14\n",
            "8\n",
            "2\n",
            "1\n",
            "5\n",
            "3\n",
            "\n",
            " [[ 3  5  1]\n",
            " [ 2  8 14]\n",
            " [12  3  9]\n",
            " [23  4  0]]\n",
            "Recorrido usando indices / posiciones (sentido directo)\n",
            "Posicion: 0 , 0\n",
            "3\n",
            "Posicion: 0 , 1\n",
            "5\n",
            "Posicion: 0 , 2\n",
            "1\n",
            "Posicion: 1 , 0\n",
            "2\n",
            "Posicion: 1 , 1\n",
            "8\n",
            "Posicion: 1 , 2\n",
            "14\n",
            "Posicion: 2 , 0\n",
            "12\n",
            "Posicion: 2 , 1\n",
            "3\n",
            "Posicion: 2 , 2\n",
            "9\n",
            "Posicion: 3 , 0\n",
            "23\n",
            "Posicion: 3 , 1\n",
            "4\n",
            "Posicion: 3 , 2\n",
            "0\n",
            "\n",
            " [[ 3  5  1]\n",
            " [ 2  8 14]\n",
            " [12  3  9]\n",
            " [23  4  0]]\n",
            "Recorrido usando indices / posiciones (sentido inverso)\n",
            "Posicion: 3 , 2\n",
            "0\n",
            "Posicion: 3 , 1\n",
            "4\n",
            "Posicion: 3 , 0\n",
            "23\n",
            "Posicion: 2 , 2\n",
            "9\n",
            "Posicion: 2 , 1\n",
            "3\n",
            "Posicion: 2 , 0\n",
            "12\n",
            "Posicion: 1 , 2\n",
            "14\n",
            "Posicion: 1 , 1\n",
            "8\n",
            "Posicion: 1 , 0\n",
            "2\n",
            "Posicion: 0 , 2\n",
            "1\n",
            "Posicion: 0 , 1\n",
            "5\n",
            "Posicion: 0 , 0\n",
            "3\n"
          ]
        }
      ]
    },
    {
      "cell_type": "markdown",
      "source": [
        "## **Arreglos de caracteres y tipo str**"
      ],
      "metadata": {
        "id": "brR8QSkl1rMl"
      }
    },
    {
      "cell_type": "code",
      "source": [
        "import numpy as np\n",
        "\n",
        "########### Arreglos de caracteres ###########\n",
        "print(\"########### Arreglos de caracteres ###########\")\n",
        "\n",
        "cadena = np.array([\"h\",\"o\",\"l\",\"a\"]) # declaramos arreglo de caracteres\n",
        "\n",
        "print(cadena)\n",
        "cadena [1] = \"f\" # modificamos el elemento en posion 1\n",
        "print(cadena)\n",
        "\n",
        "########### Tipo Str ###########\n",
        "print(\"########### Tipo Str ###########\")\n",
        "\n",
        "cadenaStr = \"hola\"  # declaramos una variable de tipo str\n",
        "\n",
        "print(cadenaStr)\n",
        "print(cadenaStr[0]) # accedemos al elemento en posicion 0, podemos leer\n",
        "\n",
        "#cadenaStr[1] = \"f\" # no me deja ya que es inmutable, no se puede modificar, no se puede escribir"
      ],
      "metadata": {
        "colab": {
          "base_uri": "https://localhost:8080/"
        },
        "id": "tfWd1D3G1zpC",
        "outputId": "996904e1-8d6a-48f2-8316-fabcebfbd73a"
      },
      "execution_count": null,
      "outputs": [
        {
          "output_type": "stream",
          "name": "stdout",
          "text": [
            "########### Arreglos de caracteres ###########\n",
            "['h' 'o' 'l' 'a']\n",
            "['h' 'f' 'l' 'a']\n",
            "########### Tipo Str ###########\n",
            "hola\n",
            "h\n"
          ]
        }
      ]
    },
    {
      "cell_type": "markdown",
      "source": [
        "## **Cosas a tener en cuenta**"
      ],
      "metadata": {
        "id": "Gh6FXspK38Ie"
      }
    },
    {
      "cell_type": "code",
      "source": [
        "import numpy as np\n",
        "\n",
        "vector1 = np.array([2,3,6,1])\n",
        "vector2 = vector1 # nueva refencia que vector 1, pero la posicion en memoria es la misma\n",
        "\n",
        "print(\"Vector1 = \", vector1)\n",
        "print(\"Vector2 = \", vector2)\n",
        "\n",
        "print(\"\\nModificamos solo a vector 1\")\n",
        "\n",
        "vector1[1] = 200\n",
        "\n",
        "print(\"Vector1 = \", vector1) # si modifico vector 1, modifico vector 2  viceversa\n",
        "print(\"Vector2 = \", vector2)\n",
        "\n",
        "######### solucion\n",
        "# vector2 = np.zeros((4),int) e ir iterando con un for vector1 e ir copiando elemento a elemento a vector2"
      ],
      "metadata": {
        "colab": {
          "base_uri": "https://localhost:8080/"
        },
        "id": "gh3SD4TL394E",
        "outputId": "bdffc2d3-67c5-4fd1-839d-3615bb02528e"
      },
      "execution_count": null,
      "outputs": [
        {
          "output_type": "stream",
          "name": "stdout",
          "text": [
            "Vector1 =  [2 3 6 1]\n",
            "Vector2 =  [2 3 6 1]\n",
            "\n",
            "Modificamos solo a vector 1\n",
            "Vector1 =  [  2 200   6   1]\n",
            "Vector2 =  [  2 200   6   1]\n"
          ]
        }
      ]
    },
    {
      "cell_type": "markdown",
      "source": [
        "## **Arreglos como parametros de funciones / procedimientos**"
      ],
      "metadata": {
        "id": "GzmV_rBp39Gi"
      }
    },
    {
      "cell_type": "code",
      "source": [
        "import numpy as np\n",
        "\n",
        "def funcionEjemplo(vector): # recibe por parametro un vector\n",
        "  vector[1] = 20 #lo modifica\n",
        "  return\n",
        "\n",
        "v = np.array ([2,5,3,9])\n",
        "\n",
        "print(\"v: \", v)\n",
        "\n",
        "funcionEjemplo(v)\n",
        "\n",
        "print(\"\\nLuego de ejecutar funcionEjemplo\") # paso por referencia, las modificaciones valen afuera de la funcion\n",
        "print(\"v: \", v)"
      ],
      "metadata": {
        "colab": {
          "base_uri": "https://localhost:8080/"
        },
        "id": "KOLo2d0R3-ss",
        "outputId": "f766bd5d-5e8f-44ce-ef66-72a34c014af7"
      },
      "execution_count": null,
      "outputs": [
        {
          "output_type": "stream",
          "name": "stdout",
          "text": [
            "v:  [2 5 3 9]\n",
            "\n",
            "Luego de ejecutar funcionEjemplo\n",
            "v:  [ 2 20  3  9]\n"
          ]
        }
      ]
    },
    {
      "cell_type": "markdown",
      "metadata": {
        "id": "xjXgmD3mskbR"
      },
      "source": [
        "### **Ejercicio 1**\n",
        "\n",
        "Escribir una función que recibe un numero entero N y le pide al usuario que ingrese N numeros. Al final, el programa debe retornar un vector contiendo los números que fueron ingresados. Tambien debe imprimir por pantalla la suma total de los valores y el promedio. Se deben hacer funciones para resolver el promedio y la suma total."
      ]
    },
    {
      "cell_type": "code",
      "execution_count": null,
      "metadata": {
        "id": "sJuWgqpe8Sjx",
        "colab": {
          "base_uri": "https://localhost:8080/"
        },
        "outputId": "f1630c91-758d-44e9-ccd6-0bdbd4027551"
      },
      "outputs": [
        {
          "output_type": "stream",
          "name": "stdout",
          "text": [
            "ingrese un numero1\n",
            "ingrese un numero2\n",
            "ingrese un numero3\n",
            "ingrese un numero1\n",
            "ingrese un numero2\n",
            "la suma de los valores es:  9\n",
            "el promedio de los valores es:  1.8\n",
            "[1 2 3 1 2]\n"
          ]
        }
      ],
      "source": [
        "import numpy as np\n",
        "\n",
        "def vector(n):\n",
        "  vector = np.zeros(n, int)\n",
        "  for i in range(n):\n",
        "    valor = input(\"ingrese un numero\")\n",
        "    vector[i] = valor\n",
        "  print(\"la suma de los valores es: \",sumaValores(vector))\n",
        "  print(\"el promedio de los valores es: \",promedio(vector))\n",
        "  return vector\n",
        "\n",
        "def sumaValores(vector):\n",
        "  suma = 0\n",
        "  for i in range(len(vector)):\n",
        "    suma += vector[i]\n",
        "  return suma\n",
        "\n",
        "def promedio(vector):\n",
        "  suma = 0\n",
        "  for i in range(len(vector)):\n",
        "    suma += vector[i]\n",
        "  return suma / len(vector)\n",
        "\n",
        "print(vector(5))\n"
      ]
    },
    {
      "cell_type": "markdown",
      "source": [
        "### **Ejercicio 2**\n",
        "\n",
        "Escribir una función que recibe un vector de strings y retorna otro con los mismos elementos del vector de entrada pero en orden inverso."
      ],
      "metadata": {
        "id": "i_1fkXYBkl2A"
      }
    },
    {
      "cell_type": "code",
      "source": [
        "import numpy as np\n",
        "\n",
        "def inversoStr(vector):\n",
        "  indice = 0\n",
        "  retorno = np.zeros(len(vector), str)\n",
        "  for i in reversed(range(len(vector))):\n",
        "    retorno [indice] = vector [i]\n",
        "    indice += 1\n",
        "  return retorno\n",
        "\n",
        "vector = np.array([\"a\",\"b\",\"c\",\"d\"])\n",
        "\n",
        "inversoStr(vector)\n"
      ],
      "metadata": {
        "id": "AzSCUv54kmLn",
        "colab": {
          "base_uri": "https://localhost:8080/"
        },
        "outputId": "9b8c820a-0aed-4152-eb60-5cefdc4caf48"
      },
      "execution_count": null,
      "outputs": [
        {
          "output_type": "execute_result",
          "data": {
            "text/plain": [
              "array(['d', 'c', 'b', 'a'], dtype='<U1')"
            ]
          },
          "metadata": {},
          "execution_count": 16
        }
      ]
    },
    {
      "cell_type": "markdown",
      "source": [
        "### **Ejercicio 3**\n",
        "\n",
        "Escribir la función sumaDeVectores que recibe dos vectores de enteros del mismo tamaño y retorna otro con la suma de ambos. La suma de vectores se realiza componente a componente, segun la siguiente forma:\n",
        "\n",
        "v<sub>1</sub> = [ v<sub>11</sub> , v<sub>12</sub> , v<sub>13</sub> , ... , v<sub>1N</sub> ]\n",
        "\n",
        "v<sub>2</sub> = [ v<sub>21</sub> , v<sub>22</sub> , v<sub>23</sub> , ... , v<sub>2N</sub> ]\n",
        "\n",
        "v<sub>1</sub> + v<sub>2</sub> = [ v<sub>11</sub> + v<sub>21</sub> , v<sub>12</sub> + v<sub>22</sub> , v<sub>13</sub> + v<sub>23</sub> , ... , v<sub>1N</sub> + v<sub>2N</sub> ]"
      ],
      "metadata": {
        "id": "WAxORLS4lsQn"
      }
    },
    {
      "cell_type": "code",
      "source": [
        "vector1 = np.array([\"a\",\"b\",\"c\",\"d\"])\n",
        "vector2 = np.array([\"s\",\"s\",\"s\",\"s\"])\n",
        "\n",
        "def sumaDevectores(vector1, vector2):\n",
        "  vector3 = np.zeros(len(vector) + len(vector2), str)\n",
        "  indice = 0\n",
        "  for i in range(len(vector1)):\n",
        "    vector3[indice] = vector1[i]\n",
        "    indice += 1\n",
        "    vector3[indice] = vector2[i]\n",
        "    indice += 1\n",
        "  return vector3\n",
        "\n",
        "sumaDevectores(vector1, vector2)"
      ],
      "metadata": {
        "id": "tZRep8aplrwo",
        "outputId": "de78d770-2a89-4e4e-fa1b-e6e5fa08e568",
        "colab": {
          "base_uri": "https://localhost:8080/"
        }
      },
      "execution_count": null,
      "outputs": [
        {
          "output_type": "execute_result",
          "data": {
            "text/plain": [
              "array(['a', 's', 'b', 's', 'c', 's', 'd', 's'], dtype='<U1')"
            ]
          },
          "metadata": {},
          "execution_count": 20
        }
      ]
    },
    {
      "cell_type": "markdown",
      "metadata": {
        "id": "xQdIQRhp-STK"
      },
      "source": [
        "### **Ejercicio 4**\n",
        "\n",
        "Escribir una función que recibe un vector y desplaza todos sus elementos una posición hacia la derecha: el primero pasa a ser el segundo, el segundo pasa a ser el tercero y así sucesivamente. El último pasa a ser el primero.\n",
        "\n",
        "Por ejemplo:\n",
        "\n",
        "v1 = [2, 4, 1, 5, 7, **9**]\n",
        "\n",
        "**desplazarADerecha(v1)**\n",
        "\n",
        "=> v1 = [**9**, 2, 4, 1, 5, 7]"
      ]
    },
    {
      "cell_type": "code",
      "execution_count": null,
      "metadata": {
        "id": "w6qrLd4-XwHB",
        "outputId": "0018a890-0cb5-4051-da3f-27e38389242f",
        "colab": {
          "base_uri": "https://localhost:8080/"
        }
      },
      "outputs": [
        {
          "output_type": "execute_result",
          "data": {
            "text/plain": [
              "array(['9', '2', '4', '1', '5', '7'], dtype='<U1')"
            ]
          },
          "metadata": {},
          "execution_count": 24
        }
      ],
      "source": [
        "vector1 = np.array([2,4,1,5,7,9])\n",
        "\n",
        "def desplazarALaDerecha(vector):\n",
        "  vector3 = np.zeros(len(vector), int)\n",
        "  for i in range(len(vector1)):\n",
        "    vector3 [i] = vector[i-1]\n",
        "  return vector3\n",
        "\n",
        "desplazarALaDerecha(vector1)"
      ]
    },
    {
      "cell_type": "markdown",
      "metadata": {
        "id": "uMMYGjtoXuJD"
      },
      "source": [
        "### **Ejercicio 5**\n",
        "\n",
        "Desarrollar una función que inserte un elemento en una posición en un vector. Al insertar el elemento, se debe producir un desplazamiento a la derecha de todos los elementos en las posiciones siguientes, el último elemento se pierde.\n",
        "\n",
        "Por ejemplo:\n",
        "\n",
        "v1 = [2, 4, 1, 7, 6, 2]\n",
        "\n",
        "**insertar(v1, 5, 3)** #insertamos un 5 en la posición 3\n",
        "\n",
        "=> v1 = [2, 4, 1, **5**, 7, 6]"
      ]
    },
    {
      "cell_type": "code",
      "execution_count": null,
      "metadata": {
        "id": "rQEF6QpbX-r0",
        "outputId": "da3da50c-4f36-4136-ab6a-49587388d11d",
        "colab": {
          "base_uri": "https://localhost:8080/"
        }
      },
      "outputs": [
        {
          "output_type": "execute_result",
          "data": {
            "text/plain": [
              "array([2, 4, 1, 8, 7, 9])"
            ]
          },
          "metadata": {},
          "execution_count": 30
        }
      ],
      "source": [
        "vector1 = np.array([2,4,1,5,7,9])\n",
        "\n",
        "def insertarElemento(vector, elemento, posicion):\n",
        "   vector3 = np.zeros(len(vector), int)\n",
        "   for i in range(len(vector1)):\n",
        "    if i == posicion:\n",
        "      vector3[i] = elemento\n",
        "    else:\n",
        "      vector3[i] = vector[i]\n",
        "   return vector3\n",
        "\n",
        "insertarElemento(vector1, 8, 3)\n"
      ]
    },
    {
      "cell_type": "markdown",
      "metadata": {
        "id": "FvY2_qmwX_KA"
      },
      "source": [
        "### **Ejercicio 6**\n",
        "\n",
        "Escribir una función que elimine el elemento que ocupa una determinada posición de un vector. Al eliminar, los elementos a la derecha del eliminado, deben desplazarse a la izquierda un lugar y agregar un cero en la última posición.\n",
        "\n",
        "Por ejemplo:\n",
        "\n",
        "v1 = [4, 3, **5**, 8, 6, 7]\n",
        "\n",
        "**eliminar(v1, 2)** #eliminamos el elemento de la posicion 2\n",
        "\n",
        "=> v1 = [4, 3, **8, 6, 7, 0**]"
      ]
    },
    {
      "cell_type": "code",
      "source": [
        "#v1 = [3, 5, 8, 6, 7, 7] 0 -> len(v1)-2 -> range(0,len(v1)-1)\n",
        "import numpy as np\n",
        "\n",
        "vector1 = np.array([2,4,1,5,7,9])\n",
        "\n",
        "def eliminarElemento(vector, posicion):\n",
        "   vector3 = np.zeros(len(vector), int)\n",
        "   for i in range(len(vector)):\n",
        "    if i >= posicion-1 and i < len(vector)-1:\n",
        "      vector3[i] = vector[i+1]\n",
        "    elif i == len(vector)-1:\n",
        "      vector3[i] = 0\n",
        "    else:\n",
        "      vector3[i] = vector[i]\n",
        "   return vector3\n",
        "\n",
        "eliminarElemento(vector1, 2)"
      ],
      "metadata": {
        "id": "DiFLt4rvCP0j",
        "colab": {
          "base_uri": "https://localhost:8080/"
        },
        "outputId": "87965ce6-d89b-4ca9-ea30-5d5ad4150bd0"
      },
      "execution_count": null,
      "outputs": [
        {
          "output_type": "execute_result",
          "data": {
            "text/plain": [
              "array([2, 1, 5, 7, 9, 0])"
            ]
          },
          "metadata": {},
          "execution_count": 3
        }
      ]
    },
    {
      "cell_type": "markdown",
      "metadata": {
        "id": "dfuNkFxdYT--"
      },
      "source": [
        "### **Ejercicio 7**\n",
        "\n",
        "Escribir una función que elimine todas las apariciones de un determinado elemento de un vector. Al eliminar se deben insertar tantos ceros al final como elementos se eliminaron.\n",
        "\n",
        "Por ejemplo:\n",
        "\n",
        "arr1 = [4, 3, 5, 8, 6, 5, 7, 5]\n",
        "\n",
        "**eliminarApariciones(arr1, 5)** #eliminamos todos los 5 del arreglo\n",
        "\n",
        "=> arr1 = [4, 3, 8, 6, 7, **0, 0, 0**]"
      ]
    },
    {
      "cell_type": "code",
      "execution_count": null,
      "metadata": {
        "id": "o6twFUebYsO3",
        "colab": {
          "base_uri": "https://localhost:8080/"
        },
        "outputId": "104db7e2-ec1a-497a-c4b7-14e4c09a0c16"
      },
      "outputs": [
        {
          "output_type": "execute_result",
          "data": {
            "text/plain": [
              "array([1, 2, 4, 5, 6, 7, 8, 0])"
            ]
          },
          "metadata": {},
          "execution_count": 22
        }
      ],
      "source": [
        "#Recorrer array y usar funcion del ejercicio 5 para eliminar los elementos de a uno\n",
        "import numpy as np\n",
        "\n",
        "vector1 = np.array([1,2,3,4,5,6,7,8])\n",
        "\n",
        "def eliminarElementos(vector, elemento):\n",
        "  for i in range(len(vector)):\n",
        "    if vector[i] == elemento:\n",
        "      vector = eliminarElemento(vector, i+1)\n",
        "  return vector\n",
        "\n",
        "eliminarElementos(vector1, 3)"
      ]
    },
    {
      "cell_type": "markdown",
      "metadata": {
        "id": "J5x_ui9jeE2c"
      },
      "source": [
        "### **Ejercicio 8**\n",
        "\n",
        "Escribir un procedimiento que reciben un vector y:\n",
        "- Imprime un subvector con los dos primeros elementos.\n",
        "- Imprime un subvector con los tres últimos elementos.\n",
        "- Imprime un subvector con los elementos desde la posiciones 2 hasta la 5\n",
        "- Imprime un subvector con los elementos alternados cada dos. Por ej.: v1 = [2 , 1 , 4 , 5 , 2 , 7 , 9] debería imprimir [2 , 4 , 2 , 9]\n",
        "\n",
        "Nota: Se debe utilizar la notacion **vector [ pos<sub>inicio</sub> : pos<sub>fin</sub> ]**"
      ]
    },
    {
      "cell_type": "code",
      "source": [
        "def impresion(vector):\n",
        "  print(\"2 primeros elementos: \",vector[:2])\n",
        "  print(\"3 ultimos elementos: \",vector[-3:])\n",
        "  print(\"elementos desde la posiciones 2 hasta la 5: \",vector[2:5])\n",
        "  print(\"elementos alternados cada dos: \",vector[::2])\n",
        "\n",
        "impresion(vector1)"
      ],
      "metadata": {
        "id": "r-X5N4RIVR0j",
        "colab": {
          "base_uri": "https://localhost:8080/"
        },
        "outputId": "383436c2-ce1c-4f2d-bd5c-781e6f3aaf34"
      },
      "execution_count": null,
      "outputs": [
        {
          "output_type": "stream",
          "name": "stdout",
          "text": [
            "2 primeros elementos:  [1 2]\n",
            "3 ultimos elementos:  [6 7 8]\n",
            "elementos desde la posiciones 2 hasta la 5:  [3 4 5]\n",
            "elementos alternados cada dos:  [1 3 5 7]\n"
          ]
        }
      ]
    },
    {
      "cell_type": "markdown",
      "metadata": {
        "id": "X1Vx_Ubwdj32"
      },
      "source": [
        "### **Ejercicio 9**\n",
        "\n",
        "Escribir una función **recursiva** que reciba un vector como parámetro y retorne la suma de todos sus elementos."
      ]
    },
    {
      "cell_type": "code",
      "execution_count": 19,
      "metadata": {
        "id": "5IO-wH84dkav",
        "outputId": "6e03d307-0bd4-4eb7-ce11-3dfe34ee5031",
        "colab": {
          "base_uri": "https://localhost:8080/"
        }
      },
      "outputs": [
        {
          "output_type": "execute_result",
          "data": {
            "text/plain": [
              "15"
            ]
          },
          "metadata": {},
          "execution_count": 19
        }
      ],
      "source": [
        "v1 = [2,3,1,5,4]\n",
        "#suma(v1) = 2+3+1+5+4 = 2 + (3+1+5+4)\n",
        "#suma(v) = v[0] + suma(v[1:])    si len(v) > 0\n",
        "#           0                    si len(v) = 0\n",
        "def sumaRecursiva(vector:[])->int:\n",
        "  if len(vector) == 0:\n",
        "    return 0\n",
        "  else:\n",
        "    return vector[0] + sumaRecursiva(vector[1:])\n",
        "\n",
        "def sumaRecursiva2(vector:[])->int:\n",
        "  if len(vector) != 0:\n",
        "    return vector[0] + sumaRecursiva(vector[1:])\n",
        "\n",
        "sumaRecursiva2(v1)"
      ]
    },
    {
      "cell_type": "code",
      "source": [
        "#v1 = [2,3,1,5,4]\n",
        "#suma(v1) = 2+3+1+5+4 = 2 + (3+1+5+4)\n",
        "#suma(v) = v[0] + suma(v[1:])    si len(v) > 0\n",
        "#           0                    si len(v) = 0\n",
        "\n",
        "#sumar los elementos de v1 desde posicion 0 hasta el final -> sumaRecursiva2(v1, 0)\n",
        "#sumar los elementos de v1 desde posicion 2 hasta el final -> sumaRecursiva2(v1, 2)\n",
        "#.....\n",
        "#sumar los elementos de v1 desde la ultima posicion hasta el final -> sumaRecursiva2(v1, len(v1))\n"
      ],
      "metadata": {
        "id": "hSzXPe9ujDp6"
      },
      "execution_count": null,
      "outputs": []
    },
    {
      "cell_type": "code",
      "source": [
        "\n",
        "#vectorAca = [2,3,5,1,7,8,9]\n",
        "#vectorAca[1:] -> [3,5,1,7,8,9]\n",
        "#vectorAca[:1] -> [2]"
      ],
      "metadata": {
        "id": "L36coh0lgl8g"
      },
      "execution_count": null,
      "outputs": []
    },
    {
      "cell_type": "markdown",
      "metadata": {
        "id": "AXeJRrL1jmaY"
      },
      "source": [
        "### **Ejercicio 10**\n",
        "\n",
        "Escribir una función que implemente de forma **recursiva** el algoritmo de **búsqueda binaria** sobre un vector.\n",
        "\n",
        "https://es.khanacademy.org/computing/computer-science/algorithms/binary-search/a/binary-search"
      ]
    },
    {
      "cell_type": "code",
      "execution_count": null,
      "metadata": {
        "id": "gCr_ilY9kKa3"
      },
      "outputs": [],
      "source": [
        "#v tiene que estar ordenado\n",
        "#busquedaBinaria(v,3) -> posicion del elemento 3 en v    si 3 esta en v\n",
        "#                        None                            si 3 no esta en v\n",
        "#v = [2,3,5,7,8,12,34,56]\n",
        "\n",
        "\n",
        "  #busco posicion central\n",
        "  #comparo datoBuscado con el elemento del vector en la posicion central\n",
        "    # si el datoBuscado es igual -> lo encontre, es decir esta en la posicion central\n",
        "    # si no es igual\n",
        "      # si es menor -> busco el dato en la mitad inferior (0 - posicion central-1)\n",
        "      # si es mayor -> busco el dato en la mitad superior (posicion central+1 - final)\n"
      ]
    },
    {
      "cell_type": "markdown",
      "metadata": {
        "id": "tw7Pv4o_ehEv"
      },
      "source": [
        "### **Ejercicio 11**\n",
        "\n",
        "Escribir una función **recursiva** que retorna *True* si una cadena de caracteres es un palíndromo y *False* en caso contrario.\n",
        "\n",
        "Nota: Palíndromo es la forma elegante de \"capicua\""
      ]
    },
    {
      "cell_type": "code",
      "source": [
        "#neuquen\n",
        "# True             si   len(palabra) <= 1\n"
      ],
      "metadata": {
        "id": "bKfYdZkmVZVK"
      },
      "execution_count": null,
      "outputs": []
    },
    {
      "cell_type": "code",
      "source": [
        "\n",
        "#arreglo[inicio:fin]\n",
        "#arreglo[1:5] -> arreglo con los elementos 1,2,3 y 4 del arreglo\n",
        "#arreglo[:5] -> arreglo con los elementos 0,1,2,3 y 4 del arreglo (Desde el principio)\n",
        "#arreglo[1:] -> arreglo con los elementos 1,2,3,4,5 y 6 del arreglo (Hasta el final)\n",
        "#arreglo[:1] -> arreglo[0]"
      ],
      "metadata": {
        "id": "QjvkIFj_b5pl"
      },
      "execution_count": null,
      "outputs": []
    },
    {
      "cell_type": "markdown",
      "source": [
        "## **Matrices**"
      ],
      "metadata": {
        "id": "mzMe5_5TVI94"
      }
    },
    {
      "cell_type": "code",
      "source": [
        "m1 = np.zeros((4,3), int)\n",
        "print(m1)\n",
        "m1[0,0] = 21\n",
        "print(m1)\n",
        "filas,cols = m1.shape\n",
        "print(filas,cols)"
      ],
      "metadata": {
        "colab": {
          "base_uri": "https://localhost:8080/"
        },
        "id": "JqCI3iUeyKsW",
        "outputId": "74edf17e-f657-400b-9616-51fb432f9386"
      },
      "execution_count": null,
      "outputs": [
        {
          "output_type": "stream",
          "name": "stdout",
          "text": [
            "[[0 0 0]\n",
            " [0 0 0]\n",
            " [0 0 0]\n",
            " [0 0 0]]\n",
            "[[21  0  0]\n",
            " [ 0  0  0]\n",
            " [ 0  0  0]\n",
            " [ 0  0  0]]\n",
            "4 3\n"
          ]
        }
      ]
    },
    {
      "cell_type": "code",
      "source": [
        "m2 = np.array([[3,1,7],\n",
        "               [6,2,9],\n",
        "               [7,9,3],\n",
        "               [1,9,5]])\n",
        "for fila in m2:\n",
        "  for elem in fila:\n",
        "    print(elem)"
      ],
      "metadata": {
        "colab": {
          "base_uri": "https://localhost:8080/"
        },
        "id": "jwqX6PQyzR2r",
        "outputId": "7696355c-f071-4929-cca9-94c65f2210c9"
      },
      "execution_count": null,
      "outputs": [
        {
          "output_type": "stream",
          "name": "stdout",
          "text": [
            "5\n",
            "9\n",
            "1\n",
            "3\n",
            "9\n",
            "7\n",
            "9\n",
            "2\n",
            "6\n",
            "7\n",
            "1\n",
            "3\n"
          ]
        }
      ]
    },
    {
      "cell_type": "code",
      "source": [
        "m2 = np.array([[3,1,7],\n",
        "               [6,2,9],\n",
        "               [7,9,3],\n",
        "               [1,9,5]])\n",
        "nFilas, nCols = m2.shape\n",
        "for nFila in range(nFilas): #0,1,2,3\n",
        "  for nCol in range(nCols): #0,1,2\n",
        "    print(\"nfila=\",nFila, \"ncol=\",nCol, m2[nFila,nCol])"
      ],
      "metadata": {
        "colab": {
          "base_uri": "https://localhost:8080/"
        },
        "id": "aAvZm1Kj0690",
        "outputId": "f67bc3cc-25fa-4540-e74d-7a4f55f09591"
      },
      "execution_count": null,
      "outputs": [
        {
          "output_type": "stream",
          "name": "stdout",
          "text": [
            "nfila= 0 ncol= 0 3\n",
            "nfila= 0 ncol= 1 1\n",
            "nfila= 0 ncol= 2 7\n",
            "nfila= 1 ncol= 0 6\n",
            "nfila= 1 ncol= 1 2\n",
            "nfila= 1 ncol= 2 9\n",
            "nfila= 2 ncol= 0 7\n",
            "nfila= 2 ncol= 1 9\n",
            "nfila= 2 ncol= 2 3\n",
            "nfila= 3 ncol= 0 1\n",
            "nfila= 3 ncol= 1 9\n",
            "nfila= 3 ncol= 2 5\n"
          ]
        }
      ]
    },
    {
      "cell_type": "code",
      "source": [
        "m2 = np.array([[3,1,7,3,1],\n",
        "               [6,2,9,4,3],\n",
        "               [7,9,3,9,8],\n",
        "               [1,9,5,2,0]])\n",
        "print(m2[1:3,1:4])"
      ],
      "metadata": {
        "colab": {
          "base_uri": "https://localhost:8080/"
        },
        "id": "OKzio09U2VU8",
        "outputId": "da4d9d90-3dbe-4773-9944-9c459799c919"
      },
      "execution_count": null,
      "outputs": [
        {
          "output_type": "stream",
          "name": "stdout",
          "text": [
            "[[2 9 4]\n",
            " [9 3 9]]\n"
          ]
        }
      ]
    },
    {
      "cell_type": "markdown",
      "metadata": {
        "id": "0g6QV3ZhZp6J"
      },
      "source": [
        "### **Ejercicio 12**\n",
        "\n",
        "Escribir una función que recibe las dimensiones y retorna una matriz rellena de la siguiente forma: En la posición ( n , m ) debe contener n + m.\n",
        "\n",
        "Por ejemplo:\n",
        "\n",
        "mat1 = rellenaMatriz(4,3)\n",
        "\n",
        "=> mat1 =\n",
        "\n",
        "| <!--   --> |Col 0|Col 1|Col 2|\n",
        "|------------|:---:|:---:|:---:|\n",
        "| **Fila 0** |  0  |  1  |  2  |\n",
        "| **Fila 1** |  1  |  2  |  3  |\n",
        "| **Fila 2** |  2  |  3  |  4  |\n",
        "| **Fila 3** |  3  |  4  |  5  |"
      ]
    },
    {
      "cell_type": "code",
      "execution_count": null,
      "metadata": {
        "id": "UW1iXcs9aULl"
      },
      "outputs": [],
      "source": []
    },
    {
      "cell_type": "markdown",
      "metadata": {
        "id": "g96hWdmiaUmA"
      },
      "source": [
        "### **Ejercicio 13**\n",
        "\n",
        "Escribir una función que recibe una matriz cuadrada (N x N) y calcula la suma de los elementos que están por encima de la diagonal principal (excluyendo la diagonal).\n",
        "\n",
        "En el ejemplo de la imagen, la función deberia retornar: *b + c + f*\n",
        "\n",
        "![texto alternativo](https://economipedia.com/wp-content/uploads/Captura-de-Pantalla-2019-07-29-a-les-13.18.05-1.png)"
      ]
    },
    {
      "cell_type": "code",
      "execution_count": null,
      "metadata": {
        "id": "2UpEFdBbukok"
      },
      "outputs": [],
      "source": [
        "#nCol > nFila -> triangulo superior\n",
        "#nCol == nFila -> diagonal pricipal\n",
        "#nCol < nFila -> triangulo inferior"
      ]
    },
    {
      "cell_type": "markdown",
      "metadata": {
        "id": "ERqaprbtbx5F"
      },
      "source": [
        "### **Ejercicio 14**\n",
        "\n",
        "Escribir una función que retorna *True* si una matriz cuadrada es matriz diagonal y *False* en caso contrario.\n",
        "\n",
        "Una matriz cuadrada diagonal es una matriz que tiene ceros en todos sus elementos, menos en la diagonal principal (No importan los elementos de la diagonal principal, pueden ser cero o no).\n",
        "\n",
        "**Si i, j son los índices de las filas y columnas de M**\n",
        "\n",
        "**=> Una matriz M es diagonal si:**\n",
        "\n",
        "**M [ i , j ] == 0 para todo i != j**\n",
        "\n",
        "Matriz diagonal de 4 x 4:\n",
        "\n",
        "| <!--   --> |Col 0|Col 1|Col 2|Col 3|\n",
        "|------------|:---:|:---:|:---:|:---:|\n",
        "| **Fila 0** |  0  |  0  |  0  |  0  |\n",
        "| **Fila 1** |  0  |  2  |  0  |  0  |\n",
        "| **Fila 2** |  0  |  0  |  4  |  0  |\n",
        "| **Fila 3** |  0  |  0  |  0  |  0  |"
      ]
    },
    {
      "cell_type": "code",
      "execution_count": null,
      "metadata": {
        "id": "ehZJVkc_cWIg"
      },
      "outputs": [],
      "source": []
    },
    {
      "cell_type": "markdown",
      "metadata": {
        "id": "dHytTlIXcW5P"
      },
      "source": [
        "### **Ejercicio 15**\n",
        "\n",
        "Escribir una función que retorna *True* si una matriz cuadrada de enteros es simétrica y *False* en caso contrario.\n",
        "\n",
        "Una matriz simétrica es como la de la imagen (no importan los elementos de la diagonal principal):\n",
        "\n",
        "![texto alternativo](https://economipedia.com/wp-content/uploads/Captura-de-Pantalla-2019-09-23-a-les-15.58.25.png)\n",
        "\n",
        "Es decir:\n",
        "\n",
        "**Si i, j son los índices de las filas y columnas de M**\n",
        "\n",
        "**=> Una matriz M es simétrica si:**\n",
        "\n",
        "**M [ i , j ] == M[ j, i ] para todo i != j**\n",
        "\n",
        "Matriz simétrica de 4 x 4:\n",
        "\n",
        "| <!--   --> |Col 0|Col 1|Col 2|Col 3|\n",
        "|------------|:---:|:---:|:---:|:---:|\n",
        "| **Fila 0** |  2  |  1  |  0  |  5  |\n",
        "| **Fila 1** |  1  |  2  |  9  |  7  |\n",
        "| **Fila 2** |  0  |  9  |  0  |  8  |\n",
        "| **Fila 3** |  5  |  7  |  8  |  4  |"
      ]
    },
    {
      "cell_type": "code",
      "execution_count": null,
      "metadata": {
        "id": "3SA7bN6ldIwQ",
        "colab": {
          "base_uri": "https://localhost:8080/"
        },
        "outputId": "4786e465-4ae6-406d-d867-4c07e0d6c1c6"
      },
      "outputs": [
        {
          "output_type": "stream",
          "name": "stdout",
          "text": [
            "True\n"
          ]
        }
      ],
      "source": [
        "#m[1,2] = m[1][2]"
      ]
    },
    {
      "cell_type": "markdown",
      "metadata": {
        "id": "190cxAcRdJfY"
      },
      "source": [
        "### **Ejercicio 16**\n",
        "\n",
        "Escribir una función **recursiva**, que calcule la suma de los elementos de la diagonal principal de una matriz.\n",
        "\n",
        "Nota: La suma de los elementos de la diagonal principal de una matriz se llama \"traza de la matriz\".\n",
        "\n",
        "Por ejemplo\n",
        "\n",
        "Si mat1 =\n",
        "\n",
        "| <!--   --> |Col 0|Col 1|Col 2|Col 3|\n",
        "|------------|:---:|:---:|:---:|:---:|\n",
        "| **Fila 0** |  2  |  1  |  0  |  5  |\n",
        "| **Fila 1** |  1  |  2  |  9  |  7  |\n",
        "| **Fila 2** |  0  |  9  |  0  |  8  |\n",
        "| **Fila 3** |  5  |  7  |  8  |  4  |\n",
        "\n",
        "=> **traza(mat1) = 2 + 2 + 0 + 4**"
      ]
    },
    {
      "cell_type": "code",
      "execution_count": null,
      "metadata": {
        "id": "jSNCfDr_eEgH"
      },
      "outputs": [],
      "source": []
    },
    {
      "cell_type": "markdown",
      "metadata": {
        "id": "tnlvo6O4q1lG"
      },
      "source": [
        "### **Ejercicio 17**\n",
        "\n",
        "Una de las aplicaciones de matrices en programación es la representación y procesamiento de imágenes. Vamos a ver algunas cosas que se pueden hacer. Para esto primero tenemos que cargarnos una imagen en el colab y generar una matriz a partir de ella.\n",
        "\n",
        "- Descarguen el archivo \"felix.csv\" del siguiente link:\n",
        "https://drive.google.com/file/d/10Du9ECx7Cz-aHXQpYaWjkaAn6wKJSArn/view?usp=sharing\n",
        "- Suban el archivo \"felix.csv\" al \"colab\" para poder cargarlo con el programa de Python de abajo (haciendo click en el icono de la carpeta ![texto alternativo](https://i.ibb.co/jzqwMsc/carpeta.png), de arriba a la izquierda y luego en \"Subir\")\n",
        "- Completen el programa, procesando a la imagen guardada en la matriz \"felix\" para obtener las imágenes de la siguiente figura (La \"A\" es la imagen original), pueden hacer funciones que generen cada transformación en la imagen:\n",
        "\n",
        "![texto alternativo](https://i.ibb.co/VvJBMsF/felix-results.png)"
      ]
    },
    {
      "cell_type": "code",
      "execution_count": null,
      "metadata": {
        "colab": {
          "base_uri": "https://localhost:8080/",
          "height": 992
        },
        "id": "5RXi-2ZbrXkZ",
        "outputId": "d631532e-a19d-41d7-f139-f889de83b92a"
      },
      "outputs": [
        {
          "output_type": "stream",
          "name": "stdout",
          "text": [
            "Cantidad de pixeles: 280 x 280\n"
          ]
        },
        {
          "output_type": "display_data",
          "data": {
            "text/plain": [
              "<Figure size 640x480 with 1 Axes>"
            ],
            "image/png": "[encoded data removed]"
          },
          "metadata": {}
        },
        {
          "output_type": "stream",
          "name": "stdout",
          "text": [
            "[[0. 0. 0. ... 0. 1. 1.]\n",
            " [0. 0. 0. ... 0. 1. 1.]\n",
            " [0. 0. 0. ... 0. 1. 1.]\n",
            " ...\n",
            " [0. 0. 0. ... 1. 1. 1.]\n",
            " [0. 0. 0. ... 1. 1. 1.]\n",
            " [0. 0. 0. ... 1. 1. 1.]]\n"
          ]
        },
        {
          "output_type": "display_data",
          "data": {
            "text/plain": [
              "<Figure size 640x480 with 1 Axes>"
            ],
            "image/png": "[encoded data removed]"
          },
          "metadata": {}
        }
      ],
      "source": [
        "import numpy as np\n",
        "import matplotlib.pyplot as plt\n",
        "import copy as cp\n",
        "\n",
        "###Lectura del archivo en la matriz#####\n",
        "felix = np.genfromtxt('felix.csv', delimiter=',')\n",
        "########################################\n",
        "print(\"Cantidad de pixeles:\",\" x \".join(map(str,felix.shape)))\n",
        "######Para mostrar matriz como imagen###########\n",
        "plt.imshow(felix, cmap='Greys')\n",
        "plt.show()\n",
        "########################################\n",
        "print(felix[0:50,0:50])\n",
        "\n",
        "def espejoHorizontal(matriz:np.array):\n",
        "  nFilas, nCols = matriz.shape\n",
        "  matrizEspejada = np.zeros((nFilas,nCols),int)\n",
        "  for nCol in range(nCols):\n",
        "    matrizEspejada[:,nCol] = matriz[:,nCols-(nCol+1)]\n",
        "    #matrizEspejada[:,0] = matriz[:,nCols-1]\n",
        "    #matrizEspejada[:,1] = matriz[:,nCols-2]\n",
        "    #matrizEspejada[:,2] = matriz[:,nCols-3]\n",
        "    #matrizEspejada[:,3] = matriz[:,nCols-4]\n",
        "    #....\n",
        "    #matrizEspejada[:,n] = matriz[:,nCols-(n+1)]\n",
        "  return matrizEspejada\n",
        "\n",
        "felixEspejadoH = espejoHorizontal(felix)\n",
        "plt.imshow(felixEspejadoH, cmap='Greys')\n",
        "plt.show()\n",
        "\n",
        "#A -> B tienen que trasponer la matriz = poner las filas como columnas\n",
        "#m2[:,n] = m[n,:]\n",
        "\n",
        "#A -> D tienen que invertir la posicion de las filas\n",
        "#m2[n,:] = m[nFilas-(n+1),:]"
      ]
    },
    {
      "cell_type": "markdown",
      "source": [
        "####**Ejercicio agregado**\n",
        "Implementar una función recursiva para encontrar el máximo elemento de un arreglo"
      ],
      "metadata": {
        "id": "6XqsTz_Wje5P"
      }
    },
    {
      "cell_type": "code",
      "source": [
        "#arreglo = [2,1,3,10,5,4,7]\n",
        "#max(arreglo) = arreglo[0]                                si len(arreglo) = 1\n",
        "#               maximo(arreglo[0] y max(arreglo[1:]))     si len(arreglo) > 1\n",
        "\n",
        "#Suponemos que vector no esta vacio"
      ],
      "metadata": {
        "id": "_wwmPhUHjeiw"
      },
      "execution_count": null,
      "outputs": []
    },
    {
      "cell_type": "markdown",
      "source": [
        "####**Ejercicio agregado 2**\n",
        "Implementar una función recursiva para encontrar la posicion del máximo elemento de un arreglo"
      ],
      "metadata": {
        "id": "kEpX0o4mngm_"
      }
    },
    {
      "cell_type": "code",
      "source": [
        "#arreglo = [2,1,3,10,5,4,7]\n",
        "#posicionDelMaximo(array, posInicio) = posInicio       si posInicio = len(array)-1\n",
        "#                                    = posicion del max(array[0], array[posicion maximo en el resto])\n"
      ],
      "metadata": {
        "id": "kCA5_2Y4ngD9"
      },
      "execution_count": null,
      "outputs": []
    }
  ],
  "metadata": {
    "colab": {
      "provenance": [],
      "include_colab_link": true
    },
    "kernelspec": {
      "display_name": "Python 3",
      "name": "python3"
    }
  },
  "nbformat": 4,
  "nbformat_minor": 0
}