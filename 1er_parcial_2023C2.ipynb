{
  "nbformat": 4,
  "nbformat_minor": 0,
  "metadata": {
    "colab": {
      "provenance": [],
      "authorship_tag": "ABX9TyPBSK4Tp2BsNqim/yFiqbVI",
      "include_colab_link": true
    },
    "kernelspec": {
      "name": "python3",
      "display_name": "Python 3"
    },
    "language_info": {
      "name": "python"
    }
  },
  "cells": [
    {
      "cell_type": "markdown",
      "metadata": {
        "id": "view-in-github",
        "colab_type": "text"
      },
      "source": [
        "<a href=\"https://colab.research.google.com/github/RaTon84/Estructura-de-datos/blob/master/1er_parcial_2023C2.ipynb\" target=\"_parent\"><img src=\"https://colab.research.google.com/assets/colab-badge.svg\" alt=\"Open In Colab\"/></a>"
      ]
    },
    {
      "cell_type": "markdown",
      "source": [
        "# Ejercicio 1\n",
        "\n",
        "Escribir la función cantidadPrimos(arreglo), que retorna la cantidad de números primos que forman parte de un arreglo.\n",
        "\n",
        "Las soluciones que NO sean recursivas no serán tomadas en cuenta.\n",
        "\n",
        "Por ejemplo:\n",
        "\n",
        "Si arr1 = [5, 10, 9, 8, 13, 21] => cantidadPrimos(arr1) = 2\n",
        "Ayuda: Se puede asumir que ya se tiene la función esPrimo(n) que devuelve verdadero cuando n es primo.\n"
      ],
      "metadata": {
        "id": "g59NoKKV1HA1"
      }
    },
    {
      "cell_type": "code",
      "source": [
        "arr1 = [5,10,9,8,13,21]\n",
        "def esPrimo(n):\n",
        "  if n < 2:\n",
        "    return False\n",
        "    # Verificar divisibilidad desde 2 hasta la raíz cuadrada de n\n",
        "  for i in range(2, int(n**0.5) + 1):\n",
        "    if n % i == 0:\n",
        "      return False\n",
        "  return True\n",
        "\n",
        "#############   suma recursiva   ################\n",
        "def cantidadPrimos(arreglo)->int:\n",
        "  if len(arreglo) == 0:\n",
        "    return 0\n",
        "  else:\n",
        "    if esPrimo(arreglo[0]):\n",
        "      return 1 + cantidadPrimos(arreglo[1:])\n",
        "    else:\n",
        "      return cantidadPrimos(arreglo[1:])\n",
        "\n",
        "print(esPrimo(8))\n",
        "print(cantidadPrimos(arr1))"
      ],
      "metadata": {
        "colab": {
          "base_uri": "https://localhost:8080/"
        },
        "id": "1hEAD-MX1Hv6",
        "outputId": "01738dbf-045c-479c-da2f-a92368e7b954"
      },
      "execution_count": 14,
      "outputs": [
        {
          "output_type": "stream",
          "name": "stdout",
          "text": [
            "False\n",
            "2\n"
          ]
        }
      ]
    },
    {
      "cell_type": "markdown",
      "source": [
        "# **Ejercicio 2**\n",
        "En UNAHUR se está desarrollando un software para la asignación de aulas para las materias en los edificios de la Universidad.\n",
        "\n",
        "Un aula se define con 2 cosas:\n",
        "\n",
        "-Nombre de materia\n",
        "\n",
        "-Cantidad de alumnos\n",
        "\n",
        "\n",
        "Cada edificio tiene un nombre y aulas distribuidas en 3 pisos.\n",
        "Vamos a suponer que un edificio de aulas tiene la misma cantidad de aulas en cada uno de los pisos. Lo que se necesita hacer es asignar materias con sus correspondientes estudiantes a las aulas de los edificios.  \n",
        "Implementar el TDA EdificioUnaHur que contenga al menos las siguientes operaciones:\n",
        "\n",
        "*init(nombre, cantAulasPiso):* Que recibe el nombre, la cantidad de aulas por piso del edificio.\n",
        "\n",
        "*asignarAula(nombreMateria, cantEstudiantes):* Recibe la cantidad de estudiantes de la materia que se desea asignar, busca en el edificio la primera aula desocupada y los pone en ella.\n",
        "La función debe retornar la ubicación (piso y número de aula dentro del piso) del aula utilizada. Si no hay ningún número de aula en ningún piso, disponible, debe arrojar una excepción.\n",
        "\n",
        "*cantidadAlumnos(nPiso):* Recibe un número de piso y retorna la cantidad total de estudiantes cursando en ese piso.\n",
        "\n",
        "*nuevaCursada():* Deja el edificio sin estudiantes en todas las aulas (vacío).\n",
        "\n",
        "*repr():* que muestra el edificio.\n",
        "\n",
        "Ayuda:\n",
        "\n",
        "\t-Para retornar dos valores (x,y) se puede hacer return (x,y)\n",
        "\t-Utilizar el siguiente pseudocódigo para el TDA Materia\n",
        "Notas:\n",
        "\n",
        "No son las únicas operaciones necesarias, agregar las operaciones y funciones que consideren necesarias.\n",
        "Un edificio vacío contiene None en todas las aulas\n",
        "\n",
        "Asumiendo que parte de la interfaz del TDA materia es la siguiente:\n",
        "\n",
        "class Materia:\n",
        "\t\tinit(nombre, capacidad)\n",
        "El TDA EdificioUnaHur deberá superar este test:\n",
        "edificio = EdificioUnaHur(“Malvinas”, 4)\n",
        "\n",
        "*notar que tengo que crear el aula/materia antes de asignarla a la estructura de datos del edificio*\n",
        "\n",
        "edificio.asignarAula(“EstructuraDatos com1”,  45)\n",
        "edificio.asignarAula(“EstructuraDatos com2”,  46)\n",
        "\n",
        "*asumiendo que se asignan al piso 0 debe imprimir 91*\n",
        "\n",
        "print(edificio.cantidadAlumnos(0))\n"
      ],
      "metadata": {
        "id": "CNldiu0-4ako"
      }
    },
    {
      "cell_type": "code",
      "source": [
        "import numpy as np\n",
        "\n",
        "class Aula:\n",
        "  def __init__(self, nombreMateria:str, cantAlumnos:int):\n",
        "    self.__nombreMateria = nombreMateria\n",
        "    self.__cantAlumnos = cantAlumnos\n",
        "\n",
        "  def getCantAlumnos(self):\n",
        "    return self.__cantAlumnos\n",
        "\n",
        "  def __repr__(self):\n",
        "    return str(self.__nombreMateria)\n",
        "\n",
        "\n",
        "class EdificioUnahur:\n",
        "  def __init__(self, nombre:str, cantAulasPiso:int):\n",
        "    self.__nombre = nombre\n",
        "    self.__cantAulasPiso = cantAulasPiso\n",
        "    self.__pisos = 3\n",
        "    self.__aulas= np.empty(self.__cantAulasPiso, self.__pisos, Aula)\n",
        "\n",
        "  def __repr__(self):\n",
        "    return str(self.__nombre)\n",
        "\n",
        "  def asignarAula(self, nombreMateria:str, cantEstudiantes:int):\n",
        "    auxAula = Aula(nombreMateria, cantEstudiantes)\n",
        "    for piso in self.__pisos:\n",
        "      for aula in self.__cantAulasPiso:\n",
        "        if self.__aulas[piso][aula] == None:\n",
        "          self.__aulas[piso][aula] = auxAula\n",
        "          return str(piso), str(aula)\n",
        "    raise Exception(\"No hay aula disponible\")\n",
        "\n",
        "  def cantidadAlumnos(self, nPiso):\n",
        "    cantidadDeAlumnos = 0\n",
        "    for aula in self.__aulas:\n",
        "      if self.__aulas[nPiso][aula] != None:\n",
        "        cantidadDeAlumnos += self.__aulas[nPiso][aula].getCantAlumnos()\n",
        "    return cantidadDeAlumnos\n",
        "\n",
        "  def nuevaCursada(self):\n",
        "     for piso in self.__pisos:\n",
        "      for aula in self.__cantAulasPiso:\n",
        "        self.__aulas[piso][aula] = None"
      ],
      "metadata": {
        "id": "MXZdhd4H5SGz"
      },
      "execution_count": 18,
      "outputs": []
    }
  ]
}