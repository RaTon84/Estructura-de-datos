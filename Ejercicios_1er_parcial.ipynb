{
  "nbformat": 4,
  "nbformat_minor": 0,
  "metadata": {
    "colab": {
      "provenance": [],
      "include_colab_link": true
    },
    "kernelspec": {
      "name": "python3",
      "display_name": "Python 3"
    },
    "language_info": {
      "name": "python"
    }
  },
  "cells": [
    {
      "cell_type": "markdown",
      "metadata": {
        "id": "view-in-github",
        "colab_type": "text"
      },
      "source": [
        "<a href=\"https://colab.research.google.com/github/RaTon84/Estructura-de-datos/blob/master/Ejercicios_1er_parcial.ipynb\" target=\"_parent\"><img src=\"https://colab.research.google.com/assets/colab-badge.svg\" alt=\"Open In Colab\"/></a>"
      ]
    },
    {
      "cell_type": "markdown",
      "source": [
        "#**Ejercicios de parcial**\n"
      ],
      "metadata": {
        "id": "00T5qxKVTgFE"
      }
    },
    {
      "cell_type": "markdown",
      "source": [
        "**Ejercicio 1**\n",
        "\n",
        "Implementar la función **recursiva** **\"inversionRecursiva\"** que recibe por parámetro un string y retorna un nuevo string conteniendo el string de entrada invertido.\n",
        "\n",
        "Por ejemplo:\n",
        "\n",
        "Si str1 = \"hola\"\n",
        "\n",
        "str2 = inversionRecursiva(str1)\n",
        "\n",
        "Entonces, str2 = \"aloh\"  \n"
      ],
      "metadata": {
        "id": "T9-MJI5tOIx8"
      }
    },
    {
      "cell_type": "code",
      "source": [],
      "metadata": {
        "id": "obxj78o5P0rs"
      },
      "execution_count": null,
      "outputs": []
    },
    {
      "cell_type": "markdown",
      "source": [
        "**Ejercicio 2**\n",
        "\n",
        "Crear el TDA **“SalaDeCine”** que modela una sala de cine con los siguientes componentes: una estructura que permita almacenar las butacas, un elemento por cada butaca (por defecto será una sala de 30 filas, con 40 asientos cada una), el número de sala, el tipo (2 posibles: “2D” o “3D”). La sala se va ocupando con espectadores, un espectador se define por dos cosas, dni y edad.\n",
        "\n",
        "Escribir el constructor del TDA y las siguientes operaciones:\n",
        "\n",
        "*  **ocupaAsiento(fila,columna, dni, edad)**: Recibe por parámetros la ubicación del espectador que ingresa (fila y columna) y ocupa la\n",
        "butaca con el espetador.\n",
        "*  **AsientosVaciosFila(fila)**: Operación que recibe un número de fila y devuelve la cantidad de butacas vacías en esa fila.\n",
        "*  **gananciaTotal()**: Operación que calcula la ganancia total de la función, teniendo en cuenta que la entrada de los menores de 14 años sale \\$2500 y la de los mayores \\$4000.\n",
        "*  **vaciarSala()**: Operación que vacía la sala luego de que termine la película, marcando como desocupada a todas las butacas para la próxima función."
      ],
      "metadata": {
        "id": "vHYzfHw0OQ0b"
      }
    },
    {
      "cell_type": "code",
      "source": [],
      "metadata": {
        "id": "3bv5qelYP2Gk"
      },
      "execution_count": null,
      "outputs": []
    },
    {
      "cell_type": "markdown",
      "source": [
        "**Ejercicio 3**\n",
        "\n",
        "Escribir la función ***recursiva*** **\"sonIguales\"** que recibe dos strings del mismo tamaño (no vacías) y retorna *True* si son iguales y *False* en caso contrario."
      ],
      "metadata": {
        "id": "rflxWHv6SmEu"
      }
    },
    {
      "cell_type": "code",
      "source": [],
      "metadata": {
        "id": "L_n0FM6WP3rb"
      },
      "execution_count": null,
      "outputs": []
    },
    {
      "cell_type": "markdown",
      "source": [
        "**Ejercicio 4**\n",
        "\n",
        "Un chef está intentando organizar sus recetas y necesita ayuda mediante algún registro de datos. Para esto decide crear una aplicación, para la que se deben modelar este tipo de datos. Crear el TDA **\"Receta\"**, que contiene una arreglo con los ingredientes de una receta, el nombre de la receta y el tipo (Puede ser “omnivora”, “vegetariana” o “vegana” ).\n",
        "Los ingredientes se definen con los siguientes componentes:\n",
        "*  Nombre\n",
        "*  Cantidad (valor entero)\n",
        "*  Calorías que aporta a la receta\n",
        "\n",
        "Una Receta puede tener a lo sumo 20 ingredientes\n",
        "\n",
        "Implementar las siguientes operaciones:\n",
        "*  **cantidadDeIngredientes()**: Retorna la cantidad de ingredientes de la receta\n",
        "*  **registrarIngrediente(ingrediente)**: Agrega un ingrediente a la receta\n",
        "*  **totalCalorias()**: Retorna el total de las calorías de la receta\n",
        "*  **ingredienteMasCalorico()**: Retorna el ingrediente con mayor cantidad de calorías de la receta"
      ],
      "metadata": {
        "id": "vBgfei-4SsR2"
      }
    },
    {
      "cell_type": "code",
      "source": [],
      "metadata": {
        "id": "Gx5hYL9TP6uT"
      },
      "execution_count": null,
      "outputs": []
    }
  ]
}