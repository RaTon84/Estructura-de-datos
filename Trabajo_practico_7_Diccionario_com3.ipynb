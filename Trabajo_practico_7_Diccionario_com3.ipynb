{
  "nbformat": 4,
  "nbformat_minor": 0,
  "metadata": {
    "colab": {
      "provenance": [],
      "include_colab_link": true
    },
    "kernelspec": {
      "name": "python3",
      "display_name": "Python 3"
    }
  },
  "cells": [
    {
      "cell_type": "markdown",
      "metadata": {
        "id": "view-in-github",
        "colab_type": "text"
      },
      "source": [
        "<a href=\"https://colab.research.google.com/github/RaTon84/Estructura-de-datos/blob/master/Trabajo_practico_7_Diccionario_com3.ipynb\" target=\"_parent\"><img src=\"https://colab.research.google.com/assets/colab-badge.svg\" alt=\"Open In Colab\"/></a>"
      ]
    },
    {
      "cell_type": "markdown",
      "metadata": {
        "id": "42630xxYD0gZ"
      },
      "source": [
        "# ![alt text](https://upload.wikimedia.org/wikipedia/commons/thumb/c/c3/Python-logo-notext.svg/50px-Python-logo-notext.svg.png) **Trabajo Práctico 6: Diccionarios** ![alt text](https://upload.wikimedia.org/wikipedia/commons/thumb/c/c3/Python-logo-notext.svg/50px-Python-logo-notext.svg.png)\n",
        "\n",
        "En este trabajo práctico, vamos a trabajar con la estructura de datos **Diccionario** basado en el conjunto de Python. Recuerden crear una copia de este archivo en su ***Google Drive*** para tener permisos de edición.\n",
        "\n",
        "###  **florencia.dias@unahur.edu.ar** ###"
      ]
    },
    {
      "cell_type": "code",
      "source": [
        "# CONJUNTOS #\n",
        "\n",
        "conj1 = set()\n",
        "for x in range(1,4):\n",
        "\tconj1.add(x)\n",
        "\n",
        "conj2= set()\n",
        "for x in range(2,6):\n",
        "\tconj2.add(x)\n",
        "\n",
        "print(\"conj1\", conj1,\"conj2\",conj2)\n",
        "\n",
        "print(\"conj1 inter conj2\", conj1.intersection(conj2))\n",
        "print(\"conj1 union conj2\", conj1.union(conj2))"
      ],
      "metadata": {
        "colab": {
          "base_uri": "https://localhost:8080/"
        },
        "id": "FM9V5wCJSvwO",
        "outputId": "5a2bbd0b-75f1-48a4-d20f-074bed9e8f8a"
      },
      "execution_count": null,
      "outputs": [
        {
          "output_type": "stream",
          "name": "stdout",
          "text": [
            "conj1 {1, 2, 3} conj2 {2, 3, 4, 5}\n",
            "conj1 inter conj2 {2, 3}\n",
            "conj1 union conj2 {1, 2, 3, 4, 5}\n"
          ]
        }
      ]
    },
    {
      "cell_type": "markdown",
      "metadata": {
        "id": "xjXgmD3mskbR"
      },
      "source": [
        "### **Ejercicio 1**\n",
        "\n",
        "Implementar el TDA **Diccionario (Map)**, con las siguientes operaciones (Solo lo tienen que usar, ya esta implementado por nosotros, pero repasen el funcionamiento):\n",
        "- Crear (**\\_\\_init__()**).\n",
        "- **\\_\\_repr__()**: Para poder imprimir por consola.\n",
        "- **insertar(clave, significado)**: Inserta el par **<clave , significado>**, si la clave ya existe no debe modificar el diccionario.\n",
        "- **Asignación con \"dicc[clave] = significado\"**: Permite modificar significados de claves existentes y agregar nuevos pares. Esto se realiza implementado la función **\\_\\_setitem__()**.\n",
        "- **get(clave)**: Recibe una clave y retorna su significado, si la clave no existe lanza una excepción.\n",
        "- **Obtener con \"dicc[clave]\"**: Similar a **get**, pero con el operador **\"[ ]\"**. Esto se realiza implementando la función **\\_\\_getitem__()**.\n",
        "- **len()**: Retorna la cantidad de pares **<clave , significado>** en el diccionario.\n",
        "- **getKeys()**: Retorna lista con claves.\n",
        "- **getValues()**: Retorna lista con significados.\n",
        "- **Operador \"in\"**: Permite la búsqueda dentro del diccionario por las claves, es decir podemos hacer **\"if clave in diccionario\"**.\n",
        "- **remove(clave)**: Elimina el par clave-significado que contiene la clave que recibe como parámetro\n",
        "- **clone()**: Genera nuevo diccionario con el mismo contenido\n",
        "- **clear()**: Vacia diccionario\n",
        "\n",
        "Si quieren iterar el diccionario deben hacer (por ejemplo para imprimir todos los pares clave-significado en diferentes lineas):\n",
        "\n",
        "    \n",
        "    for clave in diccionario.keys():\n",
        "        print(clave, diccionario.get(clave))\n",
        "\n",
        "O el equivalente con el operador **\"[ ]\"**:\n",
        "\n",
        "\n",
        "    for clave in diccionario.keys():\n",
        "        print(clave, dicionario[clave])\n",
        "\n",
        "Aunque tengamos el operador **\"in\"** este sirve solo para búsquedas y no para iterar en diccionario, entonces no se puede hacer:\n",
        "\n",
        "\n",
        "    for clave in diccionario:\n",
        "\n",
        "\n",
        "\n",
        "\n",
        "\n",
        "\n"
      ]
    },
    {
      "cell_type": "code",
      "metadata": {
        "id": "vM50Hpx6yUDe"
      },
      "source": [
        "import copy as cp\n",
        "\n",
        "class Diccionario: # principal\n",
        "  #######TDA tupla clave-significado#########################\n",
        "  class __TuplaDic: # propósito principal será definir la igualdad por la clave de la relación\n",
        "    def __init__(self, key, value): # contiene clave y significado\n",
        "      self.__data = (key,value)\n",
        "\n",
        "    def __repr__(self):\n",
        "      return str(self.__data)\n",
        "\n",
        "    def __eq__(self, key):\n",
        "      return self.__data[0] == key\n",
        "\n",
        "    def __hash__(self):\n",
        "      return hash(self.__data[0])\n",
        "\n",
        "    def getKey(self):\n",
        "      return self.__data[0] # parte izquierda\n",
        "\n",
        "    def getValue(self):\n",
        "      return self.__data[1] # parte derecha\n",
        "  ############################################################\n",
        "\n",
        "  ###Constructor recibe dos listas de claves y significados en orden\n",
        "  def __init__(self, keys = None, values = None):\n",
        "    self.__diccionario = set() #conjutno\n",
        "    if keys != None:\n",
        "      if len(keys) == len(values):\n",
        "        for i in range(len(keys)):\n",
        "          self[keys[i]] = values[i]\n",
        "      else:\n",
        "        raise Exception(\"Las listas de pares clave-significado deben tener la misma cantidad\")\n",
        "\n",
        "  def __repr__(self):\n",
        "    return str(self.__diccionario)\n",
        "\n",
        "  ###Asignacion usando [], se recibe clave entre corchetes / Permite reemplazar aunque exista la clave\n",
        "  def __setitem__(self, key = None, value = None):\n",
        "    if key != None: # si la clave esta definida\n",
        "      if key in self: # y si la clave ya existia\n",
        "        self.__diccionario.remove(key) # la borramos\n",
        "      self.__diccionario.add(Diccionario.__TuplaDic(key,value)) # la volvemos a definir\n",
        "\n",
        "  ###No inserta si existe la clave, es decir, si la clave existe en el dicc no modifica el valor\n",
        "  def insert(self, key = None, value = None):\n",
        "    if key != None:\n",
        "      self.__diccionario.add(Diccionario.__TuplaDic(key,value))\n",
        "\n",
        "  ###Elimina si existe la clave, es decir, si la clave existe en el dicc elimina el par clave-valor\n",
        "  ###Sino existe la clave, no hace nada\n",
        "  def remove(self, key):\n",
        "    if key in self:\n",
        "        valor = self[key]\n",
        "        self.__diccionario.remove(key)\n",
        "        return valor\n",
        "\n",
        "  ###Vacia dicc\n",
        "  def clear(self):\n",
        "    self.__diccionario = set()\n",
        "\n",
        "  ###Clonar dicc\n",
        "  def clone(self):\n",
        "    return cp.deepcopy(self)\n",
        "\n",
        "  ###Acceso a valores usando [], se recibe clave entre corchetes\n",
        "  def __getitem__(self, key):\n",
        "    value = None\n",
        "    flag = False\n",
        "    for tuplaDic in self.__diccionario:\n",
        "      if tuplaDic.getKey() == key:\n",
        "        value = tuplaDic.getValue()\n",
        "        flag = True\n",
        "    if flag:\n",
        "      return value\n",
        "    else:\n",
        "      raise Exception(\"No existe la clave %s en el diccionario\" % (key))\n",
        "\n",
        "  ###Retorna valor de la clave que se recibe por parametro\n",
        "  def get(self, key): # dado una clave, me devuelve el significado\n",
        "    value = None\n",
        "    flag = False\n",
        "    for tuplaDic in self.__diccionario: # in definido abajo\n",
        "      if tuplaDic.getKey() == key:\n",
        "        value = tuplaDic.getValue()\n",
        "        flag = True\n",
        "    if flag:\n",
        "      return value\n",
        "    else:\n",
        "      raise Exception(\"No existe la clave %s en el diccionario\" % (key))\n",
        "\n",
        "  ###Retorna lista con claves\n",
        "  def keys(self): # por cada tupla del diccionario, la parte izquierda de la tupla.\n",
        "    return [x.getKey() for x in self.__diccionario]\n",
        "\n",
        "  ###Retorna lista con valores\n",
        "  def values(self): # por cada tupla del diccionario, la parte derecha de la tupla.\n",
        "    return [x.getValue() for x in self.__diccionario]\n",
        "\n",
        "  ###Operador \"in\"\n",
        "  def __contains__(self, key): #busca por la clave\n",
        "    return key in self.__diccionario\n",
        "\n",
        "  ###Tamaño de diccionario\n",
        "  def len(self):\n",
        "    return len(self.__diccionario)"
      ],
      "execution_count": null,
      "outputs": []
    },
    {
      "cell_type": "code",
      "source": [
        "#Ej1: sinonimos y redefinir\n",
        "#Generar un diccionario que relacione animales con su peso.Debe haber dos pesos repetidos. Redefinir un peso\n",
        "\n",
        "dic = Diccionario()\n",
        "dic.insert(\"elefante\",100)\n",
        "dic.insert(\"gato\",10)\n",
        "dic.insert(\"perro\",10)\n",
        "dic.insert(\"ballena\",100)\n",
        "\n",
        "print(dic)\n",
        "\n",
        "# redefinimos el peso de la ballena, (__setitem__)\n",
        "dic[\"ballena\"] = 1000\n",
        "print(dic)\n",
        "\n",
        "print(dic.keys())\n",
        "print(dic.values())"
      ],
      "metadata": {
        "id": "wYvvE-pdCnRc",
        "outputId": "08c02cdf-6abf-4ab7-be3c-e725746b3922",
        "colab": {
          "base_uri": "https://localhost:8080/"
        }
      },
      "execution_count": null,
      "outputs": [
        {
          "output_type": "stream",
          "name": "stdout",
          "text": [
            "{('ballena', 100), ('gato', 10), ('elefante', 100), ('perro', 10)}\n",
            "{('ballena', 1000), ('gato', 10), ('elefante', 100), ('perro', 10)}\n",
            "['ballena', 'gato', 'elefante', 'perro']\n",
            "[1000, 10, 100, 10]\n"
          ]
        }
      ]
    },
    {
      "cell_type": "code",
      "source": [
        "# Ej2: usar un diccionario para contabilizar. queremos tener la asistencia de cada alumno con un dicionario\n",
        "\n",
        "def tomarAsistencia(alumnos,asistencia):\n",
        "  alumnos[asistencia] = alumnos [asistencia] + 1 # primero tomo la cantidad que tenia, le sumo 1 y lo redefino.\n",
        "\n",
        "alumnos = Diccionario()\n",
        "\n",
        "alumnos.insert(\"Alumno 1\",0)\n",
        "alumnos.insert(\"Alumno 2\",0)\n",
        "\n",
        "print(alumnos)\n",
        "\n",
        "tomarAsistencia(alumnos,\"Alumno 1\")\n",
        "tomarAsistencia(alumnos,\"Alumno 1\")\n",
        "tomarAsistencia(alumnos,\"Alumno 2\")\n",
        "\n",
        "print(alumnos)"
      ],
      "metadata": {
        "id": "qwGZMt6mKee0",
        "outputId": "05ace291-8897-4ffc-e274-3de367a4a306",
        "colab": {
          "base_uri": "https://localhost:8080/"
        }
      },
      "execution_count": null,
      "outputs": [
        {
          "output_type": "stream",
          "name": "stdout",
          "text": [
            "{('Alumno 1', 0), ('Alumno 2', 0)}\n",
            "{('Alumno 1', 2), ('Alumno 2', 1)}\n"
          ]
        }
      ]
    },
    {
      "cell_type": "markdown",
      "metadata": {
        "id": "I26IE7cG1BeA"
      },
      "source": [
        "### A partir del **Ejercicio 2** vamos a trabajar **fuera del TDA Diccionario** usando la interface que creamos en el **Ejercicio 1**. Es decir,se pueden usar solo las operaciones de la interface, no se puede acceder a los componentes internos del TDA. Si necesitan estructuras auxiliares, pueden usar cualquiera de las estructuras que vimos hasta ahora: Arreglos, Listas, Pilas, Colas, Diccionarios."
      ]
    },
    {
      "cell_type": "markdown",
      "metadata": {
        "id": "Q0D1vzJZzqID"
      },
      "source": [
        "### **Ejercicio 2**\n",
        "\n",
        "Escribir un programa que declare un Diccionario de **<entero , entero>** (clave entero y significado entero) y le agrege 4 pares. Luego debe mostrar el diccionario por pantalla y su tamaño.\n",
        "\n",
        "Finalmente, redefinir 2 significados y volver a imprimir."
      ]
    },
    {
      "cell_type": "code",
      "source": [
        "diccionario1 = Diccionario()\n",
        "diccionario1.insert(1,20)\n",
        "diccionario1.insert(2,22)\n",
        "diccionario1.insert(3,23)\n",
        "diccionario1.insert(4,24)\n",
        "print(diccionario1)\n",
        "diccionario1[1] = 10\n",
        "print(diccionario1)\n"
      ],
      "metadata": {
        "id": "5oxyCH9o_y-q",
        "colab": {
          "base_uri": "https://localhost:8080/"
        },
        "outputId": "23b74278-2cba-4c5c-e2eb-44e87bd08bbd"
      },
      "execution_count": null,
      "outputs": [
        {
          "output_type": "stream",
          "name": "stdout",
          "text": [
            "{(1, 20), (2, 22), (3, 23), (4, 24)}\n",
            "{(1, 10), (2, 22), (3, 23), (4, 24)}\n"
          ]
        }
      ]
    },
    {
      "cell_type": "markdown",
      "metadata": {
        "id": "rds3Jsp10bJr"
      },
      "source": [
        "### **Ejercicio 3**\n",
        "\n",
        "Escribir un diccionario con sinónimos. Luego intentar insertar dos pares **<clave , significado>** con claves **repetidas** con la operacion **insert** y ver que sucede."
      ]
    },
    {
      "cell_type": "code",
      "source": [
        "sinonimos = Diccionario()\n",
        "sinonimos.insert(1,\"nombre\")\n",
        "sinonimos.insert(2,\"sdafaf\")\n",
        "print(sinonimos)\n",
        "sinonimos.insert(2,\"fefe\") # no redefine el valor\n",
        "print(sinonimos)\n",
        "print(sinonimos.keys())"
      ],
      "metadata": {
        "id": "FLXwTOod_zsh",
        "colab": {
          "base_uri": "https://localhost:8080/"
        },
        "outputId": "c4ec2d77-b3c7-4f0c-b4fd-341417ee65cc"
      },
      "execution_count": null,
      "outputs": [
        {
          "output_type": "stream",
          "name": "stdout",
          "text": [
            "{(1, 'nombre'), (2, 'sdafaf')}\n",
            "{(1, 'nombre'), (2, 'sdafaf')}\n",
            "[1, 2]\n"
          ]
        }
      ]
    },
    {
      "cell_type": "markdown",
      "metadata": {
        "id": "-YN0LThH0dO6"
      },
      "source": [
        "### **Ejercicio 4**\n",
        "\n",
        "Escribir una función que dado una lista de enteros me devuelve otra(no necesariamente en el mismo orden) sin los numeros repetidos.\n",
        "\n",
        "Por ejemplo:\n",
        "\n",
        "Lista de entrada = [1 , 3 , 4 , 1 , 2 , 4 , 3 , 2]\n",
        "\n",
        "Lista de salida = [1 , 3 , 2, 4]"
      ]
    },
    {
      "cell_type": "code",
      "source": [
        "entrada = [1 , 3 , 4 , 1 , 2 , 4 , 3 , 2]\n"
      ],
      "metadata": {
        "id": "9bNDSTiMi3MT"
      },
      "execution_count": null,
      "outputs": []
    },
    {
      "cell_type": "code",
      "metadata": {
        "id": "KO9cVn4T0EFQ",
        "colab": {
          "base_uri": "https://localhost:8080/"
        },
        "outputId": "8b509129-e8c7-4f01-d05a-f3953a4a7538"
      },
      "source": [
        "entrada = [1 , 3 , 4 , 1 , 2 , 4 , 3 , 2]\n",
        "# print(len(entrada))\n",
        "\n",
        "# entrada.append(3)\n",
        "# print(len(entrada))\n",
        "# print(entrada[2])\n",
        "# print(len(entrada))\n",
        "\n",
        "# def sinRepetidos(lista):\n",
        "#   aux = []\n",
        "#   for i in range(len(lista)):\n",
        "#     if i==0:\n",
        "#       aux.append(lista[i])\n",
        "#       print(2)\n",
        "#       bandera = 0\n",
        "#     for j in aux:\n",
        "#         if j != lista[i] and bandera < :\n",
        "#           aux.append(lista[i])\n",
        "#   return aux\n",
        "\n",
        "def sinRepetidos(lista):\n",
        "  aux = []\n",
        "  for elemento in lista:\n",
        "    if elemento not in aux: # es un NOT contains el \"not in\" (si elemento no esta en la lista)\n",
        "      aux.append(elemento)\n",
        "  return aux\n",
        "\n",
        "sinRepetidos(entrada)"
      ],
      "execution_count": null,
      "outputs": [
        {
          "output_type": "execute_result",
          "data": {
            "text/plain": [
              "[1, 3, 4, 2]"
            ]
          },
          "metadata": {},
          "execution_count": 27
        }
      ]
    },
    {
      "cell_type": "markdown",
      "metadata": {
        "id": "_Q_DCTjI3AGK"
      },
      "source": [
        "### **Ejercicio 5**\n",
        "\n",
        "Rehacer le ejercicio 4 pero retornando un diccionario en lugar de una lista.\n",
        "\n",
        "Por ejemplo:\n",
        "\n",
        "Lista de entrada = [1 , 3 , 4 , 1 , 2 , 4 , 3 , 2]\n",
        "\n",
        "Diccionario de salida = { (1 , None) , (3 , None) , (4 , None) , (2 , None) }"
      ]
    },
    {
      "cell_type": "code",
      "source": [
        "entrada = [1 , 3 , 4 , 1 , 2 , 4 , 3 , 2]\n",
        "\n",
        "def sinRepetidosD(lista):\n",
        "  diccionario = Diccionario()\n",
        "  for elemento in lista:\n",
        "    if elemento not in diccionario.keys(): # es un NOT contains el \"not in\" (si elemento no esta en el diccionario)\n",
        "      diccionario.insert(elemento)\n",
        "  return diccionario\n",
        "\n",
        "print(sinRepetidosD(entrada))"
      ],
      "metadata": {
        "id": "ZLjPjw-W_0kX",
        "outputId": "b664015f-e7b8-49d4-d900-6ca8f1f1a6b4",
        "colab": {
          "base_uri": "https://localhost:8080/"
        }
      },
      "execution_count": null,
      "outputs": [
        {
          "output_type": "stream",
          "name": "stdout",
          "text": [
            "{(1, None), (2, None), (3, None), (4, None)}\n"
          ]
        }
      ]
    },
    {
      "cell_type": "markdown",
      "metadata": {
        "id": "xfP229oY3ODC"
      },
      "source": [
        "### **Ejercicio 6**\n",
        "\n",
        "Escribir una función que recibe una lista de números como parámetro y devuelve un diccionario con los números de la lista como claves y la cantidad de apariciones de cada uno como su significado.\n",
        "\n",
        "Por ejemplo:\n",
        "\n",
        "Lista de entrada = [1 , 3 , 4 , 2 , 1 , 3 , 1 , 4 , 2 , 5 , 2]\n",
        "\n",
        "Diccionario de salida = { (1 , 3) , (3 , 2) , (4 , 2) , (2 , 3) , (5 , 1) }"
      ]
    },
    {
      "cell_type": "code",
      "source": [
        "entrada = [1 , 3 , 4 , 2 , 1 , 3 , 1 , 4 , 2 , 5 , 2]\n",
        "\n",
        "def diccionario6(lista):\n",
        "  diccionario = Diccionario()\n",
        "\n",
        "  #"
      ],
      "metadata": {
        "id": "_pP8MZnTjvLe"
      },
      "execution_count": null,
      "outputs": []
    },
    {
      "cell_type": "code",
      "source": [
        "#declaro diccionario de salida\n",
        "#itero la lista de entrada\n",
        "#  si el elemento actual NO esta como clave en el dicionario de salida -> insertar el par (elemento,1)\n",
        "#  si el elemento actual SI esta como clave en el dicionario de salida -> actualizo su valor sumando uno al valor actual\n",
        "#retorno diccionario de salida\n",
        "\n",
        "entrada = [1 , 3 , 4 , 2 , 1 , 3 , 1 , 4 , 2 , 5 , 2]\n",
        "\n",
        "def cantidadDeApariciones(lista):\n",
        "  diccionarioSalida = Diccionario()\n",
        "  for elemento in lista:\n",
        "    if elemento not in diccionarioSalida.keys(): # es un NOT contains el \"not in\" (si elemento no esta en el diccionario)\n",
        "      diccionarioSalida.insert(elemento,1)\n",
        "    else:\n",
        "      diccionarioSalida[elemento] += 1\n",
        "  return diccionarioSalida\n",
        "\n",
        "print(cantidadDeApariciones(entrada))"
      ],
      "metadata": {
        "id": "85dxStCj_1Xx",
        "outputId": "793f1c43-4c8d-4a54-e659-12836380a69d",
        "colab": {
          "base_uri": "https://localhost:8080/"
        }
      },
      "execution_count": null,
      "outputs": [
        {
          "output_type": "stream",
          "name": "stdout",
          "text": [
            "{(1, 3), (2, 3), (3, 2), (4, 2), (5, 1)}\n"
          ]
        }
      ]
    },
    {
      "cell_type": "markdown",
      "metadata": {
        "id": "nxgYjoxl3gmz"
      },
      "source": [
        "### **Ejercicio 7**\n",
        "\n",
        "Escribir una función que recibe dos diccionarios y devuelve otro con la mezcla de los dos, para las claves repetidas, se queda con los significados de primer diccionario.\n",
        "\n",
        "Por ejemplo:\n",
        "\n",
        "Diccionario de entrada 1 = { (1 , 3) , (3 , 2) , (4 , 4) , (2 , 3) , (5 , 1) }\n",
        "\n",
        "Diccionario de entrada 2 = { (10 , 3) , (3 , 5) , (2 , 30) , (8 , 1) , (9 , 3) }\n",
        "\n",
        "Diccionario de salida = { (1 , 3) , (3 , 2) , (4 , 4) , (2 , 3) , (5 , 1) , (10 , 3) , (8 , 1) , (9 , 3) }"
      ]
    },
    {
      "cell_type": "code",
      "metadata": {
        "id": "Ojjaj3Z23g7j"
      },
      "source": [],
      "execution_count": null,
      "outputs": []
    },
    {
      "cell_type": "markdown",
      "metadata": {
        "id": "OLopy2zK38Am"
      },
      "source": [
        "### **Ejercicio 8**\n",
        "\n",
        "Escribir una función que modele el problema de administrar las materias que cursa un alumno.\n",
        "Es decir que reciba un diccionario, un alumno y una materia y agregue esa materia a las materias que cursa.\n",
        "\n",
        "**Nota: La lista de materias de cada alumno no debe tener materias repetidas.**\n",
        "\n",
        "Por ejemplo:\n",
        "\n",
        "Diccionario = { ( \"Alumno1\" , [\"Materia1\" , \"Materia2\"] )   ,   ( \"Alumno2\", [ \"Materia2\" , \"Materia3\" , \"Materia4\" ] ) }\n"
      ]
    },
    {
      "cell_type": "markdown",
      "source": [
        "### **Ejercicio 9**\n",
        "\n",
        "Escribir una función listaToDic que recibe una lista con chirimbolos y devuelve un diccionario con cada chirimbolo como clave y como significado una matriz de nxn donde n es la cantidad de veces que aparece el chirimbolo en la lista. La matriz se debe llenar con el chirimbolo de la clave.\n",
        "Se debe resolver usando las operaciones del TDA diccionario que vimos en clase, sin violar el encapsulamiento ni utilizando estructuras auxiliares. Si es necesario definir funciones auxiliares.\n",
        "Ejemplo:\n",
        "\n",
        "```\n",
        "lista = [‘*’, ‘#’, ‘/’, ‘*’, ‘#’, ‘/’, ‘*’, ‘$’]\n",
        "listaToDic(lista) –> Diccionario\n",
        "Entonces, listaToDic(lista) =>\n",
        "{(‘*’,  [[‘*’,‘*’,‘*’],[‘*’,‘*’,‘*’],[‘*’,‘*’,‘*’]]) , (‘$’ , [[‘$’]]), (‘/’ , [[‘/’,‘/’],[‘/’,‘/’]]) , (‘#’ , [[‘#’,‘#’],[‘#’,‘#’]])}\n",
        "```\n",
        "\n",
        "Ayuda: Se recomienda generar primero la matriz con ceros y luego reemplazarlos o bien utilizar la funcion np.full(...)."
      ],
      "metadata": {
        "id": "dOTeL0tXJJKG"
      }
    },
    {
      "cell_type": "code",
      "source": [],
      "metadata": {
        "id": "91Pvlj_E_5AZ"
      },
      "execution_count": null,
      "outputs": []
    },
    {
      "cell_type": "markdown",
      "source": [
        "### **Ejercicio 10**\n",
        "\n",
        "Escribir la función promedios que recibe una lista de materias (strings) y una lista de notas (enteros) del mismo tamaño. Retorna un diccionario que posee como clave cada materia y como significado su nota promedio.\n",
        "Se debe resolver usando las operaciones del TDA diccionario que vimos en clase, sin violar el encapsulamiento ni utilizando estructuras auxiliares.\n",
        "Por ejemplo:\n",
        "\n",
        "\n",
        "listaMaterias = [“Intro Prog”, **“Objetos”**, “Estructura de Datos”, “Intro Prog”, ”Inglés”, **“Objetos”**, “Estructura de Datos”]\n",
        "\n",
        "listaNotas = [4, **4**, 4, 6, 7, **6**, 6]\n",
        "\n",
        "dic  = promedios(listaMaterias , listaNotas)\n",
        "\n",
        "Entonces, dic = { (“Intro Prog”, 5) , (“Estructura de Datos”,  5) , (”Inglés”, 7) , ( “Objetos”, 5) }"
      ],
      "metadata": {
        "id": "4M7_QzmDJdUc"
      }
    },
    {
      "cell_type": "code",
      "source": [],
      "metadata": {
        "id": "cVL1hVCK_6QR"
      },
      "execution_count": null,
      "outputs": []
    },
    {
      "cell_type": "markdown",
      "metadata": {
        "id": "rc3aFx7i5g13"
      },
      "source": [
        "### **Ejercicio 11**\n",
        "\n",
        "Tenemos un diccionario del tipo **<Entero , Lista de enteros>** (clave número entero, significado lista de enteros) que dado un numero **X**, guarda las posibles combinaciones de ese número con otros.\n",
        "\n",
        "Escribir una función que recibe un diccionario de este tipo y devuelve una lista con los posibles pares de números (en formato de tupla).\n",
        "\n",
        "Por ejemplo:\n",
        "\n",
        "Diccionario de entrada = { (5 , [5 , 3 , 7 ] )  ,  ( 8, [ 15 , 3 ] ) }\n",
        "\n",
        "Lista de salida = [ (5 , 5) ,(5 , 3) , (5 , 7) , (8 , 15) , (8 , 3) ]\n",
        "\n"
      ]
    },
    {
      "cell_type": "code",
      "source": [],
      "metadata": {
        "id": "Y1Ax5gohJPPk"
      },
      "execution_count": null,
      "outputs": []
    },
    {
      "cell_type": "markdown",
      "metadata": {
        "id": "qBL1crPl55oY"
      },
      "source": [
        "### **Ejercicio 12**\n",
        "\n",
        "Escribir una función que haga lo inverso del Ejercicio 9.\n",
        "\n",
        "Por ejemplo:\n",
        "\n",
        "Lista de entrada = [ (5 , 5) ,(5 , 3) , (5 , 7) , (8 , 15) , (8 , 3) ]\n",
        "\n",
        "Diccionario de salida = { (5 , [5 , 3 , 7 ] )  ,  ( 8, [ 15 , 3 ] ) }\n",
        "\n",
        "\n"
      ]
    },
    {
      "cell_type": "code",
      "source": [],
      "metadata": {
        "id": "XJJXK63g_78q"
      },
      "execution_count": null,
      "outputs": []
    },
    {
      "cell_type": "markdown",
      "metadata": {
        "id": "02nV6J1RzOZI"
      },
      "source": [
        "### **Ejercicio 13**\n",
        "\n",
        "Escribir el TDA **MatrizDePixels**, que modele una matriz de pixels (imagen) de **N x M** usando el tipo array del paquete numpy, donde cada pixel tiene un color representado por un número entero entre **0 y 255**.\n",
        "\n",
        "Hacer las operaciones del TDA para crear una MatrizDePixels (por defecto llena de ceros), leer y escribir pixels.\n",
        "\n",
        "Luego pruebenla con estos ejemplos:\n",
        "\n",
        "**a)** Crear una MatrizDePixels de **100 x 100** y agregarle valores a dos pixels.\n",
        "\n",
        "**b)** Crear una MatrizDePixels de **100000 x 50000** y agregarle valores a dos pixels.\n",
        "\n",
        "Explicar porque el inciso **b** da un error\n",
        "\n",
        "\n"
      ]
    },
    {
      "cell_type": "code",
      "source": [],
      "metadata": {
        "id": "FFeR5_ZS_9rB"
      },
      "execution_count": null,
      "outputs": []
    },
    {
      "cell_type": "markdown",
      "source": [
        "Ahora escribir el TDA **MatrizDePixelsDict**, que modele una matriz de pixels (imagen) de **N x M** usando un diccionario de **<(fila,columna) , pixel>**, donde cada pixel tiene un color representado por un número entero entre **0 y 255** y el par **(fila,columna)** indica la posición del pixel en la matriz.\n",
        "\n",
        "Hacer las operaciones del TDA para crear una MatrizDePixelsDict (por defecto llena de ceros), leer y escribir pixels.\n",
        "\n",
        "Luego pruebenla con estos ejemplos:\n",
        "\n",
        "**a)** Crear una MatrizDePixelsDict de **100 x 100** y agregarle valores a dos pixels.\n",
        "\n",
        "**b)** Crear una MatrizDePixelsDict de **100000 x 50000** y agregarle valores a dos pixels.\n",
        "\n",
        "Explicar porque el inciso **b** ahora si funciona"
      ],
      "metadata": {
        "id": "_GiVemNfJUj8"
      }
    },
    {
      "cell_type": "markdown",
      "source": [
        "**Nota:** Si importan el paquete **sys** pueden usar la función **sys.getsizeof(variable)** que retorna el espacio que ocupa una variable en memoria."
      ],
      "metadata": {
        "id": "SHOMF2WEMDW7"
      }
    },
    {
      "cell_type": "code",
      "source": [],
      "metadata": {
        "id": "5CJ1iGmx__ka"
      },
      "execution_count": null,
      "outputs": []
    },
    {
      "cell_type": "markdown",
      "source": [
        "### **Ejercicio 14**\n",
        "\n",
        "Implementar la suma matrices como operación en el TDA **MatrizDePixelsDict** implementado en el Ejercicio 11."
      ],
      "metadata": {
        "id": "a-69eMHdjcSy"
      }
    },
    {
      "cell_type": "code",
      "source": [],
      "metadata": {
        "id": "HUxXguFJeyRL"
      },
      "execution_count": null,
      "outputs": []
    }
  ]
}