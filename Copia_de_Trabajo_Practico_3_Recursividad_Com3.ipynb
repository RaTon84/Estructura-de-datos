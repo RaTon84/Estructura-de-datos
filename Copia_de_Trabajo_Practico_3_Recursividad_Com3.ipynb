{
  "nbformat": 4,
  "nbformat_minor": 0,
  "metadata": {
    "colab": {
      "provenance": [],
      "include_colab_link": true
    },
    "kernelspec": {
      "name": "python3",
      "display_name": "Python 3"
    }
  },
  "cells": [
    {
      "cell_type": "markdown",
      "metadata": {
        "id": "view-in-github",
        "colab_type": "text"
      },
      "source": [
        "<a href=\"https://colab.research.google.com/github/RaTon84/Estructura-de-datos/blob/master/Copia_de_Trabajo_Practico_3_Recursividad_Com3.ipynb\" target=\"_parent\"><img src=\"https://colab.research.google.com/assets/colab-badge.svg\" alt=\"Open In Colab\"/></a>"
      ]
    },
    {
      "cell_type": "markdown",
      "metadata": {
        "id": "42630xxYD0gZ"
      },
      "source": [
        "# ![alt text](https://upload.wikimedia.org/wikipedia/commons/thumb/c/c3/Python-logo-notext.svg/50px-Python-logo-notext.svg.png) **Trabajo Práctico 3: Recursividad** ![alt text](https://upload.wikimedia.org/wikipedia/commons/thumb/c/c3/Python-logo-notext.svg/50px-Python-logo-notext.svg.png)\n",
        "\n",
        "En este trabajo práctico, vamos a trabajar con el concepto de recursividad en Python. Recuerden crear una copia de este archivo en su ***Google Drive*** para tener permisos de edición.\n",
        "\n",
        "### **florencia.dias@unahur.edu.ar** ###"
      ]
    },
    {
      "cell_type": "markdown",
      "metadata": {
        "id": "xjXgmD3mskbR"
      },
      "source": [
        "### **Ejercicio 1**\n",
        "\n",
        "Implementar una función que calcule el factorial de un número de forma recursiva"
      ]
    },
    {
      "cell_type": "code",
      "source": [
        "def factorial(numero):\n",
        "  if numero==1:\n",
        "    return numero\n",
        "  else:\n",
        "    return numero * factorial(numero-1)\n",
        "\n",
        "def factorial2(numero):\n",
        "  if numero == 1:\n",
        "    resultado = 1\n",
        "  if numero>1:\n",
        "    resultado = numero * factorial2(numero-1)\n",
        "  return resultado\n",
        "\n",
        "def factorial3(numero):\n",
        "  if numero!=1:\n",
        "    return numero * factorial(numero-1)\n",
        "\n",
        "factorial3(5)\n",
        "#factorial2(5)"
      ],
      "metadata": {
        "id": "8fVp2blSfezs",
        "colab": {
          "base_uri": "https://localhost:8080/"
        },
        "outputId": "5cc18bdd-34f8-44f6-e7b2-e1959b18ceaa"
      },
      "execution_count": null,
      "outputs": [
        {
          "output_type": "execute_result",
          "data": {
            "text/plain": [
              "120"
            ]
          },
          "metadata": {},
          "execution_count": 24
        }
      ]
    },
    {
      "cell_type": "markdown",
      "metadata": {
        "id": "oQU_Yv1QuOXm"
      },
      "source": [
        "### **Ejercicio 2**\n",
        "\n",
        "Una canilla de una casa pierde agua de forma que todos los días pierde 2 gotas más que el día anterior. Escribir una función recursiva que calcule cuantas gotas perderá la canilla el día N. El primer día solo perdía dos gotas."
      ]
    },
    {
      "cell_type": "code",
      "metadata": {
        "id": "3QmA2qDGvs2d",
        "colab": {
          "base_uri": "https://localhost:8080/"
        },
        "outputId": "34e2673b-c81e-49fc-c659-d372000d5d3a"
      },
      "source": [
        "def gotera(dias):\n",
        "  if dias==1:\n",
        "    resultado = 2\n",
        "  else:\n",
        "    resultado = 2 + gotera(dias-1)\n",
        "  return resultado\n",
        "\n",
        "def gotera2(dias):\n",
        "  if dias==1:\n",
        "    return 2\n",
        "  else:\n",
        "    return 2 + gotera2(dias-1)\n",
        "\n",
        "gotera2(5)\n",
        "#gotera(5)"
      ],
      "execution_count": null,
      "outputs": [
        {
          "output_type": "execute_result",
          "data": {
            "text/plain": [
              "10"
            ]
          },
          "metadata": {},
          "execution_count": 31
        }
      ]
    },
    {
      "cell_type": "markdown",
      "metadata": {
        "id": "mJwO1DVLJ5q2"
      },
      "source": [
        "### **Ejercicio 3**\n",
        "\n",
        "Implementar una función recursiva que calcule los números de la serie de Fibonacci. La función para generar la serie de Fibonacci es la siguiente (donde N es el índice del número en la serie):\n",
        "\n",
        "![alt text](https://matematicasmodernas.com/wp-content/uploads/2014/03/EcuacionF.jpg)\n",
        "\n",
        "Luego escribir un programa que pida un número N (mayor o igual a 0) al usuario e imprima por pantalla los primeros N números de la serie de Fibonacci\n",
        "\n",
        "Sobre la sucesion de Fibonacci: https://www.vix.com/es/btg/curiosidades/4461/que-es-la-sucesion-de-fibonacci\n",
        "\n",
        "\n"
      ]
    },
    {
      "cell_type": "code",
      "metadata": {
        "id": "Hg30Eej9pP3Q",
        "colab": {
          "base_uri": "https://localhost:8080/"
        },
        "outputId": "5707df6d-226c-4a8d-d0a8-34afca4774cc"
      },
      "source": [
        "def fibonacci(numero):\n",
        "  if numero==0:\n",
        "    return 0\n",
        "  elif numero==1:\n",
        "    return 1\n",
        "  else:\n",
        "    return fibonacci(numero-1) + fibonacci(numero-2)\n",
        "\n",
        "#def fibonacci2(numero):\n",
        " # if numero==0:\n",
        "  #  resultado = 0\n",
        "  #elif numero==1:\n",
        "  #  resultado = 1\n",
        "  #else:\n",
        "   # resultado = fibonacci(numero-1) + fibonacci(numero-2)\n",
        "   # print(resultado)\n",
        "\n",
        "fibonacci(5)\n",
        "\n",
        "def primerosNumerosDeFibonacci():\n",
        "  numero = int(input(\"escriba un numero: \"))\n",
        "  for i in range(numero):\n",
        "    if i==numero-1:\n",
        "      print(fibonacci(i))\n",
        "    else:\n",
        "      print(fibonacci(i),end=\",\")\n",
        "\n",
        "fibonacci(5)\n",
        "primerosNumerosDeFibonacci()"
      ],
      "execution_count": null,
      "outputs": [
        {
          "output_type": "stream",
          "name": "stdout",
          "text": [
            "escriba un numero: 5\n",
            "0,1,1,2,3\n"
          ]
        }
      ]
    },
    {
      "cell_type": "markdown",
      "metadata": {
        "id": "5LOgT_WupRbE"
      },
      "source": [
        "### **Ejercicio 4**\n",
        "\n",
        "Escribir una función recursiva que calcule el número triangular de índice N. El número triangular de índice N es la suma de todos los números desde 1 hasta N.\n",
        "\n",
        "Algunos ejemplos:\n",
        "\n",
        "*T(1) = 1*\n",
        "\n",
        "*T(2) = 1 + 2*\n",
        "\n",
        "*T(3) = 1 + 2 + 3*\n",
        "\n",
        "*T(4) = 1 + 2 + 3 + 4*\n",
        "\n",
        "*T(5) = 1 + 2 + 3 + 4 + 5*\n",
        "\n",
        "...\n",
        "\n",
        "*T(N) = 1 + 2 + 3 + 4 + ... + N*"
      ]
    },
    {
      "cell_type": "code",
      "metadata": {
        "id": "553FmJ6pqii-",
        "colab": {
          "base_uri": "https://localhost:8080/"
        },
        "outputId": "9ccf2d6a-a42c-4b08-d1e8-960b4f959219"
      },
      "source": [
        "#T(N) = N + T(N-1)\n",
        "\n",
        "def numeroTriangular(numero):\n",
        "  if numero==0:\n",
        "    return numero\n",
        "  else:\n",
        "    return numero+numeroTriangular(numero-1)\n",
        "\n",
        "def numeroTriangular2(numero):\n",
        "  if numero!=0:\n",
        "    return numero+numeroTriangular(numero-1)\n",
        "\n",
        "numeroTriangular2(5)"
      ],
      "execution_count": null,
      "outputs": [
        {
          "output_type": "execute_result",
          "data": {
            "text/plain": [
              "15"
            ]
          },
          "metadata": {},
          "execution_count": 22
        }
      ]
    },
    {
      "cell_type": "markdown",
      "metadata": {
        "id": "7JAbyL8nqjZW"
      },
      "source": [
        "### **Ejercicio 5**\n",
        "\n",
        "En las redes sociales se produce una continua interacción y cada vez que un usuario realiza una acción, la comunidad se modifica. Suponiendo que un *influencer* que usa ***Instagram*** cada vez que postea algo, aumenta su cantidad de seguidores según la siguiente regla:\n",
        "- Durante los primeros 20 posteos, siempre suma una cantidad fija de 1000 (mil) seguidores en cada uno.\n",
        "- A partir del posteo 21, la cantidad de seguidores duplica la cantidad previa de seguidores, mas  500 seguidores extra.\n",
        "\n",
        "Implementar una función recursiva que permita saber cuantos seguidores tendra el *Instagramer* luego de una cantidad determinada de posteos."
      ]
    },
    {
      "cell_type": "code",
      "metadata": {
        "id": "5SdJZdQorUIb",
        "colab": {
          "base_uri": "https://localhost:8080/"
        },
        "outputId": "2cf0da00-e6fd-4154-c61a-40a1fefd95ff"
      },
      "source": [
        "def aumentoDeSeguidores(posteos):\n",
        "  if posteos == 0:\n",
        "    return 0\n",
        "  if posteos <= 20:\n",
        "    return aumentoDeSeguidores(posteos-1) + 1000\n",
        "  else:\n",
        "    return aumentoDeSeguidores(posteos-1) * 2 + 500\n",
        "\n",
        "def aumentoDeSeguidores2(posteos):\n",
        "  if posteos != 0:\n",
        "    if posteos <= 20:\n",
        "      return aumentoDeSeguidores(posteos-1) + 1000\n",
        "    return aumentoDeSeguidores(posteos-1) * 2 + 500\n",
        "\n",
        "aumentoDeSeguidores(21)"
      ],
      "execution_count": null,
      "outputs": [
        {
          "output_type": "execute_result",
          "data": {
            "text/plain": [
              "40500"
            ]
          },
          "metadata": {},
          "execution_count": 26
        }
      ]
    },
    {
      "cell_type": "markdown",
      "metadata": {
        "id": "-u_y1o2XrUpw"
      },
      "source": [
        "### **Ejercicio 6**\n",
        "\n",
        "Un equipo de albañiles de una obra, tiene que planificar la colocación de pisos. Dicha tarea se realiza teniendo algunas consideraciones específicas, que tienen que ver con el corte de las baldosas, con el material de pegado y la cantidad de trabajadores que hay en cada momento. En el arranque, el día uno (1), los albañiles colocan siempre 100 baldosas.\n",
        "Luego, la cantidad que se coloca cada día se organiza de esta manera:\n",
        "- Los días pares se colocan el doble de baldosas del día anterior.\n",
        "- Los días impares (salvo el primer día) se coloca una cantidad igual a la suma de las que se colocaron los 2 dias anteriores.\n",
        "\n",
        "Implementar una función que permita saber la cantidad de baldosas que se colocan un día determinado."
      ]
    },
    {
      "cell_type": "code",
      "metadata": {
        "id": "1Vek6PTrse-p",
        "colab": {
          "base_uri": "https://localhost:8080/"
        },
        "outputId": "92ef3e83-36de-4019-f7a6-88898e59138c"
      },
      "source": [
        "# Recomendacion hacer 1ro la funcion que calcula la cant de baldosas para un dia determinado luego hacer otra fucion, que utlice la 1ra\n",
        "\n",
        "def colocarBaldosas(dias):\n",
        "  if dias == 1:\n",
        "    return 100\n",
        "  elif dias%2 == 0:\n",
        "    return colocarBaldosas(dias-1) * 2\n",
        "  else:\n",
        "    return colocarBaldosas(dias-1) + colocarBaldosas(dias-2)\n",
        "\n",
        "def colocarBaldosas2(dias):\n",
        "  if dias != 1:\n",
        "    if dias%2 == 0:\n",
        "      return colocarBaldosas(dias-1) * 2\n",
        "    return colocarBaldosas(dias-1) + colocarBaldosas(dias-2)\n",
        "  return 100\n",
        "\n",
        "colocarBaldosas2(10)"
      ],
      "execution_count": null,
      "outputs": [
        {
          "output_type": "execute_result",
          "data": {
            "text/plain": [
              "16200"
            ]
          },
          "metadata": {},
          "execution_count": 28
        }
      ]
    },
    {
      "cell_type": "markdown",
      "metadata": {
        "id": "EVmZea0Cselk"
      },
      "source": [
        "### **Ejercicio 7**\n",
        "\n",
        "Luego de una lluvia muy grande se acumula gran cantidad de agua en un estanque, durante el primer día, el agua comienza a ponerse de color verde y un grupo de científicos decide medir cuantas algas encuentra dentro del tanque. La primer medición le da como resultado 12 algas. Luego deciden ir a realizar la medición todos los días para tratar de establecer un patrón de crecimiento y se encuentran que las algas crecen con la siguiente regla:\n",
        "- Durante los siguientes 10 días (del dia 2 al 11) la cantidad de algas en el tanque es 15 más de las que había el día anterior.\n",
        "- A partir del día 12, la cantidad de algas en el tanque es el triple de las que había el día previo más una cantidad fija de 100.\n",
        "\n",
        "Escriba una función recursiva que calcule la cantidad de algas en el tanque en un día N.\n",
        "\n",
        "Nota: Suponer que no mueren algas en el tanque."
      ]
    },
    {
      "cell_type": "code",
      "metadata": {
        "id": "30rAj4BTtQMo",
        "colab": {
          "base_uri": "https://localhost:8080/"
        },
        "outputId": "f3052ccb-012f-47d7-9f23-83953fdc029c"
      },
      "source": [
        "def cantidadDeAlgas(dias):\n",
        "  if dias == 1:\n",
        "    return 0\n",
        "  elif dias <= 11:\n",
        "    return cantidadDeAlgas(dias-1) + 15\n",
        "  else:\n",
        "    return cantidadDeAlgas(dias-1) * 3 +100\n",
        "\n",
        "def cantidadDeAlgas2(dias):\n",
        "  if dias != 1:\n",
        "    if dias <= 11:\n",
        "      return cantidadDeAlgas(dias-1) + 15\n",
        "    return cantidadDeAlgas(dias-1) * 3 +100\n",
        "  return 0\n",
        "\n",
        "cantidadDeAlgas2(12)"
      ],
      "execution_count": null,
      "outputs": [
        {
          "output_type": "execute_result",
          "data": {
            "text/plain": [
              "550"
            ]
          },
          "metadata": {},
          "execution_count": 34
        }
      ]
    },
    {
      "cell_type": "markdown",
      "metadata": {
        "id": "ahvaeTRS0Gm7"
      },
      "source": [
        "### **Ejercicio 8**\n",
        "\n",
        "Escribir una función recursiva que calcule la potencia N de un número M (M a la N), ambos números enteros positivos.   "
      ]
    },
    {
      "cell_type": "code",
      "metadata": {
        "id": "w9R8zTz_0Pku",
        "colab": {
          "base_uri": "https://localhost:8080/"
        },
        "outputId": "4230fcdc-0f3e-43f1-e6bf-a7d10e36f5dd"
      },
      "source": [
        "#M^N = M * M * M * .....* M (N veces) = M * M^(N-1)\n",
        "#Piensen caso base\n",
        "\n",
        "#M² = M*M\n",
        "#M³ = M*M*M\n",
        "#M⁴ = M*M*M*M\n",
        "\n",
        "def potencia(base,exponente):\n",
        "  if exponente == 1:\n",
        "    return base\n",
        "  else:\n",
        "    return potencia(base,exponente-1) * base\n",
        "\n",
        "def potencia2(base,exponente):\n",
        "  if exponente != 1:\n",
        "    return potencia(base,exponente-1) * base\n",
        "\n",
        "potencia2(3,3)"
      ],
      "execution_count": null,
      "outputs": [
        {
          "output_type": "execute_result",
          "data": {
            "text/plain": [
              "27"
            ]
          },
          "metadata": {},
          "execution_count": 38
        }
      ]
    },
    {
      "cell_type": "markdown",
      "metadata": {
        "id": "1ahXjm9z0QND"
      },
      "source": [
        "### **Ejercicio 9**\n",
        "\n",
        "Problema del trigo en el tablero de ajedrez:\n",
        "\n",
        "![alt text](https://i0.wp.com/matematicascercanas.com/wp-content/uploads/2015/03/leyenda_ajedrez.jpg?w=600&ssl=1)\n",
        "\n",
        "Si se colocase sobre un tablero de ajedrez, un grano de trigo en el primer casillero, dos en el segundo, cuarto en el tercero y asi sucesivamente, doblando la cantidad de granos en cada casilla ¿Cuantos granos de trigo habría en el tablero en total al final? Resolver el problema con una función recursiva.\n",
        "\n",
        "Leyenda del Trigo y el tablero de ajedrez y mas datos: https://matematicascercanas.com/2014/03/10/la-leyenda-del-tablero-de-ajedrez-y-los-granos-de-trigo/"
      ]
    },
    {
      "cell_type": "code",
      "metadata": {
        "id": "WLUBQcfx1hGE",
        "colab": {
          "base_uri": "https://localhost:8080/"
        },
        "outputId": "11b3d396-11a5-4806-a6a2-8f854e44377a"
      },
      "source": [
        "#cantidadGranosEnTablero(cantCasilleros) = cantidadGranosEnCasillero(cantCasilleros) + cantidadGranosEnTablero(cantCasilleros-1)\n",
        "def doblarCantidadDeTrigo(casilleros):\n",
        "  resultado = 0\n",
        "  if casilleros == 1:\n",
        "    resultado = 1\n",
        "  if casilleros > 1:\n",
        "    resultado = doblarCantidadDeTrigo(casilleros-1) * 2\n",
        "    print(resultado)\n",
        "  return resultado\n",
        "doblarCantidadDeTrigo(5)\n"
      ],
      "execution_count": null,
      "outputs": [
        {
          "output_type": "stream",
          "name": "stdout",
          "text": [
            "2\n",
            "4\n",
            "8\n",
            "16\n"
          ]
        },
        {
          "output_type": "execute_result",
          "data": {
            "text/plain": [
              "16"
            ]
          },
          "metadata": {},
          "execution_count": 24
        }
      ]
    },
    {
      "cell_type": "markdown",
      "metadata": {
        "id": "UcGyejNf1hYo"
      },
      "source": [
        "### **Ejercicio 10**\n",
        "\n",
        "En un edificio alto, las cucarachas se van distribuyendo por pisos de esta forma:\n",
        "- En el primer piso hay una cucaracha\n",
        "- En los pisos pares el doble del número de piso (por ejemplo en el piso 8 hay 16 cucarachas)\n",
        "- El resto de los pisos tienen la suma de las cucarachas de los dos pisos anteriores.\n",
        "\n",
        "Escribir una función recursiva que calcule la cantidad de cucarachas en un edificio en función de la cantidad de pisos."
      ]
    },
    {
      "cell_type": "code",
      "metadata": {
        "id": "l_oaoB0S2_Fa"
      },
      "source": [
        "def cantidadDeCucarachas(pisos):\n",
        "  if pisos == 1:\n",
        "    return 1\n",
        "  elif pisos%2 != 0:\n",
        "    return cantidadDeCucarachas(pisos -1) * 2 ### serian los impare ?\n",
        "  else:\n",
        "    return cantidadDeCucarachas(pisos -1) + cantidadDeCucarachas(pisos -2)\n",
        "# ver el resultado"
      ],
      "execution_count": null,
      "outputs": []
    },
    {
      "cell_type": "markdown",
      "metadata": {
        "id": "HnGv90m72_dg"
      },
      "source": [
        "### **Ejercicio 11**\n",
        "\n",
        "Escribir la función recursiva repetirPalabra, que recibe como parámetro una palabra (cadena de caracteres) y un número N. La función debe retornar una nueva cadena que contenga la palabra repetida N veces, por ejemplo:\n",
        "\n",
        "*repetirPalabra(\"hola\",3) -> \"holaholahola\"*"
      ]
    },
    {
      "cell_type": "code",
      "metadata": {
        "id": "sLVYYAqz3zX_",
        "colab": {
          "base_uri": "https://localhost:8080/"
        },
        "outputId": "eadd86da-aed4-4965-92b3-89da06553dfb"
      },
      "source": [
        "#repetirPalabra(\"hola\",2) -> \"holahola\"\n",
        "#repetirPalabra(\"hola\",3) -> \"holaholahola\"\n",
        "#repetirPalabra(\"hola\",4) -> \"holaholaholahola\"\n",
        "#....\n",
        "#repetirPalabra(palabra, N) = repetirPalabra(palabra, N-1) + palabra\n",
        "#Pensar el caso base\n",
        "\n",
        "def repetirPalabra(palabra:str, repeticiones:int):\n",
        "  if repeticiones==2:\n",
        "    print(palabra, end=\"\")\n",
        "  else:\n",
        "    repetirPalabra(palabra,repeticiones-1)\n",
        "  print(palabra, end=\"\")\n",
        "\n",
        "def repetirPalabra2(palabra:str, repeticiones:int):\n",
        "  if repeticiones==1:\n",
        "    print(palabra, end=\"\")\n",
        "  else:\n",
        "    print(palabra, end=\"\")\n",
        "    repetirPalabra2(palabra,repeticiones-1)\n",
        "\n",
        "def repetirPalabra3(palabra:str, repeticiones:int):\n",
        "  if repeticiones!=0:\n",
        "    print(palabra, end=\"\")\n",
        "    repetirPalabra3(palabra,repeticiones-1)\n",
        "\n",
        "repetirPalabra2(\"holwa\",3)"
      ],
      "execution_count": null,
      "outputs": [
        {
          "output_type": "stream",
          "name": "stdout",
          "text": [
            "holwaholwaholwa"
          ]
        }
      ]
    },
    {
      "cell_type": "markdown",
      "metadata": {
        "id": "OuXPsBX64RLT"
      },
      "source": [
        "### **Ejercicio 12**\n",
        "\n",
        "Escribir una función recursiva que calcule el número combinatorio, es decir, las combinaciones de N elementos tomados de a M, usando la siguiente expresión:\n",
        "\n",
        "![numeroCombiantorio.png](https://i.ibb.co/y408VDB/numero-Combiantorio.png)"
      ]
    },
    {
      "cell_type": "code",
      "metadata": {
        "id": "zk-lsLvu4Qwp",
        "colab": {
          "base_uri": "https://localhost:8080/"
        },
        "outputId": "85cdcdbf-b4e0-40d3-a8a3-0d054fcdbd22"
      },
      "source": [
        "def numeroCombinatorio(n,m):\n",
        "  if n==m:\n",
        "    return 1\n",
        "  if m==1:\n",
        "    return m\n",
        "  if n > m and m > 1:\n",
        "    return numeroCombinatorio(n-1,m-1) + numeroCombinatorio(n-1,m)\n",
        "\n",
        "numeroCombinatorio(5,3)"
      ],
      "execution_count": 4,
      "outputs": [
        {
          "output_type": "execute_result",
          "data": {
            "text/plain": [
              "6"
            ]
          },
          "metadata": {},
          "execution_count": 4
        }
      ]
    },
    {
      "cell_type": "markdown",
      "metadata": {
        "id": "QL1a0WtI89QA"
      },
      "source": [
        "### **Ejercicio 13**\n",
        "\n",
        "Juan y María empiezan a trabajar el mismo día en dos empresas distintas. Juan arregla un sueldo inicial de \\$40000 con una actualización mensual del 2% y María un sueldo inicial de \\$25000 con una actualización mensual del 5%. Calcular recursivamente los sueldos de Juan y de María luego de transcurridos una cantidad determinada de meses.\n",
        "\n",
        "Luego, escribir un programa que calcule y muestre por pantalla cuantos meses tienen que pasar para que el sueldo de María supere al de Juan (Esta parte no hace falta que sea recursiva, pero pueden intentar hacerlo)."
      ]
    },
    {
      "cell_type": "code",
      "metadata": {
        "id": "KMkkp7XX888v",
        "colab": {
          "base_uri": "https://localhost:8080/"
        },
        "outputId": "0387d71b-9aea-442c-ca52-5dcd1c975d81"
      },
      "source": [
        "#Caso base: nMes en el cual el sueldo de Maria supera al de Juan\n",
        "def calcularSueldos(sueldoInicial:int, actualizacionMensual:int, meses:int):\n",
        "  if meses==1:\n",
        "    return sueldoInicial * (actualizacionMensual/10+1)\n",
        "  else:\n",
        "    return calcularSueldos(sueldoInicial,actualizacionMensual,meses-1) * (actualizacionMensual/10+1)\n",
        "\n",
        "print(calcularSueldos(40000,2,2))\n",
        "print(calcularSueldos(25000,2,3))\n",
        "\n",
        "maria = calcularSueldos(40000,2,2)\n",
        "juan = calcularSueldos(25000,2,3)\n",
        "\n",
        "def cuantosMeses(maria,juan):\n",
        "  if maria > juan:\n",
        "    return None\n",
        "  else:\n",
        "    return\n"
      ],
      "execution_count": 5,
      "outputs": [
        {
          "output_type": "stream",
          "name": "stdout",
          "text": [
            "57600.0\n",
            "43200.0\n"
          ]
        }
      ]
    }
  ]
}