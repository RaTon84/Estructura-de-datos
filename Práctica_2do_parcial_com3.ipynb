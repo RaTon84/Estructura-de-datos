{
  "nbformat": 4,
  "nbformat_minor": 0,
  "metadata": {
    "colab": {
      "provenance": [],
      "include_colab_link": true
    },
    "kernelspec": {
      "name": "python3",
      "display_name": "Python 3"
    },
    "language_info": {
      "name": "python"
    }
  },
  "cells": [
    {
      "cell_type": "markdown",
      "metadata": {
        "id": "view-in-github",
        "colab_type": "text"
      },
      "source": [
        "<a href=\"https://colab.research.google.com/github/RaTon84/Estructura-de-datos/blob/master/Pr%C3%A1ctica_2do_parcial_com3.ipynb\" target=\"_parent\"><img src=\"https://colab.research.google.com/assets/colab-badge.svg\" alt=\"Open In Colab\"/></a>"
      ]
    },
    {
      "cell_type": "markdown",
      "source": [
        "# ![alt text](https://upload.wikimedia.org/wikipedia/commons/thumb/c/c3/Python-logo-notext.svg/50px-Python-logo-notext.svg.png) **Mas ejemplos de ejercicios para 2do parcial** ![alt text](https://upload.wikimedia.org/wikipedia/commons/thumb/c/c3/Python-logo-notext.svg/50px-Python-logo-notext.svg.png)\n",
        "\n",
        "Traten de resolverlos en papel.\n",
        "\n",
        "###**florencia.dias@unahur.edu.ar** ###"
      ],
      "metadata": {
        "id": "eb2B01vqKAmJ"
      }
    },
    {
      "cell_type": "code",
      "source": [
        "import copy as cp\n",
        "\n",
        "class Diccionario: # principal\n",
        "  #######TDA tupla clave-significado#########################\n",
        "  class __TuplaDic: # propósito principal será definir la\n",
        "  #igualdad por la clave de la relación\n",
        "    def __init__(self, key, value): # contiene clave y significado\n",
        "      self.__data = (key,value)\n",
        "\n",
        "    def __repr__(self):\n",
        "      return str(self.__data)\n",
        "\n",
        "    def __eq__(self, key):\n",
        "      return self.__data[0] == key\n",
        "\n",
        "    def __hash__(self):\n",
        "      return hash(self.__data[0])\n",
        "\n",
        "    def getKey(self):\n",
        "      return self.__data[0] # parte izquierda\n",
        "\n",
        "    def getValue(self):\n",
        "      return self.__data[1] # parte derecha\n",
        "  ############################################################\n",
        "\n",
        "  ###Constructor recibe dos listas de claves y significados en orden\n",
        "  def __init__(self, keys = None, values = None):\n",
        "    self.__diccionario = set() #conjutno\n",
        "    if keys != None:\n",
        "      if len(keys) == len(values):\n",
        "        for i in range(len(keys)):\n",
        "          self[keys[i]] = values[i]\n",
        "      else:\n",
        "        raise Exception(\"Las listas de pares clave-significado deben tener la misma cantidad\")\n",
        "\n",
        "  def __repr__(self):\n",
        "    return str(self.__diccionario)\n",
        "\n",
        "  ###Asignacion usando [], se recibe clave entre corchetes /\n",
        "  #Permite reemplazar aunque exista la clave\n",
        "  def __setitem__(self, key = None, value = None):\n",
        "    if key != None: # si la clave esta definida\n",
        "      if key in self: # y si la clave ya existia\n",
        "        self.__diccionario.remove(key) # la borramos\n",
        "      self.__diccionario.add(Diccionario.__TuplaDic(key,value)) # la volvemos a definir\n",
        "\n",
        "  ###No inserta si existe la clave, es decir, si la clave existe en el dicc no modifica el valor\n",
        "  def insert(self, key = None, value = None):\n",
        "    if key != None:\n",
        "      self.__diccionario.add(Diccionario.__TuplaDic(key,value))\n",
        "\n",
        "  ###Elimina si existe la clave, es decir, si la clave existe en el dicc elimina el par clave-valor\n",
        "  ###Sino existe la clave, no hace nada\n",
        "  def remove(self, key):\n",
        "    if key in self:\n",
        "        valor = self[key]\n",
        "        self.__diccionario.remove(key)\n",
        "        return valor\n",
        "\n",
        "  ###Vacia dicc\n",
        "  def clear(self):\n",
        "    self.__diccionario = set()\n",
        "\n",
        "  ###Clonar dicc\n",
        "  def clone(self):\n",
        "    return cp.deepcopy(self)\n",
        "\n",
        "  ###Acceso a valores usando [], se recibe clave entre corchetes\n",
        "  def __getitem__(self, key):\n",
        "    value = None\n",
        "    flag = False\n",
        "    for tuplaDic in self.__diccionario:\n",
        "      if tuplaDic.getKey() == key:\n",
        "        value = tuplaDic.getValue()\n",
        "        flag = True\n",
        "    if flag:\n",
        "      return value\n",
        "    else:\n",
        "      raise Exception(\"No existe la clave %s en el diccionario\" % (key))\n",
        "\n",
        "  ###Retorna valor de la clave que se recibe por parametro\n",
        "  def get(self, key): # dado una clave, me devuelve el significado\n",
        "    value = None\n",
        "    flag = False\n",
        "    for tuplaDic in self.__diccionario: # in definido abajo\n",
        "      if tuplaDic.getKey() == key:\n",
        "        value = tuplaDic.getValue()\n",
        "        flag = True\n",
        "    if flag:\n",
        "      return value\n",
        "    else:\n",
        "      raise Exception(\"No existe la clave %s en el diccionario\" % (key))\n",
        "\n",
        "  ###Retorna lista con claves\n",
        "  def keys(self): # por cada tupla del diccionario, la parte izquierda de la tupla.\n",
        "    return [x.getKey() for x in self.__diccionario]\n",
        "\n",
        "  ###Retorna lista con valores\n",
        "  def values(self): # por cada tupla del diccionario, la parte derecha de la tupla.\n",
        "    return [x.getValue() for x in self.__diccionario]\n",
        "\n",
        "  ###Operador \"in\"\n",
        "  def __contains__(self, key): #busca por la clave\n",
        "    return key in self.__diccionario\n",
        "\n",
        "  ###Tamaño de diccionario\n",
        "  def len(self):\n",
        "    return len(self.__diccionario)"
      ],
      "metadata": {
        "id": "dZrt5nY7TBa6"
      },
      "execution_count": null,
      "outputs": []
    },
    {
      "cell_type": "markdown",
      "source": [
        "# **Ejercicio 1** (TDA Diccionario)\n",
        "\n",
        "\n",
        "Escribir la función **juntarPorValores(dic)** que recibe un Diccionario<String, Int> y retorna otro diccionario en el cual agrupa en listas las claves que tienen el mismo valor en el diccionario de entrada. Se debe resolver usando las operaciones del TDA Diccionario que vimos en clase, sin violar el encapsulamiento ni utilizando estructuras auxiliares.\n",
        "\n",
        "Por ejemplo:\n",
        "\n",
        "Si, dicEntrada = {(“Argentina”, 15) , (“Uruguay”,  12) , ( “Venezuela”, 8), **( “Paraguay”, 5)**, ( “Ecuador”, 8), ( “Brasil”, 8), **( “Chile”, 5)**, ( “Bolivia”, 3), ( “Peru”, 2) , (”Colombia”, 12) }\n",
        "\n",
        "dicsalida  = juntarPorValores(dicEntrada)\n",
        "\n",
        "Entonces, dicsalida = { (15, [“Argentina”]) , **(5, [“Paraguay”, “Chile”])** , (12, [”Uruguay”, “Colombia”]) , (8. [“Venezuela”, “Ecuador”, “Brasil”]), (2, [“Peru”]), (3, [“Bolivia”]) }"
      ],
      "metadata": {
        "id": "XLCCXBfPqcyW"
      }
    },
    {
      "cell_type": "code",
      "execution_count": null,
      "metadata": {
        "id": "QFwGhfUYJTDl",
        "outputId": "ce93ca6b-d16a-4159-b093-d5ce33adca4c",
        "colab": {
          "base_uri": "https://localhost:8080/"
        }
      },
      "outputs": [
        {
          "output_type": "execute_result",
          "data": {
            "text/plain": [
              "{(8, ['Venezuela']), (12, ['Colombia', 'Uruguay']), (5, ['Chile', 'Paraguay']), (15, ['Argentina'])}"
            ]
          },
          "metadata": {},
          "execution_count": 4
        }
      ],
      "source": [
        "def juntarPorValores(dic):\n",
        "  salida = Diccionario()\n",
        "  for clave in dic.keys():\n",
        "    if dic[clave] not in salida:\n",
        "      salida[dic[clave]]=[clave]\n",
        "    else:\n",
        "      salida[dic[clave]].append(clave)\n",
        "  return salida\n",
        "\n",
        "dic1 = Diccionario()\n",
        "dic1.insert(\"Argentina\",15),dic1.insert(\"Uruguay\",12), dic1.insert(\"Venezuela\",8),dic1.insert(\"Paraguay\",5),\n",
        "dic1.insert(\"Colombia\",12), dic1.insert(\"Chile\",5)\n",
        "\n",
        "juntarPorValores(dic1)"
      ]
    },
    {
      "cell_type": "markdown",
      "source": [
        "# **Ejercicio 2** (TDA Diccionario)\n",
        "Escribir la función **promedios** que recibe una lista de materias (strings) y una lista de notas (enteros) del mismo tamaño. Retorna un diccionario que posee como clave cada materia y como significado su nota promedio.\n",
        "Se debe resolver usando las operaciones del TDA diccionario que vimos en clase, sin violar el encapsulamiento ni utilizando estructuras auxiliares.\n",
        "\n",
        "Por ejemplo:\n",
        "\n",
        "listaMaterias = [“Intro Prog”, “Objetos”, “Estructura de Datos”, “Intro Prog”, ”Inglés”, “Objetos”, “Estructura de Datos”]\n",
        "\n",
        "listaNotas = [4, 4, 4, 6, 7, 6, 6]\n",
        "\n",
        "dic  = promedios(listaMaterias , listaNotas)\n",
        "\n",
        "Entonces, dic = { (“Intro Prog”, 5) , (“Estructura de Datos”,  5) , (”Inglés”, 7) , ( “Objetos”, 5) }\n"
      ],
      "metadata": {
        "id": "m5CQyYeaxyn0"
      }
    },
    {
      "cell_type": "code",
      "source": [
        "def promedios(materias,notas):\n",
        "  dic = Diccionario()\n",
        "  for i in range(len(materias)):\n",
        "    if materias[i] not in dic:\n",
        "      dic[materias[i]]=[notas[i]]\n",
        "    else:\n",
        "      dic[materias[i]].append(notas[i])\n",
        "  for clave in dic.keys():\n",
        "    dic[clave] = sum(dic[clave])/len(dic[clave])\n",
        "  return dic\n",
        "\n",
        "listaMaterias = [\"Intro Prog\", \"Objetos\", \"Estructura de Datos\", \"Intro Prog\",\"Inglés\", \"Objetos\", \"Estructura de Datos\"]\n",
        "listaNotas = [4, 4, 4, 6, 7, 6, 6]\n",
        "promedios(listaMaterias,listaNotas)"
      ],
      "metadata": {
        "id": "KoyIfpKJx4ST",
        "outputId": "e6e97bd6-c5cc-4805-c79c-1a356f2f6e9a",
        "colab": {
          "base_uri": "https://localhost:8080/"
        }
      },
      "execution_count": null,
      "outputs": [
        {
          "output_type": "execute_result",
          "data": {
            "text/plain": [
              "{('Objetos', 5.0), ('Estructura de Datos', 5.0), ('Inglés', 7.0), ('Intro Prog', 5.0)}"
            ]
          },
          "metadata": {},
          "execution_count": 5
        }
      ]
    },
    {
      "cell_type": "markdown",
      "source": [
        "# **Ejercicio 3** (TDA Diccionario)\n",
        "\n",
        "Escribir una función que calcule la intersección de dos diccionarios de la siguiente forma:\n",
        "\n",
        "\n",
        "*   Si una clave está en ambos diccionarios, en la intersección el significado de dicha clave es una tupla entre los valores de ambos diccionarios.\n",
        "*   Si una clave está en uno de los diccionarios, no formará parte de la intersección.\n",
        "\n",
        "Ejemplo:\n",
        "\n",
        "dic1= {1:\"casa\", 20:\"perro\", 8:\"gato\", 10.\"mate\", 5:\"auto\"}\n",
        "dic2= {5:3, 2:15, 8:20, 15:1, 20:25}\n",
        "\n",
        "inter = interseccion(dic1, dic2) -> inter = {20: (\"perro\",25), 8:(\"gato\", 20), 5:(\"auto\",3)}"
      ],
      "metadata": {
        "id": "qVpmcPnbRJzb"
      }
    },
    {
      "cell_type": "code",
      "source": [
        "def interseccion(dic1,dic2):\n",
        "  inter = Diccionario()\n",
        "  for clave in dic1.keys():\n",
        "    if clave in dic2:\n",
        "      inter[clave]=(dic1[clave],dic2[clave])\n",
        "  return inter\n",
        "\n",
        "dic1= {1:\"casa\", 20:\"perro\", 8:\"gato\", 10:\"mate\", 5:\"auto\"}\n",
        "dic2= {5:3, 2:15, 8:20, 15:1, 20:25}\n",
        "interseccion(dic1,dic2)"
      ],
      "metadata": {
        "id": "Ca8L7XheROdR",
        "outputId": "426f5204-0deb-4baa-879e-1fe0617750ca",
        "colab": {
          "base_uri": "https://localhost:8080/"
        }
      },
      "execution_count": null,
      "outputs": [
        {
          "output_type": "execute_result",
          "data": {
            "text/plain": [
              "{(8, ('gato', 20)), (20, ('perro', 25)), (5, ('auto', 3))}"
            ]
          },
          "metadata": {},
          "execution_count": 6
        }
      ]
    },
    {
      "cell_type": "markdown",
      "source": [
        "# **Ejercicio 4** (TDA Diccionario)\n",
        "\n",
        "Escribir la función **maximoPorNumero** que recibe una lista de pares (x,y) que indica que el número x está asociado al valor y.\n",
        "\n",
        "Se debe devolver un diccionario con clave x y significado (valor) y, donde y sea el máximo valor asociado a x.\n",
        "\n",
        "Se debe resolver usando las operaciones del TDA diccionario que vimos en clase,sin violar el encapsulamiento ni utilizando estructuras auxiliares.\n",
        "\n",
        "lista = [ (1,4) , (2,5) , (1,5) , (3,8) , (2,1) , (2,5) ]\n",
        "\n",
        "dic = maximoPorNumero(lista)\n",
        "\n",
        "Entonces, dic = {(1 , 5) , (2 , 5), (3, 8)}"
      ],
      "metadata": {
        "id": "49ygEpDUSqIH"
      }
    },
    {
      "cell_type": "code",
      "source": [
        "def maximoPorNumero(lista):\n",
        "  dic = Diccionario()\n",
        "  for par in lista:\n",
        "    if par[0] not in dic:\n",
        "      dic[par[0]]=par[1]\n",
        "    else:\n",
        "      if par[1]>dic[par[0]]:\n",
        "        dic[par[0]]=par[1]\n",
        "  return dic\n",
        "\n",
        "lista = [(1,4) , (2,5) , (1,5) , (3,8) , (2,1) , (2,5) ]\n",
        "maximoPorNumero(lista)"
      ],
      "metadata": {
        "id": "mg2fJiV5SvBM",
        "outputId": "3ebdb40c-d18c-4e58-8690-d0853e4bf4f1",
        "colab": {
          "base_uri": "https://localhost:8080/"
        }
      },
      "execution_count": null,
      "outputs": [
        {
          "output_type": "execute_result",
          "data": {
            "text/plain": [
              "{(1, 5), (2, 5), (3, 8)}"
            ]
          },
          "metadata": {},
          "execution_count": 7
        }
      ]
    },
    {
      "cell_type": "markdown",
      "source": [
        "# **Ejercicio 5** (TDA Diccionario)\n",
        "\n",
        "Escribir la función **palabrasPorTamaño** que recibe una lista de palabras (strings) y retorna un diccionario que posee como clave el tamaño de palabra y como significado una lista con las palabras de ese tamaño que forman parte de la lista de entrada.\n",
        "\n",
        "Se debe resolver usando las operaciones del TDA diccionario que vimos en clase, sin violar el encapsulamiento ni utilizando estructuras auxiliares.\n",
        "\n",
        "Por ejemplo:\n",
        "\n",
        "listaEntrada = [taza , perro , computadora , libro , en , casa , si]\n",
        "\n",
        "dic  = palabrasPorTamaño(listaEntrada)\n",
        "\n",
        "Entonces, dic = { (4 , [taza , casa]) , (5 , [perro , libro]) , (11 , [computadora]) , (2 , [en , si]) }\n"
      ],
      "metadata": {
        "id": "r5t4QfXPTHjJ"
      }
    },
    {
      "cell_type": "code",
      "source": [
        "def palabrasPorTamaño(lista):\n",
        "  dic = Diccionario()\n",
        "  for palabra in lista:\n",
        "    if len(palabra) not in dic:\n",
        "      dic[len(palabra)]=[palabra]\n",
        "    else:\n",
        "      dic[len(palabra)].append(palabra)\n",
        "  return dic\n",
        "\n",
        "lista = [\"taza\" , \"perro\" , \"computadora\" , \"libro\" , \"en\" , \"casa\" , \"si\"]\n",
        "palabrasPorTamaño(lista)"
      ],
      "metadata": {
        "id": "QJ2QaiZ2TFu-",
        "outputId": "e58627ed-8cd0-4c91-c3d9-e2822d61cedb",
        "colab": {
          "base_uri": "https://localhost:8080/"
        }
      },
      "execution_count": null,
      "outputs": [
        {
          "output_type": "execute_result",
          "data": {
            "text/plain": [
              "{(2, ['en', 'si']), (11, ['computadora']), (4, ['taza', 'casa']), (5, ['perro', 'libro'])}"
            ]
          },
          "metadata": {},
          "execution_count": 11
        }
      ]
    },
    {
      "cell_type": "markdown",
      "source": [
        "# **Ejercicio 6** (TDA Diccionario)\n",
        "\n",
        "Escribir una función maximoPorClave que recibe un diccionario de tipo (clave: string, valor: lista\n",
        "enteros) como parámetro y lo modifica dejando para cada palabra clave el mayor entero de su tupla de\n",
        "valores.\n",
        "\n",
        "Se debe resolver usando las operaciones del TDA diccionario que vimos en clase, sin violar el\n",
        "encapsulamiento ni utilizando estructuras auxiliares. Si es necesario definir funciones auxiliares.\n",
        "\n",
        "Ejemplo:\n",
        "\n",
        "dic1 = {(“casa” , [8, 2, 12]) , (“perro” , [4, 1]) , (“auto” , [2, 9, 8, 3])}\n",
        "\n",
        "maximoPorClave(dic1)\n",
        "\n",
        "Entonces, dic1 = {(“casa” , 12) , (“perro” , 4) , (“auto” , 9)}"
      ],
      "metadata": {
        "id": "NquxfYoMTO61"
      }
    },
    {
      "cell_type": "code",
      "source": [
        "def maximoPorClave(dic):\n",
        "  for clave in dic.keys():\n",
        "    dic[clave] = max(dic[clave])\n",
        "  return dic\n",
        "\n",
        "dic1 = {\"casa\" : [8, 2, 12] , \"perro\" : [4, 1] , \"auto\" : [2, 9, 8, 3]}\n",
        "maximoPorClave(dic1)"
      ],
      "metadata": {
        "id": "2p7Ycl_tTTaZ",
        "outputId": "8425bf96-35b8-4ed2-e2de-aa7f70874303",
        "colab": {
          "base_uri": "https://localhost:8080/"
        }
      },
      "execution_count": null,
      "outputs": [
        {
          "output_type": "execute_result",
          "data": {
            "text/plain": [
              "{'casa': 12, 'perro': 4, 'auto': 9}"
            ]
          },
          "metadata": {},
          "execution_count": 16
        }
      ]
    },
    {
      "cell_type": "markdown",
      "source": [
        "# Lista"
      ],
      "metadata": {
        "id": "DTRpoPF_y8aY"
      }
    },
    {
      "cell_type": "code",
      "source": [
        "import copy as cp\n",
        "\n",
        "class Lista: #Definimos la clase lista\n",
        "  class __NodoLista: #Una lista está compuestas por nodos. Los nodos en principio no tienen sentido por fuera de nuestra clase lista, por eso lo generamos dentro\n",
        "    def __init__(self, dato): #El constructor del nodo. Para crear un nodo necesitamos el dato que vamos a alojar en esa posición\n",
        "      self.dato = dato # Almacenamos el dato\n",
        "      self.siguiente = None # Y cada nodo contiene la información de dónde va el siguiente nodo. Por defecto, si se crea un nodo no tiene siguiente\n",
        "\n",
        "    def tieneSiguiente(self)->bool: #Creamos el método tieneSiguiente\n",
        "      return self.siguiente != None # Da True cuando hay siguiente, es decir, el siguiente no es None\n",
        "########################################## LISTA ##########################################\n",
        "  def __init__(self): # Acá ya volvimos a los métodos de listas. Inicializamos como lista vacía\n",
        "    self.__primero = None #Lo único que necesita saber la lista es si tiene primero, luego el primero referencia al segundo y así.\n",
        "\n",
        "  def estaVacia(self)->bool: #Definimos nuestra función estaVacia, que devuelve un valor booleano\n",
        "    return self.__primero == None #Si el primero es None es porque está vacía (si no tiene primero no puede tener el resto)\n",
        "\n",
        "  def __repr__(self)->str: # Definimos el repr para poder verla al hacer print\n",
        "    salida = \"primero\" # Empezamos indicando por dónde se empeiza a contar (en nuestro caso por como estamos construyendo será de izquierda a derecha)\n",
        "    nodoAux = self.__primero # Este es el clásico recorrido de listas enlazadas, tenemos un nodo auxiliar que se irá moviendo sabiendo si el nodo tiene siguiente o no. Lo inicializamos en el primero.\n",
        "    while nodoAux != None: # Mientras el nodoAuxiliar sea DISTINTO de None:\n",
        "      salida += \" -> \" + str(nodoAux.dato) #Salida sumará una flechita y el dato que contiene el nodo auxiliar (el que estamos viendo)\n",
        "      nodoAux = nodoAux.siguiente # Una vez guardado el dato cambiamos el nodoAux al siguiente (siguiente como método de nodo). Si fuese el último el siguiente sería NONE y ahí cortaría el while\n",
        "    salida += \" -|\" #Una vez que corta el while cerramos con un pipe\n",
        "    return salida #Retornamos la salida #primero -> 2 -> 3 -> 4 -|\n",
        "\n",
        "  def tamaño(self)->int: # Definimos tamaño que devuelve un número entero\n",
        "    cantNodos = 0 #Instanciamos nuestro contador de nodos empezando en cero\n",
        "    nodoAux = self.__primero # Comenzamos el clásico recorrido de listas. Creamos un nodo auxiliar y lo fijamos en el primero\n",
        "    while nodoAux != None: #Mientras nodo auxiliar sea distinto de None\n",
        "      cantNodos += 1 #Sumamos uno al contador\n",
        "      nodoAux = nodoAux.siguiente # Nos movemos al siguiente\n",
        "    return cantNodos #Retornamos el contador\n",
        "\n",
        "  def agregarAlFinal(self, dato)->None: #Agrega un elemento al final de la lista\n",
        "    nodoNuevo = Lista.__NodoLista(dato) # creo un nodo nuevo, así que instanciamos un NodoLista de la clase Lista con el dato que queremos alojar en dicho nodo\n",
        "    if self.estaVacia(): #Si la lista está vacía\n",
        "      self.__primero = nodoNuevo # El primer nodo será el nodo nuevo\n",
        "    else: #Sino, es decir, si la lista NO está vacía (ya contiene elementos)\n",
        "      nodoAux = self.__primero # definimos un nodo auxiliar como el primero\n",
        "      while nodoAux.tieneSiguiente(): #Mientras el nodo auxiliar tenga siguiente. Queremos quedarnos en el último, por eso hay que ver si tiene siguiente. En este tipo de recorridos no tenemos como \"volver atrás\". Si llegamos hasta el None no tenemos una función del estilo \"nodo anterior\", por eso itera con el while hasta \"tieneSiguiente\"\n",
        "        nodoAux = nodoAux.siguiente #El nodoAux será ahora el siguiente. Este while se corta cuando NO tenga siguiente, etnonces nodoAux será el último nodo posible (que es distinto de None)\n",
        "      nodoAux.siguiente = nodoNuevo # Hacemos que el siguiente del último nodo (nodoAux) sea el nodoNuevo\n",
        "\n",
        "  def insertar(self, posIns, dato)->None: #Definimos insertar que agrega un elemento a la lista pero en una posición particular, así que tomamos una posición para Insertar, un dato y no retornamos nada\n",
        "    nodoNuevo = Lista.__NodoLista(dato) # Instanciamos el nodo que queremos insertar con el dato dado.\n",
        "    if posIns >= 0: #Si la posición donde vamos a insertar es mayor o igual a cero (es decir, es una posición válida)\n",
        "      if self.estaVacia(): # Si la lista está vacía\n",
        "        self.__primero = nodoNuevo # El nuevo nodo, lo pongo primero\n",
        "      elif posIns == 0: #Si NO está vacía pero la posición a insertar es 0 (la primera)\n",
        "        nodoNuevo.siguiente = self.__primero #Entonces el siguiente del nodo nuevo será el que estaba originalmente como el primero (que ahora es el segundo). El resto de los nodos sigue exactamente igual (este \"primero\" que ahora es \"segundo\" sigue referenciando al \"segundo\" que ahora pasa a ser el \"tercero\" y así todo el rato)\n",
        "        self.__primero = nodoNuevo # Y el primero pasa a ser el nodo nuevo.\n",
        "      else: #Sino, es decir, si la lista NO está vacía y la posición a insertar es DISTINTA de 0:\n",
        "        nodoAux = self.__primero # Empiezo mi recorrido sobre listas enlazadas. Defino un nodoAux que comienza en la primer posición\n",
        "        posAux = 0 #Necesito ir contantdo las posiciones para saber cuándo llego a donde quiero insertar, por eso tengo que instanciar un contador inicializado en cero\n",
        "        while nodoAux.tieneSiguiente() and posAux < posIns-1: #Mientas mi nodoAux tiene siguiente (En caso que me hayan dado una posición más grande que mi lista) Y (AND) la posición auxiliar es UNA ANTES de la posición donde quiero insertar (acá de nuevo, no quiero llegar hasta el final final, me quiero quedar uno antes)\n",
        "          nodoAux = nodoAux.siguiente #Nodo aux pasa a ser el siguiente\n",
        "          posAux += 1 #Sumo uno al contador\n",
        "        nodoNuevo.siguiente = nodoAux.siguiente # ENtonces el siguiente del nodoAux debe ser el 30 (que es donde quiero insertar el nuevo valor), por lo tanto el siguiente del nodoNuevo debe ser el 30\n",
        "        nodoAux.siguiente = nodoNuevo # Y el nodoAux que está parado en 20 le tengo que decir que el siguiente ya no es el 30 sino que es el NodoNuevo (555)\n",
        "    else: #Sino, es decir, me dieron una posición menor que cero\n",
        "      raise IndexError(\"La posicion debe ser mayor o igual a cero\") #Lanzamos una excepción. Notar que en este caso no es genérica, es un INDEX ERROR\n",
        "\n",
        "  def eliminar(self, posDel)->any: #Definimos la función eliminar que recibe la posición del elemento que queremos eliminar\n",
        "    datoDel = None # Inicializamos nuestra variable dato eliminado como None\n",
        "    if 0 <= posDel < self.tamaño(): #Si la posición que queremos eliminar está entre 0 y el tamaño de la lista (es decir, dentro del rango válido)\n",
        "      if posDel == 0: #Si la posición es 0 (es decir, queremos eliminar el primero)\n",
        "        datoDel = self.__primero.dato #El dato eliminado será el dato alojado en el primer nodo\n",
        "        self.__primero = self.__primero.siguiente #El primer nodo será entonces el segundo, después queda todo igual.\n",
        "      else: #Sino, es decir, la posición que queremos eliminar es dinstinta de cero\n",
        "        nodoAux = self.__primero #Empezamos a recorrer as always. Inicializamos nuestro nodoAuxiliar en el primero\n",
        "        posAux = 0 #Empezamos a contar posiciones desde 0\n",
        "        while posAux < posDel-1: # Me quiero quedar parado uno antes de la posicion a eliminar por el mismo motivo que en insertar, sino no puedo hacer nada con el nodo en el que estoy parado.\n",
        "          nodoAux = nodoAux.siguiente #Entonces mientras la posición sea menor que la anterior a la que quiero eliminar, el nodoAux será el siguiente\n",
        "          posAux += 1 #La posición se incrementa en uno\n",
        "        datoDel = nodoAux.siguiente.dato # El dato eliminado será entonces el dato almacenado en el siguiente nodo al nodo auxiliar (el próximo)\n",
        "        nodoAux.siguiente = nodoAux.siguiente.siguiente #El siguiente nodo al nodo donde estoy parado será entonces el siguiente del siguiente (me salteo uno). Y ya está!\n",
        "    else: #Sino, es decir, tengo una posición para eliminar negativa o mayor al tamaño de mi lista\n",
        "      raise IndexError(\"Posicion inválida\") #Lanzamos un IndexError\n",
        "    return datoDel #Retornamos el dato que eliminamos\n",
        "\n",
        "  def obtener(self, posGet)->any: #Obtener recibe una posición y retorna el dato almacenado en esa posición\n",
        "    datoGet = None # Inicializamos la variable resultado como None\n",
        "    if 0 <= posGet < self.tamaño(): #Validamos el rango de posición al igual que en eliminar\n",
        "      nodoAux = self.__primero #Comenzamos el recorrido como siempre. Inicializaos una variable nodoAux en el primer nodo de nuestra lista\n",
        "      posAux = 0 #Inicializamos un contador de posiciones\n",
        "      while posAux < posGet: #Acá no me quiero quedar uno antes (podría, pero no es necesario) porque solo quiero saber el valor del dato que tengo en esa posición, así que si llego hasta ahí no pasa nada porque no voy a modificar la lista, solo voy a consultar un elemento\n",
        "        nodoAux = nodoAux.siguiente #Entonces mientras la posicion auxiliar sea menor a la que estoy buscando, me muevo al siguiente nodo\n",
        "        posAux += 1 #Incremento uno a mi contador\n",
        "      datoGet = nodoAux.dato #En este punto ya salí del while, es decir que posAux = posGet, por lo tanto nodoAux es el nodo que está en la posición que quiero saber el valor. Consulto en nodoAux el dato y lo guardo en datoGet. FIN\n",
        "    else: #Sino, es decir, la posición es negativa o mayor al tamaño de mi lista\n",
        "      raise IndexError(\"Posicion inválida\") #Arrojamos un IndexError\n",
        "    return datoGet #Retornamos el dato get\n",
        "\n",
        "  def __getitem__(self, posGet)->any: #Cuando definimos __getitem__ estamos definiendo cómo se comporta nuestra lista si aplicamos los corchetes.\n",
        "    datoGet = None\n",
        "    if 0 <= posGet < self.tamaño():\n",
        "      nodoAux = self.__primero\n",
        "      posAux = 0\n",
        "      while posAux < posGet:\n",
        "        nodoAux = nodoAux.siguiente\n",
        "        posAux += 1\n",
        "      datoGet = nodoAux.dato\n",
        "    else:\n",
        "      raise IndexError(\"Posicion inválida\")\n",
        "    return datoGet\n",
        "\n",
        "  def __setitem__(self, posSet, datoSet)->None: #Así se podría sobrecargar algo del estilo \"lista[3] = 555\"\n",
        "    pass\n",
        "\n",
        "  def __contains__(self, datoIn)->bool: #Así se podría sobrecargar el operador IN para saber si \"555 in lista\" y eso retorne false o true\n",
        "    pass\n",
        "\n",
        "  def vaciar(self)->None: #Vaciar una lista es simplemente eliminar su primero (fijarlo como None)\n",
        "    self.__primero = None\n",
        "\n",
        "  def clonar(self):\n",
        "    return cp.deepocopy(self) #Para clonar como es habitual tomamos la librería deepcopy\n"
      ],
      "metadata": {
        "id": "OFdTiAogy7sU"
      },
      "execution_count": 54,
      "outputs": []
    },
    {
      "cell_type": "markdown",
      "source": [
        "# **Ejercicio 1** (TDA Lista)\n",
        "\n",
        "\n",
        "Escribir la operación **arreglarOrden** del TDA Lista, que recibe una lista de la que se sabe que o bien está ordenada de mayor a menor o bien tiene dos elementos seguidos que alteran el orden (solo esos dos, el resto está en orden). Si la lista se encuentra ordenada no debe hacer nada, pero si la lista contiene dos elementos que alteran el orden los debe intercambiar. **NO** se puede utilizar el TDA Lista de Python. Intercambiar se refiere a intercambiar los nodos, **NO** únicamente los datos que contienen.\n",
        "\n",
        "Por ejemplo:\n",
        "\n",
        "Si lista1 = [25, 12, 10, 4, 2, 1] y lista2 = [15, 11, **6, 8**, 3, 2, 0]\n",
        "\n",
        "lista1.arreglarOrden() -> Debe dejar la lista igual\n",
        "\n",
        "lista2.arreglarOrden() -> lista2 = [15, 11, **8, 6**, 3, 2, 0]"
      ],
      "metadata": {
        "id": "KXK65AXTsI7_"
      }
    },
    {
      "cell_type": "code",
      "source": [
        "class Lista(Lista):\n",
        "  def arreglarOrden(self):\n",
        "    for i in range(self.tamaño()):\n",
        "      if self[i]<self[i+1]:\n",
        "        aux = self[i]\n",
        "        self.eliminar(i)\n",
        "        self.insertar(i+1,aux)\n",
        "        break\n",
        "    return self\n",
        "\n",
        "lista1 = Lista()\n",
        "lista1.agregarAlFinal(15), lista1.agregarAlFinal(11), lista1.agregarAlFinal(6), lista1.agregarAlFinal(8),\n",
        "lista1.agregarAlFinal(3), lista1.agregarAlFinal(2), lista1.agregarAlFinal(0)\n",
        "lista1.arreglarOrden()"
      ],
      "metadata": {
        "id": "cldkpiAOJ0ss",
        "outputId": "933d6adc-c88b-4c2e-d87d-e1ce2f95b961",
        "colab": {
          "base_uri": "https://localhost:8080/"
        }
      },
      "execution_count": 74,
      "outputs": [
        {
          "output_type": "execute_result",
          "data": {
            "text/plain": [
              "primero -> 15 -> 11 -> 8 -> 6 -> 3 -> 2 -> 0 -|"
            ]
          },
          "metadata": {},
          "execution_count": 74
        }
      ]
    },
    {
      "cell_type": "markdown",
      "source": [
        "# **Ejercicio 2** (TDA Lista)\n",
        "\n",
        "Escribir la operación **posicionCantImpares(cantImpares) -> posHasta** del TDA Lista, que recibe un número entero y retorna una posición. La función debe retornar la posición **posHasta**, de forma tal que la lista contenga una cantidad de números impares igual a  **cantImpares** entre los índices 0 y **posHasta**. Si la cantidad de números impares en la lista es menor que **cantImpares**, la función debe retornar None.\n",
        "\n",
        "Por ejemplo:\n",
        "\n",
        "Si lista = [7 , 2 , 3 , 4 , 1 , 6 , 8 , 9 , 10 , 2 , 4 , 1] , Entonces:\n",
        "\n",
        "lista.posicionNimpares(1) -> 0\n",
        "\n",
        "lista.posicionNimpares(3) -> 4  (7,3,1; y el 1 está en la posición 4)\n",
        "\n",
        "lista.posicionNimpares(4) -> 7\n",
        "\n",
        "lista.posicionNimapres(6) -> None (En la lista hay 5 números impares)\n"
      ],
      "metadata": {
        "id": "vu4dzxwLyBUP"
      }
    },
    {
      "cell_type": "code",
      "source": [
        "class Lista(Lista):\n",
        "  def posicionCantImpares(self,cantImpares):\n",
        "    impares = 0\n",
        "    for i in range(self.tamaño()):\n",
        "      if self[i]%2 != 0:\n",
        "        impares += 1\n",
        "        if impares == cantImpares:\n",
        "          return i\n",
        "    return None\n",
        "\n",
        "lista1 = Lista()\n",
        "lista1.agregarAlFinal(7), lista1.agregarAlFinal(2), lista1.agregarAlFinal(3), lista1.agregarAlFinal(4),\n",
        "lista1.agregarAlFinal(1), lista1.agregarAlFinal(6), lista1.agregarAlFinal(8), lista1.agregarAlFinal(9),\n",
        "lista1.agregarAlFinal(10), lista1.agregarAlFinal(2), lista1.agregarAlFinal(4), lista1.agregarAlFinal(1)\n",
        "lista1.posicionCantImpares(3)"
      ],
      "metadata": {
        "id": "g21rmsK3yPEh",
        "colab": {
          "base_uri": "https://localhost:8080/"
        },
        "outputId": "781fc11f-055d-4ba8-f64c-08099f7a8319"
      },
      "execution_count": 71,
      "outputs": [
        {
          "output_type": "execute_result",
          "data": {
            "text/plain": [
              "4"
            ]
          },
          "metadata": {},
          "execution_count": 71
        }
      ]
    },
    {
      "cell_type": "markdown",
      "source": [
        "# **Ejercicio 3** (TDA Lista)\n",
        "\n",
        "Esciribir la operación **eliminarFinal** del TDA Lista, que reciba una posición como entrada y elimine todos los nodos en la lista a partir de esa posición (incluída). Si la posición ingesada es más grande que la lista, esta no debe ser modificada. **No se puede utilizar la función eliminar del TDA Lista. No se puede utilixar el TDA Lista de Python.**\n",
        "\n",
        "Ejemplo:\n",
        "\n",
        "Si lista = {3, 5, 8, 2, 6, 7, 5, 8, 2}\n",
        "\n",
        "lista.eliminarFinal(5) -> lista = {3, 5, 8, 2, 6}"
      ],
      "metadata": {
        "id": "lX-PRbeuT-Nr"
      }
    },
    {
      "cell_type": "code",
      "source": [
        "class Lista(Lista):\n",
        "  def eliminarFinal(self,pos):\n",
        "    nodoAux = self.__primero\n",
        "    if pos < self.tamaño():\n",
        "      pos2 = 1\n",
        "      while nodoAux.tieneSiguiente():\n",
        "        if pos2 == pos:\n",
        "          nodoAux.siguiente = None\n",
        "          break\n",
        "        nodoAux = nodoAux.siguiente\n",
        "        pos2 += 1\n",
        "    return self\n",
        "\n",
        "lista1 = Lista()\n",
        "lista1.agregarAlFinal(3), lista1.agregarAlFinal(5), lista1.agregarAlFinal(8), lista1.agregarAlFinal(2),\n",
        "lista1.agregarAlFinal(6), lista1.agregarAlFinal(7), lista1.agregarAlFinal(5), lista1.agregarAlFinal(8)\n",
        "lista1.eliminarFinal(2)"
      ],
      "metadata": {
        "id": "L9nd0ZnWUIKb",
        "outputId": "4b071b94-5938-4df3-c40e-4c773576bd88",
        "colab": {
          "base_uri": "https://localhost:8080/"
        }
      },
      "execution_count": 70,
      "outputs": [
        {
          "output_type": "execute_result",
          "data": {
            "text/plain": [
              "primero -> 3 -> 5 -|"
            ]
          },
          "metadata": {},
          "execution_count": 70
        }
      ]
    },
    {
      "cell_type": "markdown",
      "source": [
        "# **Ejercicio 4** (TDA Lista)\n",
        "\n",
        "Escribir la operación **eliminarSegmento** del TDA Lista, que recibe dos posiciones (“inicio” y “final”)\n",
        "como entrada y elimina todos los nodos en la lista entre ambas (incluidas). Si la posición “final” es\n",
        "más grande que el tamaño de la lista, se eliminan todos los elementos desde la posición “inicio” hasta\n",
        "el final. **No se puede utilizar la operación eliminar del tipo Lista. No se puede usar el TDA Lista\n",
        "de Python. Pueden suponer que siempre la posición “final” es mayor o igual que la “inicio”.**\n",
        "\n",
        "Ejemplo:\n",
        "\n",
        "Si lista = [3 , 5 , 8 , 2 , 6 , 7 , 5 , 8 , 2]\n",
        "\n",
        "lista.eliminarSegmento(2,5) -> lista = [3 , 5 , 5 , 8 , 2]\n",
        "\n",
        "lista.eliminarSegmento(4,50) -> lista = [3 , 5 , 8 , 2 ]\n",
        "\n",
        "lista.eliminarSegmento(1,1) -> lista = [3 , 8 , 2 , 6 , 7 , 5 , 8 , 2]"
      ],
      "metadata": {
        "id": "iwidzTLSWek0"
      }
    },
    {
      "cell_type": "code",
      "source": [
        "class Lista(Lista):\n",
        "  def eliminarSegmento(self,inicio,final):\n",
        "    nodoAux = self.__primero\n",
        "    if final < self.tamaño():\n",
        "      pos = 1\n",
        "      while nodoAux.tieneSiguiente():\n",
        "        if pos == inicio: # 2\n",
        "          auxInicio = nodoAux\n",
        "        if pos == final+1: # 5\n",
        "          auxInicio.siguiente = nodoAux.siguiente\n",
        "        nodoAux = nodoAux.siguiente\n",
        "        pos += 1\n",
        "    else:\n",
        "      while nodoAux.tieneSiguiente():\n",
        "        nodoAux = nodoAux.siguiente\n",
        "    return self\n",
        "\n",
        "lista1 = Lista()\n",
        "lista1.agregarAlFinal(3), lista1.agregarAlFinal(5), lista1.agregarAlFinal(8), lista1.agregarAlFinal(2),\n",
        "lista1.agregarAlFinal(6), lista1.agregarAlFinal(7), lista1.agregarAlFinal(5), lista1.agregarAlFinal(8)\n",
        "lista1.agregarAlFinal(2)\n",
        "print(lista1)\n",
        "lista1.eliminarSegmento(2,5)"
      ],
      "metadata": {
        "id": "ychFaB33Wdk7",
        "colab": {
          "base_uri": "https://localhost:8080/"
        },
        "outputId": "9c816acc-d7ae-41de-9e66-754b9cb6035e"
      },
      "execution_count": 91,
      "outputs": [
        {
          "output_type": "stream",
          "name": "stdout",
          "text": [
            "primero -> 3 -> 5 -> 8 -> 2 -> 6 -> 7 -> 5 -> 8 -> 2 -|\n"
          ]
        },
        {
          "output_type": "execute_result",
          "data": {
            "text/plain": [
              "primero -> 3 -> 5 -> 5 -> 8 -> 2 -|"
            ]
          },
          "metadata": {},
          "execution_count": 91
        }
      ]
    },
    {
      "cell_type": "markdown",
      "source": [
        "# **Ejercicio 5** (TDA Lista)\n",
        "\n",
        "Escribir una operación del TDA Lista que inserte un dato de modo similar al insertar básico, al final de la lista (append). Pero ahora, no se debe permitir insertar datos repetidos, si un dato ya esta almacenado entonces la lista no varía. No se puede utilizar las operaciones insertar y buscar del TDA Lista. Especificar la estructura de datos del tipo Lista y del NodoLista utilizados."
      ],
      "metadata": {
        "id": "j2ypxiXZW0Hm"
      }
    },
    {
      "cell_type": "code",
      "source": [
        "class Lista(Lista):\n",
        "  def insertarSinRepetir(self,dato):\n",
        "    nodoNuevo = Lista.__NodoLista(dato)\n",
        "    if self.estaVacia():\n",
        "      self.__primero = nodoNuevo\n",
        "    else:\n",
        "      nodoAux = self.__primero\n",
        "      while nodoAux.tieneSiguiente() and nodoAux.dato != dato:\n",
        "        nodoAux = nodoAux.siguiente\n",
        "        if nodoAux.siguiente == None and nodoAux.dato != dato:\n",
        "          nodoAux.siguiente = nodoNuevo\n",
        "    return self\n",
        "\n",
        "lista1 = Lista()\n",
        "lista1.agregarAlFinal(3), lista1.agregarAlFinal(5), lista1.agregarAlFinal(8), lista1.agregarAlFinal(2)\n",
        "lista1.agregarAlFinal(6), lista1.agregarAlFinal(7), lista1.agregarAlFinal(5), lista1.agregarAlFinal(8)\n",
        "lista1.insertarSinRepetir(1)"
      ],
      "metadata": {
        "id": "hbTl5ZZMW4h_",
        "colab": {
          "base_uri": "https://localhost:8080/"
        },
        "outputId": "8377cf3c-d67d-4814-eeaa-8aa5d04e2750"
      },
      "execution_count": 99,
      "outputs": [
        {
          "output_type": "execute_result",
          "data": {
            "text/plain": [
              "primero -> 3 -> 5 -> 8 -> 2 -> 6 -> 7 -> 5 -> 8 -> 1 -|"
            ]
          },
          "metadata": {},
          "execution_count": 99
        }
      ]
    },
    {
      "cell_type": "markdown",
      "source": [
        "# **Ejercicio 6** (TDA Lista)\n",
        "\n",
        "Escribir una operación **sacarImpares** del TDA Lista (enteros) que tome una lista y elimine todos los elementos impares, la operación **NO** debe retornar una nueva lista, sino modificar la lista con la cual se llama a la función. Definir la estructura de datos del tipo Lista y del NodoLista utilizados.\n",
        "\n",
        "**Nota: No se puede utilizar la operación eliminar del TDA lista y el primer elemento siempre es par.**"
      ],
      "metadata": {
        "id": "XM_glODpXuqN"
      }
    },
    {
      "cell_type": "code",
      "source": [
        "class Lista(Lista):\n",
        "  def sacarImpares(self):\n",
        "    nodoAux = self.__primero\n",
        "    while nodoAux.tieneSiguiente():\n",
        "      if nodoAux.siguiente.dato%2 != 0:\n",
        "        nodoAux.siguiente = nodoAux.siguiente.siguiente\n",
        "      nodoAux = nodoAux.siguiente\n",
        "    return self\n",
        "### esta mal cuando repite los impares\n",
        "lista1 = Lista()\n",
        "lista1.agregarAlFinal(2), lista1.agregarAlFinal(5), lista1.agregarAlFinal(8), lista1.agregarAlFinal(2)\n",
        "lista1.agregarAlFinal(6), lista1.agregarAlFinal(7), lista1.agregarAlFinal(5), lista1.agregarAlFinal(8)\n",
        "lista1.sacarImpares()"
      ],
      "metadata": {
        "id": "2WTy0Bj8-yFo",
        "colab": {
          "base_uri": "https://localhost:8080/"
        },
        "outputId": "f1b2ccb2-ef8c-43ca-e6d4-ec9a24ffbba2"
      },
      "execution_count": 104,
      "outputs": [
        {
          "output_type": "execute_result",
          "data": {
            "text/plain": [
              "primero -> 2 -> 8 -> 2 -> 6 -> 5 -> 8 -|"
            ]
          },
          "metadata": {},
          "execution_count": 104
        }
      ]
    },
    {
      "cell_type": "markdown",
      "source": [
        "# **Ejercicio 7** (TDA Lista)\n",
        "\n",
        "Escribir la operación insertarEnPosI del TDA Lista que inserte una lista completa dentro de otra en una posición determinada. La función debe recibir como parámetro la lista que debe ser insertada y la posición de inserción. Si la posición es más grande que el tamaño de la lista original, la nueva lista se inserta al final. Definir la estructura de datos del TDA Lista utilizada. No se pueden utilizar las operaciones insertar y append del tipo Lista.\n",
        "No se puede usar el TDA lista de python.\n",
        "\n",
        "Ejemplo:\n",
        "\n",
        "Si lista1 = [3 , 5 , 8 , 2 , 6 , 7] y lista2 = [4 , 9 , 1 , 2]\n",
        "\n",
        "lista1.insertarEnPosI(lista2 , 3)\n",
        "\n",
        "Entonces: lista1 = [3 , 5 , 8 , 4 , 9 , 1 , 2 , 2 , 6 , 7]"
      ],
      "metadata": {
        "id": "cMJFwt-wXkah"
      }
    },
    {
      "cell_type": "code",
      "source": [
        "class Lista(Lista):\n",
        "  def insertarEnPosI(self,lista,pos):\n",
        "    if pos < self.tamaño():\n",
        "      nodoAux = self.__primero\n",
        "      pos2 = 1\n",
        "      while nodoAux.tieneSiguiente():\n",
        "        if pos2 == pos:\n",
        "          aux = nodoAux.siguiente\n",
        "          nodoAux.siguiente = lista.__primero\n",
        "          lista.__primero = aux\n",
        "          break\n",
        "        nodoAux = nodoAux.siguiente\n",
        "    return self\n",
        "\n",
        "lista1 = Lista()\n",
        "lista1.agregarAlFinal(3), lista1.agregarAlFinal(5), lista1.agregarAlFinal(8), lista1.agregarAlFinal(2)\n",
        "lista1.agregarAlFinal(6), lista1.agregarAlFinal(7)\n",
        "lista2 = Lista()\n",
        "lista2.agregarAlFinal(4), lista2.agregarAlFinal(9), lista2.agregarAlFinal(1), lista2.agregarAlFinal(2)\n",
        "lista1.insertarEnPosI(lista2,3)"
      ],
      "metadata": {
        "id": "R4rtqhR9XqnI",
        "colab": {
          "base_uri": "https://localhost:8080/"
        },
        "outputId": "136090cb-9269-4e0a-b374-1ba989256d13"
      },
      "execution_count": 106,
      "outputs": [
        {
          "output_type": "execute_result",
          "data": {
            "text/plain": [
              "primero -> 3 -> 5 -> 8 -> 2 -> 6 -> 7 -|"
            ]
          },
          "metadata": {},
          "execution_count": 106
        }
      ]
    },
    {
      "cell_type": "code",
      "source": [
        "from graphviz import Digraph\n",
        "import copy as cp\n",
        "\n",
        "class ABB:\n",
        "  def __init__(self):\n",
        "    self.__raiz = None\n",
        "\n",
        "  def estaVacio(self)->bool:\n",
        "    return self.__raiz == None\n",
        "\n",
        "  def vaciar(self)->None:\n",
        "    self.__raiz = None\n",
        "\n",
        "  def clonar(self):\n",
        "    return cp.deepcopy(self)\n",
        "\n",
        "  def treePlot(self, fileName='arbol')->None:\n",
        "    if not self.estaVacio():\n",
        "      treeDot = Digraph()\n",
        "      treeDot.node(str(self.__raiz.dato), str(self.__raiz.dato))\n",
        "      self.__raiz.treePlot(treeDot)\n",
        "      treeDot.render(fileName, view=True)\n",
        "  ##################################################################\n",
        "  class __NodoArbol:\n",
        "    def __init__(self, dato):\n",
        "      self.dato = dato\n",
        "      self.izquierdo = None\n",
        "      self.derecho = None\n",
        "\n",
        "    def tieneIzquierdo(self)->bool:\n",
        "      return self.izquierdo != None\n",
        "\n",
        "    def tieneDerecho(self)->bool:\n",
        "      return self.derecho != None\n",
        "\n",
        "    def grado(self)->int:\n",
        "      cantHijos = 0\n",
        "      if self.tieneIzquierdo(): cantHijos += 1\n",
        "      if self.tieneDerecho(): cantHijos += 1\n",
        "      return cantHijos\n",
        "\n",
        "    def esHoja(self)->bool:\n",
        "      return self.grado() == 0\n",
        "\n",
        "    def treePlot(self, dot:Digraph)->None:\n",
        "      if self.tieneIzquierdo():\n",
        "        dot.node(str(self.izquierdo.dato), str(self.izquierdo.dato))\n",
        "        dot.edge(str(self.dato), str(self.izquierdo.dato))\n",
        "        self.izquierdo.treePlot(dot)\n",
        "      else:\n",
        "        dot.node(\"-\"+str(self.dato)+\"l\", \"-\")\n",
        "        dot.edge(str(self.dato), \"-\"+str(self.dato)+\"l\")\n",
        "      if self.tieneDerecho():\n",
        "        dot.node(str(self.derecho.dato), str(self.derecho.dato))\n",
        "        dot.edge(str(self.dato), str(self.derecho.dato))\n",
        "        self.derecho.treePlot(dot)\n",
        "      else:\n",
        "        dot.node(\"-\"+str(self.dato)+\"r\", \"-\")\n",
        "        dot.edge(str(self.dato), \"-\"+str(self.dato)+\"r\")\n",
        "\n",
        "class ABB(ABB):\n",
        "  def insertar(self, dato:int)->None:\n",
        "    nodoNuevo = ABB.__NodoArbol(dato)\n",
        "    if self.estaVacio():\n",
        "      self.__raiz = nodoNuevo\n",
        "    else:\n",
        "      self.__raiz.insertarNodo(nodoNuevo)\n",
        "\n",
        "  class __NodoArbol(ABB.__NodoArbol):\n",
        "    def insertarNodo(self, nodoNuevo)->None:\n",
        "      if nodoNuevo.dato < self.dato:\n",
        "        #El nuevo nodo va a la izquierda de self\n",
        "        if not self.tieneIzquierdo():\n",
        "          self.izquierdo = nodoNuevo\n",
        "        else:\n",
        "          self.izquierdo.insertarNodo(nodoNuevo)\n",
        "      elif nodoNuevo.dato > self.dato:\n",
        "        #El nuevo nodo va a la derecha de self\n",
        "        if not self.tieneDerecho():\n",
        "          self.derecho = nodoNuevo\n",
        "        else:\n",
        "          self.derecho.insertarNodo(nodoNuevo)\n",
        "      else:\n",
        "        raise Exception(\"No se admiten datos repetidos\")\n",
        "\n",
        "class ABB(ABB):\n",
        "  def mostrarPreOrden(self)->None:\n",
        "    if not self.estaVacio():\n",
        "      self.__raiz.mostrarPreOrdenNodo()\n",
        "\n",
        "  class __NodoArbol(ABB.__NodoArbol):\n",
        "    def mostrarPreOrdenNodo(self)->None:\n",
        "      print(self.dato)\n",
        "      if self.tieneIzquierdo():\n",
        "        self.izquierdo.mostrarPreOrdenNodo()\n",
        "      if self.tieneDerecho():\n",
        "        self.derecho.mostrarPreOrdenNodo()\n",
        "\n",
        "  class __NodoArbol(ABB.__NodoArbol):\n",
        "    def mostrarPostOrdenNodo(self)->None:\n",
        "      if self.tieneIzquierdo():\n",
        "        self.izquierdo.mostrarPostOrdenNodo()\n",
        "      if self.tieneDerecho():\n",
        "        self.derecho.mostrarPostOrdenNodo()\n",
        "      print(self.dato)  ######### ordenado menor a mayor ###########\n",
        "\n",
        "class ABB(ABB):\n",
        "  def peso(self)->int:\n",
        "    cantNodos = 0\n",
        "    if not self.estaVacio():\n",
        "      cantNodos = self.__raiz.pesoNodo()\n",
        "    return cantNodos\n",
        "\n",
        "  class __NodoArbol(ABB.__NodoArbol):\n",
        "    def pesoNodo(self)->int:\n",
        "      cantNodos = 1   ############ si esta en cero no suma ######################\n",
        "      if self.tieneIzquierdo():\n",
        "        cantNodos += self.izquierdo.pesoNodo() #Peso del subarbol izquierdo\n",
        "      if self.tieneDerecho():\n",
        "        cantNodos += self.derecho.pesoNodo() #Peso del subarbol derecho\n",
        "      return cantNodos\n",
        "\n",
        "class ABB(ABB):\n",
        "  def buscar(self, datoBusc)->bool:\n",
        "    encontrado = False\n",
        "    if not self.estaVacio():\n",
        "      encontrado = self.__raiz.buscarNodo(datoBusc) != None\n",
        "    return encontrado\n",
        "\n",
        "  class __NodoArbol(ABB.__NodoArbol):\n",
        "    def buscarNodo(self, datoBusc):\n",
        "      #Si el datoBusc esta en el arbol retorna el nodo que lo contiene\n",
        "      #Si el datoBusc NO estan en el arbol retorna None\n",
        "      nodoDatoBusc = None\n",
        "      if self.dato == datoBusc:\n",
        "        nodoDatoBusc = self\n",
        "      else:\n",
        "        if datoBusc < self.dato:\n",
        "          if self.tieneIzquierdo():\n",
        "            nodoDatoBusc = self.izquierdo.buscarNodo(datoBusc)\n",
        "        else: #datoBusc > self.dato\n",
        "          if self.tieneDerecho():\n",
        "            nodoDatoBusc = self.derecho.buscarNodo(datoBusc)\n",
        "      return nodoDatoBusc\n",
        "\n",
        "class ABB(ABB):\n",
        "  def profundidad(self)->int:\n",
        "    profTotal = 0\n",
        "    if not self.estaVacio():\n",
        "      profTotal = self.__raiz.alturaNodo()\n",
        "    return profTotal\n",
        "\n",
        "  class __NodoArbol(ABB.__NodoArbol):\n",
        "    def alturaNodo(self)->int:\n",
        "      alturaIzq = 0\n",
        "      alturaDer = 0\n",
        "      alturaSelf = 0\n",
        "      if not self.esHoja():\n",
        "        if self.tieneIzquierdo():\n",
        "          alturaIzq = self.izquierdo.alturaNodo()\n",
        "        if self.tieneDerecho():\n",
        "          alturaDer = self.derecho.alturaNodo()\n",
        "        alturaSelf = 1 + max(alturaIzq, alturaDer)\n",
        "      return alturaSelf\n",
        "\n",
        "class ABB(ABB):\n",
        "  def nivelDato(self, datoBusc)->int:\n",
        "    nivelDatoBusc = None\n",
        "    if not self.estaVacio():\n",
        "      nivelDatoBusc = self.__raiz.nivelDatoNodo(datoBusc)\n",
        "    return nivelDatoBusc\n",
        "\n",
        "  class __NodoArbol(ABB.__NodoArbol):\n",
        "    def nivelDatoNodo(self, datoBusc, nivelActual = 0)->int:\n",
        "      nivelDatoBusc = None\n",
        "      if self.dato == datoBusc:\n",
        "        nivelDatoBusc = nivelActual\n",
        "      elif self.dato > datoBusc:\n",
        "        if self.tieneIzquierdo():\n",
        "          nivelDatoBusc = self.izquierdo.nivelDatoNodo(datoBusc, nivelActual+1)\n",
        "      else: #datoBusc > self.dato\n",
        "        if self.tieneDerecho():\n",
        "          nivelDatoBusc = self.derecho.nivelDatoNodo(datoBusc, nivelActual+1)\n",
        "      return nivelDatoBusc\n",
        "\n",
        "class ABB(ABB):\n",
        "  def maximo(self)->int: #Retorna el valor del maximo o None si self esta vacio\n",
        "    datoMaximo = None\n",
        "    if not self.estaVacio():\n",
        "      datoMaximo = self.__raiz.maximoNodo().dato\n",
        "    return datoMaximo\n",
        "  def minimo(self)->int: #Retorna el valor del minimo o None si self esta vacio\n",
        "    datoMinimo = None\n",
        "    if not self.estaVacio():\n",
        "      datoMinimo = self.__raiz.minimoNodo().dato\n",
        "    return datoMinimo\n",
        "\n",
        "  class __NodoArbol(ABB.__NodoArbol):\n",
        "    def maximoNodo(self):#->ABB.__NodoArbol que contiene el valor maximo del\n",
        "                                            #subarbol del cual self es la raiz\n",
        "      nodoMaximo = self\n",
        "      if self.tieneDerecho():\n",
        "        nodoMaximo = self.derecho.maximoNodo()\n",
        "      return nodoMaximo\n",
        "\n",
        "    def minimoNodo(self):#->ABB.__NodoArbol que contiene el valor minimo del\n",
        "                                            #subarbol del cual self es la raiz\n",
        "      nodoMinimo = self\n",
        "      if self.tieneIzquierdo():\n",
        "        nodoMinimo = self.izquierdo.minimoNodo()\n",
        "      return nodoMinimo\n",
        "\n",
        "    def predecesor(self):#->ABB.__NodoArbol que contiene el valor maximo del subarbol izquierdo\n",
        "      nodoPredecesor = None\n",
        "      if self.tieneIzquierdo():\n",
        "        nodoPredecesor = self.izquierdo.maximoNodo()\n",
        "      return nodoPredecesor\n",
        "\n",
        "    def sucesor(self):#->ABB.__NodoArbol que contiene el valor minimo del subarbol derecho\n",
        "      nodoSucesor = None\n",
        "      if self.tieneDerecho():\n",
        "        nodoSucesor = self.derecho.minimoNodo()\n",
        "      return nodoSucesor\n",
        "\n",
        "class ABB(ABB):\n",
        "  def eliminar(self, datoDel:int)->None:\n",
        "    if not self.estaVacio():\n",
        "      if self.__raiz.dato == datoDel:\n",
        "        nodoReemplazo = self.__raiz.predecesor()\n",
        "        if nodoReemplazo==None: nodoReemplazo = self.__raiz.sucesor()\n",
        "        if nodoReemplazo != None:\n",
        "          self.__raiz.eliminarNodo(nodoReemplazo.dato)\n",
        "          nodoReemplazo.izquierdo = self.__raiz.izquierdo\n",
        "          nodoReemplazo.derecho = self.__raiz.derecho\n",
        "        self.__raiz = nodoReemplazo\n",
        "      else:\n",
        "        self.__raiz.eliminarNodo(datoDel)\n",
        "\n",
        "  class __NodoArbol(ABB.__NodoArbol):\n",
        "    def buscarProgenitor(self, datoBusc:int):#->tuple[ABB.__NodoArbol, ABB.__NodoArbol, str]\n",
        "                                                #[progenitor, hije, \"izq\"/\"der\"]\n",
        "      nodoProgenitor = nodoHije = lado = None\n",
        "      if datoBusc < self.dato:\n",
        "        if self.tieneIzquierdo():\n",
        "          if self.izquierdo.dato == datoBusc:\n",
        "            nodoProgenitor = self\n",
        "            nodoHije = self.izquierdo\n",
        "            lado = \"izq\"\n",
        "          else:\n",
        "            nodoProgenitor, nodoHije, lado = self.izquierdo.buscarProgenitor(datoBusc)\n",
        "      elif datoBusc > self.dato:\n",
        "        if self.tieneDerecho():\n",
        "          if self.derecho.dato == datoBusc:\n",
        "            nodoProgenitor = self\n",
        "            nodoHije = self.derecho\n",
        "            lado = \"der\"\n",
        "          else:\n",
        "            nodoProgenitor, nodoHije, lado = self.derecho.buscarProgenitor(datoBusc)\n",
        "      return nodoProgenitor, nodoHije, lado\n",
        "\n",
        "    def eliminarNodo(self, datoDel:int)->None:\n",
        "      nodoReemplazo = None\n",
        "      nodoProgenitor, nodoAEliminar, lado = self.buscarProgenitor(datoDel)\n",
        "      if nodoProgenitor != None:\n",
        "        nodoReemplazo = nodoAEliminar.predecesor()\n",
        "        if nodoReemplazo == None: nodoReemplazo = nodoAEliminar.sucesor()\n",
        "        if nodoReemplazo != None:\n",
        "          self.eliminarNodo(nodoReemplazo.dato)\n",
        "          nodoReemplazo.izquierdo = nodoAEliminar.izquierdo\n",
        "          nodoReemplazo.derecho = nodoAEliminar.derecho\n",
        "        if lado == \"izq\":\n",
        "          nodoProgenitor.izquierdo = nodoReemplazo\n",
        "        elif lado == \"der\":\n",
        "          nodoProgenitor.derecho = nodoReemplazo\n",
        "\n",
        "# Ejercicio 2\n",
        "# Escribir una operación del TDA ABB que calcule la cantidad de hojas de un árbol.\n",
        "class ABB(ABB):\n",
        "  def cantidadHojas(self):\n",
        "    cant = 0\n",
        "    if not self.estaVacio():\n",
        "      cant = self.__raiz.cantidadHojasNodo()\n",
        "    return cant\n",
        "\n",
        "  class __NodoArbol(ABB.__NodoArbol):\n",
        "    def cantidadHojasNodo(self):\n",
        "      cant = 0\n",
        "      if self.esHoja():\n",
        "        return 1\n",
        "      if self.tieneDerecho():\n",
        "          cant += self.derecho.cantidadHojasNodo()\n",
        "      # print(self.dato)\n",
        "      if self.tieneIzquierdo():\n",
        "          cant += self.izquierdo.cantidadHojasNodo()\n",
        "      return cant\n",
        "\n",
        "# Ejercicio 3\n",
        "# Escribir una operación del TDA ABB que muestre los elementos que estan\n",
        "#  en el nivel N de un ABB, el nivel se recibe por parámetro.\n",
        "class ABB(ABB):\n",
        "  def elementosANivel(self,nivel):\n",
        "    if not self.estaVacio():\n",
        "      self.__raiz.elementosANivelNodo(nivel)\n",
        "\n",
        "  class __NodoArbol(ABB.__NodoArbol):\n",
        "    def elementosANivelNodo(self,nivel,pos=0):\n",
        "      if self.tieneIzquierdo():\n",
        "        self.izquierdo.elementosANivelNodo(nivel,pos+1)\n",
        "      if self.tieneDerecho():\n",
        "        self.derecho.elementosANivelNodo(nivel,pos+1)\n",
        "      if pos == nivel:\n",
        "        print(self.dato)\n",
        "\n",
        "#Ejercicio 4\n",
        "# Se define por frontera de un árbol, la secuencia formada por los\n",
        "# elementos almacenados en las hojas de un árbol, tomados de izquierda\n",
        "#  a derecha. Escribir una operación del TDA ABB, que imprima por\n",
        "#  pantalla la frontera del árbol.\n",
        "class ABB(ABB):\n",
        "  def frontera(self):\n",
        "    if not self.estaVacio():\n",
        "      self.__raiz.fronteraNodo()\n",
        "\n",
        "  class __NodoArbol(ABB.__NodoArbol):\n",
        "    def fronteraNodo(self):\n",
        "      if self.tieneIzquierdo():\n",
        "        self.izquierdo.fronteraNodo()\n",
        "      if self.tieneDerecho():\n",
        "        self.derecho.fronteraNodo()\n",
        "      if self.esHoja():     ### NO IMPORTA EL ORDEN #########\n",
        "        print(self.dato)\n",
        "\n"
      ],
      "metadata": {
        "id": "zUjWhz9KGaaf"
      },
      "execution_count": null,
      "outputs": []
    },
    {
      "cell_type": "markdown",
      "source": [
        "# **Ejercicio 1** (TDA ABB)\n",
        "\n",
        "Escribir la operación **mayoresEnNivel** del TDA ABB que recibe un **nivel** y un número **N** y retorna la\n",
        "cantidad de números que están a ese **nivel** en el árbol y que son mayores que **N**. Definir la estructura\n",
        "del TDA ABB utilizado. La función puede hacer uso de las siguientes operaciones del TDA ABB:\n",
        "estaVacio y del TDA NodoArbol: tieneIzquierdo, tieneDerecho.\n",
        "\n",
        "Ejemplo:\n",
        "\n",
        "Si tenemos el siguiente ABB llamado **árbol 1**, en donde “8” esta en nivel 0 y los nodos del nivel 3 son\n",
        "“4”, “7” y “13”:\n",
        "\n",
        "![image.png](data:image/png;base64,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)\n",
        "\n",
        "Entonces,\n",
        "\n",
        "arbol1.mayoresEnNivel(2, 5) == 2 # “6” y “14”\n",
        "\n",
        "arbol1.mayoresEnNivel(3, 15) == 0\n",
        "\n",
        "arbol1.mayoresEnNivel(1, 2) == 2\n",
        "\n",
        "arbol1.mayoresEnNivel(5, 10) == 0 # porque no hay nodos en el nivel 5"
      ],
      "metadata": {
        "id": "0CiYJXH5YhmE"
      }
    },
    {
      "cell_type": "code",
      "source": [],
      "metadata": {
        "id": "B0axmtLhYlYp"
      },
      "execution_count": null,
      "outputs": []
    },
    {
      "cell_type": "markdown",
      "source": [
        "# **Ejercicio 2** (TDA ABB)\n",
        "\n",
        "Escribir la operación **estaBalanceado** del TDA ABB que retorna True si el árbol de entrada se encuentra balanceado y False en caso contrario. Un árbol se dice balanceado cuando para todos sus nodos la altura de sus subárboles hijos difiere en a lo sumo 1 (0 o 1). La operación puede hacer uso de las operaciones del TDA ABB: estaVacio y del TDA NodoArbol: grado, altura, tieneIzquierdo y tieneDerecho\n",
        "\n",
        "Nota: Pueden usar la función **abs** para obtener el valor absoluto de un número.\n",
        "Por ejemplo, para el siguiente ABB llamado árbol:\n",
        "\n",
        "![image.png](data:image/png;base64,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)\n",
        "\n",
        "Entonces, arbol.estaBalanceado() = False (el nodo 10 no está balanceado, la altura del subárbol izquierdo es 0 y la del derecho 2. Notar que el nodo 8 está balanceado y el 10 no)\n"
      ],
      "metadata": {
        "id": "mILu5VcWtHIw"
      }
    },
    {
      "cell_type": "code",
      "source": [],
      "metadata": {
        "id": "x6nrHmOCLkmG"
      },
      "execution_count": null,
      "outputs": []
    },
    {
      "cell_type": "markdown",
      "source": [
        "# **Ejercicio 3** (TDA ABB)\n",
        "\n",
        "Escribir la operación **padresOcupados** del TDA ABB que retorna la cantidad de nodos en el árbol que poseen exactamente 2 hijos. La operación puede hacer uso de las operaciones del TDA ABB: estaVacio y del TDA NodoArbol: tieneIzquierdo y tieneDerecho.\n",
        "\n",
        "Por ejemplo, para el siguiente ABB llamado árbol:\n",
        "\n",
        "![image.png](data:image/png;base64,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)\n",
        "\n",
        "arbol.padresOcupados() = 3 (Los nodos 8, 3 y 6)\n"
      ],
      "metadata": {
        "id": "yzfG0JZXy5uQ"
      }
    },
    {
      "cell_type": "code",
      "source": [],
      "metadata": {
        "id": "3Ki_nm6CzGYg"
      },
      "execution_count": null,
      "outputs": []
    },
    {
      "cell_type": "markdown",
      "source": [
        "# **Ejercicio 4** (TDA ABB)\n",
        "\n",
        "Escribir la operación **obtenerHermano** del TDA ABB que recibe un número N y retorna el número del nodo hermano del nodo que contienme al número N. Dos nodos se definen como hermanos cuando tienen el mismo padre. Si el número N no está en el árbol o no tiene hermano, la operación debe retornar None.\n",
        "\n",
        "Por ejemplo, para el siguiente ABB llamdo arbol:\n",
        "\n",
        "![Ej3ArbolEjemplo.png](data:image/png;base64,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)\n",
        "\n",
        "arbol.obtenerHermano(1) = 6"
      ],
      "metadata": {
        "id": "Pc8cf9noZpdS"
      }
    },
    {
      "cell_type": "code",
      "source": [],
      "metadata": {
        "id": "ojpnRPfpaMvT"
      },
      "execution_count": null,
      "outputs": []
    },
    {
      "cell_type": "markdown",
      "source": [
        "# **Ejercicio 5** (TDA ABB)\n",
        "\n",
        "Escribir la operación sumaHojas del TDA ABB que retorna la suma de todos los números en el ABB en nodos\n",
        "que sean hoja. La operación puede hacer uso de las operaciones del TDA ABB: estaVacio y del TDA\n",
        "NodoArbol: tieneIzquierdo y tieneDerecho\n",
        "Por ejemplo, para el siguiente ABB llamado árbol:\n",
        "\n",
        "![image.png](data:image/png;base64,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)\n",
        "arbol.sumaHojas() = 1 + 4 + 7 + 13"
      ],
      "metadata": {
        "id": "HsAkkJItaQqm"
      }
    },
    {
      "cell_type": "code",
      "source": [],
      "metadata": {
        "id": "lHPqy-sgahJP"
      },
      "execution_count": null,
      "outputs": []
    },
    {
      "cell_type": "markdown",
      "source": [
        "# **Ejercicio 6** (TDA ABB)\n",
        "\n",
        "Escribir la operación **sumaHastaNivel** del TDA ABB que recibe un nivel N por parámetro y retorna la suma de todos los números en el ABB en nodos que estén a nivel menor o igual a N. La operación puede hacer uso de las operaciones del TDA ABB: estaVacio y del TDA NodoArbol: tieneIzquierdo y tieneDerecho"
      ],
      "metadata": {
        "id": "DgITOBmAa1sH"
      }
    },
    {
      "cell_type": "code",
      "source": [],
      "metadata": {
        "id": "HHYzZSXza5P7"
      },
      "execution_count": null,
      "outputs": []
    }
  ]
}