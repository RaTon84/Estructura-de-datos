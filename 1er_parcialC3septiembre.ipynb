{
  "nbformat": 4,
  "nbformat_minor": 0,
  "metadata": {
    "colab": {
      "provenance": [],
      "include_colab_link": true
    },
    "kernelspec": {
      "name": "python3",
      "display_name": "Python 3"
    },
    "language_info": {
      "name": "python"
    }
  },
  "cells": [
    {
      "cell_type": "markdown",
      "metadata": {
        "id": "view-in-github",
        "colab_type": "text"
      },
      "source": [
        "<a href=\"https://colab.research.google.com/github/RaTon84/Estructura-de-datos/blob/master/1er_parcialC3septiembre.ipynb\" target=\"_parent\"><img src=\"https://colab.research.google.com/assets/colab-badge.svg\" alt=\"Open In Colab\"/></a>"
      ]
    },
    {
      "cell_type": "markdown",
      "source": [
        "# Estructuras de datos\n",
        "ler Parcial 23 de septiembre 2024\n",
        "\n",
        "**Ejercicio 1**\n",
        "\n",
        "Escribir la función recursiva tieneRepetidos(vector), que retorna True si vector tiene al menos un elemento repetido y False en caso contrario.\n",
        "\n",
        "Las soluciones que NO sean recursivas no serán\n",
        "tomadas en cuenta.\n",
        "\n",
        "*Por ejemplo:*\n",
        "\n",
        "Si arr] = [5, 10, 9, 8, 13, 21] y arr2 = [3, 13, 8, 9, 8, 5]\n",
        "→tieneRepetidos(arr1) devuelve False y tiene Repetidos (arr2) devuelve True\n",
        "\n",
        "Ayuda: Pueden pensar en escribir una función que busque un elemento dentro de un vector. Al menos una de las funciones implementadas debe ser recursiva (principal o auxiliares)."
      ],
      "metadata": {
        "id": "dQOciNstu4kD"
      }
    },
    {
      "cell_type": "code",
      "execution_count": null,
      "metadata": {
        "colab": {
          "base_uri": "https://localhost:8080/"
        },
        "id": "YGWWZVfNtNAP",
        "outputId": "0141a635-6987-4e3e-d60a-5789bdd8d2f7"
      },
      "outputs": [
        {
          "output_type": "execute_result",
          "data": {
            "text/plain": [
              "False"
            ]
          },
          "metadata": {},
          "execution_count": 9
        }
      ],
      "source": [
        "import numpy as np\n",
        "\n",
        "def cuantosHay(elemento:int, vector:np.array)->int:\n",
        "  if len(vector) == 0:\n",
        "    return 0\n",
        "  elif vector[0] == elemento:\n",
        "    return 1+ cuantosHay(elemento,vector[1:])\n",
        "  else:\n",
        "    return cuantosHay(elemento, vector[1:])\n",
        "\n",
        "arr1 = [1,2,6,9,2]\n",
        "# cuantosHay(2,arr1)\n",
        "\n",
        "def tieneRepetidos(vector)->bool:\n",
        "  for pos in range(len(vector)):  # falto el \"len\"\n",
        "    if cuantosHay(vector[pos], vector) >= 2: # puse \">\"\n",
        "      return True\n",
        "  return False\n",
        "\n",
        "tieneRepetidos(arr1)"
      ]
    },
    {
      "cell_type": "markdown",
      "source": [
        "# Ejercicio 2\n",
        "\n",
        "El gobierno nacional decidió llevar adelante un plan de granjas de agricultura agroecológica para garantizar la soberanía alimentaria de la población. Para eso nos pide desarrollar un software para diseñar la distribución de las plantas en los bancales.\n",
        "\n",
        "Una planta se define con:\n",
        "\n",
        "*-Un nombre*\n",
        "\n",
        "*-Un tipo: \"hoja\" o \"fruto\"*\n",
        "\n",
        "*-Una fecha de siembra (para simplificar la modelamos como int).*\n",
        "\n",
        "Las plantas en los bancales se distribuyen en hileras (filas) de plantas, donde todas las hileras tienen la misma cantidad. Para ubicar las plantas tenemos la condición que dentro de la misma hilera no puede haber dos plantas seguidas del mismo tipo (\"hoja\" o \"fruto\") para garantizar el cuidado del agrosistema. Notar que la condición solo aplica entre las plantas que forman parte de una misma hilera (fila) pero no hay ninguna restricción entre las plantas en una hilera y las de sus hileras vecinas. Implementar el TDA Bancal que contenga al menos las siguientes operaciones:\n",
        "\n",
        "*init_(nombre, cantHileras, cantPlantasPorHilera):* que recibe el tamaño del bancal.\n",
        "\n",
        "*ubicar Planta(nombre Planta, tipo Planta, fechaSiembra):* que recibe los datos de la planta y la ubica en el bancal retornando la posición (fila y columna). Si la planta no puede ser ubicada por alguna razón, se debe lanzar una excepción. Recordar que no pueden ir dos plantas del mismo tipo seguidas en la misma fila.\n",
        "\n",
        "*cosechar Planta(fechaActual):* que recibe la fecha actual (int), saca del bancal y retorna la primera planta que encuentre que haya sido plantada hace 20 días o más. Si no hay ninguna planta para cosechar se debe retornar None.\n",
        "\n",
        "*repr():* que muestra la distribución de las plantas en el bancal.\n",
        "Ayuda: Implementar primero el TDA Planta."
      ],
      "metadata": {
        "id": "7zUf1iLQx_yN"
      }
    },
    {
      "cell_type": "code",
      "source": [
        "import numpy as np\n",
        "\n",
        "class Planta:\n",
        "  def __init__(self, nombre:str, tipo:str, fecha:int):\n",
        "    self.__nombre = nombre\n",
        "    self.__tipo = tipo # validar que era \"hoja\" o \"planta\"\n",
        "    self.__fecha = fecha\n",
        "\n",
        "  def __repr__(self):\n",
        "    return self.__nombre\n",
        "\n",
        "  def getNombre(self):\n",
        "    return self.__nombre\n",
        "\n",
        "  def getTipo(self):\n",
        "    return self.__tipo\n",
        "\n",
        "  def getFecha(self):\n",
        "    return self.__fecha\n",
        "\n",
        "class Bancal:\n",
        "  def __init__(self, cantHileras:int, cantPlantasPorHilera:int):\n",
        "    self.__filas = cantHileras\n",
        "    self.__columnas = cantPlantasPorHilera\n",
        "    self.__bancal = np.empty((self.__filas, self.__columnas), Planta)\n",
        "\n",
        "  def __repr__(self):\n",
        "    return str(self.__bancal)\n",
        "\n",
        "  def ubicarPlanta(self, nombrePlanta:str, tipoPlanta:str, fechaSiembra:int):\n",
        "    planta = Planta(nombrePlanta, tipoPlanta, fechaSiembra)\n",
        "    for fila in range(self.__filas):\n",
        "      for col in range(self.__columnas):\n",
        "        if self.__bancal[fila,col] == None:\n",
        "          if col == 0: #if fila == 0: / iterar por columna\n",
        "            print(\"1\")\n",
        "            self.__bancal[fila,col] = planta\n",
        "            return (fila,col)\n",
        "          elif self.__bancal[fila,col-1].getTipo() != tipoPlanta: #elif self.__bancal[fila-1,col].getTipo() != tipoPlanta:/ falto validar que este una planta\n",
        "            print(\"entre\")\n",
        "            self.__bancal[fila,col] = planta\n",
        "            return (fila,col)\n",
        "    raise Exception(\"No se pudo ubicar la planta\")\n",
        "\n",
        "  def cosecharPlanta(self, fechaActual:int):\n",
        "    for fila in range(self.__filas):\n",
        "      for col in range(self.__columnas):\n",
        "        if self.__bancal[fila,col].getFecha() <= fechaActual-20: # falta validar que este una planta\n",
        "          aux = self.__bancal[fila,col]\n",
        "          self.__bancal[fila,col]\n",
        "          return aux\n",
        "    return None\n",
        "\n",
        "bancal = Bancal(5,3)\n",
        "print(bancal)\n",
        "print(bancal.ubicarPlanta(\"espinaca\",\"hoja\",10))\n",
        "print(bancal.ubicarPlanta(\"acelga\",\"hoja\",20))\n",
        "# espinaca = Planta(\"espinaca\",\"hoja\",10)\n",
        "print(bancal)\n",
        "\n"
      ],
      "metadata": {
        "colab": {
          "base_uri": "https://localhost:8080/",
          "height": 480
        },
        "id": "WQD2xdqRyk4w",
        "outputId": "69e27102-435c-40c7-a640-7bc4a2ef8aec"
      },
      "execution_count": null,
      "outputs": [
        {
          "output_type": "stream",
          "name": "stdout",
          "text": [
            "[[None None None]\n",
            " [None None None]\n",
            " [None None None]\n",
            " [None None None]\n",
            " [None None None]]\n",
            "1\n",
            "(0, 0)\n"
          ]
        },
        {
          "output_type": "error",
          "ename": "AttributeError",
          "evalue": "'NoneType' object has no attribute 'getTipo'",
          "traceback": [
            "\u001b[0;31m---------------------------------------------------------------------------\u001b[0m",
            "\u001b[0;31mAttributeError\u001b[0m                            Traceback (most recent call last)",
            "\u001b[0;32m<ipython-input-16-c02f866bf3e6>\u001b[0m in \u001b[0;36m<cell line: 57>\u001b[0;34m()\u001b[0m\n\u001b[1;32m     55\u001b[0m \u001b[0mprint\u001b[0m\u001b[0;34m(\u001b[0m\u001b[0mbancal\u001b[0m\u001b[0;34m)\u001b[0m\u001b[0;34m\u001b[0m\u001b[0;34m\u001b[0m\u001b[0m\n\u001b[1;32m     56\u001b[0m \u001b[0mprint\u001b[0m\u001b[0;34m(\u001b[0m\u001b[0mbancal\u001b[0m\u001b[0;34m.\u001b[0m\u001b[0mubicarPlanta\u001b[0m\u001b[0;34m(\u001b[0m\u001b[0;34m\"espinaca\"\u001b[0m\u001b[0;34m,\u001b[0m\u001b[0;34m\"hoja\"\u001b[0m\u001b[0;34m,\u001b[0m\u001b[0;36m10\u001b[0m\u001b[0;34m)\u001b[0m\u001b[0;34m)\u001b[0m\u001b[0;34m\u001b[0m\u001b[0;34m\u001b[0m\u001b[0m\n\u001b[0;32m---> 57\u001b[0;31m \u001b[0mprint\u001b[0m\u001b[0;34m(\u001b[0m\u001b[0mbancal\u001b[0m\u001b[0;34m.\u001b[0m\u001b[0mubicarPlanta\u001b[0m\u001b[0;34m(\u001b[0m\u001b[0;34m\"acelga\"\u001b[0m\u001b[0;34m,\u001b[0m\u001b[0;34m\"hoja\"\u001b[0m\u001b[0;34m,\u001b[0m\u001b[0;36m20\u001b[0m\u001b[0;34m)\u001b[0m\u001b[0;34m)\u001b[0m\u001b[0;34m\u001b[0m\u001b[0;34m\u001b[0m\u001b[0m\n\u001b[0m\u001b[1;32m     58\u001b[0m \u001b[0;31m# espinaca = Planta(\"espinaca\",\"hoja\",10)\u001b[0m\u001b[0;34m\u001b[0m\u001b[0;34m\u001b[0m\u001b[0m\n\u001b[1;32m     59\u001b[0m \u001b[0mprint\u001b[0m\u001b[0;34m(\u001b[0m\u001b[0mbancal\u001b[0m\u001b[0;34m)\u001b[0m\u001b[0;34m\u001b[0m\u001b[0;34m\u001b[0m\u001b[0m\n",
            "\u001b[0;32m<ipython-input-16-c02f866bf3e6>\u001b[0m in \u001b[0;36mubicarPlanta\u001b[0;34m(self, nombrePlanta, tipoPlanta, fechaSiembra)\u001b[0m\n\u001b[1;32m     37\u001b[0m             \u001b[0mself\u001b[0m\u001b[0;34m.\u001b[0m\u001b[0m__bancal\u001b[0m\u001b[0;34m[\u001b[0m\u001b[0mfila\u001b[0m\u001b[0;34m,\u001b[0m\u001b[0mcol\u001b[0m\u001b[0;34m]\u001b[0m \u001b[0;34m=\u001b[0m \u001b[0mplanta\u001b[0m\u001b[0;34m\u001b[0m\u001b[0;34m\u001b[0m\u001b[0m\n\u001b[1;32m     38\u001b[0m             \u001b[0;32mreturn\u001b[0m \u001b[0;34m(\u001b[0m\u001b[0mfila\u001b[0m\u001b[0;34m,\u001b[0m\u001b[0mcol\u001b[0m\u001b[0;34m)\u001b[0m\u001b[0;34m\u001b[0m\u001b[0;34m\u001b[0m\u001b[0m\n\u001b[0;32m---> 39\u001b[0;31m           \u001b[0;32melif\u001b[0m \u001b[0mself\u001b[0m\u001b[0;34m.\u001b[0m\u001b[0m__bancal\u001b[0m\u001b[0;34m[\u001b[0m\u001b[0mfila\u001b[0m\u001b[0;34m,\u001b[0m\u001b[0mcol\u001b[0m\u001b[0;34m-\u001b[0m\u001b[0;36m1\u001b[0m\u001b[0;34m]\u001b[0m\u001b[0;34m.\u001b[0m\u001b[0mgetTipo\u001b[0m\u001b[0;34m(\u001b[0m\u001b[0;34m)\u001b[0m \u001b[0;34m!=\u001b[0m \u001b[0mtipoPlanta\u001b[0m\u001b[0;34m:\u001b[0m \u001b[0;31m#elif self.__bancal[fila-1,col].getTipo() == tipoPlanta:\u001b[0m\u001b[0;34m\u001b[0m\u001b[0;34m\u001b[0m\u001b[0m\n\u001b[0m\u001b[1;32m     40\u001b[0m             \u001b[0mprint\u001b[0m\u001b[0;34m(\u001b[0m\u001b[0;34m\"entre\"\u001b[0m\u001b[0;34m)\u001b[0m\u001b[0;34m\u001b[0m\u001b[0;34m\u001b[0m\u001b[0m\n\u001b[1;32m     41\u001b[0m             \u001b[0mself\u001b[0m\u001b[0;34m.\u001b[0m\u001b[0m__bancal\u001b[0m\u001b[0;34m[\u001b[0m\u001b[0mfila\u001b[0m\u001b[0;34m,\u001b[0m\u001b[0mcol\u001b[0m\u001b[0;34m+\u001b[0m\u001b[0;36m1\u001b[0m\u001b[0;34m]\u001b[0m \u001b[0;34m=\u001b[0m \u001b[0mplanta\u001b[0m\u001b[0;34m\u001b[0m\u001b[0;34m\u001b[0m\u001b[0m\n",
            "\u001b[0;31mAttributeError\u001b[0m: 'NoneType' object has no attribute 'getTipo'"
          ]
        }
      ]
    }
  ]
}